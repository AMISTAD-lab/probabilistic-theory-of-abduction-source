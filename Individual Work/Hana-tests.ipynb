{
 "cells": [
  {
   "cell_type": "code",
   "execution_count": 1,
   "metadata": {},
   "outputs": [],
   "source": [
    "from sde import * "
   ]
  },
  {
   "cell_type": "code",
   "execution_count": 2,
   "metadata": {},
   "outputs": [
    {
     "name": "stdout",
     "output_type": "stream",
     "text": [
      "{('rain', 'grass wet'): 0.9, ('rain', 'sidewalk wet'): 0.75, ('rain', 'road wet'): 0.8, ('sprinkler', 'grass wet'): 0.8, ('sprinkler', 'sidewalk wet'): 0.7, ('water fountain', 'sidewalk wet'): 0.1, ('grass wet', 'grass healthy'): 0.8, ('sidewalk wet', 'person slipped'): 0.8, ('road wet', 'person slipped'): 0.3}\n"
     ]
    },
    {
     "data": {
      "image/png": "[encoded data removed]",
      "text/plain": [
       "<Figure size 432x288 with 1 Axes>"
      ]
     },
     "metadata": {},
     "output_type": "display_data"
    }
   ],
   "source": [
    "DG = nx.DiGraph() # creates directed graph\n",
    "DG.add_node(\"rain\")\n",
    "DG.add_node(\"sprinkler\")\n",
    "DG.add_node(\"water fountain\")\n",
    "DG.add_node(\"grass wet\")\n",
    "DG.add_node(\"sidewalk wet\")\n",
    "DG.add_node(\"road wet\")\n",
    "DG.add_node(\"person slipped\")\n",
    "DG.add_node(\"grass healthy\")\n",
    "\n",
    "edge_list = [(\"rain\", \"grass wet\", 0.9), (\"rain\", \"sidewalk wet\", 0.75), (\"rain\", \"road wet\", 0.8), (\"sprinkler\", \"grass wet\", 0.8), (\"sprinkler\", \"sidewalk wet\", 0.7), (\"water fountain\", \"sidewalk wet\", 0.1), (\"sidewalk wet\", \"person slipped\", 0.8), (\"road wet\", \"person slipped\", 0.3), (\"grass wet\", \"grass healthy\", 0.8)]\n",
    "DG.add_weighted_edges_from(edge_list) # adds edges to graph\n",
    "\n",
    "print(nx.get_edge_attributes(DG, 'weight'))\n",
    "\n",
    "nx.draw_networkx(DG)"
   ]
  },
  {
   "cell_type": "code",
   "execution_count": 3,
   "metadata": {},
   "outputs": [
    {
     "name": "stdout",
     "output_type": "stream",
     "text": [
      "{'sidewalk wet': 0.5714285714285714, 'rain': 0.42857142857142855, 'grass wet': 0.42857142857142855, 'sprinkler': 0.2857142857142857, 'road wet': 0.2857142857142857, 'person slipped': 0.2857142857142857, 'water fountain': 0.14285714285714285, 'grass healthy': 0.14285714285714285}\n"
     ]
    }
   ],
   "source": [
    "import operator\n",
    "\n",
    "unsort_centDict = nx.degree_centrality(DG)    #get centrality values for each node in the graph \n",
    "centDict = dict(sorted(unsort_centDict.items(), key=operator.itemgetter(1),reverse=True))\n",
    "print(centDict)"
   ]
  },
  {
   "cell_type": "code",
   "execution_count": 4,
   "metadata": {},
   "outputs": [
    {
     "name": "stdout",
     "output_type": "stream",
     "text": [
      "['sidewalk wet', 'rain', 'grass wet']\n"
     ]
    }
   ],
   "source": [
    "def getHighestCentralityNodes(dg):\n",
    "    nx.degree_centrality(dg)   #returns dict with items {node:centrality}\n",
    "    highest_cent_nodes = []   #initiate list for highest centrality nodes\n",
    "    centMax = max(centDict.values())    #find highest centrality in the graph\n",
    "\n",
    "    highest_cent_nodes = [key_node for key_node in centDict if (centDict.get(key_node) == centMax)]  #list of nodes with highest key node value\n",
    "    \n",
    "    #if there is a singular highest centrality node, then add the second highest node(s) to the list\n",
    "    while (len(highest_cent_nodes) < 2): \n",
    "        centDict2 = {key:val for key, val in centDict.items() if val != centMax}\n",
    "        centMax2 = max(centDict2.values())\n",
    "        secHighestNodes = [key_node for key_node in centDict2 if (centDict2.get(key_node) == centMax2)]\n",
    "        highest_cent_nodes += secHighestNodes\n",
    "        \n",
    "    return highest_cent_nodes\n",
    "\n",
    "centralNodes = getHighestCentralityNodes(DG)\n",
    "print(centralNodes)"
   ]
  },
  {
   "cell_type": "code",
   "execution_count": 5,
   "metadata": {},
   "outputs": [
    {
     "name": "stdout",
     "output_type": "stream",
     "text": [
      "sidewalk wet\n",
      "Children: {'person slipped': 0.8}\n",
      "Descendants: {'person slipped': 0.8}\n",
      "\n",
      "rain\n",
      "Children: {'grass wet': 0.9, 'grass healthy': 0.7200000000000001, 'sidewalk wet': 0.75, 'person slipped': 0.24, 'road wet': 0.8}\n",
      "Descendants: {'grass wet': 0.9, 'grass healthy': 0.7200000000000001, 'sidewalk wet': 0.75, 'person slipped': 0.24, 'road wet': 0.8}\n",
      "\n",
      "grass wet\n",
      "Children: {'grass healthy': 0.8}\n",
      "Descendants: {'grass healthy': 0.8}\n",
      "\n"
     ]
    }
   ],
   "source": [
    "for node in centralNodes:\n",
    "    print(node)\n",
    "    print('Children:', get_all_children(DG, node, {}))\n",
    "    print('Descendants:', get_descendants(DG, node, {}))\n",
    "    print()"
   ]
  },
  {
   "cell_type": "code",
   "execution_count": 6,
   "metadata": {},
   "outputs": [
    {
     "name": "stdout",
     "output_type": "stream",
     "text": [
      "[('sidewalk wet', 'rain'), ('sidewalk wet', 'grass wet'), ('rain', 'grass wet')]\n"
     ]
    }
   ],
   "source": [
    "import itertools\n",
    "\n",
    "# split list of highest cent nodes into all possible subsets size 2\n",
    "HCNchoose2 = list(itertools.combinations(centralNodes, 2))\n",
    "print(HCNchoose2)"
   ]
  },
  {
   "cell_type": "markdown",
   "metadata": {},
   "source": [
    "# Similiarity method: Jaccard Index"
   ]
  },
  {
   "cell_type": "code",
   "execution_count": 7,
   "metadata": {},
   "outputs": [
    {
     "name": "stdout",
     "output_type": "stream",
     "text": [
      "('sidewalk wet', 'rain') 0.060453400503778336\n",
      "('sidewalk wet', 'grass wet') 0.0\n",
      "('rain', 'grass wet') 0.2063037249283668\n"
     ]
    }
   ],
   "source": [
    "#calculate Jaccard Index for each pair of highest centrality nodes\n",
    "for pair in HCNchoose2:\n",
    "    a = pair[0]\n",
    "    b = pair[1]\n",
    "    Jindex = calculate_jaccard_similarity(DG, a, b)\n",
    "    print(pair, Jindex)"
   ]
  },
  {
   "cell_type": "markdown",
   "metadata": {},
   "source": [
    "# Similarity method: Edit-distance"
   ]
  },
  {
   "cell_type": "markdown",
   "metadata": {},
   "source": [
    "Edit-distance similarity implementation based only on a node's children."
   ]
  },
  {
   "cell_type": "code",
   "execution_count": 8,
   "metadata": {},
   "outputs": [
    {
     "name": "stdout",
     "output_type": "stream",
     "text": [
      "('sidewalk wet', 'rain') 1.0\n",
      "road wet , sprinkler\n",
      "\n",
      "('sidewalk wet', 'grass wet') 1.0\n",
      "road wet , rain\n",
      "\n",
      "('rain', 'grass wet') 1.0\n",
      "sprinkler , rain\n",
      "\n"
     ]
    }
   ],
   "source": [
    "for pair in HCNchoose2:\n",
    "    print(pair, get_immediate_similarity(DG, pair[0], pair[1]))\n",
    "    print(find_most_immediate_similar(DG, pair[0]), ',', find_most_immediate_similar(DG, pair[1]))\n",
    "    print()"
   ]
  },
  {
   "cell_type": "markdown",
   "metadata": {},
   "source": [
    "Edit-distance similarity implementation based only on a node's descendants."
   ]
  },
  {
   "cell_type": "code",
   "execution_count": 9,
   "metadata": {},
   "outputs": [
    {
     "name": "stdout",
     "output_type": "stream",
     "text": [
      "('sidewalk wet', 'rain') 0.56\n",
      "sprinkler , sprinkler\n",
      "\n",
      "('sidewalk wet', 'grass wet') 1.0\n",
      "sprinkler , rain\n",
      "\n",
      "('rain', 'grass wet') 0.8160000000000001\n",
      "sprinkler , rain\n",
      "\n"
     ]
    }
   ],
   "source": [
    "for pair in HCNchoose2:\n",
    "    pair_it = []\n",
    "    for id in range(len(pair)): \n",
    "        pair_it.append(pair[id])\n",
    "    print(pair, get_full_similarity(DG, pair_it[0], pair_it[1]))\n",
    "    print(find_most_similar(DG, pair_it[0]), ',', find_most_similar(DG, pair_it[1]))\n",
    "    print()"
   ]
  },
  {
   "cell_type": "markdown",
   "metadata": {},
   "source": [
    "# Similarity method: Edit-distance (Networkx)"
   ]
  },
  {
   "cell_type": "code",
   "execution_count": 10,
   "metadata": {},
   "outputs": [
    {
     "name": "stdout",
     "output_type": "stream",
     "text": [
      "['sidewalk wet', 'rain', 'grass wet']\n"
     ]
    }
   ],
   "source": [
    "print(centralNodes)"
   ]
  },
  {
   "cell_type": "code",
   "execution_count": 11,
   "metadata": {},
   "outputs": [],
   "source": [
    "def get_childgraph(graph, source_node):\n",
    "    source_node_childgraph = nx.DiGraph()\n",
    "    source_node_childgraph.add_node(source_node)\n",
    "    source_node_childgraph = find_node_children_subgraph(graph, source_node, source_node_childgraph)\n",
    "    nx.draw_networkx(source_node_childgraph)"
   ]
  },
  {
   "cell_type": "code",
   "execution_count": 12,
   "metadata": {},
   "outputs": [
    {
     "data": {
      "image/png": "[encoded data removed]",
      "text/plain": [
       "<Figure size 432x288 with 1 Axes>"
      ]
     },
     "metadata": {},
     "output_type": "display_data"
    }
   ],
   "source": [
    "cngraph1 = get_childgraph(DG, 'sidewalk wet')\n",
    "cngraph1"
   ]
  },
  {
   "cell_type": "code",
   "execution_count": 13,
   "metadata": {},
   "outputs": [
    {
     "data": {
      "image/png": "[encoded data removed]",
      "text/plain": [
       "<Figure size 432x288 with 1 Axes>"
      ]
     },
     "metadata": {},
     "output_type": "display_data"
    }
   ],
   "source": [
    "cngraph3 = get_childgraph(DG, 'rain')\n",
    "cngraph3"
   ]
  },
  {
   "cell_type": "code",
   "execution_count": 14,
   "metadata": {},
   "outputs": [
    {
     "data": {
      "image/png": "[encoded data removed]",
      "text/plain": [
       "<Figure size 432x288 with 1 Axes>"
      ]
     },
     "metadata": {},
     "output_type": "display_data"
    }
   ],
   "source": [
    "cngraph2 = get_childgraph(DG, 'grass wet')\n",
    "cngraph2"
   ]
  },
  {
   "cell_type": "code",
   "execution_count": 15,
   "metadata": {},
   "outputs": [
    {
     "ename": "AttributeError",
     "evalue": "'NoneType' object has no attribute 'nodes'",
     "output_type": "error",
     "traceback": [
      "\u001b[1;31m---------------------------------------------------------------------------\u001b[0m",
      "\u001b[1;31mAttributeError\u001b[0m                            Traceback (most recent call last)",
      "\u001b[1;32m<ipython-input-15-e4c33f41fa66>\u001b[0m in \u001b[0;36m<module>\u001b[1;34m\u001b[0m\n\u001b[1;32m----> 1\u001b[1;33m \u001b[0mnx\u001b[0m\u001b[1;33m.\u001b[0m\u001b[0mgraph_edit_distance\u001b[0m\u001b[1;33m(\u001b[0m\u001b[0mcngraph1\u001b[0m\u001b[1;33m,\u001b[0m \u001b[0mcngraph2\u001b[0m\u001b[1;33m)\u001b[0m\u001b[1;33m\u001b[0m\u001b[1;33m\u001b[0m\u001b[0m\n\u001b[0m",
      "\u001b[1;32m~\\Anaconda3\\lib\\site-packages\\networkx\\algorithms\\similarity.py\u001b[0m in \u001b[0;36mgraph_edit_distance\u001b[1;34m(G1, G2, node_match, edge_match, node_subst_cost, node_del_cost, node_ins_cost, edge_subst_cost, edge_del_cost, edge_ins_cost, upper_bound)\u001b[0m\n\u001b[0;32m    172\u001b[0m                             \u001b[0mnode_subst_cost\u001b[0m\u001b[1;33m,\u001b[0m \u001b[0mnode_del_cost\u001b[0m\u001b[1;33m,\u001b[0m \u001b[0mnode_ins_cost\u001b[0m\u001b[1;33m,\u001b[0m\u001b[1;33m\u001b[0m\u001b[1;33m\u001b[0m\u001b[0m\n\u001b[0;32m    173\u001b[0m                             \u001b[0medge_subst_cost\u001b[0m\u001b[1;33m,\u001b[0m \u001b[0medge_del_cost\u001b[0m\u001b[1;33m,\u001b[0m \u001b[0medge_ins_cost\u001b[0m\u001b[1;33m,\u001b[0m\u001b[1;33m\u001b[0m\u001b[1;33m\u001b[0m\u001b[0m\n\u001b[1;32m--> 174\u001b[1;33m                             upper_bound, True):\n\u001b[0m\u001b[0;32m    175\u001b[0m         \u001b[1;31m#assert bestcost is None or cost < bestcost\u001b[0m\u001b[1;33m\u001b[0m\u001b[1;33m\u001b[0m\u001b[1;33m\u001b[0m\u001b[0m\n\u001b[0;32m    176\u001b[0m         \u001b[0mbestcost\u001b[0m \u001b[1;33m=\u001b[0m \u001b[0mcost\u001b[0m\u001b[1;33m\u001b[0m\u001b[1;33m\u001b[0m\u001b[0m\n",
      "\u001b[1;32m~\\Anaconda3\\lib\\site-packages\\networkx\\algorithms\\similarity.py\u001b[0m in \u001b[0;36moptimize_edit_paths\u001b[1;34m(G1, G2, node_match, edge_match, node_subst_cost, node_del_cost, node_ins_cost, edge_subst_cost, edge_del_cost, edge_ins_cost, upper_bound, strictly_decreasing)\u001b[0m\n\u001b[0;32m    899\u001b[0m     \u001b[1;31m# Initialization\u001b[0m\u001b[1;33m\u001b[0m\u001b[1;33m\u001b[0m\u001b[1;33m\u001b[0m\u001b[0m\n\u001b[0;32m    900\u001b[0m \u001b[1;33m\u001b[0m\u001b[0m\n\u001b[1;32m--> 901\u001b[1;33m     \u001b[0mpending_u\u001b[0m \u001b[1;33m=\u001b[0m \u001b[0mlist\u001b[0m\u001b[1;33m(\u001b[0m\u001b[0mG1\u001b[0m\u001b[1;33m.\u001b[0m\u001b[0mnodes\u001b[0m\u001b[1;33m)\u001b[0m\u001b[1;33m\u001b[0m\u001b[1;33m\u001b[0m\u001b[0m\n\u001b[0m\u001b[0;32m    902\u001b[0m     \u001b[0mpending_v\u001b[0m \u001b[1;33m=\u001b[0m \u001b[0mlist\u001b[0m\u001b[1;33m(\u001b[0m\u001b[0mG2\u001b[0m\u001b[1;33m.\u001b[0m\u001b[0mnodes\u001b[0m\u001b[1;33m)\u001b[0m\u001b[1;33m\u001b[0m\u001b[1;33m\u001b[0m\u001b[0m\n\u001b[0;32m    903\u001b[0m \u001b[1;33m\u001b[0m\u001b[0m\n",
      "\u001b[1;31mAttributeError\u001b[0m: 'NoneType' object has no attribute 'nodes'"
     ]
    }
   ],
   "source": [
    "nx.graph_edit_distance(cngraph1, cngraph2)"
   ]
  },
  {
   "cell_type": "markdown",
   "metadata": {},
   "source": [
    "# Similarity method: Simrank (Networkx)"
   ]
  },
  {
   "cell_type": "code",
   "execution_count": null,
   "metadata": {},
   "outputs": [],
   "source": [
    "for pair in HCNchoose2: \n",
    "    simrank = nx.algorithms.similarity.simrank_similarity(DG, source=pair[0], target=pair[1])\n",
    "    print(pair,  simrank)"
   ]
  },
  {
   "cell_type": "code",
   "execution_count": null,
   "metadata": {},
   "outputs": [],
   "source": []
  }
 ],
 "metadata": {
  "kernelspec": {
   "display_name": "Python 3",
   "language": "python",
   "name": "python3"
  },
  "language_info": {
   "codemirror_mode": {
    "name": "ipython",
    "version": 3
   },
   "file_extension": ".py",
   "mimetype": "text/x-python",
   "name": "python",
   "nbconvert_exporter": "python",
   "pygments_lexer": "ipython3",
   "version": "3.7.4"
  }
 },
 "nbformat": 4,
 "nbformat_minor": 2
}
