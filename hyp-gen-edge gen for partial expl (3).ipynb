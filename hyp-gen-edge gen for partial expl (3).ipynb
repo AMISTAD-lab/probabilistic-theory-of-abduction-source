{
 "cells": [
  {
   "cell_type": "code",
   "execution_count": 1,
   "metadata": {},
   "outputs": [],
   "source": [
    "from similarityfunctions import *\n",
    "from hypfunctions import *\n",
    "import networkx as nx\n",
    "from itertools import permutations, combinations\n",
    "import pandas as pd\n",
    "import matplotlib. pyplot as plt "
   ]
  },
  {
   "cell_type": "code",
   "execution_count": 2,
   "metadata": {},
   "outputs": [
    {
     "name": "stdout",
     "output_type": "stream",
     "text": [
      "13\n"
     ]
    },
    {
     "name": "stderr",
     "output_type": "stream",
     "text": [
      "C:\\Users\\hanaa\\Anaconda3\\lib\\site-packages\\networkx\\drawing\\layout.py:950: FutureWarning: arrays to stack must be passed as a \"sequence\" type such as list or tuple. Support for non-sequence iterables such as generators is deprecated as of NumPy 1.16 and will raise an error in the future.\n",
      "  pos = np.row_stack((pos[x] for x in node_list))\n"
     ]
    },
    {
     "data": {
      "image/png": "[encoded data removed]",
      "text/plain": [
       "<Figure size 432x288 with 1 Axes>"
      ]
     },
     "metadata": {},
     "output_type": "display_data"
    }
   ],
   "source": [
    "# make the graph\n",
    "dg = nx.DiGraph()\n",
    "dg.add_nodes_from(['B1', 'B2', 'B3', 'H1', 'H2', 'H3', 'H4', 'O1', 'O2', 'O3', 'O4'])\n",
    "dg.add_weighted_edges_from([('B1', 'H1', .00131998), ('B2', 'H2', .253215), ('B3', 'H3', .164102),\n",
    "                            ('B3', 'H4', .00192481), ('H1', 'O1', .0998799), ('H1', 'O2', .132026),\n",
    "                           ('H1', 'O3', .149337), ('H2', 'O2', .0873762), ('H2', 'O3', .118668),\n",
    "                           ('H3', 'O2', .123934), ('H3', 'O4', .0342232), ('H4', 'O3', .0717882),\n",
    "                           ('H4', 'O4', .04508)])\n",
    "\n",
    "print(len(dg.edges()))\n",
    "nx.draw_planar(dg, with_labels = True)"
   ]
  },
  {
   "cell_type": "code",
   "execution_count": 3,
   "metadata": {},
   "outputs": [
    {
     "name": "stdout",
     "output_type": "stream",
     "text": [
      "['B1', 'B2', 'B3']\n",
      "['O1', 'O2', 'O3', 'O4']\n",
      "[['H1', 'H4'], ['H1', 'H2', 'H4'], ['H1', 'H2', 'H3', 'H4'], ['H1']]\n"
     ]
    }
   ],
   "source": [
    "bnodes = [node for node in list(dg.nodes()) if not list(dg.predecessors(node)) and list(dg.successors(node))] #root nodes\n",
    "observations = [node for node in list(dg.nodes()) if not list(dg.successors(node)) and list(dg.predecessors(node))] #terminal nodes\n",
    "hypotheses = findHypotheses(dg, observations, bnodes)\n",
    "\n",
    "print(bnodes) \n",
    "print(observations) \n",
    "print(hypotheses)"
   ]
  },
  {
   "cell_type": "code",
   "execution_count": 4,
   "metadata": {},
   "outputs": [],
   "source": [
    "# learn the CPTable\n",
    "\n",
    "\n",
    "########## BACKGROUND\n",
    "# B1\n",
    "cpt_B1 = CPT(0)\n",
    "cpt_B1.add_entry_self((1-.0260472, .0260472))\n",
    "dg.nodes['B1']['CPT'] = cpt_B1\n",
    "\n",
    "# B2\n",
    "cpt_B2 = CPT(0)\n",
    "cpt_B2.add_entry_self((1-.615996, .615996))\n",
    "dg.nodes['B2']['CPT'] = cpt_B2\n",
    "\n",
    "# B3\n",
    "cpt_B3 = CPT(0)\n",
    "cpt_B3.add_entry_self((1-.318892, .318892))\n",
    "dg.nodes['B3']['CPT'] = cpt_B3\n",
    "\n",
    "\n",
    "########### HYPOTHESES\n",
    "# H1\n",
    "cpt_H1 = CPT(1)\n",
    "cpt_H1.add_entry([1], (1-.371292, .371292))\n",
    "cpt_H1.add_entry([0], (1-.532645, .532645))\n",
    "dg.nodes['H1']['CPT'] = cpt_H1\n",
    "\n",
    "# H2\n",
    "cpt_H2 = CPT(1)\n",
    "cpt_H2.add_entry([1], (1-.50549, .50549))\n",
    "cpt_H2.add_entry([0], (1-.694085, .694085))\n",
    "dg.nodes['H2']['CPT'] = cpt_H2\n",
    "\n",
    "# H3\n",
    "cpt_H3 = CPT(1)\n",
    "cpt_H3.add_entry([1], (1-.646029, .646029))\n",
    "cpt_H3.add_entry([0], (1-.164357, .164357))\n",
    "dg.nodes['H3']['CPT'] = cpt_H3\n",
    "\n",
    "# H4\n",
    "cpt_H4 = CPT(1)\n",
    "cpt_H4.add_entry([1], (1-.371292, .371292))\n",
    "cpt_H4.add_entry([0], (1-.425611, .425611))\n",
    "dg.nodes['H4']['CPT'] = cpt_H4\n",
    "\n",
    "\n",
    "############# OBSERVED EFFECTS\n",
    "cpt_O1 = CPT(1)\n",
    "cpt_O1.add_entry([1], (1-.845371, .845371))\n",
    "cpt_O1.add_entry([0], (1-.503606, .503606))\n",
    "dg.nodes['O1']['CPT'] = cpt_O1\n",
    "\n",
    "cpt_O2 = CPT(3)\n",
    "cpt_O2.add_entry([1, 1, 1], (1-.485969, .485969))\n",
    "cpt_O2.add_entry([1, 1, 0], (1-.702458, .702458))\n",
    "cpt_O2.add_entry([1, 0, 1], (1-.521399, .521399))\n",
    "cpt_O2.add_entry([1, 0, 0], (1-.30641, .30641))\n",
    "cpt_O2.add_entry([0, 1, 1], (1-.876099, .876099))\n",
    "cpt_O2.add_entry([0, 1, 0], (1-.131251, .131251))\n",
    "cpt_O2.add_entry([0, 0, 1], (1-.292697, .292697))\n",
    "cpt_O2.add_entry([0, 0, 0], (1-.255582, .255582))\n",
    "dg.nodes['O2']['CPT'] = cpt_O2\n",
    "\n",
    "\n",
    "cpt_O3 = CPT(3)\n",
    "cpt_O3.add_entry([1, 1, 1], (1-.443595, .443595))\n",
    "cpt_O3.add_entry([1, 1, 0], (1-.0692005, .0692005))\n",
    "cpt_O3.add_entry([1, 0, 1], (1-.760635, .760635))\n",
    "cpt_O3.add_entry([1, 0, 0], (1-.562661, .562661))\n",
    "cpt_O3.add_entry([0, 1, 1], (1-.398679, .398679))\n",
    "cpt_O3.add_entry([0, 1, 0], (1-.714025, .714025))\n",
    "cpt_O3.add_entry([0, 0, 1], (1-.403932, .403932))\n",
    "cpt_O3.add_entry([0, 0, 0], (1-.315988, .315988))\n",
    "dg.nodes['O3']['CPT'] = cpt_O3\n",
    "\n",
    "\n",
    "cpt_O4 = CPT(2)\n",
    "cpt_O4.add_entry([1, 1], (1-.76531, .76531))\n",
    "cpt_O4.add_entry([1, 0], (1-.879789, .879789))\n",
    "cpt_O4.add_entry([0, 1], (1-.894966, .894966))\n",
    "cpt_O4.add_entry([0, 0], (1-.656085, .656085))\n",
    "dg.nodes['O4']['CPT'] = cpt_O4"
   ]
  },
  {
   "cell_type": "markdown",
   "metadata": {},
   "source": [
    "# Edge Generation\n",
    "Generate edges from the partial explanation hypothesis node to all missing observations"
   ]
  },
  {
   "cell_type": "code",
   "execution_count": 5,
   "metadata": {},
   "outputs": [
    {
     "data": {
      "text/plain": [
       "[]"
      ]
     },
     "execution_count": 5,
     "metadata": {},
     "output_type": "execute_result"
    }
   ],
   "source": [
    "# get partial explanations\n",
    "single_hyp = [h for h in hypotheses if not isinstance(h, list)]\n",
    "\n",
    "# for each partial explanation, identify observations that are not descendants, add edges to those observations\n",
    "new_edges = []\n",
    "for s in single_hyp:\n",
    "    descendants = list(nx.descendants(dg, s))\n",
    "    missing_obs = list(set(observations) - set(descendants))\n",
    "    for o in missing_obs:\n",
    "        dg.add_edge(s, o)\n",
    "        new_edges.append((s, o))\n",
    "new_edges"
   ]
  },
  {
   "cell_type": "code",
   "execution_count": 6,
   "metadata": {},
   "outputs": [],
   "source": [
    "# add edge weight\n",
    "dg.add_weighted_edges_from([('H1', 'O4', .125332)])\n",
    "\n",
    "# learn updated CPT table\n",
    "cpt_O4 = CPT(3)\n",
    "cpt_O4.add_entry([1, 1, 1], (1-.142328, .142328))\n",
    "cpt_O4.add_entry([1, 1, 0], (1-.248076, .248076))\n",
    "cpt_O4.add_entry([1, 0, 1], (1-.492232, .492232))\n",
    "cpt_O4.add_entry([1, 0, 0], (1-.880375, .880375))\n",
    "cpt_O4.add_entry([0, 1, 1], (1-.627151, .627151))\n",
    "cpt_O4.add_entry([0, 1, 0], (1-.127184, .127184))\n",
    "cpt_O4.add_entry([0, 0, 1], (1-.155563, .155563))\n",
    "cpt_O4.add_entry([0, 0, 0], (1-.501294, .501294))\n",
    "dg.nodes['O4']['CPT'] = cpt_O4"
   ]
  },
  {
   "cell_type": "code",
   "execution_count": 7,
   "metadata": {},
   "outputs": [
    {
     "name": "stdout",
     "output_type": "stream",
     "text": [
      "[['H1'], ['H1', 'H3'], ['H1', 'H2', 'H3'], ['H1', 'H3', 'H4'], ['H1']]\n"
     ]
    }
   ],
   "source": [
    "hypotheses = findHypotheses(dg, observations, bnodes)\n",
    "print(hypotheses)"
   ]
  },
  {
   "cell_type": "markdown",
   "metadata": {},
   "source": [
    "# Hypothesis Selection"
   ]
  },
  {
   "cell_type": "markdown",
   "metadata": {},
   "source": [
    "1. For each hypotheses, calculate marg prob (not flipped)\n",
    "2. find top n percent\n",
    "3. For each hypothesis in top n percent, calculate marg prob (flipped)"
   ]
  },
  {
   "cell_type": "code",
   "execution_count": 8,
   "metadata": {},
   "outputs": [],
   "source": [
    "true_nodes = ['O1', 'O2', 'O3', 'B1', 'B2']\n",
    "false_nodes = ['B3', 'O4']\n",
    "observeData(dg, true_nodes, false_nodes)"
   ]
  },
  {
   "cell_type": "code",
   "execution_count": 9,
   "metadata": {},
   "outputs": [],
   "source": [
    "# find hypotheses with probabilities in top n percent\n",
    "def select_hypotheses(dg, observations, bnodes, n):\n",
    "    hypotheses = findHypotheses(dg, observations, bnodes)\n",
    "    percent = 1 - n/100\n",
    "    #scenarios = get_possible_truths(dg, bnodes, observations)\n",
    "    \n",
    "    prob_dict = {}\n",
    "    for h in hypotheses: \n",
    "        if isinstance(h, list): \n",
    "            for x in h:\n",
    "                dg.nodes[x]['value'] = 1\n",
    "            prob = calculateTotalMarginalProbability(dg, list(h), observations, bnodes)\n",
    "            for x in h:\n",
    "                dg.nodes[x]['value'] = None\n",
    "        else:\n",
    "            dg.nodes[h]['value'] = 1\n",
    "            prob = calculateTotalMarginalProbability(g, list(h), observations, bnodes)\n",
    "            dg.nodes[h]['value'] = None\n",
    "        #prob_dict[tuple(h)] = calculateTotalMarginalProbability(dg, list(h), observations, bnodes)\n",
    "        prob_dict[tuple(h)] = prob\n",
    "        \n",
    "    max_prob = max(list(prob_dict.values()))\n",
    "    min_prob = max_prob*percent\n",
    "    selected_hyps = [h for h in list(prob_dict.keys()) if (prob_dict.get(h) >= min_prob)]\n",
    "    select_dict = {}\n",
    "    for s in selected_hyps: \n",
    "        select_dict[tuple(s)] = prob_dict.get(s)\n",
    "    return select_dict"
   ]
  },
  {
   "cell_type": "code",
   "execution_count": 10,
   "metadata": {},
   "outputs": [
    {
     "data": {
      "text/plain": [
       "{('H1',): 0.513673735899309}"
      ]
     },
     "execution_count": 10,
     "metadata": {},
     "output_type": "execute_result"
    }
   ],
   "source": [
    "select_hypotheses(dg, observations, bnodes, 10)"
   ]
  },
  {
   "cell_type": "markdown",
   "metadata": {},
   "source": [
    "All data"
   ]
  },
  {
   "cell_type": "code",
   "execution_count": 11,
   "metadata": {},
   "outputs": [],
   "source": [
    "all_data = {}"
   ]
  },
  {
   "cell_type": "code",
   "execution_count": 12,
   "metadata": {},
   "outputs": [],
   "source": [
    "scenarios = get_possible_truths(dg, bnodes, observations)\n",
    "selections = []\n",
    "probs = []\n",
    "flipped_probs = []\n",
    "for s in list(scenarios.keys()):\n",
    "    false_nodes = scenarios.get(s)\n",
    "    observeData(dg, list(s), false_nodes)\n",
    "    \n",
    "    best_hyps = select_hypotheses(dg, observations, bnodes, 25)\n",
    "    selections += list(best_hyps.keys())\n",
    "    probs += list(best_hyps.values())\n",
    "    \n",
    "    # calculate P(H|O)\n",
    "    for h in list(best_hyps.keys()):\n",
    "        h = list(h)\n",
    "        if isinstance(h, list): \n",
    "            for x in h:\n",
    "                dg.nodes[x]['value'] = 1\n",
    "            flipped = calculateTotalMarginalProbabilityObs(dg, list(h), observations, bnodes)\n",
    "            for x in h:\n",
    "                dg.nodes[x]['value'] = None\n",
    "        else: \n",
    "            dg.nodes[h]['value'] = 1\n",
    "            flipped = calculateTotalMarginalProbabilityObs(dg, list(h), observations, bnodes)\n",
    "            dg.nodes[h]['value'] = None\n",
    "            \n",
    "        flipped_probs.append(flipped)"
   ]
  },
  {
   "cell_type": "code",
   "execution_count": 14,
   "metadata": {},
   "outputs": [
    {
     "data": {
      "text/html": [
       "<div>\n",
       "<style scoped>\n",
       "    .dataframe tbody tr th:only-of-type {\n",
       "        vertical-align: middle;\n",
       "    }\n",
       "\n",
       "    .dataframe tbody tr th {\n",
       "        vertical-align: top;\n",
       "    }\n",
       "\n",
       "    .dataframe thead th {\n",
       "        text-align: right;\n",
       "    }\n",
       "</style>\n",
       "<table border=\"1\" class=\"dataframe\">\n",
       "  <thead>\n",
       "    <tr style=\"text-align: right;\">\n",
       "      <th></th>\n",
       "      <th>Selected Hypothesis</th>\n",
       "      <th>P(O|H)</th>\n",
       "      <th>P(H|O)</th>\n",
       "    </tr>\n",
       "  </thead>\n",
       "  <tbody>\n",
       "    <tr>\n",
       "      <td>0</td>\n",
       "      <td>(H1,)</td>\n",
       "      <td>0.061748</td>\n",
       "      <td>0.013672</td>\n",
       "    </tr>\n",
       "    <tr>\n",
       "      <td>1</td>\n",
       "      <td>(H1,)</td>\n",
       "      <td>0.100896</td>\n",
       "      <td>0.012862</td>\n",
       "    </tr>\n",
       "    <tr>\n",
       "      <td>2</td>\n",
       "      <td>(H1,)</td>\n",
       "      <td>0.282675</td>\n",
       "      <td>0.029020</td>\n",
       "    </tr>\n",
       "    <tr>\n",
       "      <td>3</td>\n",
       "      <td>(H1, H3)</td>\n",
       "      <td>0.254591</td>\n",
       "      <td>0.040457</td>\n",
       "    </tr>\n",
       "    <tr>\n",
       "      <td>4</td>\n",
       "      <td>(H1, H2, H3)</td>\n",
       "      <td>0.214277</td>\n",
       "      <td>0.049059</td>\n",
       "    </tr>\n",
       "    <tr>\n",
       "      <td>...</td>\n",
       "      <td>...</td>\n",
       "      <td>...</td>\n",
       "      <td>...</td>\n",
       "    </tr>\n",
       "    <tr>\n",
       "      <td>158</td>\n",
       "      <td>(H1,)</td>\n",
       "      <td>0.156447</td>\n",
       "      <td>0.010192</td>\n",
       "    </tr>\n",
       "    <tr>\n",
       "      <td>159</td>\n",
       "      <td>(H1,)</td>\n",
       "      <td>0.714775</td>\n",
       "      <td>0.085379</td>\n",
       "    </tr>\n",
       "    <tr>\n",
       "      <td>160</td>\n",
       "      <td>(H1,)</td>\n",
       "      <td>0.419132</td>\n",
       "      <td>0.047504</td>\n",
       "    </tr>\n",
       "    <tr>\n",
       "      <td>161</td>\n",
       "      <td>(H1,)</td>\n",
       "      <td>0.658555</td>\n",
       "      <td>0.055718</td>\n",
       "    </tr>\n",
       "    <tr>\n",
       "      <td>162</td>\n",
       "      <td>(H1,)</td>\n",
       "      <td>0.499854</td>\n",
       "      <td>0.055718</td>\n",
       "    </tr>\n",
       "  </tbody>\n",
       "</table>\n",
       "<p>163 rows × 3 columns</p>\n",
       "</div>"
      ],
      "text/plain": [
       "    Selected Hypothesis    P(O|H)    P(H|O)\n",
       "0                 (H1,)  0.061748  0.013672\n",
       "1                 (H1,)  0.100896  0.012862\n",
       "2                 (H1,)  0.282675  0.029020\n",
       "3              (H1, H3)  0.254591  0.040457\n",
       "4          (H1, H2, H3)  0.214277  0.049059\n",
       "..                  ...       ...       ...\n",
       "158               (H1,)  0.156447  0.010192\n",
       "159               (H1,)  0.714775  0.085379\n",
       "160               (H1,)  0.419132  0.047504\n",
       "161               (H1,)  0.658555  0.055718\n",
       "162               (H1,)  0.499854  0.055718\n",
       "\n",
       "[163 rows x 3 columns]"
      ]
     },
     "execution_count": 14,
     "metadata": {},
     "output_type": "execute_result"
    }
   ],
   "source": [
    "# for all possible truth value combinations, columns: True nodes, False nodes (or not), FBE1, probability1, FBE2, probability2\n",
    "graph_data = {}\n",
    "#graph_data['True Nodes'] = list(scenarios.keys())\n",
    "graph_data['Selected Hypothesis'] = selections\n",
    "graph_data['P(O|H)'] = probs\n",
    "graph_data['P(H|O)'] = flipped_probs\n",
    "\n",
    "\n",
    "\n",
    "\n",
    "df2 = pd.DataFrame(graph_data, columns=list(graph_data.keys()))\n",
    "df2"
   ]
  },
  {
   "cell_type": "markdown",
   "metadata": {},
   "source": [
    "# Data visualizations"
   ]
  },
  {
   "cell_type": "markdown",
   "metadata": {},
   "source": [
    "Graphs: \n",
    "1. Count for different hypotheses\n",
    "2. selected hyps vs P(O|H)\n",
    "3. selected hyps vs P(H|O)"
   ]
  },
  {
   "cell_type": "code",
   "execution_count": 15,
   "metadata": {},
   "outputs": [
    {
     "data": {
      "image/png": "[encoded data removed]",
      "text/plain": [
       "<Figure size 432x288 with 1 Axes>"
      ]
     },
     "metadata": {
      "needs_background": "light"
     },
     "output_type": "display_data"
    }
   ],
   "source": [
    "plt.close()\n",
    "# bar charts of number of times a hypothesis is selected\n",
    "unique_hyps = [list(x) for x in set(tuple(x) for x in selections)]\n",
    "count_dict = {}\n",
    "for h in unique_hyps:\n",
    "    count = selections.count(tuple(h))\n",
    "    count_dict[tuple(h)] = count\n",
    "\n",
    "plt.bar(range(len(count_dict)), count_dict.values(), align='center')\n",
    "plt.xticks(range(len(count_dict)), list(count_dict.keys()))\n",
    "plt.ylabel('# of scenarios')\n",
    "plt.xlabel('Selected Hypothesis')\n",
    "plt.show()\n",
    "plt.close()"
   ]
  },
  {
   "cell_type": "code",
   "execution_count": 26,
   "metadata": {},
   "outputs": [
    {
     "data": {
      "text/plain": [
       "([<matplotlib.axis.XTick at 0x18ce18f8a48>,\n",
       "  <matplotlib.axis.XTick at 0x18ce3ae5f88>,\n",
       "  <matplotlib.axis.XTick at 0x18ce39d5f08>],\n",
       " <a list of 3 Text xticklabel objects>)"
      ]
     },
     "execution_count": 26,
     "metadata": {},
     "output_type": "execute_result"
    },
    {
     "data": {
      "image/png": "[encoded data removed]",
      "text/plain": [
       "<Figure size 648x432 with 1 Axes>"
      ]
     },
     "metadata": {
      "needs_background": "light"
     },
     "output_type": "display_data"
    }
   ],
   "source": [
    "# boxplot for hypothesis vs P(O|H)\n",
    "# Create a figure instance\n",
    "fig = plt.figure(1, figsize=(9, 6))\n",
    "list_of_prob1 = []\n",
    "for h in unique_hyps:\n",
    "    h = tuple(h)\n",
    "    \n",
    "    # get indices for h\n",
    "    i_list = []\n",
    "    count = 0\n",
    "    for s in selections:\n",
    "        if (s == h):\n",
    "            i_list.append(count)\n",
    "        count +=1\n",
    "    prob1 = [probs[i] for i in i_list]\n",
    "    #prob2 = [flipped_probs[i] for i in probs]\n",
    "    list_of_prob1.append(prob1)\n",
    "    \n",
    "ax = fig.add_subplot(111)\n",
    "ax.boxplot(list_of_prob1)\n",
    "\n",
    "ax.set_xlabel('Hypothesis')\n",
    "ax.set_ylabel('P(O|H)')\n",
    "plt.xticks([x for x in range(1, len(unique_hyps) + 1)], unique_hyps)"
   ]
  },
  {
   "cell_type": "code",
   "execution_count": 30,
   "metadata": {},
   "outputs": [
    {
     "data": {
      "text/plain": [
       "([<matplotlib.axis.XTick at 0x18ce18f3108>,\n",
       "  <matplotlib.axis.XTick at 0x18ce27d5288>,\n",
       "  <matplotlib.axis.XTick at 0x18ce3a30e08>],\n",
       " <a list of 3 Text xticklabel objects>)"
      ]
     },
     "execution_count": 30,
     "metadata": {},
     "output_type": "execute_result"
    },
    {
     "data": {
      "image/png": "[encoded data removed]",
      "text/plain": [
       "<Figure size 648x432 with 1 Axes>"
      ]
     },
     "metadata": {
      "needs_background": "light"
     },
     "output_type": "display_data"
    }
   ],
   "source": [
    "# boxplot for hypothesis vs P(O|H)\n",
    "plt.close()\n",
    "fig2 = plt.figure(1, figsize=(9, 6))\n",
    "list_of_prob2 = []\n",
    "for h in unique_hyps:\n",
    "    h = tuple(h)\n",
    "    \n",
    "    # get indices for h\n",
    "    i_list = []\n",
    "    count = 0\n",
    "    for s in selections:\n",
    "        if (s == h):\n",
    "            i_list.append(count)\n",
    "        count +=1\n",
    "        \n",
    "    prob2 = [flipped_probs[i] for i in i_list]\n",
    "    list_of_prob2.append(prob2)\n",
    "    \n",
    "ax2 = fig2.add_subplot(111)\n",
    "ax2.boxplot(list_of_prob2)\n",
    "\n",
    "ax2.set_xlabel('Hypothesis')\n",
    "ax2.set_ylabel('P(H|O)')\n",
    "plt.xticks([x for x in range(1, len(unique_hyps) + 1)], unique_hyps)"
   ]
  },
  {
   "cell_type": "markdown",
   "metadata": {},
   "source": [
    "# Unused"
   ]
  },
  {
   "cell_type": "code",
   "execution_count": null,
   "metadata": {},
   "outputs": [],
   "source": [
    "def hyp_plot(data_dict, hypothesis):\n",
    "    selected_hyps = data_dict['Selected Hypothesis']\n",
    "    probs = data_dict['P(O|H)']\n",
    "    probs_flipped = data_dict['P(H|O)']\n",
    "    \n",
    "    i_list = []\n",
    "    count = 0\n",
    "    for s in selected_hyps:\n",
    "        if (s == hypothesis):\n",
    "            i_list.append(count)\n",
    "        count +=1\n",
    "    \n",
    "    probs_list_flipped = [probs_flipped[i] for i in i_list]\n",
    "    if (len(hypothesis) == 1): probs_list = [1]*len(probs_list_flipped)\n",
    "    else: probs_list = [probs[i] for i in i_list]\n",
    "    \n",
    "    \n",
    "    return {tuple(hypothesis): tuple(probs_list)}, {tuple(hypothesis) : tuple(probs_list_flipped)} "
   ]
  },
  {
   "cell_type": "code",
   "execution_count": null,
   "metadata": {},
   "outputs": [],
   "source": [
    "fig = plt.figure(1, figsize=(9, 6))\n",
    "\n",
    "plot_probs = []\n",
    "plot_flipped = []\n",
    "unique_hyps = [list(x) for x in set(tuple(x) for x in graph_data.get('Selected Hypothesis'))]\n",
    "for h in unique_hyps:\n",
    "    probs_dict = hyp_plot(graph_data, tuple(h))\n",
    "    probs = list(probs_dict[0].values())\n",
    "    flip_probs = list(probs_dict[1].values())\n",
    "    \n",
    "    # best expl. 1 probs\n",
    "    plot_probs += probs\n",
    "    ax1 = fig.add_subplot(111)\n",
    "    ax1.boxplot(plot_probs)\n",
    "\n",
    "ax1.set_xlabel('Hypothesis')\n",
    "ax1.set_ylabel('P(O|H)')\n",
    "plt.xticks([x for x in range(1, len(unique_hyps) + 1)], unique_hyps)"
   ]
  },
  {
   "cell_type": "code",
   "execution_count": null,
   "metadata": {},
   "outputs": [],
   "source": [
    "plt.close()\n",
    "\n",
    "fig = plt.figure(1, figsize=(9, 6))\n",
    "\n",
    "plot_probs = []\n",
    "plot_flipped = []\n",
    "unique_hyps = [list(x) for x in set(tuple(x) for x in original_data.get('Hypothesis'))]\n",
    "for h in unique_hyps:\n",
    "    probs_dict = hyp_plot(original_data, h)\n",
    "    probs = list(probs_dict[0].values())\n",
    "    flip_probs = list(probs_dict[1].values())\n",
    "    \n",
    "    # best expl. 2 probs\n",
    "    plot_flipped += flip_probs\n",
    "    ax2 = fig.add_subplot(111)\n",
    "    ax2.boxplot(plot_flipped)\n",
    "\n",
    "ax2.set_xlabel('Hypothesis')\n",
    "ax2.set_ylabel('P(H|O)')\n",
    "plt.xticks([x for x in range(1, len(unique_hyps) + 1)], unique_hyps)"
   ]
  },
  {
   "cell_type": "code",
   "execution_count": null,
   "metadata": {},
   "outputs": [],
   "source": [
    "# bar charts of number of times a hypothesis shows up\n",
    "count_dict = {}\n",
    "for h in unique_hyps:\n",
    "    count = original_data.get('Hypothesis').count(h)\n",
    "    count_dict[tuple(h)] = count\n",
    "\n",
    "plt.bar(range(len(count_dict)), count_dict.values(), align='center')\n",
    "plt.xticks(range(len(count_dict)), list(count_dict.keys()))\n",
    "plt.ylabel('# of scenarios')\n",
    "plt.xlabel('Hypothesis')\n",
    "plt.show()\n",
    "plt.close()"
   ]
  },
  {
   "cell_type": "code",
   "execution_count": null,
   "metadata": {},
   "outputs": [],
   "source": []
  },
  {
   "cell_type": "code",
   "execution_count": null,
   "metadata": {},
   "outputs": [],
   "source": [
    "# create dict {len true nodes : list of probs}\n",
    "len_true_nodes = [len(t) for t in original_data.get('True Nodes')]\n",
    "print(len_true_nodes)\n",
    "\n",
    "p1, p2, p3, p4, p5, p6, p7 = [], [], [], [], [], [], []\n",
    "true_probs_dict = {}\n",
    "counter = 0\n",
    "for t in original_data.get('True Nodes'):\n",
    "    lent = len(t)\n",
    "    prob = original_data.get('P(H|O)')[counter]\n",
    "    if (lent == 1): p1.append(prob)\n",
    "    elif not isinstance(t, list): p1.append(prob)\n",
    "    elif (lent == 2): p2.append(prob)\n",
    "    elif (lent == 3): p3.append(prob)\n",
    "    elif (lent == 4): p4.append(prob)\n",
    "    elif (lent == 5): p5.append(prob)\n",
    "    elif (lent == 6): p6.append(prob)\n",
    "    elif (lent == 7): p7.append(prob)\n",
    "    counter += 1\n",
    "    \n",
    "true_probs_dict[1] = p1\n",
    "true_probs_dict[2] = p2\n",
    "true_probs_dict[3] = p3\n",
    "true_probs_dict[4] = p4\n",
    "true_probs_dict[5] = p5\n",
    "true_probs_dict[6] = p6\n",
    "true_probs_dict[7] = p7\n",
    "\n",
    "true_data = [p1, p2, p3, p4, p5, p6, p7]\n",
    "\n",
    "####### CREATING THE BOX PLOT\n",
    "# Create a figure instance\n",
    "fig = plt.figure(1, figsize=(9, 6))\n",
    "\n",
    "# Create an axes instance\n",
    "ax = fig.add_subplot(111)\n",
    "\n",
    "# Create the boxplot\n",
    "bp = ax.boxplot(true_data)\n",
    "\n",
    "ax.set_xlabel('# of True Nodes')\n",
    "ax.set_ylabel('P(H|O)')"
   ]
  },
  {
   "cell_type": "code",
   "execution_count": null,
   "metadata": {},
   "outputs": [],
   "source": [
    "plt.close()\n",
    "\n",
    "# create dict {len true nodes : list of probs}\n",
    "\n",
    "\n",
    "p1, p2, p3, p4 = [], [], [], []\n",
    "hyp_size = {}\n",
    "counter = 0\n",
    "for h in original_data.get('Hypothesis'):\n",
    "    lenH = len(h)\n",
    "    prob = original_data.get('P(H|O)')[counter]\n",
    "    if (lenH == 1) or not isinstance(h, list): p1.append(prob)\n",
    "    if (lenH == 2): p2.append(prob)\n",
    "    if (lenH == 3): p3.append(prob)\n",
    "    if (lenH == 4): p4.append(prob)\n",
    "    counter += 1\n",
    "    \n",
    "hyp_size['H1'] = p1\n",
    "\n",
    "hyp_size_data = [p1, p2, p3]\n",
    "\n",
    "####### CREATING THE BOX PLOT\n",
    "# Create a figure instance\n",
    "fig = plt.figure(1, figsize=(9, 6))\n",
    "\n",
    "# Create an axes instance\n",
    "ax = fig.add_subplot(111)\n",
    "\n",
    "# Create the boxplot\n",
    "ax.boxplot(hyp_size_data)\n",
    "\n",
    "ax.set_xlabel('Hypothesis Size')\n",
    "ax.set_ylabel('P(H|O)')\n",
    "\n",
    "#ax1.set_xticklabels()"
   ]
  }
 ],
 "metadata": {
  "kernelspec": {
   "display_name": "Python 3",
   "language": "python",
   "name": "python3"
  },
  "language_info": {
   "codemirror_mode": {
    "name": "ipython",
    "version": 3
   },
   "file_extension": ".py",
   "mimetype": "text/x-python",
   "name": "python",
   "nbconvert_exporter": "python",
   "pygments_lexer": "ipython3",
   "version": "3.7.4"
  }
 },
 "nbformat": 4,
 "nbformat_minor": 2
}
