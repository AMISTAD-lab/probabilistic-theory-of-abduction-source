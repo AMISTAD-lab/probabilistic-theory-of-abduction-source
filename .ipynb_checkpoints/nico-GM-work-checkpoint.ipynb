{
 "cells": [
  {
   "cell_type": "markdown",
   "metadata": {},
   "source": [
    "# Graphical Model Testing: Similarity Implementations"
   ]
  },
  {
   "cell_type": "markdown",
   "metadata": {},
   "source": [
    "Using the [NetworkX](https://networkx.github.io/) library."
   ]
  },
  {
   "cell_type": "code",
   "execution_count": 1,
   "metadata": {},
   "outputs": [],
   "source": [
    "import networkx as nx\n",
    "import matplotlib.pyplot as plt"
   ]
  },
  {
   "cell_type": "markdown",
   "metadata": {},
   "source": [
    "## Graphical Model Setup"
   ]
  },
  {
   "cell_type": "code",
   "execution_count": 2,
   "metadata": {},
   "outputs": [],
   "source": [
    "DG = nx.DiGraph() # creates directed graph\n",
    "DG.add_node(\"rain\")\n",
    "DG.add_node(\"sprinkler\")\n",
    "DG.add_node(\"water fountain\")\n",
    "DG.add_node(\"grass wet\")\n",
    "DG.add_node(\"sidewalk wet\")\n",
    "DG.add_node(\"road wet\")\n",
    "DG.add_node(\"person slipped\")\n",
    "DG.add_node(\"grass healthy\")"
   ]
  },
  {
   "cell_type": "code",
   "execution_count": 3,
   "metadata": {},
   "outputs": [
    {
     "data": {
      "text/plain": [
       "[('rain', 'grass wet'),\n",
       " ('rain', 'sidewalk wet'),\n",
       " ('rain', 'road wet'),\n",
       " ('sprinkler', 'grass wet'),\n",
       " ('sprinkler', 'sidewalk wet'),\n",
       " ('water fountain', 'sidewalk wet'),\n",
       " ('grass wet', 'grass healthy'),\n",
       " ('sidewalk wet', 'person slipped'),\n",
       " ('road wet', 'person slipped')]"
      ]
     },
     "execution_count": 3,
     "metadata": {},
     "output_type": "execute_result"
    }
   ],
   "source": [
    "edge_list = [(\"rain\", \"grass wet\", 0.9), (\"rain\", \"sidewalk wet\", 0.75), (\"rain\", \"road wet\", 0.8), (\"sprinkler\", \"grass wet\", 0.8), (\"sprinkler\", \"sidewalk wet\", 0.7), (\"water fountain\", \"sidewalk wet\", 0.1), (\"sidewalk wet\", \"person slipped\", 0.8), (\"road wet\", \"person slipped\", 0.3), (\"grass wet\", \"grass healthy\", 0.8)]\n",
    "DG.add_weighted_edges_from(edge_list) # adds edges to graph\n",
    "list(DG.edges)"
   ]
  },
  {
   "cell_type": "code",
   "execution_count": 4,
   "metadata": {},
   "outputs": [
    {
     "data": {
      "text/plain": [
       "8"
      ]
     },
     "execution_count": 4,
     "metadata": {},
     "output_type": "execute_result"
    }
   ],
   "source": [
    "DG.number_of_nodes()"
   ]
  },
  {
   "cell_type": "code",
   "execution_count": 5,
   "metadata": {},
   "outputs": [
    {
     "data": {
      "text/plain": [
       "['rain',\n",
       " 'sprinkler',\n",
       " 'water fountain',\n",
       " 'grass wet',\n",
       " 'sidewalk wet',\n",
       " 'road wet',\n",
       " 'person slipped',\n",
       " 'grass healthy']"
      ]
     },
     "execution_count": 5,
     "metadata": {},
     "output_type": "execute_result"
    }
   ],
   "source": [
    "list(DG.nodes)"
   ]
  },
  {
   "cell_type": "code",
   "execution_count": 6,
   "metadata": {},
   "outputs": [
    {
     "data": {
      "text/plain": [
       "['grass healthy']"
      ]
     },
     "execution_count": 6,
     "metadata": {},
     "output_type": "execute_result"
    }
   ],
   "source": [
    "list(DG.neighbors(\"rain\"))\n",
    "list(DG.neighbors(\"grass wet\"))"
   ]
  },
  {
   "cell_type": "code",
   "execution_count": 7,
   "metadata": {},
   "outputs": [
    {
     "data": {
      "text/plain": [
       "[('rain', 'grass wet'), ('rain', 'sidewalk wet'), ('rain', 'road wet')]"
      ]
     },
     "execution_count": 7,
     "metadata": {},
     "output_type": "execute_result"
    }
   ],
   "source": [
    "# returns list of edges from the input node\n",
    "list(DG.out_edges(\"rain\")) "
   ]
  },
  {
   "cell_type": "code",
   "execution_count": 8,
   "metadata": {},
   "outputs": [
    {
     "data": {
      "text/plain": [
       "{'grass healthy', 'grass wet', 'person slipped', 'road wet', 'sidewalk wet'}"
      ]
     },
     "execution_count": 8,
     "metadata": {},
     "output_type": "execute_result"
    }
   ],
   "source": [
    "nx.descendants(DG, \"rain\") # includes indirect descendants of a node"
   ]
  },
  {
   "cell_type": "code",
   "execution_count": 9,
   "metadata": {},
   "outputs": [
    {
     "data": {
      "text/plain": [
       "OutEdgeView([('rain', 'grass wet'), ('rain', 'sidewalk wet'), ('rain', 'road wet'), ('sprinkler', 'grass wet'), ('sprinkler', 'sidewalk wet'), ('water fountain', 'sidewalk wet'), ('grass wet', 'grass healthy'), ('sidewalk wet', 'person slipped'), ('road wet', 'person slipped')])"
      ]
     },
     "execution_count": 9,
     "metadata": {},
     "output_type": "execute_result"
    }
   ],
   "source": [
    "# returns all edges in grpah\n",
    "nx.edges(DG)"
   ]
  },
  {
   "cell_type": "code",
   "execution_count": 10,
   "metadata": {},
   "outputs": [
    {
     "data": {
      "text/plain": [
       "{('rain', 'grass wet'): 0.9,\n",
       " ('rain', 'sidewalk wet'): 0.75,\n",
       " ('rain', 'road wet'): 0.8,\n",
       " ('sprinkler', 'grass wet'): 0.8,\n",
       " ('sprinkler', 'sidewalk wet'): 0.7,\n",
       " ('water fountain', 'sidewalk wet'): 0.1,\n",
       " ('grass wet', 'grass healthy'): 0.8,\n",
       " ('sidewalk wet', 'person slipped'): 0.8,\n",
       " ('road wet', 'person slipped'): 0.3}"
      ]
     },
     "execution_count": 10,
     "metadata": {},
     "output_type": "execute_result"
    }
   ],
   "source": [
    "# returns each edge's weight\n",
    "nx.get_edge_attributes(DG, 'weight')"
   ]
  },
  {
   "cell_type": "code",
   "execution_count": 11,
   "metadata": {},
   "outputs": [
    {
     "data": {
      "image/png": "[encoded data removed]",
      "text/plain": [
       "<Figure size 432x288 with 1 Axes>"
      ]
     },
     "metadata": {},
     "output_type": "display_data"
    }
   ],
   "source": [
    "# displays the graph\n",
    "nx.draw_networkx(DG)"
   ]
  },
  {
   "cell_type": "code",
   "execution_count": 12,
   "metadata": {},
   "outputs": [
    {
     "data": {
      "image/png": "[encoded data removed]",
      "text/plain": [
       "<Figure size 432x288 with 1 Axes>"
      ]
     },
     "metadata": {},
     "output_type": "display_data"
    }
   ],
   "source": [
    "nx.draw_networkx(DG)"
   ]
  },
  {
   "cell_type": "code",
   "execution_count": 13,
   "metadata": {},
   "outputs": [
    {
     "name": "stdout",
     "output_type": "stream",
     "text": [
      "[('rain', 'grass wet'), ('rain', 'sidewalk wet'), ('rain', 'road wet')]\n"
     ]
    }
   ],
   "source": [
    "print(DG.out_edges(\"rain\"))"
   ]
  },
  {
   "cell_type": "markdown",
   "metadata": {},
   "source": [
    "## Similarity Implementation: Edit-Distance"
   ]
  },
  {
   "cell_type": "code",
   "execution_count": 14,
   "metadata": {},
   "outputs": [],
   "source": [
    "# Returns children of a single node\n",
    "def get_children(gm, parent):\n",
    "    children_weights = {}\n",
    "    weights = nx.get_edge_attributes(gm, 'weight')\n",
    "    \n",
    "    for i in gm.out_edges(parent):\n",
    "        children_weights[i[1]] = weights[i]\n",
    "\n",
    "    return children_weights"
   ]
  },
  {
   "cell_type": "code",
   "execution_count": 15,
   "metadata": {},
   "outputs": [
    {
     "data": {
      "text/plain": [
       "{'grass wet': 0.9, 'sidewalk wet': 0.75, 'road wet': 0.8}"
      ]
     },
     "execution_count": 15,
     "metadata": {},
     "output_type": "execute_result"
    }
   ],
   "source": [
    "a = get_children(DG, \"rain\")\n",
    "a"
   ]
  },
  {
   "cell_type": "markdown",
   "metadata": {},
   "source": [
    "Edit-distance similarity implementation based only on a node's children."
   ]
  },
  {
   "cell_type": "code",
   "execution_count": 16,
   "metadata": {},
   "outputs": [],
   "source": [
    "# Returns the similarity of node B compared to node A\n",
    "def get_immediate_similarity(gm, A, B):\n",
    "    cost = 0.0\n",
    "    A_children = get_children(gm, A)\n",
    "    B_children = get_children(gm, B)\n",
    "    \n",
    "    for child in A_children:\n",
    "        if child in B_children:\n",
    "            diff = abs(A_children[child] - B_children[child])\n",
    "            cost += diff\n",
    "        else:\n",
    "            cost += 1\n",
    "    \n",
    "    return cost / len(A_children)"
   ]
  },
  {
   "cell_type": "code",
   "execution_count": 17,
   "metadata": {},
   "outputs": [
    {
     "data": {
      "text/plain": [
       "0.3833333333333333"
      ]
     },
     "execution_count": 17,
     "metadata": {},
     "output_type": "execute_result"
    }
   ],
   "source": [
    "get_immediate_similarity(DG, \"rain\", \"sprinkler\")"
   ]
  },
  {
   "cell_type": "code",
   "execution_count": 18,
   "metadata": {},
   "outputs": [],
   "source": [
    "# Returns the node that is most similar to the input node\n",
    "def find_most_immediate_similar(gm, A):\n",
    "    nodes = list(gm.nodes)\n",
    "    nodes.remove(A)\n",
    "    \n",
    "    max_similarity = get_immediate_similarity(gm, A, nodes[0])\n",
    "    max_sim_node = nodes[0]\n",
    "    for node in nodes:\n",
    "        node_similarity = get_immediate_similarity(gm, A, node)\n",
    "        \n",
    "        if node_similarity < max_similarity:\n",
    "            max_sim_node = node\n",
    "            max_similarity = node_similarity\n",
    "    \n",
    "    return max_sim_node"
   ]
  },
  {
   "cell_type": "code",
   "execution_count": 19,
   "metadata": {},
   "outputs": [
    {
     "data": {
      "text/plain": [
       "'sprinkler'"
      ]
     },
     "execution_count": 19,
     "metadata": {},
     "output_type": "execute_result"
    }
   ],
   "source": [
    "most_similar_node = find_most_immediate_similar(DG, \"rain\")\n",
    "most_similar_node"
   ]
  },
  {
   "cell_type": "code",
   "execution_count": 20,
   "metadata": {},
   "outputs": [
    {
     "name": "stdout",
     "output_type": "stream",
     "text": [
      "Node: sprinkler\n",
      "Similarity: 0.3833333333333333\n",
      "\n",
      "Node: water fountain\n",
      "Similarity: 0.8833333333333333\n",
      "\n",
      "Node: grass wet\n",
      "Similarity: 1.0\n",
      "\n",
      "Node: sidewalk wet\n",
      "Similarity: 1.0\n",
      "\n",
      "Node: road wet\n",
      "Similarity: 1.0\n",
      "\n",
      "Node: person slipped\n",
      "Similarity: 1.0\n",
      "\n",
      "Node: grass healthy\n",
      "Similarity: 1.0\n",
      "\n"
     ]
    }
   ],
   "source": [
    "nodes = list(DG.nodes)\n",
    "nodes.remove(\"rain\")\n",
    "\n",
    "for node in nodes:\n",
    "    node_similarity = get_immediate_similarity(DG, \"rain\", node)\n",
    "    print(\"Node:\", node)\n",
    "    print(\"Similarity:\", node_similarity)\n",
    "    print()"
   ]
  },
  {
   "cell_type": "markdown",
   "metadata": {},
   "source": [
    "Edit-distance similarity implementation based on all descendants of a node."
   ]
  },
  {
   "cell_type": "code",
   "execution_count": 21,
   "metadata": {},
   "outputs": [],
   "source": [
    "# (Adapted from Meg's notebook)\n",
    "# Get all children in a dictionary including their respective weights (chains taken into account)\n",
    "def get_descendants(graph, parent, children_dict={}, carry=1):\n",
    "    weights = nx.get_edge_attributes(graph, 'weight')\n",
    "    \n",
    "    for i in graph.out_edges(parent):\n",
    "        children_dict[i[1]] = carry*weights[i]\n",
    "        get_descendants(graph, i[1], children_dict=children_dict, carry=weights[i])\n",
    "    \n",
    "    return children_dict"
   ]
  },
  {
   "cell_type": "code",
   "execution_count": 22,
   "metadata": {},
   "outputs": [],
   "source": [
    "# Returns the similarity of node B compared to node A\n",
    "def get_full_similarity(gm, A, B):\n",
    "    cost = 0.0\n",
    "    A_children = get_descendants(gm, A, {}, 1)\n",
    "    B_children = get_descendants(gm, B, {}, 1)\n",
    "    \n",
    "    for child in A_children:\n",
    "        if child in B_children:\n",
    "            diff = abs(A_children[child] - B_children[child])\n",
    "            cost += diff\n",
    "        else:\n",
    "            cost += 1\n",
    "    return cost / len(A_children)\n",
    "\n",
    "# Optional print line in for loop for debugging: \n",
    "# print(child, A_children[child], B_children[child])"
   ]
  },
  {
   "cell_type": "code",
   "execution_count": 23,
   "metadata": {},
   "outputs": [],
   "source": [
    "# Returns the node that is most similar to the input node\n",
    "def find_most_similar(gm, A):\n",
    "    nodes = list(gm.nodes)\n",
    "    nodes.remove(A)\n",
    "    \n",
    "    max_similarity = get_full_similarity(gm, A, nodes[0])\n",
    "    max_sim_node = nodes[0]\n",
    "    for node in nodes:\n",
    "        node_similarity = get_full_similarity(gm, A, node)\n",
    "        \n",
    "        if node_similarity < max_similarity:\n",
    "            max_sim_node = node\n",
    "            max_similarity = node_similarity\n",
    "    \n",
    "    return max_sim_node"
   ]
  },
  {
   "cell_type": "code",
   "execution_count": 24,
   "metadata": {},
   "outputs": [
    {
     "data": {
      "text/plain": [
       "'sprinkler'"
      ]
     },
     "execution_count": 24,
     "metadata": {},
     "output_type": "execute_result"
    }
   ],
   "source": [
    "most_similar_node = find_most_similar(DG, \"rain\")\n",
    "most_similar_node"
   ]
  },
  {
   "cell_type": "code",
   "execution_count": 25,
   "metadata": {
    "scrolled": true
   },
   "outputs": [
    {
     "name": "stdout",
     "output_type": "stream",
     "text": [
      "Node: sprinkler\n",
      "Similarity: 0.30999999999999994\n",
      "\n",
      "Node: water fountain\n",
      "Similarity: 0.762\n",
      "\n",
      "Node: grass wet\n",
      "Similarity: 0.8160000000000001\n",
      "\n",
      "Node: sidewalk wet\n",
      "Similarity: 0.9120000000000001\n",
      "\n",
      "Node: road wet\n",
      "Similarity: 0.812\n",
      "\n",
      "Node: person slipped\n",
      "Similarity: 1.0\n",
      "\n",
      "Node: grass healthy\n",
      "Similarity: 1.0\n",
      "\n"
     ]
    }
   ],
   "source": [
    "nodes = list(DG.nodes)\n",
    "nodes.remove(\"rain\")\n",
    "\n",
    "for node in nodes:\n",
    "    node_similarity = get_full_similarity(DG, \"rain\", node)\n",
    "    print(\"Node:\", node)\n",
    "    print(\"Similarity:\", node_similarity)\n",
    "    print()"
   ]
  },
  {
   "cell_type": "code",
   "execution_count": 26,
   "metadata": {},
   "outputs": [
    {
     "data": {
      "text/plain": [
       "{'grass wet': 0.9,\n",
       " 'grass healthy': 0.7200000000000001,\n",
       " 'sidewalk wet': 0.75,\n",
       " 'person slipped': 0.24,\n",
       " 'road wet': 0.8}"
      ]
     },
     "execution_count": 26,
     "metadata": {},
     "output_type": "execute_result"
    }
   ],
   "source": [
    "children = get_descendants(DG, \"rain\")\n",
    "children"
   ]
  },
  {
   "cell_type": "code",
   "execution_count": 27,
   "metadata": {},
   "outputs": [
    {
     "data": {
      "text/plain": [
       "{'grass wet': 0.8,\n",
       " 'grass healthy': 0.6400000000000001,\n",
       " 'sidewalk wet': 0.7,\n",
       " 'person slipped': 0.5599999999999999,\n",
       " 'road wet': 0.8}"
      ]
     },
     "execution_count": 27,
     "metadata": {},
     "output_type": "execute_result"
    }
   ],
   "source": [
    "sprinkler_descendants = get_descendants(DG, \"sprinkler\")\n",
    "sprinkler_descendants"
   ]
  },
  {
   "cell_type": "code",
   "execution_count": 28,
   "metadata": {},
   "outputs": [
    {
     "data": {
      "text/plain": [
       "0.30999999999999994"
      ]
     },
     "execution_count": 28,
     "metadata": {},
     "output_type": "execute_result"
    }
   ],
   "source": [
    "rain_sprinkler_similarity = get_full_similarity(DG, \"rain\", \"sprinkler\")\n",
    "rain_sprinkler_similarity"
   ]
  }
 ],
 "metadata": {
  "kernelspec": {
   "display_name": "Python 3",
   "language": "python",
   "name": "python3"
  },
  "language_info": {
   "codemirror_mode": {
    "name": "ipython",
    "version": 3
   },
   "file_extension": ".py",
   "mimetype": "text/x-python",
   "name": "python",
   "nbconvert_exporter": "python",
   "pygments_lexer": "ipython3",
   "version": "3.7.7"
  }
 },
 "nbformat": 4,
 "nbformat_minor": 4
}
