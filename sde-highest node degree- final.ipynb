{
 "cells": [
  {
   "cell_type": "code",
   "execution_count": 1,
   "metadata": {},
   "outputs": [],
   "source": [
    "from sde import * \n",
    "import collections\n",
    "import datetime\n",
    "import time"
   ]
  },
  {
   "cell_type": "code",
   "execution_count": 2,
   "metadata": {},
   "outputs": [
    {
     "data": {
      "application/javascript": [
       "if (!(\"Notification\" in window)) {\n",
       "    alert(\"This browser does not support desktop notifications, so the %%notify magic will not work.\");\n",
       "} else if (Notification.permission !== 'granted' && Notification.permission !== 'denied') {\n",
       "    Notification.requestPermission(function (permission) {\n",
       "        if(!('permission' in Notification)) {\n",
       "            Notification.permission = permission;\n",
       "        }\n",
       "    })\n",
       "}\n"
      ],
      "text/plain": [
       "<IPython.core.display.Javascript object>"
      ]
     },
     "metadata": {},
     "output_type": "display_data"
    }
   ],
   "source": [
    "%load_ext jupyternotify"
   ]
  },
  {
   "cell_type": "code",
   "execution_count": 3,
   "metadata": {},
   "outputs": [
    {
     "name": "stdout",
     "output_type": "stream",
     "text": [
      "Finished!\n"
     ]
    },
    {
     "data": {
      "application/javascript": [
       "$(document).ready(\n",
       "    function() {\n",
       "        function appendUniqueDiv(){\n",
       "            // append a div with our uuid so we can check that it's already\n",
       "            // been sent and avoid duplicates on page reload\n",
       "            var notifiedDiv = document.createElement(\"div\")\n",
       "            notifiedDiv.id = \"f7a13d3c-6683-4d08-9443-8ff80281bf32\"\n",
       "            element.append(notifiedDiv)\n",
       "        }\n",
       "\n",
       "        // only send notifications if the pageload is complete; this will\n",
       "        // help stop extra notifications when a saved notebook is loaded,\n",
       "        // which during testing gives us state \"interactive\", not \"complete\"\n",
       "        if (document.readyState === 'complete') {\n",
       "            // check for the div that signifies that the notification\n",
       "            // was already sent\n",
       "            if (document.getElementById(\"f7a13d3c-6683-4d08-9443-8ff80281bf32\") === null) {\n",
       "                var notificationPayload = {\"requireInteraction\": false, \"icon\": \"/static/base/images/favicon.ico\", \"body\": \"Cell execution has finished!\"};\n",
       "                if (Notification.permission !== 'denied') {\n",
       "                    if (Notification.permission !== 'granted') { \n",
       "                        Notification.requestPermission(function (permission) {\n",
       "                            if(!('permission' in Notification)) {\n",
       "                                Notification.permission = permission\n",
       "                            }\n",
       "                        })\n",
       "                    }\n",
       "                    if (Notification.permission === 'granted') {\n",
       "                    var notification = new Notification(\"Jupyter Notebook\", notificationPayload)\n",
       "                    appendUniqueDiv()\n",
       "                    notification.onclick = function () {\n",
       "                        window.focus();\n",
       "                        this.close();\n",
       "                        };\n",
       "                    } \n",
       "                }     \n",
       "            }\n",
       "        }\n",
       "    }\n",
       ")\n"
      ],
      "text/plain": [
       "<IPython.core.display.Javascript object>"
      ]
     },
     "metadata": {},
     "output_type": "display_data"
    }
   ],
   "source": [
    "%%notify\n",
    "import time\n",
    "time.sleep(10)\n",
    "print('Finished!')\n",
    "\n",
    "%autonotify -a 30"
   ]
  },
  {
   "cell_type": "markdown",
   "metadata": {},
   "source": [
    "1. randomly generate x graphs, get average node centrality\n",
    "2. compare similarity against average centrality"
   ]
  },
  {
   "cell_type": "markdown",
   "metadata": {},
   "source": [
    "# Experiment Setup"
   ]
  },
  {
   "cell_type": "code",
   "execution_count": null,
   "metadata": {},
   "outputs": [],
   "source": [
    "dg = nx.gn_graph(100)\n",
    "for e in dg.edges():\n",
    "    dg[e[0]][e[1]]['weight'] = random.uniform(0,1)\n",
    "\n",
    "nx.draw_networkx(dg)"
   ]
  },
  {
   "cell_type": "code",
   "execution_count": null,
   "metadata": {},
   "outputs": [],
   "source": [
    "node_pairs = list(it.combinations(list(dg.nodes()), 2))\n",
    "sample_10_jaccard = []\n",
    "for pair in node_pairs:\n",
    "    sample_10_jaccard.append(calculate_jaccard_similarity(dg, pair[0], pair[1]))\n",
    "print(sample_10_jaccard)"
   ]
  },
  {
   "cell_type": "code",
   "execution_count": null,
   "metadata": {},
   "outputs": [],
   "source": [
    "sample_10_immSim, sample_10_fullSim = [], []\n",
    "for pair in node_pairs:\n",
    "    sample_10_immSim.append(get_immediate_similarity(dg, pair[0], pair[1]))\n",
    "    sample_10_fullSim.append(get_full_similarity(dg, pair[0], pair[1]))\n",
    "print(sample_10_immSim, sample_10_fullSim)"
   ]
  },
  {
   "cell_type": "code",
   "execution_count": null,
   "metadata": {},
   "outputs": [],
   "source": [
    "def highestCentrality(dg):\n",
    "    centDict = nx.degree_centrality(dg)\n",
    "    centList = list(centDict.values())\n",
    "    highestCent = max(centList)\n",
    "    return highestCent"
   ]
  },
  {
   "cell_type": "code",
   "execution_count": null,
   "metadata": {},
   "outputs": [],
   "source": [
    "highestCentrality(dg)"
   ]
  },
  {
   "cell_type": "code",
   "execution_count": null,
   "metadata": {},
   "outputs": [],
   "source": [
    "dict(dg.degree(list(dg.nodes())))"
   ]
  },
  {
   "cell_type": "code",
   "execution_count": null,
   "metadata": {},
   "outputs": [],
   "source": [
    "deg_dict = dict(dg.degree(list(dg.nodes())))\n",
    "highest_degree = max(list(deg_dict.values()))\n",
    "print(deg_dict)\n",
    "print(highest_degree)"
   ]
  },
  {
   "cell_type": "code",
   "execution_count": null,
   "metadata": {
    "scrolled": true
   },
   "outputs": [],
   "source": [
    "jindex, immSim, fullSim = [], [], []\n",
    "dictsJI, dictsIS, dictsFS = [], [], []\n",
    "for pair in node_pairs:\n",
    "    jindex.append(calculate_jaccard_similarity(dg, pair[0], pair[1]))\n",
    "    immSim.append(get_immediate_similarity(dg, pair[0], pair[1]))\n",
    "    fullSim.append(get_full_similarity(dg, pair[0], pair[1]))\n",
    "                \n",
    "dictsJI.append({highest_degree : jindex})\n",
    "dictsIS.append({highest_degree : immSim})\n",
    "dictsFS.append({highest_degree : fullSim})\n",
    "\n",
    "print(dictsJI, dictsIS, dictsFS)"
   ]
  },
  {
   "cell_type": "code",
   "execution_count": null,
   "metadata": {},
   "outputs": [],
   "source": [
    "df = pd.DataFrame(dictsJI)\n",
    "df"
   ]
  },
  {
   "cell_type": "markdown",
   "metadata": {},
   "source": [
    "# Experiment"
   ]
  },
  {
   "cell_type": "code",
   "execution_count": 4,
   "metadata": {},
   "outputs": [
    {
     "name": "stdout",
     "output_type": "stream",
     "text": [
      "{1: [2, 6], 3: [4, 7]}\n"
     ]
    }
   ],
   "source": [
    "from collections import defaultdict\n",
    "\n",
    "d1 = {1: 2, 3: 4}\n",
    "d2 = {1: 6, 3: 7}\n",
    "\n",
    "dd = defaultdict(list)\n",
    "\n",
    "for d in (d1, d2): # you can list as many input dicts as you want here\n",
    "    for key, value in d.items():\n",
    "        dd[key].append(value)\n",
    "\n",
    "print(dict(dd))"
   ]
  },
  {
   "cell_type": "code",
   "execution_count": 5,
   "metadata": {},
   "outputs": [
    {
     "name": "stdout",
     "output_type": "stream",
     "text": [
      "{1: [2, 6], 3: [4, 7]}\n",
      "0.000997304916381836\n"
     ]
    }
   ],
   "source": [
    "import time\n",
    "start = time.time()\n",
    "print(dict(dd))\n",
    "end = time.time()\n",
    "print(end-start)"
   ]
  },
  {
   "cell_type": "code",
   "execution_count": 6,
   "metadata": {},
   "outputs": [],
   "source": [
    "# source: https://www.geeksforgeeks.org/python-program-to-convert-seconds-into-hours-minutes-and-seconds/\n",
    "def convert(seconds): \n",
    "    return time.strftime(\"%H:%M:%S\", time.gmtime(n)) "
   ]
  },
  {
   "cell_type": "code",
   "execution_count": 7,
   "metadata": {},
   "outputs": [
    {
     "data": {
      "application/javascript": [
       "$(document).ready(\n",
       "    function() {\n",
       "        function appendUniqueDiv(){\n",
       "            // append a div with our uuid so we can check that it's already\n",
       "            // been sent and avoid duplicates on page reload\n",
       "            var notifiedDiv = document.createElement(\"div\")\n",
       "            notifiedDiv.id = \"bc2ae0f9-aae6-4e23-8794-d378c2c3a75d\"\n",
       "            element.append(notifiedDiv)\n",
       "        }\n",
       "\n",
       "        // only send notifications if the pageload is complete; this will\n",
       "        // help stop extra notifications when a saved notebook is loaded,\n",
       "        // which during testing gives us state \"interactive\", not \"complete\"\n",
       "        if (document.readyState === 'complete') {\n",
       "            // check for the div that signifies that the notification\n",
       "            // was already sent\n",
       "            if (document.getElementById(\"bc2ae0f9-aae6-4e23-8794-d378c2c3a75d\") === null) {\n",
       "                var notificationPayload = {\"requireInteraction\": false, \"icon\": \"/static/base/images/favicon.ico\", \"body\": \"Cell Execution Has Finished!!\", \"autonotify_after\": \"30\", \"autonotify_output\": false};\n",
       "                if (Notification.permission !== 'denied') {\n",
       "                    if (Notification.permission !== 'granted') { \n",
       "                        Notification.requestPermission(function (permission) {\n",
       "                            if(!('permission' in Notification)) {\n",
       "                                Notification.permission = permission\n",
       "                            }\n",
       "                        })\n",
       "                    }\n",
       "                    if (Notification.permission === 'granted') {\n",
       "                    var notification = new Notification(\"Jupyter Notebook\", notificationPayload)\n",
       "                    appendUniqueDiv()\n",
       "                    notification.onclick = function () {\n",
       "                        window.focus();\n",
       "                        this.close();\n",
       "                        };\n",
       "                    } \n",
       "                }     \n",
       "            }\n",
       "        }\n",
       "    }\n",
       ")\n"
      ],
      "text/plain": [
       "<IPython.core.display.Javascript object>"
      ]
     },
     "metadata": {},
     "output_type": "display_data"
    }
   ],
   "source": [
    "node_num = [50, 100, 500, 1000]\n",
    "maxCent, avgMax = {}, {}\n",
    "jaccards, imm_sims, full_sims = {}, {}, {}\n",
    "avgSecECT = {}\n",
    "\n",
    "for n in node_num:\n",
    "    highest_degs = []\n",
    "    dictsJI, dictsIS, dictsFS = [], [], []\n",
    "    elapsed_time = []\n",
    "    for i in range(15):\n",
    "        starttime = time.time() #mark start time\n",
    "        \n",
    "        #create digraph, add edge weights\n",
    "        dg = nx.gn_graph(n)\n",
    "        for e in dg.edges():\n",
    "            dg[e[0]][e[1]]['weight'] = random.uniform(0,1)\n",
    "        \n",
    "        #high_cent = highestCentrality(dg)\n",
    "        #highest_cents.append(high_cent)\n",
    "        deg_dict = dict(dg.degree(list(dg.nodes())))\n",
    "        highest_degree = max(list(deg_dict.values()))\n",
    "        highest_degs.append(highest_degree)\n",
    "\n",
    "        #get similarity\n",
    "        node_pairs = list(it.combinations(list(dg.nodes), 2)) #get all possible pairs of nodes in the graph\n",
    "        jindex, immSim, fullSim = [], [], []\n",
    "        for pair in node_pairs:\n",
    "            jindex.append(calculate_jaccard_similarity(dg, pair[0], pair[1]))\n",
    "            immSim.append(get_immediate_similarity(dg, pair[0], pair[1]))\n",
    "            fullSim.append(get_full_similarity(dg, pair[0], pair[1]))\n",
    "                \n",
    "        dictsJI.append({highest_degree : jindex})\n",
    "        dictsIS.append({highest_degree : immSim})\n",
    "        dictsFS.append({highest_degree : fullSim})\n",
    "        \n",
    "        endtime = time.time() #mark end time\n",
    "        elapsed_time.append(endtime-starttime) #calculate elapsed time\n",
    "        \n",
    "    \n",
    "    ddJI, ddIS, ddFS = defaultdict(list), defaultdict(list), defaultdict(list)\n",
    "    #merge similarity dictionaries based on key (highest degree value)\n",
    "    for d in tuple(dictsJI): #Jaccard dicts\n",
    "        for key, value in d.items():\n",
    "            ddJI[key] = value\n",
    "    for d in tuple(dictsIS): # imm sim dicts\n",
    "        for key, value in d.items():\n",
    "            ddIS[key] = value\n",
    "    for d in tuple(dictsFS): #full sim dicts\n",
    "        for key, value in d.items():\n",
    "            ddFS[key] = value\n",
    "    \n",
    "    #record run time\n",
    "    avgECT_seconds = mean(elapsed_time)\n",
    "    avgSecECT[n] = convert(avgECT_seconds) "
   ]
  },
  {
   "cell_type": "code",
   "execution_count": 8,
   "metadata": {},
   "outputs": [
    {
     "data": {
      "text/plain": [
       "([<matplotlib.axis.XTick at 0x154ec324fc8>,\n",
       "  <matplotlib.axis.XTick at 0x154e88bff88>,\n",
       "  <matplotlib.axis.XTick at 0x154f01c1f08>,\n",
       "  <matplotlib.axis.XTick at 0x154f3d045c8>,\n",
       "  <matplotlib.axis.XTick at 0x154f3d13348>,\n",
       "  <matplotlib.axis.XTick at 0x154e2490788>,\n",
       "  <matplotlib.axis.XTick at 0x154e24ad288>,\n",
       "  <matplotlib.axis.XTick at 0x154e24ad848>,\n",
       "  <matplotlib.axis.XTick at 0x154e2cda708>,\n",
       "  <matplotlib.axis.XTick at 0x154e2cdae08>,\n",
       "  <matplotlib.axis.XTick at 0x154e246dc88>,\n",
       "  <matplotlib.axis.XTick at 0x154e2cda408>],\n",
       " <a list of 12 Text xticklabel objects>)"
      ]
     },
     "execution_count": 8,
     "metadata": {},
     "output_type": "execute_result"
    },
    {
     "data": {
      "image/png": "[encoded data removed]",
      "text/plain": [
       "<Figure size 648x432 with 1 Axes>"
      ]
     },
     "metadata": {
      "needs_background": "light"
     },
     "output_type": "display_data"
    }
   ],
   "source": [
    "# box plot to compare jaccard similarity against average node centrality\n",
    "plt.close()\n",
    "fig2 = plt.figure(1, figsize=(9, 6))\n",
    "\n",
    "jaccards = collections.OrderedDict(sorted(ddJI.items()))\n",
    "ax2 = fig2.add_subplot(111)\n",
    "ax2.boxplot(list(jaccards.values()))\n",
    "\n",
    "ax2.set_xlabel('Highest Degree')\n",
    "ax2.set_ylabel('Jaccard Similarity')\n",
    "plt.xticks([x for x in range(1, len(list(jaccards.keys())) + 1)], list(jaccards.keys()))"
   ]
  },
  {
   "cell_type": "code",
   "execution_count": 9,
   "metadata": {},
   "outputs": [
    {
     "data": {
      "text/plain": [
       "([<matplotlib.axis.XTick at 0x15485245ec8>,\n",
       "  <matplotlib.axis.XTick at 0x15485245648>,\n",
       "  <matplotlib.axis.XTick at 0x154f3d43cc8>,\n",
       "  <matplotlib.axis.XTick at 0x15485238f48>,\n",
       "  <matplotlib.axis.XTick at 0x154f6be1748>,\n",
       "  <matplotlib.axis.XTick at 0x154fb40c688>,\n",
       "  <matplotlib.axis.XTick at 0x154fb40cf08>,\n",
       "  <matplotlib.axis.XTick at 0x154942720c8>,\n",
       "  <matplotlib.axis.XTick at 0x15494272108>,\n",
       "  <matplotlib.axis.XTick at 0x15494272cc8>,\n",
       "  <matplotlib.axis.XTick at 0x154eafe0188>,\n",
       "  <matplotlib.axis.XTick at 0x154eafe0fc8>],\n",
       " <a list of 12 Text xticklabel objects>)"
      ]
     },
     "execution_count": 9,
     "metadata": {},
     "output_type": "execute_result"
    },
    {
     "data": {
      "image/png": "[encoded data removed]",
      "text/plain": [
       "<Figure size 648x432 with 1 Axes>"
      ]
     },
     "metadata": {
      "needs_background": "light"
     },
     "output_type": "display_data"
    }
   ],
   "source": [
    "# box plot to compare full sim vals against average node centrality\n",
    "plt.close()\n",
    "fig2 = plt.figure(1, figsize=(9, 6))\n",
    "\n",
    "full_sims = collections.OrderedDict(sorted(ddFS.items()))\n",
    "ax2 = fig2.add_subplot(111)\n",
    "ax2.boxplot(list(full_sims.values()))\n",
    "\n",
    "ax2.set_xlabel('Highest Degree')\n",
    "ax2.set_ylabel('Edit Distance (Full Similarity)')\n",
    "plt.xticks([x for x in range(1, len(list(full_sims.keys())) + 1)], list(full_sims.keys()))"
   ]
  },
  {
   "cell_type": "code",
   "execution_count": 10,
   "metadata": {},
   "outputs": [
    {
     "data": {
      "text/plain": [
       "([<matplotlib.axis.XTick at 0x154e5a23508>,\n",
       "  <matplotlib.axis.XTick at 0x154e5a10f88>,\n",
       "  <matplotlib.axis.XTick at 0x154e26a2988>,\n",
       "  <matplotlib.axis.XTick at 0x154efa29d88>,\n",
       "  <matplotlib.axis.XTick at 0x154ea40e0c8>,\n",
       "  <matplotlib.axis.XTick at 0x154ea40e888>,\n",
       "  <matplotlib.axis.XTick at 0x154ea40f208>,\n",
       "  <matplotlib.axis.XTick at 0x154ea40fa08>,\n",
       "  <matplotlib.axis.XTick at 0x154ea4192c8>,\n",
       "  <matplotlib.axis.XTick at 0x154ea419948>,\n",
       "  <matplotlib.axis.XTick at 0x154ea40f708>,\n",
       "  <matplotlib.axis.XTick at 0x154ea41d1c8>],\n",
       " <a list of 12 Text xticklabel objects>)"
      ]
     },
     "execution_count": 10,
     "metadata": {},
     "output_type": "execute_result"
    },
    {
     "data": {
      "image/png": "[encoded data removed]",
      "text/plain": [
       "<Figure size 648x432 with 1 Axes>"
      ]
     },
     "metadata": {
      "needs_background": "light"
     },
     "output_type": "display_data"
    }
   ],
   "source": [
    "# box plot to compare imm sim vals against average node degree\n",
    "plt.close()\n",
    "fig2 = plt.figure(1, figsize=(9, 6))\n",
    "\n",
    "imm_sims = collections.OrderedDict(sorted(ddIS.items()))\n",
    "ax2 = fig2.add_subplot(111)\n",
    "ax2.boxplot(list(imm_sims.values()))\n",
    "\n",
    "ax2.set_xlabel('Highest Degree')\n",
    "ax2.set_ylabel('Edit Distance (Immediate Similarity)')\n",
    "plt.xticks([x for x in range(1, len(list(imm_sims.keys())) + 1)], list(imm_sims.keys()))"
   ]
  },
  {
   "cell_type": "code",
   "execution_count": 11,
   "metadata": {},
   "outputs": [
    {
     "data": {
      "text/html": [
       "<div>\n",
       "<style scoped>\n",
       "    .dataframe tbody tr th:only-of-type {\n",
       "        vertical-align: middle;\n",
       "    }\n",
       "\n",
       "    .dataframe tbody tr th {\n",
       "        vertical-align: top;\n",
       "    }\n",
       "\n",
       "    .dataframe thead th {\n",
       "        text-align: right;\n",
       "    }\n",
       "</style>\n",
       "<table border=\"1\" class=\"dataframe\">\n",
       "  <thead>\n",
       "    <tr style=\"text-align: right;\">\n",
       "      <th></th>\n",
       "      <th>Avg Runtime</th>\n",
       "    </tr>\n",
       "    <tr>\n",
       "      <th># of nodes</th>\n",
       "      <th></th>\n",
       "    </tr>\n",
       "  </thead>\n",
       "  <tbody>\n",
       "    <tr>\n",
       "      <td>50</td>\n",
       "      <td>00:00:50</td>\n",
       "    </tr>\n",
       "    <tr>\n",
       "      <td>100</td>\n",
       "      <td>00:01:40</td>\n",
       "    </tr>\n",
       "    <tr>\n",
       "      <td>500</td>\n",
       "      <td>00:08:20</td>\n",
       "    </tr>\n",
       "    <tr>\n",
       "      <td>1000</td>\n",
       "      <td>00:16:40</td>\n",
       "    </tr>\n",
       "  </tbody>\n",
       "</table>\n",
       "</div>"
      ],
      "text/plain": [
       "           Avg Runtime\n",
       "# of nodes            \n",
       "50            00:00:50\n",
       "100           00:01:40\n",
       "500           00:08:20\n",
       "1000          00:16:40"
      ]
     },
     "execution_count": 11,
     "metadata": {},
     "output_type": "execute_result"
    }
   ],
   "source": [
    "dfECT = pd.DataFrame.from_dict(avgSecECT,orient = 'index', columns=['Avg Runtime'])\n",
    "dfECT.index.name = '# of nodes'\n",
    "dfECT"
   ]
  },
  {
   "cell_type": "code",
   "execution_count": null,
   "metadata": {},
   "outputs": [],
   "source": []
  }
 ],
 "metadata": {
  "kernelspec": {
   "display_name": "Python 3",
   "language": "python",
   "name": "python3"
  },
  "language_info": {
   "codemirror_mode": {
    "name": "ipython",
    "version": 3
   },
   "file_extension": ".py",
   "mimetype": "text/x-python",
   "name": "python",
   "nbconvert_exporter": "python",
   "pygments_lexer": "ipython3",
   "version": "3.7.4"
  }
 },
 "nbformat": 4,
 "nbformat_minor": 2
}
