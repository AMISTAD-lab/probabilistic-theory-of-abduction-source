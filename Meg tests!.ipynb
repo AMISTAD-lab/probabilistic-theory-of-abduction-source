{
 "cells": [
  {
   "cell_type": "markdown",
   "metadata": {},
   "source": [
    "# Networkx"
   ]
  },
  {
   "cell_type": "code",
   "execution_count": 1,
   "metadata": {},
   "outputs": [],
   "source": [
    "# stuff to import\n",
    "import networkx as nx\n",
    "import matplotlib.pyplot as plt"
   ]
  },
  {
   "cell_type": "code",
   "execution_count": 2,
   "metadata": {},
   "outputs": [],
   "source": [
    "# create a directed graph and add nodes\n",
    "DG = nx.DiGraph()\n",
    "DG.add_node(\"rain\")\n",
    "DG.add_node(\"sprinkler\")\n",
    "DG.add_node(\"grass wet\")\n",
    "DG.add_node(\"sidewalk wet\")\n",
    "DG.add_node(\"person slipped\")"
   ]
  },
  {
   "cell_type": "code",
   "execution_count": 3,
   "metadata": {},
   "outputs": [
    {
     "data": {
      "text/plain": [
       "5"
      ]
     },
     "execution_count": 3,
     "metadata": {},
     "output_type": "execute_result"
    }
   ],
   "source": [
    "DG.number_of_nodes()"
   ]
  },
  {
   "cell_type": "code",
   "execution_count": 4,
   "metadata": {},
   "outputs": [
    {
     "data": {
      "text/plain": [
       "['rain', 'sprinkler', 'grass wet', 'sidewalk wet', 'person slipped']"
      ]
     },
     "execution_count": 4,
     "metadata": {},
     "output_type": "execute_result"
    }
   ],
   "source": [
    "list(DG.nodes)"
   ]
  },
  {
   "cell_type": "code",
   "execution_count": 5,
   "metadata": {},
   "outputs": [
    {
     "data": {
      "text/plain": [
       "[('rain', 'grass wet'),\n",
       " ('rain', 'sidewalk wet'),\n",
       " ('sprinkler', 'grass wet'),\n",
       " ('sidewalk wet', 'person slipped')]"
      ]
     },
     "execution_count": 5,
     "metadata": {},
     "output_type": "execute_result"
    }
   ],
   "source": [
    "# add edges\n",
    "edge_list = [(\"rain\", \"grass wet\", 0.9), (\"rain\", \"sidewalk wet\", 0.75), (\"sprinkler\", \"grass wet\", 0.8), (\"sidewalk wet\", \"person slipped\", 0.4)]\n",
    "DG.add_weighted_edges_from(edge_list)\n",
    "list(DG.edges)"
   ]
  },
  {
   "cell_type": "code",
   "execution_count": 6,
   "metadata": {},
   "outputs": [
    {
     "name": "stdout",
     "output_type": "stream",
     "text": [
      "['grass wet', 'sidewalk wet']\n",
      "[]\n"
     ]
    }
   ],
   "source": [
    "# neighbors list *direct* children (out-edges)\n",
    "print(list(DG.neighbors(\"rain\")))\n",
    "print(list(DG.neighbors(\"grass wet\")))"
   ]
  },
  {
   "cell_type": "code",
   "execution_count": 7,
   "metadata": {},
   "outputs": [
    {
     "name": "stdout",
     "output_type": "stream",
     "text": [
      "[('rain', 'grass wet'), ('rain', 'sidewalk wet')]\n"
     ]
    }
   ],
   "source": [
    "# see all out-edges\n",
    "print(list(DG.out_edges(\"rain\")))"
   ]
  },
  {
   "cell_type": "code",
   "execution_count": 8,
   "metadata": {},
   "outputs": [
    {
     "data": {
      "text/plain": [
       "{'grass wet', 'person slipped', 'sidewalk wet'}"
      ]
     },
     "execution_count": 8,
     "metadata": {},
     "output_type": "execute_result"
    }
   ],
   "source": [
    "# see all descendants of a node (even indirect)\n",
    "nx.descendants(DG, \"rain\")"
   ]
  },
  {
   "cell_type": "code",
   "execution_count": 9,
   "metadata": {},
   "outputs": [
    {
     "data": {
      "text/plain": [
       "OutEdgeView([('rain', 'grass wet'), ('rain', 'sidewalk wet'), ('sprinkler', 'grass wet'), ('sidewalk wet', 'person slipped')])"
      ]
     },
     "execution_count": 9,
     "metadata": {},
     "output_type": "execute_result"
    }
   ],
   "source": [
    "# see all edges in the graph\n",
    "nx.edges(DG)"
   ]
  },
  {
   "cell_type": "code",
   "execution_count": 10,
   "metadata": {},
   "outputs": [
    {
     "data": {
      "text/plain": [
       "{('rain', 'grass wet'): 0.9,\n",
       " ('rain', 'sidewalk wet'): 0.75,\n",
       " ('sprinkler', 'grass wet'): 0.8,\n",
       " ('sidewalk wet', 'person slipped'): 0.4}"
      ]
     },
     "execution_count": 10,
     "metadata": {},
     "output_type": "execute_result"
    }
   ],
   "source": [
    "# see all weights for every edge in the graph\n",
    "nx.get_edge_attributes(DG, 'weight')"
   ]
  },
  {
   "cell_type": "code",
   "execution_count": 11,
   "metadata": {},
   "outputs": [
    {
     "data": {
      "image/png": "[encoded data removed]",
      "text/plain": [
       "<Figure size 432x288 with 1 Axes>"
      ]
     },
     "metadata": {
      "needs_background": "light"
     },
     "output_type": "display_data"
    }
   ],
   "source": [
    "# draw the graph\n",
    "nx.draw_networkx(DG)"
   ]
  },
  {
   "cell_type": "markdown",
   "metadata": {},
   "source": [
    "## Similarity using jaccard index"
   ]
  },
  {
   "cell_type": "code",
   "execution_count": 12,
   "metadata": {},
   "outputs": [],
   "source": [
    "# get all children in a dictionary including their respective weights (chains taken into account)\n",
    "def get_all_children(graph, parent, children_dict={}, carry=1):\n",
    "    weights = nx.get_edge_attributes(graph, 'weight')\n",
    "    for i in graph.out_edges(parent):\n",
    "        children_dict[i[1]] = carry*weights[i]\n",
    "        get_all_children(graph, i[1], children_dict=children_dict, carry=weights[i])\n",
    "    return children_dict"
   ]
  },
  {
   "cell_type": "code",
   "execution_count": 34,
   "metadata": {},
   "outputs": [
    {
     "name": "stdout",
     "output_type": "stream",
     "text": [
      "{'grass wet': 0.9, 'sidewalk wet': 0.75, 'person slipped': 0.30000000000000004}\n"
     ]
    }
   ],
   "source": [
    "# all children of rain\n",
    "print(get_all_children(DG, \"rain\", {}))"
   ]
  },
  {
   "cell_type": "code",
   "execution_count": 35,
   "metadata": {
    "scrolled": true
   },
   "outputs": [
    {
     "name": "stdout",
     "output_type": "stream",
     "text": [
      "{'grass wet': 0.8}\n"
     ]
    }
   ],
   "source": [
    "print(get_all_children(DG, \"sprinkler\", {}))"
   ]
  },
  {
   "cell_type": "code",
   "execution_count": 36,
   "metadata": {},
   "outputs": [],
   "source": [
    "# helper func to calculate the intersection\n",
    "def calculate_intersection(graph, children_a, children_b):\n",
    "    inter = 0\n",
    "    for i in children_a:\n",
    "        if i in children_b:\n",
    "            if children_a[i] < children_b[i]:\n",
    "                inter += children_a[i]\n",
    "            else:\n",
    "                inter += children_b[i]\n",
    "    return inter     "
   ]
  },
  {
   "cell_type": "code",
   "execution_count": 37,
   "metadata": {},
   "outputs": [],
   "source": [
    "# helper func to calculate the union using method 1\n",
    "def calculate_union_1(graph, children_a, children_b):\n",
    "    union = 0\n",
    "    for i in children_a:\n",
    "        union += children_a[i]\n",
    "    for i in children_b:\n",
    "        union += children_b[i]\n",
    "    union -= calculate_intersection(graph, children_a, children_b)\n",
    "    return union"
   ]
  },
  {
   "cell_type": "code",
   "execution_count": 38,
   "metadata": {},
   "outputs": [],
   "source": [
    "# helper func to calculate the union using method 1\n",
    "def calculate_union_2(graph, children_a, children_b):\n",
    "    union = 0\n",
    "    for i in children_a:\n",
    "        if i in children_b:\n",
    "            union += abs(children_a[i] - children_b[i])\n",
    "        else:\n",
    "            union += children_a[i]\n",
    "    for i in children_b:\n",
    "        if not i in children_a:\n",
    "            union += children_b[i]\n",
    "    return union"
   ]
  },
  {
   "cell_type": "code",
   "execution_count": 39,
   "metadata": {},
   "outputs": [],
   "source": [
    "# calculate the similarity, compares both methods\n",
    "def calculate_similarity(graph, node_a, node_b):\n",
    "    children_a = get_all_children(DG, node_a, {})\n",
    "    children_b = get_all_children(DG, node_b, {})\n",
    "    intersection = calculate_intersection(graph, children_a, children_b)\n",
    "    union_1 = calculate_union_1(graph, children_a, children_b)\n",
    "    union_2 = calculate_union_2(graph, children_a, children_b)\n",
    "    print(intersection)\n",
    "    print(union_1)\n",
    "    print(union_2)\n",
    "    results = {\"method 1\": intersection/union_1, \"method 2\": intersection/union_2}\n",
    "    return results"
   ]
  },
  {
   "cell_type": "code",
   "execution_count": 40,
   "metadata": {},
   "outputs": [
    {
     "name": "stdout",
     "output_type": "stream",
     "text": [
      "0.8\n",
      "1.95\n",
      "1.15\n"
     ]
    },
    {
     "data": {
      "text/plain": [
       "{'method 1': 0.4102564102564103, 'method 2': 0.6956521739130436}"
      ]
     },
     "execution_count": 40,
     "metadata": {},
     "output_type": "execute_result"
    }
   ],
   "source": [
    "calculate_similarity(DG, \"rain\", \"sprinkler\")"
   ]
  },
  {
   "cell_type": "markdown",
   "metadata": {},
   "source": [
    "## edit distance"
   ]
  },
  {
   "cell_type": "code",
   "execution_count": 13,
   "metadata": {},
   "outputs": [],
   "source": [
    "def find_node_children_subgraph(graph, snode, childgraph):\n",
    "    cnodes = graph.neighbors(snode)\n",
    "    edges = nx.edges(graph)\n",
    "    for i in cnodes:\n",
    "        childgraph.add_node(i)\n",
    "        childgraph.add_edge(snode, i)\n",
    "        childgraph = find_node_children_subgraph(graph, i, childgraph)\n",
    "    return childgraph"
   ]
  },
  {
   "cell_type": "code",
   "execution_count": 14,
   "metadata": {},
   "outputs": [
    {
     "name": "stdout",
     "output_type": "stream",
     "text": [
      "['sprinkler', 'grass wet']\n",
      "[('sprinkler', 'grass wet')]\n"
     ]
    },
    {
     "data": {
      "image/png": "[encoded data removed]",
      "text/plain": [
       "<Figure size 432x288 with 1 Axes>"
      ]
     },
     "metadata": {
      "needs_background": "light"
     },
     "output_type": "display_data"
    }
   ],
   "source": [
    "sprinkler_childgraph = nx.DiGraph()\n",
    "sprinkler_childgraph.add_node(\"sprinkler\")\n",
    "sprinkler_childgraph = find_node_children_subgraph(DG, \"sprinkler\", sprinkler_childgraph)\n",
    "print(list(sprinkler_childgraph.nodes))\n",
    "print(list(sprinkler_childgraph.edges))\n",
    "nx.draw_networkx(sprinkler_childgraph)"
   ]
  },
  {
   "cell_type": "code",
   "execution_count": 15,
   "metadata": {},
   "outputs": [
    {
     "name": "stdout",
     "output_type": "stream",
     "text": [
      "['rain', 'grass wet', 'sidewalk wet', 'person slipped']\n",
      "[('rain', 'grass wet'), ('rain', 'sidewalk wet'), ('sidewalk wet', 'person slipped')]\n"
     ]
    },
    {
     "data": {
      "image/png": "[encoded data removed]",
      "text/plain": [
       "<Figure size 432x288 with 1 Axes>"
      ]
     },
     "metadata": {
      "needs_background": "light"
     },
     "output_type": "display_data"
    }
   ],
   "source": [
    "rain_childgraph = nx.DiGraph()\n",
    "rain_childgraph.add_node(\"rain\")\n",
    "rain_childgraph = find_node_children_subgraph(DG, \"rain\", rain_childgraph)\n",
    "print(list(rain_childgraph.nodes))\n",
    "print(list(rain_childgraph.edges))\n",
    "nx.draw_networkx(rain_childgraph)"
   ]
  },
  {
   "cell_type": "code",
   "execution_count": 99,
   "metadata": {},
   "outputs": [],
   "source": [
    "# change graph_a to fit graph_b\n",
    "def new_edit_distance(graph, graph_a, graph_b):\n",
    "    b_nodes = nx.nodes(graph_b)\n",
    "    b_edges = nx.edges(graph_b)\n",
    "    a_nodes = nx.nodes(graph_a)\n",
    "    a_edges = nx.edges(graph_a)\n",
    "    weights = nx.get_edge_attributes(graph, 'weight')\n",
    "    edit_distance = 0\n",
    "    for i in b_edges:\n",
    "        print(\"i\" + str(i))\n",
    "        for x in a_edges:\n",
    "            print(\"x \" + str(x))\n",
    "            print((x[0], i[1]))\n",
    "            if (x[0], i[1]) in a_edges and (x[1] == i[1]):\n",
    "                edit_distance += abs(weights[(x[0], i[1])] - weights[i])\n",
    "                print(edit_distance)\n",
    "    return edit_distance"
   ]
  },
  {
   "cell_type": "code",
   "execution_count": 100,
   "metadata": {},
   "outputs": [
    {
     "name": "stdout",
     "output_type": "stream",
     "text": [
      "i('sprinkler', 'grass wet')\n",
      "x ('rain', 'grass wet')\n",
      "('rain', 'grass wet')\n",
      "0.09999999999999998\n",
      "x ('rain', 'sidewalk wet')\n",
      "('rain', 'grass wet')\n",
      "x ('sidewalk wet', 'person slipped')\n",
      "('sidewalk wet', 'grass wet')\n"
     ]
    },
    {
     "data": {
      "text/plain": [
       "0.09999999999999998"
      ]
     },
     "execution_count": 100,
     "metadata": {},
     "output_type": "execute_result"
    }
   ],
   "source": [
    "new_edit_distance(DG, rain_childgraph, sprinkler_childgraph)"
   ]
  },
  {
   "cell_type": "markdown",
   "metadata": {},
   "source": [
    "### edit distance with other similarity"
   ]
  },
  {
   "cell_type": "code",
   "execution_count": 54,
   "metadata": {},
   "outputs": [
    {
     "data": {
      "text/plain": [
       "7.0"
      ]
     },
     "execution_count": 54,
     "metadata": {},
     "output_type": "execute_result"
    }
   ],
   "source": [
    "G1 = nx.cycle_graph(6)\n",
    "G2 = nx.wheel_graph(7)\n",
    "nx.graph_edit_distance(G1, G2)"
   ]
  },
  {
   "cell_type": "code",
   "execution_count": 17,
   "metadata": {},
   "outputs": [
    {
     "data": {
      "text/plain": [
       "4.0"
      ]
     },
     "execution_count": 17,
     "metadata": {},
     "output_type": "execute_result"
    }
   ],
   "source": [
    "nx.graph_edit_distance(rain_childgraph, sprinkler_childgraph)"
   ]
  },
  {
   "cell_type": "markdown",
   "metadata": {},
   "source": [
    "## other similarity"
   ]
  },
  {
   "cell_type": "code",
   "execution_count": 18,
   "metadata": {},
   "outputs": [
    {
     "ename": "AttributeError",
     "evalue": "module 'networkx.algorithms.similarity' has no attribute 'simrank_similarity'",
     "output_type": "error",
     "traceback": [
      "\u001b[0;31m---------------------------------------------------------------------------\u001b[0m",
      "\u001b[0;31mAttributeError\u001b[0m                            Traceback (most recent call last)",
      "\u001b[0;32m<ipython-input-18-eafec3b578ba>\u001b[0m in \u001b[0;36m<module>\u001b[0;34m\u001b[0m\n\u001b[0;32m----> 1\u001b[0;31m \u001b[0mnx\u001b[0m\u001b[0;34m.\u001b[0m\u001b[0malgorithms\u001b[0m\u001b[0;34m.\u001b[0m\u001b[0msimilarity\u001b[0m\u001b[0;34m.\u001b[0m\u001b[0msimrank_similarity\u001b[0m\u001b[0;34m(\u001b[0m\u001b[0mDG\u001b[0m\u001b[0;34m,\u001b[0m \u001b[0msource\u001b[0m\u001b[0;34m=\u001b[0m\u001b[0;34m\"rain\"\u001b[0m\u001b[0;34m,\u001b[0m \u001b[0mtarget\u001b[0m\u001b[0;34m=\u001b[0m\u001b[0;34m\"sprinkler\"\u001b[0m\u001b[0;34m)\u001b[0m\u001b[0;34m\u001b[0m\u001b[0;34m\u001b[0m\u001b[0m\n\u001b[0m",
      "\u001b[0;31mAttributeError\u001b[0m: module 'networkx.algorithms.similarity' has no attribute 'simrank_similarity'"
     ]
    }
   ],
   "source": [
    "nx.algorithms.similarity.simrank_similarity(DG, source=\"rain\", target=\"sprinkler\")"
   ]
  },
  {
   "cell_type": "code",
   "execution_count": 19,
   "metadata": {},
   "outputs": [
    {
     "ename": "AttributeError",
     "evalue": "module 'networkx' has no attribute 'simrank_similarity'",
     "output_type": "error",
     "traceback": [
      "\u001b[0;31m---------------------------------------------------------------------------\u001b[0m",
      "\u001b[0;31mAttributeError\u001b[0m                            Traceback (most recent call last)",
      "\u001b[0;32m<ipython-input-19-2f7705657ff4>\u001b[0m in \u001b[0;36m<module>\u001b[0;34m\u001b[0m\n\u001b[0;32m----> 1\u001b[0;31m \u001b[0msim\u001b[0m \u001b[0;34m=\u001b[0m \u001b[0mnx\u001b[0m\u001b[0;34m.\u001b[0m\u001b[0msimrank_similarity\u001b[0m\u001b[0;34m(\u001b[0m\u001b[0mG\u001b[0m\u001b[0;34m)\u001b[0m\u001b[0;34m\u001b[0m\u001b[0;34m\u001b[0m\u001b[0m\n\u001b[0m",
      "\u001b[0;31mAttributeError\u001b[0m: module 'networkx' has no attribute 'simrank_similarity'"
     ]
    }
   ],
   "source": [
    "sim = nx.simrank_similarity(G)"
   ]
  },
  {
   "cell_type": "code",
   "execution_count": 20,
   "metadata": {},
   "outputs": [
    {
     "data": {
      "text/plain": [
       "{('rain', 'grass wet'): 0.9,\n",
       " ('rain', 'sidewalk wet'): 0.75,\n",
       " ('sprinkler', 'grass wet'): 0.8,\n",
       " ('sidewalk wet', 'person slipped'): 0.4}"
      ]
     },
     "execution_count": 20,
     "metadata": {},
     "output_type": "execute_result"
    }
   ],
   "source": [
    "weights = nx.get_edge_attributes(DG, 'weight')\n",
    "weights"
   ]
  },
  {
   "cell_type": "code",
   "execution_count": 21,
   "metadata": {},
   "outputs": [
    {
     "ename": "AttributeError",
     "evalue": "module 'networkx' has no attribute 'simrank_similarity_numpy'",
     "output_type": "error",
     "traceback": [
      "\u001b[0;31m---------------------------------------------------------------------------\u001b[0m",
      "\u001b[0;31mAttributeError\u001b[0m                            Traceback (most recent call last)",
      "\u001b[0;32m<ipython-input-21-8858909847b6>\u001b[0m in \u001b[0;36m<module>\u001b[0;34m\u001b[0m\n\u001b[1;32m      2\u001b[0m \u001b[0;32mfrom\u001b[0m \u001b[0mnumpy\u001b[0m \u001b[0;32mimport\u001b[0m \u001b[0marray\u001b[0m\u001b[0;34m\u001b[0m\u001b[0;34m\u001b[0m\u001b[0m\n\u001b[1;32m      3\u001b[0m \u001b[0mG\u001b[0m \u001b[0;34m=\u001b[0m \u001b[0mnx\u001b[0m\u001b[0;34m.\u001b[0m\u001b[0mcycle_graph\u001b[0m\u001b[0;34m(\u001b[0m\u001b[0;36m4\u001b[0m\u001b[0;34m)\u001b[0m\u001b[0;34m\u001b[0m\u001b[0;34m\u001b[0m\u001b[0m\n\u001b[0;32m----> 4\u001b[0;31m \u001b[0msim\u001b[0m \u001b[0;34m=\u001b[0m \u001b[0mnx\u001b[0m\u001b[0;34m.\u001b[0m\u001b[0msimrank_similarity_numpy\u001b[0m\u001b[0;34m(\u001b[0m\u001b[0mG\u001b[0m\u001b[0;34m)\u001b[0m\u001b[0;34m\u001b[0m\u001b[0;34m\u001b[0m\u001b[0m\n\u001b[0m",
      "\u001b[0;31mAttributeError\u001b[0m: module 'networkx' has no attribute 'simrank_similarity_numpy'"
     ]
    }
   ],
   "source": [
    "import networkx as nx\n",
    "from numpy import array\n",
    "G = nx.cycle_graph(4)\n",
    "sim = nx.simrank_similarity_numpy(G)"
   ]
  },
  {
   "cell_type": "code",
   "execution_count": null,
   "metadata": {},
   "outputs": [],
   "source": []
  }
 ],
 "metadata": {
  "kernelspec": {
   "display_name": "Python 3",
   "language": "python",
   "name": "python3"
  },
  "language_info": {
   "codemirror_mode": {
    "name": "ipython",
    "version": 3
   },
   "file_extension": ".py",
   "mimetype": "text/x-python",
   "name": "python",
   "nbconvert_exporter": "python",
   "pygments_lexer": "ipython3",
   "version": "3.7.3"
  }
 },
 "nbformat": 4,
 "nbformat_minor": 2
}
