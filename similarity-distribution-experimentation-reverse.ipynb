{
 "cells": [
  {
   "cell_type": "markdown",
   "metadata": {},
   "source": [
    "# Graphical Models: Similarity Distribution Experimentation"
   ]
  },
  {
   "cell_type": "code",
   "execution_count": 113,
   "metadata": {},
   "outputs": [],
   "source": [
    "# Import necessary libraries\n",
    "from sde import *\n",
    "from sklearn.datasets import make_blobs"
   ]
  },
  {
   "cell_type": "markdown",
   "metadata": {},
   "source": [
    "## Experiment"
   ]
  },
  {
   "cell_type": "markdown",
   "metadata": {},
   "source": [
    "### make directed graph"
   ]
  },
  {
   "cell_type": "code",
   "execution_count": 114,
   "metadata": {},
   "outputs": [
    {
     "name": "stdout",
     "output_type": "stream",
     "text": [
      "[(2, 4), (2, 0), (3, 4)]\n"
     ]
    }
   ],
   "source": [
    "g = makeDirectedGraph(5, 7)\n",
    "edges = nx.edges(g)\n",
    "\n",
    "print(edges)"
   ]
  },
  {
   "cell_type": "code",
   "execution_count": 115,
   "metadata": {},
   "outputs": [
    {
     "data": {
      "image/png": "[encoded data removed]",
      "text/plain": [
       "<Figure size 432x288 with 1 Axes>"
      ]
     },
     "metadata": {},
     "output_type": "display_data"
    }
   ],
   "source": [
    "nx.draw_networkx(g)"
   ]
  },
  {
   "cell_type": "code",
   "execution_count": 116,
   "metadata": {},
   "outputs": [
    {
     "name": "stdout",
     "output_type": "stream",
     "text": [
      "{(2, 4): 0.7185083937410041, (2, 0): 0.38880051316190123, (3, 4): 0.7126899046922631}\n"
     ]
    }
   ],
   "source": [
    "edge_weights = nx.get_edge_attributes(g, 'weight')\n",
    "print(edge_weights)"
   ]
  },
  {
   "cell_type": "code",
   "execution_count": 117,
   "metadata": {},
   "outputs": [],
   "source": [
    "# conditional prob P(A|B) = (likelihood*pior)/marginal prob\n",
    "# likelihood P(B|A). Likelihood = (conditional prob * marginal prob)/pior. Or, P(B|A) = P(A|B)P(B)/P(A)\n",
    "# prior P(A)\n",
    "# marginal prob P(B)\n",
    "\n",
    "def reverseEdgeWeight(conditional_prob):\n",
    "    '''Accepts a conditional probability value P(A|B), returns P(B|A) and a pair of values for P(A) and P(B) that\n",
    "        would be consistent with the given conditional probability and its reversed conditional probability.)'''\n",
    "    pior = random.uniform(0,1)\n",
    "    marginal_prob = random.uniform(0,1)\n",
    "    \n",
    "    likelihood = (conditional_prob*marginal_prob)/pior\n",
    "    known_conditional_prob = (prior*likelihood)/marginal_prob\n",
    "    \n",
    "    while (known_conditional_prob == conditional_prob):\n",
    "        reverseEdgeWeight(conditional_prob)\n",
    "    \n",
    "    return likelihood\n",
    "        "
   ]
  },
  {
   "cell_type": "code",
   "execution_count": 118,
   "metadata": {},
   "outputs": [
    {
     "name": "stdout",
     "output_type": "stream",
     "text": [
      "{(2, 4): 0.4095601096707423, (2, 0): 0.5573908214165543, (3, 4): 0.2689518444730685}\n",
      "{(0, 2): 0.5573908214165543, (4, 3): 0.2689518444730685, (4, 2): 0.4095601096707423}\n"
     ]
    },
    {
     "data": {
      "image/png": "[encoded data removed]",
      "text/plain": [
       "<Figure size 432x288 with 1 Axes>"
      ]
     },
     "metadata": {},
     "output_type": "display_data"
    }
   ],
   "source": [
    "def reverseWeightedDG(dg):\n",
    "    rdg = nx.reverse_view(dg)\n",
    "    \n",
    "    for e in dg.edges():\n",
    "        rdg[e[::-1][0]][e[::-1][1]]['weight'] = reverseEdgeWeight(dg[e[0]][e[1]]['weight'])\n",
    "        \n",
    "    print(nx.get_edge_attributes(dg, 'weight'))\n",
    "    print(nx.get_edge_attributes(rdg,'weight'))\n",
    "    return rdg\n",
    "\n",
    "\n",
    "\n",
    "g_reversed = reverseWeightedDG(g)\n",
    "nx.draw_networkx(g_reversed)"
   ]
  },
  {
   "cell_type": "code",
   "execution_count": 119,
   "metadata": {},
   "outputs": [
    {
     "name": "stdout",
     "output_type": "stream",
     "text": [
      "Reversed graph edge data: {(0, 2): 0.5573908214165543, (4, 3): 0.2689518444730685, (4, 2): 0.4095601096707423}\n"
     ]
    }
   ],
   "source": [
    "print('Reversed graph edge data:', nx.get_edge_attributes(g_reversed, 'weight'))"
   ]
  },
  {
   "cell_type": "code",
   "execution_count": 120,
   "metadata": {},
   "outputs": [
    {
     "name": "stdout",
     "output_type": "stream",
     "text": [
      "Original graph edge data: {(2, 4): 0.4095601096707423, (2, 0): 0.5573908214165543, (3, 4): 0.2689518444730685}\n"
     ]
    }
   ],
   "source": [
    "print('Original graph edge data:', nx.get_edge_attributes(g, 'weight'))"
   ]
  },
  {
   "cell_type": "markdown",
   "metadata": {},
   "source": [
    "# Similarity data"
   ]
  },
  {
   "cell_type": "markdown",
   "metadata": {},
   "source": [
    "Compare the similarity measures of a weighted graph and its reverse graph"
   ]
  },
  {
   "cell_type": "markdown",
   "metadata": {},
   "source": [
    "methods adapted from Nico's getSimilarityData function"
   ]
  },
  {
   "cell_type": "code",
   "execution_count": 121,
   "metadata": {},
   "outputs": [],
   "source": [
    "nodes = list(g.nodes)\n",
    "node_pairs = list(it.combinations(nodes, 2))\n",
    "\n",
    "nodes_reversed = list(g_reversed.nodes)\n",
    "node_pairs_reversed = list(it.combinations(nodes_reversed, 2))"
   ]
  },
  {
   "cell_type": "markdown",
   "metadata": {},
   "source": [
    "# Similarity method: Jaccard Index"
   ]
  },
  {
   "cell_type": "code",
   "execution_count": 122,
   "metadata": {},
   "outputs": [
    {
     "name": "stdout",
     "output_type": "stream",
     "text": [
      "[0, 0, 0.0, 0.0, 0.0, 0.0, 0, 0, 0.0, 0.0, 0.0, 0.0, 0, 0, 0.278144253060125, 0.278144253060125, 0.0, 0.0, 0.0, 0.0]\n"
     ]
    }
   ],
   "source": [
    "jindex_original = []\n",
    "for pair in node_pairs:\n",
    "    jindex_original.append(calculate_similarity(g, pair[0], pair[1])[\"method 1\"])\n",
    "    jindex_original.append(calculate_similarity(g, pair[1], pair[0])[\"method 1\"])\n",
    "    \n",
    "print(jindex_original)"
   ]
  },
  {
   "cell_type": "code",
   "execution_count": 123,
   "metadata": {},
   "outputs": [
    {
     "name": "stdout",
     "output_type": "stream",
     "text": [
      "[0.0, 0.0, 0.0, 0.0, 0.0, 0.0, 0.4956298719367451, 0.4956298719367451, 0, 0, 0, 0, 0.0, 0.0, 0, 0, 0.0, 0.0, 0.0, 0.0]\n"
     ]
    }
   ],
   "source": [
    "jindex_reversed = []\n",
    "for pair in node_pairs_reversed:\n",
    "    jindex_reversed.append(calculate_similarity(g_reversed, pair[0], pair[1])[\"method 1\"])\n",
    "    jindex_reversed.append(calculate_similarity(g_reversed, pair[1], pair[0])[\"method 1\"])\n",
    "    \n",
    "print(jindex_reversed)"
   ]
  },
  {
   "cell_type": "markdown",
   "metadata": {},
   "source": [
    "# Similarity method: Edit distance"
   ]
  },
  {
   "cell_type": "markdown",
   "metadata": {},
   "source": [
    "based on node children"
   ]
  },
  {
   "cell_type": "code",
   "execution_count": 124,
   "metadata": {},
   "outputs": [
    {
     "name": "stdout",
     "output_type": "stream",
     "text": [
      "[0, 0, 0, 1.0, 0, 1.0, 0, 0, 0, 1.0, 0, 1.0, 0, 0, 0.5703041325988369, 0.14060826519767378, 1.0, 0, 1.0, 0]\n"
     ]
    }
   ],
   "source": [
    "ed_immediate_sim = []\n",
    "for pair in node_pairs:\n",
    "    ed_immediate_sim.append(get_immediate_similarity(g, pair[0], pair[1]))\n",
    "    ed_immediate_sim.append(get_immediate_similarity(g, pair[1], pair[0]))\n",
    "    \n",
    "print(ed_immediate_sim)"
   ]
  },
  {
   "cell_type": "code",
   "execution_count": 125,
   "metadata": {},
   "outputs": [
    {
     "name": "stdout",
     "output_type": "stream",
     "text": [
      "[1.0, 0, 1.0, 0, 1.0, 0, 0.14783071174581197, 0.573915355872906, 0, 0, 0, 0, 0, 1.0, 0, 0, 0, 1.0, 0, 1.0]\n"
     ]
    }
   ],
   "source": [
    "ed_immediate_sim_reversed = []\n",
    "for pair in node_pairs_reversed:\n",
    "    ed_immediate_sim_reversed.append(get_immediate_similarity(g_reversed, pair[0], pair[1]))\n",
    "    ed_immediate_sim_reversed.append(get_immediate_similarity(g_reversed, pair[1], pair[0]))\n",
    "    \n",
    "print(ed_immediate_sim_reversed)"
   ]
  },
  {
   "cell_type": "markdown",
   "metadata": {},
   "source": [
    "based on node descendants"
   ]
  },
  {
   "cell_type": "code",
   "execution_count": 126,
   "metadata": {},
   "outputs": [
    {
     "name": "stdout",
     "output_type": "stream",
     "text": [
      "[0, 0, 0, 1.0, 0, 1.0, 0, 0, 0, 1.0, 0, 1.0, 0, 0, 0.5703041325988369, 0.14060826519767378, 1.0, 0, 1.0, 0]\n"
     ]
    }
   ],
   "source": [
    "ed_full_sim = []\n",
    "for pair in node_pairs:\n",
    "    ed_full_sim.append(get_full_similarity(g, pair[0], pair[1]))\n",
    "    ed_full_sim.append(get_full_similarity(g, pair[1], pair[0]))\n",
    "    \n",
    "print(ed_full_sim)"
   ]
  },
  {
   "cell_type": "code",
   "execution_count": 127,
   "metadata": {},
   "outputs": [
    {
     "name": "stdout",
     "output_type": "stream",
     "text": [
      "[1.0, 0, 1.0, 0, 1.0, 0, 0.14783071174581197, 0.573915355872906, 0, 0, 0, 0, 0, 1.0, 0, 0, 0, 1.0, 0, 1.0]\n"
     ]
    }
   ],
   "source": [
    "ed_full_sim_reversed = []\n",
    "for pair in node_pairs_reversed:\n",
    "    ed_full_sim_reversed.append(get_full_similarity(g_reversed, pair[0], pair[1]))\n",
    "    ed_full_sim_reversed.append(get_full_similarity(g_reversed, pair[1], pair[0]))\n",
    "    \n",
    "print(ed_full_sim_reversed)"
   ]
  },
  {
   "cell_type": "markdown",
   "metadata": {},
   "source": [
    "# Similarity method: Edit-distance (Networkx)"
   ]
  },
  {
   "cell_type": "code",
   "execution_count": 128,
   "metadata": {},
   "outputs": [
    {
     "data": {
      "text/plain": [
       "0.0"
      ]
     },
     "execution_count": 128,
     "metadata": {},
     "output_type": "execute_result"
    }
   ],
   "source": [
    "for v in nx.optimize_graph_edit_distance(g, g_reversed):\n",
    "    minv = v\n",
    "\n",
    "minv"
   ]
  },
  {
   "cell_type": "code",
   "execution_count": 129,
   "metadata": {},
   "outputs": [
    {
     "data": {
      "text/plain": [
       "<generator object optimize_edit_paths at 0x000001BEB7075248>"
      ]
     },
     "execution_count": 129,
     "metadata": {},
     "output_type": "execute_result"
    }
   ],
   "source": [
    "nx.optimize_edit_paths(g, g_reversed)"
   ]
  },
  {
   "cell_type": "code",
   "execution_count": 130,
   "metadata": {},
   "outputs": [
    {
     "data": {
      "text/plain": [
       "0.0"
      ]
     },
     "execution_count": 130,
     "metadata": {},
     "output_type": "execute_result"
    }
   ],
   "source": [
    "nx.graph_edit_distance(g, g_reversed)"
   ]
  }
 ],
 "metadata": {
  "kernelspec": {
   "display_name": "Python 3",
   "language": "python",
   "name": "python3"
  },
  "language_info": {
   "codemirror_mode": {
    "name": "ipython",
    "version": 3
   },
   "file_extension": ".py",
   "mimetype": "text/x-python",
   "name": "python",
   "nbconvert_exporter": "python",
   "pygments_lexer": "ipython3",
   "version": "3.7.4"
  }
 },
 "nbformat": 4,
 "nbformat_minor": 4
}
