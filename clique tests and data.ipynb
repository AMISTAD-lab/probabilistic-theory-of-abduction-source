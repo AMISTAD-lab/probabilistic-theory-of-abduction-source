{
 "cells": [
  {
   "cell_type": "markdown",
   "metadata": {},
   "source": [
    "# Graphical Models: Similarity Distribution Experimentation"
   ]
  },
  {
   "cell_type": "code",
   "execution_count": 39,
   "metadata": {},
   "outputs": [],
   "source": [
    "# Import necessary libraries\n",
    "from sde import *"
   ]
  },
  {
   "cell_type": "markdown",
   "metadata": {},
   "source": [
    "# Tests - Edit Distance"
   ]
  },
  {
   "cell_type": "code",
   "execution_count": 40,
   "metadata": {},
   "outputs": [],
   "source": [
    "def dgWithCliqs(num_cliq):   \n",
    "    #create DAG\n",
    "    rand_num_nodes = random.randint(num_cliq, num_cliq*3)\n",
    "    dg = makeDirectedGraph(rand_num_nodes, int(rand_num_nodes*1.5))\n",
    "    \n",
    "    #count num of cliques in graph\n",
    "    cliq_rem = clique.clique_removal(dg)\n",
    "    cliqCount = len(cliq_rem[1])   \n",
    "    \n",
    "    # remake graph if it doesn't match the input\n",
    "    if (cliqCount == num_cliq):\n",
    "        return dg\n",
    "    else:\n",
    "        return dgWithCliqs(num_cliq)"
   ]
  },
  {
   "cell_type": "code",
   "execution_count": 41,
   "metadata": {},
   "outputs": [
    {
     "data": {
      "image/png": "[encoded data removed]",
      "text/plain": [
       "<Figure size 432x288 with 1 Axes>"
      ]
     },
     "metadata": {},
     "output_type": "display_data"
    }
   ],
   "source": [
    "dg = dgWithCliqs(10)\n",
    "nx.draw_networkx(dg)"
   ]
  },
  {
   "cell_type": "markdown",
   "metadata": {},
   "source": [
    "Graph with 10 cliques"
   ]
  },
  {
   "cell_type": "code",
   "execution_count": 42,
   "metadata": {},
   "outputs": [
    {
     "name": "stdout",
     "output_type": "stream",
     "text": [
      "[({0, 1, 7}, {9, 2}), ({0, 1, 7}, {3, 5}), ({0, 1, 7}, {8, 4}), ({0, 1, 7}, {6}), ({0, 1, 7}, {10}), ({0, 1, 7}, {11}), ({0, 1, 7}, {12}), ({0, 1, 7}, {13}), ({0, 1, 7}, {14}), ({9, 2}, {3, 5}), ({9, 2}, {8, 4}), ({9, 2}, {6}), ({9, 2}, {10}), ({9, 2}, {11}), ({9, 2}, {12}), ({9, 2}, {13}), ({9, 2}, {14}), ({3, 5}, {8, 4}), ({3, 5}, {6}), ({3, 5}, {10}), ({3, 5}, {11}), ({3, 5}, {12}), ({3, 5}, {13}), ({3, 5}, {14}), ({8, 4}, {6}), ({8, 4}, {10}), ({8, 4}, {11}), ({8, 4}, {12}), ({8, 4}, {13}), ({8, 4}, {14}), ({6}, {10}), ({6}, {11}), ({6}, {12}), ({6}, {13}), ({6}, {14}), ({10}, {11}), ({10}, {12}), ({10}, {13}), ({10}, {14}), ({11}, {12}), ({11}, {13}), ({11}, {14}), ({12}, {13}), ({12}, {14}), ({13}, {14})]\n"
     ]
    }
   ],
   "source": [
    "maxCliqs = clique.clique_removal(dg)\n",
    "cliqueChoose2 = list(itertools.combinations(maxCliqs[1], 2))\n",
    "print(cliqueChoose2)"
   ]
  },
  {
   "cell_type": "code",
   "execution_count": 43,
   "metadata": {},
   "outputs": [
    {
     "name": "stdout",
     "output_type": "stream",
     "text": [
      "({0, 1, 7}, {9, 2}) 0.6990181250715076\n",
      "({0, 1, 7}, {3, 5}) 0.9171667292533089\n",
      "({0, 1, 7}, {8, 4}) 0.8651777652858911\n",
      "({0, 1, 7}, {6}) 1.0\n",
      "({0, 1, 7}, {10}) 1.0\n",
      "({0, 1, 7}, {11}) 1.0\n",
      "({0, 1, 7}, {12}) 1.0\n",
      "({0, 1, 7}, {13}) 1.0\n",
      "({0, 1, 7}, {14}) 1.0\n",
      "({9, 2}, {3, 5}) 0.760438440330617\n",
      "({9, 2}, {8, 4}) 1.0\n",
      "({9, 2}, {6}) 1.0\n",
      "({9, 2}, {10}) 1.0\n",
      "({9, 2}, {11}) 1.0\n",
      "({9, 2}, {12}) 1.0\n",
      "({9, 2}, {13}) 1.0\n",
      "({9, 2}, {14}) 1.0\n",
      "({3, 5}, {8, 4}) 0.7869771499879363\n",
      "({3, 5}, {6}) 0.8157015697205061\n",
      "({3, 5}, {10}) 1.0\n",
      "({3, 5}, {11}) 1.0\n",
      "({3, 5}, {12}) 1.0\n",
      "({3, 5}, {13}) 1.0\n",
      "({3, 5}, {14}) 1.0\n",
      "({8, 4}, {6}) 1.0\n",
      "({8, 4}, {10}) 1.0\n",
      "({8, 4}, {11}) 1.0\n",
      "({8, 4}, {12}) 1.0\n",
      "({8, 4}, {13}) 1.0\n",
      "({8, 4}, {14}) 1.0\n",
      "({6}, {10}) 1.0\n",
      "({6}, {11}) 1.0\n",
      "({6}, {12}) 1.0\n",
      "({6}, {13}) 1.0\n",
      "({6}, {14}) 1.0\n",
      "({10}, {11}) 0\n",
      "({10}, {12}) 0\n",
      "({10}, {13}) 0\n",
      "({10}, {14}) 0\n",
      "({11}, {12}) 1.0\n",
      "({11}, {13}) 1.0\n",
      "({11}, {14}) 1.0\n",
      "({12}, {13}) 0\n",
      "({12}, {14}) 0\n",
      "({13}, {14}) 1.0\n"
     ]
    }
   ],
   "source": [
    "cliq_imm_sim = []\n",
    "for pair in cliqueChoose2:\n",
    "    imm_sim = get_immediate_similarity(dg, pair[0], pair[1])\n",
    "    cliq_imm_sim.append(imm_sim)\n",
    "    print(pair, imm_sim)"
   ]
  },
  {
   "cell_type": "markdown",
   "metadata": {},
   "source": [
    "# Edit Distance, immediate similarity"
   ]
  },
  {
   "cell_type": "markdown",
   "metadata": {},
   "source": [
    "Between cliques"
   ]
  },
  {
   "cell_type": "code",
   "execution_count": 44,
   "metadata": {},
   "outputs": [],
   "source": [
    "#function that accepts a graph, returns a list of all the immediate similarity values between clique pairs. \n",
    "#Do the same for node pairs.\n",
    "\n",
    "def immSimCliqs(dg):\n",
    "    cliq_rem = clique.clique_removal(dg)\n",
    "    maxCliqs = cliq_rem[1]\n",
    "    cliqueChoose2 = list(itertools.combinations(maxCliqs, 2))\n",
    "    cliq_imm_sim = []\n",
    "    for pair in cliqueChoose2:\n",
    "        imm_sim = get_immediate_similarity(dg, pair[0], pair[1])\n",
    "        cliq_imm_sim.append(imm_sim)\n",
    "        #print(pair, imm_sim)\n",
    "    return cliq_imm_sim"
   ]
  },
  {
   "cell_type": "code",
   "execution_count": 45,
   "metadata": {},
   "outputs": [],
   "source": [
    "cliqNums = [10, 30, 50, 80]\n",
    "immSims = {}\n",
    "avgImmSims = {}\n",
    "\n",
    "for c in cliqNums:\n",
    "    dg = dgWithCliqs(c)\n",
    "    \n",
    "    immSimsVals = immSimCliqs(dg)\n",
    "    immSims[str(c) + ' cliques'] = immSimsVals\n",
    "    \n",
    "    avgIS = mean(immSimsVals)\n",
    "    avgImmSims[str(c)] = avgIS\n",
    "\n",
    "#print(immSims)\n",
    "#print(avgImmSims)"
   ]
  },
  {
   "cell_type": "code",
   "execution_count": 46,
   "metadata": {
    "scrolled": false
   },
   "outputs": [
    {
     "data": {
      "text/html": [
       "<div>\n",
       "<style scoped>\n",
       "    .dataframe tbody tr th:only-of-type {\n",
       "        vertical-align: middle;\n",
       "    }\n",
       "\n",
       "    .dataframe tbody tr th {\n",
       "        vertical-align: top;\n",
       "    }\n",
       "\n",
       "    .dataframe thead th {\n",
       "        text-align: right;\n",
       "    }\n",
       "</style>\n",
       "<table border=\"1\" class=\"dataframe\">\n",
       "  <thead>\n",
       "    <tr style=\"text-align: right;\">\n",
       "      <th></th>\n",
       "      <th>10 cliques</th>\n",
       "      <th>30 cliques</th>\n",
       "      <th>50 cliques</th>\n",
       "      <th>80 cliques</th>\n",
       "    </tr>\n",
       "  </thead>\n",
       "  <tbody>\n",
       "    <tr>\n",
       "      <td>0</td>\n",
       "      <td>1.000000</td>\n",
       "      <td>0.817556</td>\n",
       "      <td>1.0</td>\n",
       "      <td>1.000000</td>\n",
       "    </tr>\n",
       "    <tr>\n",
       "      <td>1</td>\n",
       "      <td>1.000000</td>\n",
       "      <td>0.861220</td>\n",
       "      <td>1.0</td>\n",
       "      <td>1.000000</td>\n",
       "    </tr>\n",
       "    <tr>\n",
       "      <td>2</td>\n",
       "      <td>0.623682</td>\n",
       "      <td>1.000000</td>\n",
       "      <td>1.0</td>\n",
       "      <td>1.000000</td>\n",
       "    </tr>\n",
       "    <tr>\n",
       "      <td>3</td>\n",
       "      <td>0.892786</td>\n",
       "      <td>0.814586</td>\n",
       "      <td>1.0</td>\n",
       "      <td>1.000000</td>\n",
       "    </tr>\n",
       "    <tr>\n",
       "      <td>4</td>\n",
       "      <td>1.000000</td>\n",
       "      <td>1.000000</td>\n",
       "      <td>1.0</td>\n",
       "      <td>0.732723</td>\n",
       "    </tr>\n",
       "    <tr>\n",
       "      <td>...</td>\n",
       "      <td>...</td>\n",
       "      <td>...</td>\n",
       "      <td>...</td>\n",
       "      <td>...</td>\n",
       "    </tr>\n",
       "    <tr>\n",
       "      <td>3155</td>\n",
       "      <td>NaN</td>\n",
       "      <td>NaN</td>\n",
       "      <td>NaN</td>\n",
       "      <td>1.000000</td>\n",
       "    </tr>\n",
       "    <tr>\n",
       "      <td>3156</td>\n",
       "      <td>NaN</td>\n",
       "      <td>NaN</td>\n",
       "      <td>NaN</td>\n",
       "      <td>1.000000</td>\n",
       "    </tr>\n",
       "    <tr>\n",
       "      <td>3157</td>\n",
       "      <td>NaN</td>\n",
       "      <td>NaN</td>\n",
       "      <td>NaN</td>\n",
       "      <td>0.000000</td>\n",
       "    </tr>\n",
       "    <tr>\n",
       "      <td>3158</td>\n",
       "      <td>NaN</td>\n",
       "      <td>NaN</td>\n",
       "      <td>NaN</td>\n",
       "      <td>0.000000</td>\n",
       "    </tr>\n",
       "    <tr>\n",
       "      <td>3159</td>\n",
       "      <td>NaN</td>\n",
       "      <td>NaN</td>\n",
       "      <td>NaN</td>\n",
       "      <td>1.000000</td>\n",
       "    </tr>\n",
       "  </tbody>\n",
       "</table>\n",
       "<p>3160 rows × 4 columns</p>\n",
       "</div>"
      ],
      "text/plain": [
       "      10 cliques  30 cliques  50 cliques  80 cliques\n",
       "0       1.000000    0.817556         1.0    1.000000\n",
       "1       1.000000    0.861220         1.0    1.000000\n",
       "2       0.623682    1.000000         1.0    1.000000\n",
       "3       0.892786    0.814586         1.0    1.000000\n",
       "4       1.000000    1.000000         1.0    0.732723\n",
       "...          ...         ...         ...         ...\n",
       "3155         NaN         NaN         NaN    1.000000\n",
       "3156         NaN         NaN         NaN    1.000000\n",
       "3157         NaN         NaN         NaN    0.000000\n",
       "3158         NaN         NaN         NaN    0.000000\n",
       "3159         NaN         NaN         NaN    1.000000\n",
       "\n",
       "[3160 rows x 4 columns]"
      ]
     },
     "execution_count": 46,
     "metadata": {},
     "output_type": "execute_result"
    }
   ],
   "source": [
    "immSim_df = pd.DataFrame({ key:pd.Series(value) for key, value in immSims.items() })\n",
    "immSim_df"
   ]
  },
  {
   "cell_type": "code",
   "execution_count": 47,
   "metadata": {},
   "outputs": [
    {
     "data": {
      "image/png": "[encoded data removed]",
      "text/plain": [
       "<Figure size 432x288 with 1 Axes>"
      ]
     },
     "metadata": {
      "needs_background": "light"
     },
     "output_type": "display_data"
    },
    {
     "data": {
      "image/png": "[encoded data removed]",
      "text/plain": [
       "<Figure size 432x288 with 1 Axes>"
      ]
     },
     "metadata": {
      "needs_background": "light"
     },
     "output_type": "display_data"
    },
    {
     "data": {
      "image/png": "[encoded data removed]",
      "text/plain": [
       "<Figure size 432x288 with 1 Axes>"
      ]
     },
     "metadata": {
      "needs_background": "light"
     },
     "output_type": "display_data"
    },
    {
     "data": {
      "image/png": "[encoded data removed]",
      "text/plain": [
       "<Figure size 432x288 with 1 Axes>"
      ]
     },
     "metadata": {
      "needs_background": "light"
     },
     "output_type": "display_data"
    }
   ],
   "source": [
    "# plot to compare immediate similarity values against number of cliques\n",
    "for key in immSims.keys():\n",
    "    plt.plot(list(immSims.get(key)))\n",
    "    plt.title(key)\n",
    "    plt.ylabel(\"Immediate Similarity between all cliques\")\n",
    "    plt.xlabel('Number of Nodes')\n",
    "    plt.show()"
   ]
  },
  {
   "cell_type": "code",
   "execution_count": 48,
   "metadata": {
    "scrolled": true
   },
   "outputs": [
    {
     "data": {
      "image/png": "[encoded data removed]",
      "text/plain": [
       "<Figure size 432x288 with 1 Axes>"
      ]
     },
     "metadata": {
      "needs_background": "light"
     },
     "output_type": "display_data"
    }
   ],
   "source": [
    "# bar chart to compare average immediate similarity values against number of cliques \n",
    "plt.bar(range(len(avgImmSims)), avgImmSims.values(), align='center')\n",
    "plt.xticks(range(len(avgImmSims)), list(avgImmSims.keys()))\n",
    "plt.ylabel('Average Immediate Similarity between all cliques')\n",
    "plt.xlabel('Number of cliques in graph')\n",
    "plt.show()\n"
   ]
  },
  {
   "cell_type": "markdown",
   "metadata": {},
   "source": [
    "For entire graphs"
   ]
  },
  {
   "cell_type": "code",
   "execution_count": 49,
   "metadata": {},
   "outputs": [],
   "source": [
    "cliqNums = [10, 30, 50, 80]\n",
    "graphImmSims = {}\n",
    "avgGraphIS = {}\n",
    "for c in cliqNums:\n",
    "    gm = dgWithCliqs(c)\n",
    "    node_list = list(gm.nodes)\n",
    "    node_pairs = list(it.combinations(node_list, 2))\n",
    "    \n",
    "    ed_imm_sim = []\n",
    "    for pair in node_pairs:\n",
    "        ed_imm_sim.append(get_immediate_similarity(gm, pair[0], pair[1]))\n",
    "        ed_imm_sim.append(get_immediate_similarity(gm, pair[1], pair[0]))\n",
    "        \n",
    "    graphImmSims[str(c)] = ed_imm_sim\n",
    "    avgGraphIS[str(c)] = mean(ed_imm_sim)"
   ]
  },
  {
   "cell_type": "code",
   "execution_count": 50,
   "metadata": {},
   "outputs": [
    {
     "data": {
      "text/html": [
       "<div>\n",
       "<style scoped>\n",
       "    .dataframe tbody tr th:only-of-type {\n",
       "        vertical-align: middle;\n",
       "    }\n",
       "\n",
       "    .dataframe tbody tr th {\n",
       "        vertical-align: top;\n",
       "    }\n",
       "\n",
       "    .dataframe thead th {\n",
       "        text-align: right;\n",
       "    }\n",
       "</style>\n",
       "<table border=\"1\" class=\"dataframe\">\n",
       "  <thead>\n",
       "    <tr style=\"text-align: right;\">\n",
       "      <th></th>\n",
       "      <th>10</th>\n",
       "      <th>30</th>\n",
       "      <th>50</th>\n",
       "      <th>80</th>\n",
       "    </tr>\n",
       "  </thead>\n",
       "  <tbody>\n",
       "    <tr>\n",
       "      <td>0</td>\n",
       "      <td>1.0</td>\n",
       "      <td>0.0</td>\n",
       "      <td>1.0</td>\n",
       "      <td>1.0</td>\n",
       "    </tr>\n",
       "    <tr>\n",
       "      <td>1</td>\n",
       "      <td>1.0</td>\n",
       "      <td>0.0</td>\n",
       "      <td>0.0</td>\n",
       "      <td>1.0</td>\n",
       "    </tr>\n",
       "    <tr>\n",
       "      <td>2</td>\n",
       "      <td>1.0</td>\n",
       "      <td>0.0</td>\n",
       "      <td>1.0</td>\n",
       "      <td>1.0</td>\n",
       "    </tr>\n",
       "    <tr>\n",
       "      <td>3</td>\n",
       "      <td>1.0</td>\n",
       "      <td>1.0</td>\n",
       "      <td>1.0</td>\n",
       "      <td>1.0</td>\n",
       "    </tr>\n",
       "    <tr>\n",
       "      <td>4</td>\n",
       "      <td>1.0</td>\n",
       "      <td>0.0</td>\n",
       "      <td>1.0</td>\n",
       "      <td>1.0</td>\n",
       "    </tr>\n",
       "    <tr>\n",
       "      <td>...</td>\n",
       "      <td>...</td>\n",
       "      <td>...</td>\n",
       "      <td>...</td>\n",
       "      <td>...</td>\n",
       "    </tr>\n",
       "    <tr>\n",
       "      <td>18085</td>\n",
       "      <td>NaN</td>\n",
       "      <td>NaN</td>\n",
       "      <td>NaN</td>\n",
       "      <td>1.0</td>\n",
       "    </tr>\n",
       "    <tr>\n",
       "      <td>18086</td>\n",
       "      <td>NaN</td>\n",
       "      <td>NaN</td>\n",
       "      <td>NaN</td>\n",
       "      <td>1.0</td>\n",
       "    </tr>\n",
       "    <tr>\n",
       "      <td>18087</td>\n",
       "      <td>NaN</td>\n",
       "      <td>NaN</td>\n",
       "      <td>NaN</td>\n",
       "      <td>1.0</td>\n",
       "    </tr>\n",
       "    <tr>\n",
       "      <td>18088</td>\n",
       "      <td>NaN</td>\n",
       "      <td>NaN</td>\n",
       "      <td>NaN</td>\n",
       "      <td>1.0</td>\n",
       "    </tr>\n",
       "    <tr>\n",
       "      <td>18089</td>\n",
       "      <td>NaN</td>\n",
       "      <td>NaN</td>\n",
       "      <td>NaN</td>\n",
       "      <td>1.0</td>\n",
       "    </tr>\n",
       "  </tbody>\n",
       "</table>\n",
       "<p>18090 rows × 4 columns</p>\n",
       "</div>"
      ],
      "text/plain": [
       "        10   30   50   80\n",
       "0      1.0  0.0  1.0  1.0\n",
       "1      1.0  0.0  0.0  1.0\n",
       "2      1.0  0.0  1.0  1.0\n",
       "3      1.0  1.0  1.0  1.0\n",
       "4      1.0  0.0  1.0  1.0\n",
       "...    ...  ...  ...  ...\n",
       "18085  NaN  NaN  NaN  1.0\n",
       "18086  NaN  NaN  NaN  1.0\n",
       "18087  NaN  NaN  NaN  1.0\n",
       "18088  NaN  NaN  NaN  1.0\n",
       "18089  NaN  NaN  NaN  1.0\n",
       "\n",
       "[18090 rows x 4 columns]"
      ]
     },
     "execution_count": 50,
     "metadata": {},
     "output_type": "execute_result"
    }
   ],
   "source": [
    "graphIS_df = pd.DataFrame({ key:pd.Series(value) for key, value in graphImmSims.items() })\n",
    "graphIS_df"
   ]
  },
  {
   "cell_type": "code",
   "execution_count": 51,
   "metadata": {},
   "outputs": [
    {
     "data": {
      "text/plain": [
       "'# plot to compare immediate similarity values against number of cliques\\nfor key in graphImmSims.keys():\\n    plt.plot(list(graphImmSims.get(key)))\\n    plt.title(key)\\n    plt.ylabel(\"Immediate Similarity\")\\n    plt.xlabel(\\'Number of Nodes\\')\\n    plt.show()'"
      ]
     },
     "execution_count": 51,
     "metadata": {},
     "output_type": "execute_result"
    }
   ],
   "source": [
    "\"\"\"# plot to compare immediate similarity values against number of cliques\n",
    "for key in graphImmSims.keys():\n",
    "    plt.plot(list(graphImmSims.get(key)))\n",
    "    plt.title(key)\n",
    "    plt.ylabel(\"Immediate Similarity\")\n",
    "    plt.xlabel('Number of Nodes')\n",
    "    plt.show()\"\"\""
   ]
  },
  {
   "cell_type": "code",
   "execution_count": 52,
   "metadata": {},
   "outputs": [
    {
     "data": {
      "image/png": "[encoded data removed]",
      "text/plain": [
       "<Figure size 432x288 with 1 Axes>"
      ]
     },
     "metadata": {
      "needs_background": "light"
     },
     "output_type": "display_data"
    }
   ],
   "source": [
    "# bar chart to compare average immediate similarity values against number of cliques \n",
    "plt.bar(range(len(avgGraphIS)), avgGraphIS.values(), align='center')\n",
    "plt.xticks(range(len(avgGraphIS)), list(avgGraphIS.keys()))\n",
    "plt.ylabel('Average Immediate Similarity')\n",
    "plt.xlabel('Number of cliques in graph')\n",
    "plt.show()"
   ]
  },
  {
   "cell_type": "markdown",
   "metadata": {},
   "source": [
    "# Edit distance, full similarity"
   ]
  },
  {
   "cell_type": "markdown",
   "metadata": {},
   "source": [
    "between all  cliques"
   ]
  },
  {
   "cell_type": "code",
   "execution_count": 53,
   "metadata": {},
   "outputs": [],
   "source": [
    "def fullSimCliqs(dg):\n",
    "    cliq_rem = clique.clique_removal(dg)\n",
    "    maxCliqs = cliq_rem[1]\n",
    "    cliqueChoose2 = list(itertools.combinations(maxCliqs, 2))\n",
    "    cliq_full_sim = []\n",
    "    for pair in cliqueChoose2:\n",
    "        fullSim = get_full_similarity(dg, pair[0], pair[1])\n",
    "        cliq_full_sim.append(fullSim)\n",
    "        #print(pair, imm_sim)\n",
    "    return cliq_full_sim"
   ]
  },
  {
   "cell_type": "code",
   "execution_count": null,
   "metadata": {},
   "outputs": [],
   "source": [
    "cliqNums = [10, 30, 50, 80]\n",
    "fullSims = {}\n",
    "avgFS = {}\n",
    "for c in cliqNums:\n",
    "    gm = dgWithCliqs(c)\n",
    "    node_list = list(gm.nodes)\n",
    "    node_pairs = list(it.combinations(node_list, 2))\n",
    "    \n",
    "    ed_full_sim = []\n",
    "    for pair in node_pairs:\n",
    "        ed_full_sim.append(get_full_similarity(gm, pair[0], pair[1]))\n",
    "        ed_full_sim.append(get_full_similarity(gm, pair[1], pair[0]))\n",
    "        \n",
    "    fullSims[str(c)] = ed_full_sim\n",
    "    avgFS[str(c)] = mean(ed_full_sim)"
   ]
  },
  {
   "cell_type": "code",
   "execution_count": null,
   "metadata": {},
   "outputs": [],
   "source": [
    "\"\"\"# plot to compare immediate similarity values against number of cliques\n",
    "for key in fullSims.keys():\n",
    "    plt.plot(list(fullSims.get(key)))\n",
    "    plt.title(key + ' cliques')\n",
    "    plt.ylabel(\"Full Similarity between cliques\")\n",
    "    plt.xlabel('Number of Nodes')\n",
    "    plt.show()\"\"\""
   ]
  },
  {
   "cell_type": "code",
   "execution_count": null,
   "metadata": {},
   "outputs": [],
   "source": [
    "# bar chart to compare average full similarity values against number of cliques \n",
    "plt.bar(range(len(avgFS)), avgFS.values(), align='center')\n",
    "plt.xticks(range(len(avgFS)), list(avgFS.keys()))\n",
    "plt.ylabel('Average Full Similarity')\n",
    "plt.xlabel('Number of cliques in graph')\n",
    "plt.show()\n"
   ]
  },
  {
   "cell_type": "code",
   "execution_count": null,
   "metadata": {},
   "outputs": [],
   "source": [
    "fullSims_df = pd.DataFrame({ key:pd.Series(value) for key, value in fullSims.items() })\n",
    "fullSims_df"
   ]
  },
  {
   "cell_type": "markdown",
   "metadata": {},
   "source": [
    "for entire graph"
   ]
  },
  {
   "cell_type": "code",
   "execution_count": null,
   "metadata": {},
   "outputs": [],
   "source": [
    "cliqNums = [10, 30, 50, 80]\n",
    "graphFS = {}\n",
    "avgGraphFS = {}\n",
    "for c in cliqNums:\n",
    "    gm = dgWithCliqs(c)\n",
    "    node_list = list(gm.nodes)\n",
    "    node_pairs = list(it.combinations(node_list, 2))\n",
    "    \n",
    "    graph_full_sim = []\n",
    "    for pair in node_pairs:\n",
    "        graph_full_sim.append(get_full_similarity(gm, pair[0], pair[1]))\n",
    "        graph_full_sim.append(get_full_similarity(gm, pair[1], pair[0]))\n",
    "        \n",
    "    graphFS[str(c)] = graph_full_sim\n",
    "    avgGraphFS[str(c)] = mean(graph_full_sim)"
   ]
  },
  {
   "cell_type": "code",
   "execution_count": null,
   "metadata": {},
   "outputs": [],
   "source": [
    "\"\"\"# plot to compare immediate similarity values against number of cliques\n",
    "for key in graphFS.keys():\n",
    "    plt.plot(list(graphFS.get(key)))\n",
    "    plt.title(key + ' cliques')\n",
    "    plt.ylabel(\"Full Similarity\")\n",
    "    plt.xlabel('Number of Nodes')\n",
    "    plt.show()\"\"\""
   ]
  },
  {
   "cell_type": "code",
   "execution_count": null,
   "metadata": {},
   "outputs": [],
   "source": [
    "# bar chart to compare average full similarity values against number of cliques \n",
    "plt.bar(range(len(avgGraphFS)), avgGraphFS.values(), align='center')\n",
    "plt.xticks(range(len(avgGraphFS)), list(avgGraphFS.keys()))\n",
    "plt.ylabel('Average Full Similarity')\n",
    "plt.xlabel('Number of cliques in graph')\n",
    "plt.show()\n"
   ]
  },
  {
   "cell_type": "code",
   "execution_count": null,
   "metadata": {},
   "outputs": [],
   "source": [
    "graphFS_df = pd.DataFrame({ key:pd.Series(value) for key, value in graphFS.items() })\n",
    "graphFS_df"
   ]
  },
  {
   "cell_type": "code",
   "execution_count": null,
   "metadata": {},
   "outputs": [],
   "source": []
  },
  {
   "cell_type": "markdown",
   "metadata": {},
   "source": [
    "# Similarity method: Jaccard Index"
   ]
  },
  {
   "cell_type": "code",
   "execution_count": null,
   "metadata": {},
   "outputs": [],
   "source": [
    "cliqNums = [10, 30, 50]\n",
    "jindices = {}\n",
    "avgJI = {}\n",
    "for c in cliqNums:\n",
    "    gm = dgWithCliqs(c)\n",
    "    node_list = list(gm.nodes)\n",
    "    node_pairs = list(it.combinations(node_list, 2))\n",
    "    print(node_pairs)\n",
    "    \n",
    "    ji_sim_1 = []\n",
    "    for pair in node_pairs:\n",
    "        ji_sim_1.append(calculate_jaccard_similarity(gm, pair[0], pair[1])[\"method 1\"])\n",
    "        ji_sim_1.append(calculate_jaccard_similarity(gm, pair[1], pair[0])[\"method 1\"])\n",
    "        \n",
    "    jindices[str(c)] = ji_sim_1\n",
    "    avgJI[str(c)] = mean(ji_sim_1)"
   ]
  },
  {
   "cell_type": "code",
   "execution_count": null,
   "metadata": {},
   "outputs": [],
   "source": [
    "# plot to compare Jaccard similarity against number of cliques\n",
    "for key in jindices.keys():\n",
    "    plt.plot(list(jindices.get(key)))\n",
    "    plt.title(key + ' cliques')\n",
    "    plt.ylabel(\"Jaccard Index\")\n",
    "    plt.xlabel('Number of Nodes')\n",
    "    plt.show()"
   ]
  },
  {
   "cell_type": "code",
   "execution_count": null,
   "metadata": {},
   "outputs": [],
   "source": [
    "# bar chart to compare average Jaccard similarity against number of cliques \n",
    "plt.bar(range(len(avgJI)), avgJI.values(), align='center')\n",
    "plt.xticks(range(len(avgJI)), list(avgJI.keys()))\n",
    "plt.ylabel('Average Jaccard Index')\n",
    "plt.xlabel('Number of cliques in graph')\n",
    "plt.show()"
   ]
  },
  {
   "cell_type": "code",
   "execution_count": null,
   "metadata": {},
   "outputs": [],
   "source": [
    "jindices_df = pd.DataFrame({ key:pd.Series(value) for key, value in jindices.items() })\n",
    "jindices_df"
   ]
  }
 ],
 "metadata": {
  "kernelspec": {
   "display_name": "Python 3",
   "language": "python",
   "name": "python3"
  },
  "language_info": {
   "codemirror_mode": {
    "name": "ipython",
    "version": 3
   },
   "file_extension": ".py",
   "mimetype": "text/x-python",
   "name": "python",
   "nbconvert_exporter": "python",
   "pygments_lexer": "ipython3",
   "version": "3.7.4"
  }
 },
 "nbformat": 4,
 "nbformat_minor": 4
}
