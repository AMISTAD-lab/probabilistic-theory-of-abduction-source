{
 "cells": [
  {
   "cell_type": "markdown",
   "metadata": {},
   "source": [
    "# Graphical Models: Similarity Distribution Experimentation"
   ]
  },
  {
   "cell_type": "code",
   "execution_count": 1,
   "metadata": {},
   "outputs": [],
   "source": [
    "# Import necessary libraries\n",
    "import networkx as nx\n",
    "from networkx.algorithms import approximation\n",
    "from networkx.algorithms.approximation import independent_set, clique\n",
    "import matplotlib.pyplot as plt\n",
    "import random, itertools as it\n",
    "from scipy.special import comb\n",
    "import pandas as pd\n",
    "import numpy as np"
   ]
  },
  {
   "cell_type": "markdown",
   "metadata": {},
   "source": [
    "## Similarity Implementations"
   ]
  },
  {
   "cell_type": "markdown",
   "metadata": {},
   "source": [
    "### General Methods"
   ]
  },
  {
   "cell_type": "code",
   "execution_count": 2,
   "metadata": {},
   "outputs": [],
   "source": [
    "# get all children in a dictionary including their respective weights (chains taken into account)\n",
    "def get_all_children(graph, parent, children_dict={}, carry=1):\n",
    "    weights = nx.get_edge_attributes(graph, 'weight')\n",
    "    for i in graph.out_edges(parent):\n",
    "        children_dict[i[1]] = carry*weights[i]\n",
    "        get_all_children(graph, i[1], children_dict=children_dict, carry=weights[i])\n",
    "    return children_dict"
   ]
  },
  {
   "cell_type": "code",
   "execution_count": 3,
   "metadata": {},
   "outputs": [],
   "source": [
    "# (Adapted from function above)\n",
    "# Get all children in a dictionary including their respective weights (chains taken into account)\n",
    "def get_descendants(graph, parent, children_dict={}, carry=1):\n",
    "    weights = nx.get_edge_attributes(graph, 'weight')\n",
    "    \n",
    "    for i in graph.out_edges(parent):\n",
    "        children_dict[i[1]] = carry*weights[i]\n",
    "        get_descendants(graph, i[1], children_dict=children_dict, carry=weights[i])\n",
    "    \n",
    "    return children_dict"
   ]
  },
  {
   "cell_type": "code",
   "execution_count": 4,
   "metadata": {},
   "outputs": [],
   "source": [
    "# Returns children of a single node\n",
    "def get_children(gm, parent):\n",
    "    children_weights = {}\n",
    "    weights = nx.get_edge_attributes(gm, 'weight')\n",
    "    \n",
    "    for i in gm.out_edges(parent):\n",
    "        children_weights[i[1]] = weights[i]\n",
    "\n",
    "    return children_weights"
   ]
  },
  {
   "cell_type": "code",
   "execution_count": 5,
   "metadata": {},
   "outputs": [],
   "source": [
    "def find_node_children_subgraph(graph, snode, childgraph):\n",
    "    cnodes = graph.neighbors(snode)\n",
    "    edges = nx.edges(graph)\n",
    "    for i in cnodes:\n",
    "        childgraph.add_node(i)\n",
    "        childgraph.add_edge(snode, i)\n",
    "        childgraph = find_node_children_subgraph(graph, i, childgraph)\n",
    "    return childgraph"
   ]
  },
  {
   "cell_type": "markdown",
   "metadata": {},
   "source": [
    "### Jaccard Index"
   ]
  },
  {
   "cell_type": "code",
   "execution_count": 6,
   "metadata": {},
   "outputs": [],
   "source": [
    "# all children of rain\n",
    "def calculate_intersection(graph, children_a, children_b):\n",
    "    inter = 0\n",
    "    for i in children_a:\n",
    "        if i in children_b:\n",
    "            if children_a[i] < children_b[i]:\n",
    "                inter += children_a[i]\n",
    "            else:\n",
    "                inter += children_b[i]\n",
    "    return inter  "
   ]
  },
  {
   "cell_type": "code",
   "execution_count": 7,
   "metadata": {},
   "outputs": [],
   "source": [
    "# helper func to calculate the union using method 1\n",
    "def calculate_union_1(graph, children_a, children_b):\n",
    "    union = 0\n",
    "    for i in children_a:\n",
    "        union += children_a[i]\n",
    "    for i in children_b:\n",
    "        union += children_b[i]\n",
    "    union -= calculate_intersection(graph, children_a, children_b)\n",
    "    return union"
   ]
  },
  {
   "cell_type": "code",
   "execution_count": 8,
   "metadata": {},
   "outputs": [],
   "source": [
    "# helper func to calculate the union using method 2\n",
    "def calculate_union_2(graph, children_a, children_b):\n",
    "    union = 0\n",
    "    for i in children_a:\n",
    "        if i in children_b:\n",
    "            union += abs(children_a[i] - children_b[i])\n",
    "        else:\n",
    "            union += children_a[i]\n",
    "    for i in children_b:\n",
    "        if not i in children_a:\n",
    "            union += children_b[i]\n",
    "    return union"
   ]
  },
  {
   "cell_type": "code",
   "execution_count": 9,
   "metadata": {},
   "outputs": [],
   "source": [
    "# calculate the similarity, compares both methods\n",
    "def calculate_similarity(graph, node_a, node_b):\n",
    "    children_a = get_all_children(graph, node_a, {})\n",
    "    children_b = get_all_children(graph, node_b, {})\n",
    "    intersection = calculate_intersection(graph, children_a, children_b)\n",
    "    union_1 = calculate_union_1(graph, children_a, children_b)\n",
    "    union_2 = calculate_union_2(graph, children_a, children_b)\n",
    "    \n",
    "    method_1_results = 0\n",
    "    method_2_results = 0\n",
    "    \n",
    "    if union_1 != 0:\n",
    "        method_1_results = intersection/union_1\n",
    "    if union_2 != 0:\n",
    "        method_2_results = intersection/union_2\n",
    "        \n",
    "    results = {\"method 1\": method_1_results, \"method 2\": method_2_results}\n",
    "    \n",
    "    return results"
   ]
  },
  {
   "cell_type": "markdown",
   "metadata": {},
   "source": [
    "### Edit-Distance"
   ]
  },
  {
   "cell_type": "markdown",
   "metadata": {},
   "source": [
    "Edit-distance similarity implementation based only on a node's children."
   ]
  },
  {
   "cell_type": "code",
   "execution_count": 10,
   "metadata": {},
   "outputs": [],
   "source": [
    "# Returns the similarity of node B compared to node A, based on \n",
    "# children\n",
    "def get_immediate_similarity(gm, A, B):\n",
    "    cost = 0.0\n",
    "    A_children = get_children(gm, A)\n",
    "    B_children = get_children(gm, B)\n",
    "    \n",
    "    if len(A_children) > 0:\n",
    "        for child in A_children:\n",
    "            if child in B_children:\n",
    "                diff = abs(A_children[child] - B_children[child])\n",
    "                cost += diff\n",
    "            else:\n",
    "                cost += 1\n",
    "\n",
    "        return cost / len(A_children)\n",
    "    \n",
    "    else:\n",
    "        return 0"
   ]
  },
  {
   "cell_type": "code",
   "execution_count": 11,
   "metadata": {},
   "outputs": [],
   "source": [
    "# Returns the node that is most similar to the input node\n",
    "def find_most_immediate_similar(gm, A):\n",
    "    nodes = list(gm.nodes)\n",
    "    nodes.remove(A)\n",
    "    \n",
    "    max_similarity = get_immediate_similarity(gm, A, nodes[0])\n",
    "    max_sim_node = nodes[0]\n",
    "    for node in nodes:\n",
    "        node_similarity = get_immediate_similarity(gm, A, node)\n",
    "        \n",
    "        if node_similarity < max_similarity:\n",
    "            max_sim_node = node\n",
    "            max_similarity = node_similarity\n",
    "    \n",
    "    return max_sim_node"
   ]
  },
  {
   "cell_type": "markdown",
   "metadata": {},
   "source": [
    "Edit-distance similarity implementation based on all descendants of a node."
   ]
  },
  {
   "cell_type": "code",
   "execution_count": 12,
   "metadata": {},
   "outputs": [],
   "source": [
    "# Returns the similarity of node B compared to node A\n",
    "def get_full_similarity(gm, A, B):\n",
    "    cost = 0.0\n",
    "    A_children = get_descendants(gm, A, {}, 1)\n",
    "    B_children = get_descendants(gm, B, {}, 1)\n",
    "    \n",
    "    if len(A_children) > 0:\n",
    "        for child in A_children:\n",
    "            if child in B_children:\n",
    "                diff = abs(A_children[child] - B_children[child])\n",
    "                cost += diff\n",
    "            else:\n",
    "                cost += 1\n",
    "\n",
    "        return cost / len(A_children)\n",
    "    \n",
    "    else:\n",
    "        return 0\n",
    "\n",
    "# Optional print line in for loop for debugging: \n",
    "# print(child, A_children[child], B_children[child])"
   ]
  },
  {
   "cell_type": "code",
   "execution_count": 13,
   "metadata": {},
   "outputs": [],
   "source": [
    "# Returns the node that is most similar to the input node\n",
    "def find_most_similar(gm, A):\n",
    "    nodes = list(gm.nodes)\n",
    "    nodes.remove(A)\n",
    "    \n",
    "    max_similarity = get_full_similarity(gm, A, nodes[0])\n",
    "    max_sim_node = nodes[0]\n",
    "    for node in nodes:\n",
    "        node_similarity = get_full_similarity(gm, A, node)\n",
    "        \n",
    "        if node_similarity < max_similarity:\n",
    "            max_sim_node = node\n",
    "            max_similarity = node_similarity\n",
    "    \n",
    "    return max_sim_node"
   ]
  },
  {
   "cell_type": "markdown",
   "metadata": {},
   "source": [
    "### NetworkX: Edit-Distance"
   ]
  },
  {
   "cell_type": "code",
   "execution_count": 14,
   "metadata": {},
   "outputs": [],
   "source": [
    "# nx.graph_edit_distance(Graph1, Graph2)"
   ]
  },
  {
   "cell_type": "markdown",
   "metadata": {},
   "source": [
    "### NetworkX: SimRank"
   ]
  },
  {
   "cell_type": "code",
   "execution_count": 15,
   "metadata": {},
   "outputs": [],
   "source": [
    "# nx.algorithms.similarity.simrank_similarity(graph, source=\"node_a\", target=\"node_b\")"
   ]
  },
  {
   "cell_type": "markdown",
   "metadata": {},
   "source": [
    "## Generating Random Directed Graphs"
   ]
  },
  {
   "cell_type": "code",
   "execution_count": 16,
   "metadata": {},
   "outputs": [],
   "source": [
    "def addNodes(gm, num_nodes):\n",
    "    node_list = []\n",
    "    \n",
    "    for i in range(num_nodes):\n",
    "        gm.add_node(i)\n",
    "\n",
    "    return gm"
   ]
  },
  {
   "cell_type": "code",
   "execution_count": 17,
   "metadata": {},
   "outputs": [],
   "source": [
    "# NOTE: This function does not have functionality implemented yet that \n",
    "# prevents cycles from occurring\n",
    "def addEdges(gm, num_nodes, num_edges):\n",
    "    for i in range(num_edges):\n",
    "        parent = random.randrange(num_nodes)\n",
    "        child = random.randrange(num_nodes)\n",
    "        \n",
    "        conditional_prob = random.uniform(0, 1)\n",
    "        gm.add_edge(parent, child, weight=conditional_prob)\n",
    "            \n",
    "        if not nx.is_directed_acyclic_graph(gm):\n",
    "            gm.remove_edge(parent, child)\n",
    "        \n",
    "    return gm"
   ]
  },
  {
   "cell_type": "code",
   "execution_count": 18,
   "metadata": {},
   "outputs": [],
   "source": [
    "# def find_paths(graph, start, end, path=[]):\n",
    "#     if start == end:\n",
    "#         return path\n",
    "    \n",
    "#     children = get_children(graph, start)\n",
    "    \n",
    "#     for node in children:\n",
    "#         find_paths(graph, start)"
   ]
  },
  {
   "cell_type": "code",
   "execution_count": 19,
   "metadata": {},
   "outputs": [],
   "source": [
    "def makeDirectedGraph(num_nodes, num_edges):\n",
    "    dg = nx.DiGraph() # creates directed graph\n",
    "    dg = addNodes(dg, num_nodes)\n",
    "    dg = addEdges(dg, num_nodes, num_edges)\n",
    "    return dg"
   ]
  },
  {
   "cell_type": "code",
   "execution_count": 20,
   "metadata": {},
   "outputs": [],
   "source": [
    "dg = makeDirectedGraph(3, 15)"
   ]
  },
  {
   "cell_type": "code",
   "execution_count": 21,
   "metadata": {},
   "outputs": [
    {
     "data": {
      "image/png": "[encoded data removed]",
      "text/plain": [
       "<Figure size 432x288 with 1 Axes>"
      ]
     },
     "metadata": {},
     "output_type": "display_data"
    }
   ],
   "source": [
    "nx.draw_networkx(dg)"
   ]
  },
  {
   "cell_type": "markdown",
   "metadata": {},
   "source": [
    "## Running Experiments"
   ]
  },
  {
   "cell_type": "code",
   "execution_count": 22,
   "metadata": {},
   "outputs": [],
   "source": [
    "def getSimilarityData(gm):\n",
    "    node_list = list(gm.nodes)\n",
    "    node_pairs = list(it.combinations(node_list, 2))\n",
    "\n",
    "    ed_immediate_sim, ed_full_sim, ji_sim_1, ji_sim_2 = [], [], [], []\n",
    "\n",
    "    for pair in node_pairs:\n",
    "        ed_immediate_sim.append(get_immediate_similarity(gm, pair[0], pair[1]))\n",
    "        ed_immediate_sim.append(get_immediate_similarity(gm, pair[1], pair[0]))\n",
    "\n",
    "        ed_full_sim.append(get_full_similarity(gm, pair[0], pair[1]))\n",
    "        ed_full_sim.append(get_full_similarity(gm, pair[1], pair[0]))\n",
    "\n",
    "        ji_sim_1.append(calculate_similarity(gm, pair[0], pair[1])[\"method 1\"])\n",
    "        ji_sim_1.append(calculate_similarity(gm, pair[1], pair[0])[\"method 1\"])\n",
    "\n",
    "        ji_sim_2.append(calculate_similarity(gm, pair[0], pair[1])[\"method 2\"])\n",
    "        ji_sim_2.append(calculate_similarity(gm, pair[1], pair[0])[\"method 2\"])\n",
    "\n",
    "    similarity_data = {\"Edit-Distance Immediate Similarity\": ed_immediate_sim, \"Edit-Distance Full Similarity\": ed_full_sim,\n",
    "           \"Jaccard Index Similarity (Method 1)\": ji_sim_1, \"Jaccard Index Similarity (Method 2)\": ji_sim_2}\n",
    "        \n",
    "    return similarity_data"
   ]
  },
  {
   "cell_type": "code",
   "execution_count": 23,
   "metadata": {},
   "outputs": [],
   "source": [
    "def getCliqueData(gm):\n",
    "    node_list = list(gm.nodes)\n",
    "    num_rows = len(list(it.combinations(node_list, 2))) * 2\n",
    "    \n",
    "    longest_max_indep_set = len(independent_set.maximum_independent_set(gm))\n",
    "    max_cliques = list(clique.clique_removal(gm)[1]) * num_rows\n",
    "    num_max_cliques = len(max_cliques)\n",
    "    longest_max_clique = len(max_cliques[0])\n",
    "    \n",
    "    clique_data = {\"Longest Maximum Independent Set\": [longest_max_indep_set] * num_rows,\n",
    "                   \"Number of Maximum Cliques\": [num_max_cliques] * num_rows, \n",
    "                   \"Longest Maximum Clique\": [longest_max_clique] * num_rows}\n",
    "    \n",
    "    return clique_data"
   ]
  },
  {
   "cell_type": "code",
   "execution_count": 24,
   "metadata": {},
   "outputs": [],
   "source": [
    "def runExperiment(num_graphs, num_nodes, num_edges): \n",
    "    graph_df_list = []\n",
    "    \n",
    "    for i in range(num_graphs):\n",
    "        dg = makeDirectedGraph(num_nodes, num_edges)\n",
    "        \n",
    "        similarity_data = getSimilarityData(dg)\n",
    "        clique_data = getCliqueData(dg)\n",
    "                \n",
    "        similarity_data.update(clique_data)\n",
    "                        \n",
    "        graph_df = pd.DataFrame(data = similarity_data)\n",
    "        \n",
    "        graph_df_list.append(graph_df)\n",
    "    \n",
    "    return graph_df_list"
   ]
  },
  {
   "cell_type": "code",
   "execution_count": 25,
   "metadata": {},
   "outputs": [],
   "source": [
    "# new_experiment_data = runExperiment(30, 100, 150)\n",
    "# new_experiment_data[0]"
   ]
  },
  {
   "cell_type": "code",
   "execution_count": 26,
   "metadata": {},
   "outputs": [],
   "source": [
    "#experiment_data = runExperiment(25, 100, 100)\n",
    "\n",
    "# This block is commented because it takes over 7 minutes to runExperiment() on that large of a graph (100 nodes)"
   ]
  },
  {
   "cell_type": "markdown",
   "metadata": {},
   "source": [
    "### Condensing Data"
   ]
  },
  {
   "cell_type": "code",
   "execution_count": 27,
   "metadata": {},
   "outputs": [],
   "source": [
    "# condenseExperimentData() takes the output of runExperiment as an input.\n",
    "# Returns a DataFrame consisting of averages for each similarity index\n",
    "def condenseExperimentData(experiment_data):\n",
    "    ed_immediate_sim_avgs, ed_full_sim_avgs, ji_sim_1_avgs, ji_sim_2_avgs = [], [], [], []\n",
    "    longest_max_ind_set_avgs, num_max_cliques_avgs, longest_max_clique_avgs = [], [], []\n",
    "    \n",
    "    for graph_df in experiment_data:\n",
    "        graph_avgs = graph_df.mean(axis=0)\n",
    "        ed_immediate_sim_avgs.append(graph_avgs[\"Edit-Distance Immediate Similarity\"])\n",
    "        ed_full_sim_avgs.append(graph_avgs[\"Edit-Distance Full Similarity\"])\n",
    "        ji_sim_1_avgs.append(graph_avgs[\"Jaccard Index Similarity (Method 1)\"])\n",
    "        ji_sim_2_avgs.append(graph_avgs[\"Jaccard Index Similarity (Method 2)\"])\n",
    "        longest_max_ind_set_avgs.append(graph_avgs[\"Longest Maximum Independent Set\"])\n",
    "        num_max_cliques_avgs.append(graph_avgs[\"Number of Maximum Cliques\"])\n",
    "        longest_max_clique_avgs.append(graph_avgs[\"Longest Maximum Clique\"])\n",
    "        \n",
    "    condensed_data = {\"Edit-Distance Immediate Similarity Averages\": ed_immediate_sim_avgs,\n",
    "                     \"Edit-Distance Full Similarity Averages\": ed_full_sim_avgs,\n",
    "                     \"Jaccard Index Similarity (Method 1) Averages\": ji_sim_1_avgs,\n",
    "                     \"Jaccard Index Similarity (Method 2) Averages\": ji_sim_2_avgs,\n",
    "                     \"Longest Maximum Independent Set\": longest_max_ind_set_avgs,\n",
    "                     \"Number of Maximum Cliques\": num_max_cliques_avgs,\n",
    "                     \"Longest Maximum Clique\": longest_max_clique_avgs}\n",
    "    condensed_df = pd.DataFrame(data = condensed_data)\n",
    "    \n",
    "    return condensed_df"
   ]
  },
  {
   "cell_type": "code",
   "execution_count": 29,
   "metadata": {},
   "outputs": [],
   "source": [
    "# condensed_df = condenseExperimentData(new_experiment_data)\n",
    "# condensed_df"
   ]
  },
  {
   "cell_type": "markdown",
   "metadata": {},
   "source": [
    "### Running Multiple Experiments"
   ]
  },
  {
   "cell_type": "code",
   "execution_count": 30,
   "metadata": {},
   "outputs": [],
   "source": [
    "nodes_to_edges_factor = 1.5\n",
    "def runMultipleExperiments(num_graphs, start_num_nodes, end_num_nodes, step):\n",
    "    experiments_df = pd.DataFrame(columns = [\"Nodes\", \"Edit-Distance Immediate Similarity\",\n",
    "                                            \"Edit-Distance Full Similarity\",\n",
    "                                            \"Jaccard Index Similarity (Method 1)\",\n",
    "                                            \"Jaccard Index Similarity (Method 2)\",\n",
    "                                            \"Longest Maximum Independent Set\",\n",
    "                                            \"Number of Maximum Cliques\",\n",
    "                                            \"Longest Maximum Clique\"])\n",
    "    \n",
    "    for num_nodes in range(start_num_nodes, end_num_nodes, step):\n",
    "        num_edges = int(num_nodes * 1.5)\n",
    "        experiment_data = runExperiment(num_graphs, num_nodes, num_edges)\n",
    "        condensed_data = condenseData(experiment_data)\n",
    "        condensed_data_avgs = condensed_data.mean(axis=0)\n",
    "        experiments_df.append({\"Nodes\": num_nodes,\n",
    "                              \"Edit-Distance Immediate Similarity\": condensed_data_avgs[\"Edit-Distance Immediate Similarity\"],\n",
    "                                \"Edit-Distance Full Similarity\": condensed_data_avgs[\"Edit-Distance Full Similarity\"],\n",
    "                                \"Jaccard Index Similarity (Method 1)\": condensed_data_avgs[\"Jaccard Index Similarity (Method 1)\"],\n",
    "                                \"Jaccard Index Similarity (Method 2)\": condensed_data_avgs[\"Jaccard Index Similarity (Method 2)\"],\n",
    "                                \"Longest Maximum Independent Set\": condensed_data_avgs[\"Longest Maximum Independent Set\"],\n",
    "                                \"Number of Maximum Cliques\": condensed_data_avgs[\"Number of Maximum Cliques\"],\n",
    "                                \"Longest Maximum Clique\": condensed_data_avgs[\"Longest Maximum Clique\"]}, ignore_index=True)\n",
    "    \n",
    "    return experiments_df    "
   ]
  },
  {
   "cell_type": "code",
   "execution_count": null,
   "metadata": {},
   "outputs": [],
   "source": []
  },
  {
   "cell_type": "code",
   "execution_count": 31,
   "metadata": {},
   "outputs": [],
   "source": [
    "# runMultipleExperiments(5, 5, 8, 1)"
   ]
  },
  {
   "cell_type": "markdown",
   "metadata": {},
   "source": [
    "## Exporting Data"
   ]
  },
  {
   "cell_type": "code",
   "execution_count": 33,
   "metadata": {},
   "outputs": [],
   "source": [
    "# condensed_df.to_csv(\"Data/similarity-distribution-experiment.csv\", index=True)"
   ]
  },
  {
   "cell_type": "code",
   "execution_count": null,
   "metadata": {},
   "outputs": [],
   "source": []
  },
  {
   "cell_type": "markdown",
   "metadata": {},
   "source": [
    "## Analysis"
   ]
  },
  {
   "cell_type": "markdown",
   "metadata": {},
   "source": [
    "### Distribution Over Varying Graph Sizes"
   ]
  },
  {
   "cell_type": "code",
   "execution_count": 70,
   "metadata": {},
   "outputs": [],
   "source": [
    "graph_size_dist = pd.read_csv(\"Data/graph-size-distrubtion.csv\")"
   ]
  },
  {
   "cell_type": "code",
   "execution_count": 71,
   "metadata": {},
   "outputs": [
    {
     "data": {
      "text/html": [
       "<div>\n",
       "<style scoped>\n",
       "    .dataframe tbody tr th:only-of-type {\n",
       "        vertical-align: middle;\n",
       "    }\n",
       "\n",
       "    .dataframe tbody tr th {\n",
       "        vertical-align: top;\n",
       "    }\n",
       "\n",
       "    .dataframe thead th {\n",
       "        text-align: right;\n",
       "    }\n",
       "</style>\n",
       "<table border=\"1\" class=\"dataframe\">\n",
       "  <thead>\n",
       "    <tr style=\"text-align: right;\">\n",
       "      <th></th>\n",
       "      <th>Unnamed: 0</th>\n",
       "      <th>Nodes</th>\n",
       "      <th>Edit-Distance Immediate Similarity</th>\n",
       "      <th>Edit-Distance Full Similarity</th>\n",
       "      <th>Jaccard Index Similarity (Method 1)</th>\n",
       "      <th>Jaccard Index Similarity (Method 2)</th>\n",
       "      <th>Longest Maximum Independent Set</th>\n",
       "      <th>Number of Maximum Cliques</th>\n",
       "      <th>Longest Maximum Clique</th>\n",
       "    </tr>\n",
       "  </thead>\n",
       "  <tbody>\n",
       "    <tr>\n",
       "      <th>0</th>\n",
       "      <td>0</td>\n",
       "      <td>10.0</td>\n",
       "      <td>0.653422</td>\n",
       "      <td>0.479448</td>\n",
       "      <td>0.089758</td>\n",
       "      <td>0.173120</td>\n",
       "      <td>6.6</td>\n",
       "      <td>522.0</td>\n",
       "      <td>2.5</td>\n",
       "    </tr>\n",
       "    <tr>\n",
       "      <th>1</th>\n",
       "      <td>1</td>\n",
       "      <td>20.0</td>\n",
       "      <td>0.665182</td>\n",
       "      <td>0.453034</td>\n",
       "      <td>0.103801</td>\n",
       "      <td>0.206921</td>\n",
       "      <td>13.3</td>\n",
       "      <td>4522.0</td>\n",
       "      <td>2.6</td>\n",
       "    </tr>\n",
       "    <tr>\n",
       "      <th>2</th>\n",
       "      <td>2</td>\n",
       "      <td>30.0</td>\n",
       "      <td>0.714407</td>\n",
       "      <td>0.494676</td>\n",
       "      <td>0.103747</td>\n",
       "      <td>7.012973</td>\n",
       "      <td>18.7</td>\n",
       "      <td>14964.0</td>\n",
       "      <td>2.7</td>\n",
       "    </tr>\n",
       "    <tr>\n",
       "      <th>3</th>\n",
       "      <td>3</td>\n",
       "      <td>40.0</td>\n",
       "      <td>0.715919</td>\n",
       "      <td>0.495509</td>\n",
       "      <td>0.107598</td>\n",
       "      <td>0.269176</td>\n",
       "      <td>24.9</td>\n",
       "      <td>38064.0</td>\n",
       "      <td>2.7</td>\n",
       "    </tr>\n",
       "    <tr>\n",
       "      <th>4</th>\n",
       "      <td>4</td>\n",
       "      <td>50.0</td>\n",
       "      <td>0.738622</td>\n",
       "      <td>0.529536</td>\n",
       "      <td>0.095964</td>\n",
       "      <td>0.259155</td>\n",
       "      <td>30.7</td>\n",
       "      <td>73990.0</td>\n",
       "      <td>2.7</td>\n",
       "    </tr>\n",
       "  </tbody>\n",
       "</table>\n",
       "</div>"
      ],
      "text/plain": [
       "   Unnamed: 0  Nodes  Edit-Distance Immediate Similarity  \\\n",
       "0           0   10.0                            0.653422   \n",
       "1           1   20.0                            0.665182   \n",
       "2           2   30.0                            0.714407   \n",
       "3           3   40.0                            0.715919   \n",
       "4           4   50.0                            0.738622   \n",
       "\n",
       "   Edit-Distance Full Similarity  Jaccard Index Similarity (Method 1)  \\\n",
       "0                       0.479448                             0.089758   \n",
       "1                       0.453034                             0.103801   \n",
       "2                       0.494676                             0.103747   \n",
       "3                       0.495509                             0.107598   \n",
       "4                       0.529536                             0.095964   \n",
       "\n",
       "   Jaccard Index Similarity (Method 2)  Longest Maximum Independent Set  \\\n",
       "0                             0.173120                              6.6   \n",
       "1                             0.206921                             13.3   \n",
       "2                             7.012973                             18.7   \n",
       "3                             0.269176                             24.9   \n",
       "4                             0.259155                             30.7   \n",
       "\n",
       "   Number of Maximum Cliques  Longest Maximum Clique  \n",
       "0                      522.0                     2.5  \n",
       "1                     4522.0                     2.6  \n",
       "2                    14964.0                     2.7  \n",
       "3                    38064.0                     2.7  \n",
       "4                    73990.0                     2.7  "
      ]
     },
     "execution_count": 71,
     "metadata": {},
     "output_type": "execute_result"
    }
   ],
   "source": [
    "graph_size_dist.head()"
   ]
  },
  {
   "cell_type": "code",
   "execution_count": 79,
   "metadata": {},
   "outputs": [
    {
     "data": {
      "image/png": "[encoded data removed]",
      "text/plain": [
       "<Figure size 432x288 with 1 Axes>"
      ]
     },
     "metadata": {
      "needs_background": "light"
     },
     "output_type": "display_data"
    }
   ],
   "source": [
    "plt.plot(graph_size_dist[\"Nodes\"], graph_size_dist[\"Edit-Distance Immediate Similarity\"], label = \"Edit-Distance Immediate Similarity\")\n",
    "plt.plot(graph_size_dist[\"Nodes\"], graph_size_dist[\"Edit-Distance Full Similarity\"], label = \"Edit-Distance Full Similarity\")\n",
    "plt.plot(graph_size_dist[\"Nodes\"], graph_size_dist[\"Jaccard Index Similarity (Method 1)\"], label = \"Jaccard Index Similarity (Method 1)\")\n",
    "\n",
    "plt.xlabel('Size of Graph (Number of Nodes)')\n",
    "plt.ylabel('Similarity')\n",
    "plt.title('Similarity vs. Size of Graph')\n",
    "plt.legend()\n",
    "\n",
    "plt.show()"
   ]
  },
  {
   "cell_type": "code",
   "execution_count": 80,
   "metadata": {},
   "outputs": [
    {
     "data": {
      "image/png": "[encoded data removed]",
      "text/plain": [
       "<Figure size 432x288 with 1 Axes>"
      ]
     },
     "metadata": {
      "needs_background": "light"
     },
     "output_type": "display_data"
    }
   ],
   "source": [
    "plt.plot(graph_size_dist[\"Nodes\"], graph_size_dist[\"Longest Maximum Independent Set\"], label = \"Longest Maximum Independent Set\")\n",
    "\n",
    "plt.xlabel('Size of Graph (Number of Nodes)')\n",
    "plt.ylabel('Longest Maximum Independent Set')\n",
    "plt.title('Longest Maximum Independent Set vs. Size of Graph')\n",
    "plt.legend()\n",
    "\n",
    "plt.show()"
   ]
  },
  {
   "cell_type": "code",
   "execution_count": 85,
   "metadata": {},
   "outputs": [
    {
     "data": {
      "image/png": "[encoded data removed]",
      "text/plain": [
       "<Figure size 432x288 with 1 Axes>"
      ]
     },
     "metadata": {
      "needs_background": "light"
     },
     "output_type": "display_data"
    }
   ],
   "source": [
    "plt.plot(graph_size_dist[\"Nodes\"], graph_size_dist[\"Number of Maximum Cliques\"], label = \"Number of Maximum Cliques\")\n",
    "\n",
    "plt.xlabel('Size of Graph (Number of Nodes)')\n",
    "plt.ylabel('Number of Maximum Cliques')\n",
    "plt.title('Number of Maximum Cliques vs. Size of Graph')\n",
    "plt.legend()\n",
    "\n",
    "plt.show()"
   ]
  },
  {
   "cell_type": "code",
   "execution_count": 86,
   "metadata": {},
   "outputs": [
    {
     "data": {
      "image/png": "[encoded data removed]",
      "text/plain": [
       "<Figure size 432x288 with 1 Axes>"
      ]
     },
     "metadata": {
      "needs_background": "light"
     },
     "output_type": "display_data"
    }
   ],
   "source": [
    "plt.plot(graph_size_dist[\"Nodes\"], graph_size_dist[\"Longest Maximum Clique\"], label = \"Longest Maximum Clique\")\n",
    "\n",
    "plt.xlabel('Size of Graph (Number of Nodes)')\n",
    "plt.ylabel('Longest Maximum Clique')\n",
    "plt.title('Longest Maximum Clique vs. Size of Graph')\n",
    "plt.legend()\n",
    "\n",
    "plt.show()"
   ]
  },
  {
   "cell_type": "code",
   "execution_count": 87,
   "metadata": {},
   "outputs": [
    {
     "data": {
      "image/png": "[encoded data removed]",
      "text/plain": [
       "<Figure size 432x288 with 1 Axes>"
      ]
     },
     "metadata": {
      "needs_background": "light"
     },
     "output_type": "display_data"
    }
   ],
   "source": [
    "plt.plot(graph_size_dist[\"Number of Maximum Cliques\"], graph_size_dist[\"Edit-Distance Full Similarity\"], label = \"Edit-Distance Full Similarity\")\n",
    "\n",
    "plt.xlabel('Number of Maximum Cliques')\n",
    "plt.ylabel('Edit-Distance Full Similarity')\n",
    "plt.title('Edit-Distance Full Similarity vs. Number of Maximum Cliques')\n",
    "plt.legend()\n",
    "\n",
    "plt.show()"
   ]
  },
  {
   "cell_type": "markdown",
   "metadata": {},
   "source": [
    "### Distribution of Similarity Over Random Graphs of Constant Size"
   ]
  },
  {
   "cell_type": "code",
   "execution_count": 89,
   "metadata": {},
   "outputs": [],
   "source": [
    "sim_dist = pd.read_csv(\"Data/similarity-distribution.csv\")"
   ]
  },
  {
   "cell_type": "code",
   "execution_count": 93,
   "metadata": {},
   "outputs": [
    {
     "data": {
      "text/html": [
       "<div>\n",
       "<style scoped>\n",
       "    .dataframe tbody tr th:only-of-type {\n",
       "        vertical-align: middle;\n",
       "    }\n",
       "\n",
       "    .dataframe tbody tr th {\n",
       "        vertical-align: top;\n",
       "    }\n",
       "\n",
       "    .dataframe thead th {\n",
       "        text-align: right;\n",
       "    }\n",
       "</style>\n",
       "<table border=\"1\" class=\"dataframe\">\n",
       "  <thead>\n",
       "    <tr style=\"text-align: right;\">\n",
       "      <th></th>\n",
       "      <th>Unnamed: 0</th>\n",
       "      <th>Edit-Distance Immediate Similarity Averages</th>\n",
       "      <th>Edit-Distance Full Similarity Averages</th>\n",
       "      <th>Jaccard Index Similarity (Method 1) Averages</th>\n",
       "      <th>Jaccard Index Similarity (Method 2) Averages</th>\n",
       "      <th>Longest Maximum Independent Set</th>\n",
       "      <th>Number of Maximum Cliques</th>\n",
       "      <th>Longest Maximum Clique</th>\n",
       "    </tr>\n",
       "  </thead>\n",
       "  <tbody>\n",
       "    <tr>\n",
       "      <th>0</th>\n",
       "      <td>0</td>\n",
       "      <td>0.771123</td>\n",
       "      <td>0.507950</td>\n",
       "      <td>0.130620</td>\n",
       "      <td>0.270659</td>\n",
       "      <td>19.0</td>\n",
       "      <td>15660.0</td>\n",
       "      <td>3.0</td>\n",
       "    </tr>\n",
       "    <tr>\n",
       "      <th>1</th>\n",
       "      <td>1</td>\n",
       "      <td>0.710505</td>\n",
       "      <td>0.427227</td>\n",
       "      <td>0.128153</td>\n",
       "      <td>0.366689</td>\n",
       "      <td>18.0</td>\n",
       "      <td>14790.0</td>\n",
       "      <td>3.0</td>\n",
       "    </tr>\n",
       "    <tr>\n",
       "      <th>2</th>\n",
       "      <td>2</td>\n",
       "      <td>0.650641</td>\n",
       "      <td>0.520339</td>\n",
       "      <td>0.067644</td>\n",
       "      <td>0.122713</td>\n",
       "      <td>19.0</td>\n",
       "      <td>16530.0</td>\n",
       "      <td>2.0</td>\n",
       "    </tr>\n",
       "    <tr>\n",
       "      <th>3</th>\n",
       "      <td>3</td>\n",
       "      <td>0.713761</td>\n",
       "      <td>0.457566</td>\n",
       "      <td>0.148226</td>\n",
       "      <td>0.653264</td>\n",
       "      <td>17.0</td>\n",
       "      <td>13920.0</td>\n",
       "      <td>2.0</td>\n",
       "    </tr>\n",
       "    <tr>\n",
       "      <th>4</th>\n",
       "      <td>4</td>\n",
       "      <td>0.677776</td>\n",
       "      <td>0.508908</td>\n",
       "      <td>0.081907</td>\n",
       "      <td>0.161411</td>\n",
       "      <td>18.0</td>\n",
       "      <td>16530.0</td>\n",
       "      <td>3.0</td>\n",
       "    </tr>\n",
       "  </tbody>\n",
       "</table>\n",
       "</div>"
      ],
      "text/plain": [
       "   Unnamed: 0  Edit-Distance Immediate Similarity Averages  \\\n",
       "0           0                                     0.771123   \n",
       "1           1                                     0.710505   \n",
       "2           2                                     0.650641   \n",
       "3           3                                     0.713761   \n",
       "4           4                                     0.677776   \n",
       "\n",
       "   Edit-Distance Full Similarity Averages  \\\n",
       "0                                0.507950   \n",
       "1                                0.427227   \n",
       "2                                0.520339   \n",
       "3                                0.457566   \n",
       "4                                0.508908   \n",
       "\n",
       "   Jaccard Index Similarity (Method 1) Averages  \\\n",
       "0                                      0.130620   \n",
       "1                                      0.128153   \n",
       "2                                      0.067644   \n",
       "3                                      0.148226   \n",
       "4                                      0.081907   \n",
       "\n",
       "   Jaccard Index Similarity (Method 2) Averages  \\\n",
       "0                                      0.270659   \n",
       "1                                      0.366689   \n",
       "2                                      0.122713   \n",
       "3                                      0.653264   \n",
       "4                                      0.161411   \n",
       "\n",
       "   Longest Maximum Independent Set  Number of Maximum Cliques  \\\n",
       "0                             19.0                    15660.0   \n",
       "1                             18.0                    14790.0   \n",
       "2                             19.0                    16530.0   \n",
       "3                             17.0                    13920.0   \n",
       "4                             18.0                    16530.0   \n",
       "\n",
       "   Longest Maximum Clique  \n",
       "0                     3.0  \n",
       "1                     3.0  \n",
       "2                     2.0  \n",
       "3                     2.0  \n",
       "4                     3.0  "
      ]
     },
     "execution_count": 93,
     "metadata": {},
     "output_type": "execute_result"
    }
   ],
   "source": [
    "sim_dist.head()"
   ]
  },
  {
   "cell_type": "code",
   "execution_count": 95,
   "metadata": {},
   "outputs": [
    {
     "data": {
      "text/plain": [
       "<matplotlib.axes._subplots.AxesSubplot at 0xa170c9cd0>"
      ]
     },
     "execution_count": 95,
     "metadata": {},
     "output_type": "execute_result"
    },
    {
     "data": {
      "image/png": "[encoded data removed]",
      "text/plain": [
       "<Figure size 432x288 with 1 Axes>"
      ]
     },
     "metadata": {
      "needs_background": "light"
     },
     "output_type": "display_data"
    }
   ],
   "source": [
    "sim_dist.plot(kind='line', y=['Edit-Distance Immediate Similarity Averages', 'Edit-Distance Full Similarity Averages'], color=['red', 'blue'])\n"
   ]
  },
  {
   "cell_type": "code",
   "execution_count": 97,
   "metadata": {},
   "outputs": [
    {
     "data": {
      "text/plain": [
       "<matplotlib.axes._subplots.AxesSubplot at 0xa17025bd0>"
      ]
     },
     "execution_count": 97,
     "metadata": {},
     "output_type": "execute_result"
    },
    {
     "data": {
      "image/png": "[encoded data removed]",
      "text/plain": [
       "<Figure size 432x288 with 1 Axes>"
      ]
     },
     "metadata": {
      "needs_background": "light"
     },
     "output_type": "display_data"
    }
   ],
   "source": [
    "sim_dist.plot(kind='line', y='Jaccard Index Similarity (Method 1) Averages', color = 'red')"
   ]
  },
  {
   "cell_type": "code",
   "execution_count": null,
   "metadata": {},
   "outputs": [],
   "source": []
  }
 ],
 "metadata": {
  "kernelspec": {
   "display_name": "Python 3",
   "language": "python",
   "name": "python3"
  },
  "language_info": {
   "codemirror_mode": {
    "name": "ipython",
    "version": 3
   },
   "file_extension": ".py",
   "mimetype": "text/x-python",
   "name": "python",
   "nbconvert_exporter": "python",
   "pygments_lexer": "ipython3",
   "version": "3.7.7"
  }
 },
 "nbformat": 4,
 "nbformat_minor": 4
}
