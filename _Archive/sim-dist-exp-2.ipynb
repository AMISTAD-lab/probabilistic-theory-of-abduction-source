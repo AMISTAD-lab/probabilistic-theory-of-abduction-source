{
 "cells": [
  {
   "cell_type": "markdown",
   "metadata": {},
   "source": [
    "# Graphical Models: Similarity Distribution Experimentation"
   ]
  },
  {
   "cell_type": "code",
   "execution_count": 1,
   "metadata": {},
   "outputs": [],
   "source": [
    "# Import necessary libraries\n",
    "import networkx as nx\n",
    "from networkx.algorithms import approximation\n",
    "from networkx.algorithms.approximation import independent_set, clique\n",
    "import matplotlib.pyplot as plt\n",
    "import random, itertools as it\n",
    "from scipy.special import comb\n",
    "import pandas as pd\n",
    "import numpy as np"
   ]
  },
  {
   "cell_type": "markdown",
   "metadata": {},
   "source": [
    "## Similarity Implementations"
   ]
  },
  {
   "cell_type": "markdown",
   "metadata": {},
   "source": [
    "### General Methods"
   ]
  },
  {
   "cell_type": "code",
   "execution_count": 2,
   "metadata": {},
   "outputs": [],
   "source": [
    "# get all children in a dictionary including their respective weights (chains taken into account)\n",
    "def get_all_children(graph, parent, children_dict={}, carry=1):\n",
    "    weights = nx.get_edge_attributes(graph, 'weight')\n",
    "    for i in graph.out_edges(parent):\n",
    "        children_dict[i[1]] = carry*weights[i]\n",
    "        get_all_children(graph, i[1], children_dict=children_dict, carry=weights[i])\n",
    "    return children_dict"
   ]
  },
  {
   "cell_type": "code",
   "execution_count": 3,
   "metadata": {},
   "outputs": [],
   "source": [
    "# (Adapted from function above)\n",
    "# Get all children in a dictionary including their respective weights (chains taken into account)\n",
    "def get_descendants(graph, parent, children_dict={}, carry=1):\n",
    "    weights = nx.get_edge_attributes(graph, 'weight')\n",
    "    \n",
    "    for i in graph.out_edges(parent):\n",
    "        children_dict[i[1]] = carry*weights[i]\n",
    "        get_descendants(graph, i[1], children_dict=children_dict, carry=weights[i])\n",
    "    \n",
    "    return children_dict"
   ]
  },
  {
   "cell_type": "code",
   "execution_count": 4,
   "metadata": {},
   "outputs": [],
   "source": [
    "# Returns children of a single node\n",
    "def get_children(gm, parent):\n",
    "    children_weights = {}\n",
    "    weights = nx.get_edge_attributes(gm, 'weight')\n",
    "    \n",
    "    for i in gm.out_edges(parent):\n",
    "        children_weights[i[1]] = weights[i]\n",
    "\n",
    "    return children_weights"
   ]
  },
  {
   "cell_type": "code",
   "execution_count": 5,
   "metadata": {},
   "outputs": [],
   "source": [
    "def find_node_children_subgraph(graph, snode, childgraph):\n",
    "    cnodes = graph.neighbors(snode)\n",
    "    edges = nx.edges(graph)\n",
    "    for i in cnodes:\n",
    "        childgraph.add_node(i)\n",
    "        childgraph.add_edge(snode, i)\n",
    "        childgraph = find_node_children_subgraph(graph, i, childgraph)\n",
    "    return childgraph"
   ]
  },
  {
   "cell_type": "markdown",
   "metadata": {},
   "source": [
    "### Jaccard Index"
   ]
  },
  {
   "cell_type": "code",
   "execution_count": 6,
   "metadata": {},
   "outputs": [],
   "source": [
    "# all children of rain\n",
    "def calculate_intersection(graph, children_a, children_b):\n",
    "    inter = 0\n",
    "    for i in children_a:\n",
    "        if i in children_b:\n",
    "            if children_a[i] < children_b[i]:\n",
    "                inter += children_a[i]\n",
    "            else:\n",
    "                inter += children_b[i]\n",
    "    return inter  "
   ]
  },
  {
   "cell_type": "code",
   "execution_count": 7,
   "metadata": {},
   "outputs": [],
   "source": [
    "# helper func to calculate the union using method 1\n",
    "def calculate_union_1(graph, children_a, children_b):\n",
    "    union = 0\n",
    "    for i in children_a:\n",
    "        union += children_a[i]\n",
    "    for i in children_b:\n",
    "        union += children_b[i]\n",
    "    union -= calculate_intersection(graph, children_a, children_b)\n",
    "    return union"
   ]
  },
  {
   "cell_type": "code",
   "execution_count": 8,
   "metadata": {},
   "outputs": [],
   "source": [
    "# helper func to calculate the union using method 2\n",
    "def calculate_union_2(graph, children_a, children_b):\n",
    "    union = 0\n",
    "    for i in children_a:\n",
    "        if i in children_b:\n",
    "            union += abs(children_a[i] - children_b[i])\n",
    "        else:\n",
    "            union += children_a[i]\n",
    "    for i in children_b:\n",
    "        if not i in children_a:\n",
    "            union += children_b[i]\n",
    "    return union"
   ]
  },
  {
   "cell_type": "code",
   "execution_count": 9,
   "metadata": {},
   "outputs": [],
   "source": [
    "# calculate the similarity, compares both methods\n",
    "def calculate_similarity(graph, node_a, node_b):\n",
    "    children_a = get_all_children(graph, node_a, {})\n",
    "    children_b = get_all_children(graph, node_b, {})\n",
    "    intersection = calculate_intersection(graph, children_a, children_b)\n",
    "    union_1 = calculate_union_1(graph, children_a, children_b)\n",
    "    union_2 = calculate_union_2(graph, children_a, children_b)\n",
    "    \n",
    "    method_1_results = 0\n",
    "    method_2_results = 0\n",
    "    \n",
    "    if union_1 != 0:\n",
    "        method_1_results = intersection/union_1\n",
    "    if union_2 != 0:\n",
    "        method_2_results = intersection/union_2\n",
    "        \n",
    "    results = {\"method 1\": method_1_results, \"method 2\": method_2_results}\n",
    "    \n",
    "    return results"
   ]
  },
  {
   "cell_type": "markdown",
   "metadata": {},
   "source": [
    "### Edit-Distance"
   ]
  },
  {
   "cell_type": "markdown",
   "metadata": {},
   "source": [
    "Edit-distance similarity implementation based only on a node's children."
   ]
  },
  {
   "cell_type": "code",
   "execution_count": 10,
   "metadata": {},
   "outputs": [],
   "source": [
    "# Returns the similarity of node B compared to node A, based on \n",
    "# children\n",
    "def get_immediate_similarity(gm, A, B):\n",
    "    cost = 0.0\n",
    "    A_children = get_children(gm, A)\n",
    "    B_children = get_children(gm, B)\n",
    "    \n",
    "    if len(A_children) > 0:\n",
    "        for child in A_children:\n",
    "            if child in B_children:\n",
    "                diff = abs(A_children[child] - B_children[child])\n",
    "                cost += diff\n",
    "            else:\n",
    "                cost += 1\n",
    "\n",
    "        return cost / len(A_children)\n",
    "    \n",
    "    else:\n",
    "        return 0"
   ]
  },
  {
   "cell_type": "code",
   "execution_count": 11,
   "metadata": {},
   "outputs": [],
   "source": [
    "# Returns the node that is most similar to the input node\n",
    "def find_most_immediate_similar(gm, A):\n",
    "    nodes = list(gm.nodes)\n",
    "    nodes.remove(A)\n",
    "    \n",
    "    max_similarity = get_immediate_similarity(gm, A, nodes[0])\n",
    "    max_sim_node = nodes[0]\n",
    "    for node in nodes:\n",
    "        node_similarity = get_immediate_similarity(gm, A, node)\n",
    "        \n",
    "        if node_similarity < max_similarity:\n",
    "            max_sim_node = node\n",
    "            max_similarity = node_similarity\n",
    "    \n",
    "    return max_sim_node"
   ]
  },
  {
   "cell_type": "markdown",
   "metadata": {},
   "source": [
    "Edit-distance similarity implementation based on all descendants of a node."
   ]
  },
  {
   "cell_type": "code",
   "execution_count": 12,
   "metadata": {},
   "outputs": [],
   "source": [
    "# Returns the similarity of node B compared to node A\n",
    "def get_full_similarity(gm, A, B):\n",
    "    cost = 0.0\n",
    "    A_children = get_descendants(gm, A, {}, 1)\n",
    "    B_children = get_descendants(gm, B, {}, 1)\n",
    "    \n",
    "    if len(A_children) > 0:\n",
    "        for child in A_children:\n",
    "            if child in B_children:\n",
    "                diff = abs(A_children[child] - B_children[child])\n",
    "                cost += diff\n",
    "            else:\n",
    "                cost += 1\n",
    "\n",
    "        return cost / len(A_children)\n",
    "    \n",
    "    else:\n",
    "        return 0\n",
    "\n",
    "# Optional print line in for loop for debugging: \n",
    "# print(child, A_children[child], B_children[child])"
   ]
  },
  {
   "cell_type": "code",
   "execution_count": 13,
   "metadata": {},
   "outputs": [],
   "source": [
    "# Returns the node that is most similar to the input node\n",
    "def find_most_similar(gm, A):\n",
    "    nodes = list(gm.nodes)\n",
    "    nodes.remove(A)\n",
    "    \n",
    "    max_similarity = get_full_similarity(gm, A, nodes[0])\n",
    "    max_sim_node = nodes[0]\n",
    "    for node in nodes:\n",
    "        node_similarity = get_full_similarity(gm, A, node)\n",
    "        \n",
    "        if node_similarity < max_similarity:\n",
    "            max_sim_node = node\n",
    "            max_similarity = node_similarity\n",
    "    \n",
    "    return max_sim_node"
   ]
  },
  {
   "cell_type": "markdown",
   "metadata": {},
   "source": [
    "### NetworkX: Edit-Distance"
   ]
  },
  {
   "cell_type": "code",
   "execution_count": 14,
   "metadata": {},
   "outputs": [],
   "source": [
    "# nx.graph_edit_distance(Graph1, Graph2)"
   ]
  },
  {
   "cell_type": "markdown",
   "metadata": {},
   "source": [
    "### NetworkX: SimRank"
   ]
  },
  {
   "cell_type": "code",
   "execution_count": 15,
   "metadata": {},
   "outputs": [],
   "source": [
    "# nx.algorithms.similarity.simrank_similarity(graph, source=\"node_a\", target=\"node_b\")"
   ]
  },
  {
   "cell_type": "markdown",
   "metadata": {},
   "source": [
    "## Generating Random Directed Graphs"
   ]
  },
  {
   "cell_type": "code",
   "execution_count": 16,
   "metadata": {},
   "outputs": [],
   "source": [
    "def addNodes(gm, num_nodes):\n",
    "    node_list = []\n",
    "    \n",
    "    for i in range(num_nodes):\n",
    "        gm.add_node(i)\n",
    "\n",
    "    return gm"
   ]
  },
  {
   "cell_type": "code",
   "execution_count": 17,
   "metadata": {},
   "outputs": [],
   "source": [
    "# NOTE: This function does not have functionality implemented yet that \n",
    "# prevents cycles from occurring\n",
    "def addEdges(gm, num_nodes, num_edges):\n",
    "    for i in range(num_edges):\n",
    "        parent = random.randrange(num_nodes)\n",
    "        child = random.randrange(num_nodes)\n",
    "        \n",
    "        conditional_prob = random.uniform(0, 1)\n",
    "        gm.add_edge(parent, child, weight=conditional_prob)\n",
    "            \n",
    "        if not nx.is_directed_acyclic_graph(gm):\n",
    "            gm.remove_edge(parent, child)\n",
    "        \n",
    "    return gm"
   ]
  },
  {
   "cell_type": "code",
   "execution_count": 18,
   "metadata": {},
   "outputs": [],
   "source": [
    "# def find_paths(graph, start, end, path=[]):\n",
    "#     if start == end:\n",
    "#         return path\n",
    "    \n",
    "#     children = get_children(graph, start)\n",
    "    \n",
    "#     for node in children:\n",
    "#         find_paths(graph, start)"
   ]
  },
  {
   "cell_type": "code",
   "execution_count": 19,
   "metadata": {},
   "outputs": [],
   "source": [
    "def makeDirectedGraph(num_nodes, num_edges):\n",
    "    dg = nx.DiGraph() # creates directed graph\n",
    "    dg = addNodes(dg, num_nodes)\n",
    "    dg = addEdges(dg, num_nodes, num_edges)\n",
    "    return dg"
   ]
  },
  {
   "cell_type": "code",
   "execution_count": 20,
   "metadata": {},
   "outputs": [],
   "source": [
    "dg = makeDirectedGraph(3, 15)"
   ]
  },
  {
   "cell_type": "code",
   "execution_count": 21,
   "metadata": {},
   "outputs": [
    {
     "data": {
      "image/png": "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\n",
      "text/plain": [
       "<Figure size 432x288 with 1 Axes>"
      ]
     },
     "metadata": {},
     "output_type": "display_data"
    }
   ],
   "source": [
    "nx.draw_networkx(dg)"
   ]
  },
  {
   "cell_type": "markdown",
   "metadata": {},
   "source": [
    "## Running Experiments"
   ]
  },
  {
   "cell_type": "markdown",
   "metadata": {},
   "source": [
    "### Distribution of Similarity Over Random Graphs of Constant Size"
   ]
  },
  {
   "cell_type": "code",
   "execution_count": 22,
   "metadata": {},
   "outputs": [],
   "source": [
    "def getSimilarityData(gm):\n",
    "    node_list = list(gm.nodes)\n",
    "    node_pairs = list(it.combinations(node_list, 2))\n",
    "\n",
    "    ed_immediate_sim, ed_full_sim, ji_sim_1, ji_sim_2 = [], [], [], []\n",
    "\n",
    "    for pair in node_pairs:\n",
    "        ed_immediate_sim.append(get_immediate_similarity(gm, pair[0], pair[1]))\n",
    "        ed_immediate_sim.append(get_immediate_similarity(gm, pair[1], pair[0]))\n",
    "\n",
    "        ed_full_sim.append(get_full_similarity(gm, pair[0], pair[1]))\n",
    "        ed_full_sim.append(get_full_similarity(gm, pair[1], pair[0]))\n",
    "\n",
    "        ji_sim_1.append(calculate_similarity(gm, pair[0], pair[1])[\"method 1\"])\n",
    "        ji_sim_1.append(calculate_similarity(gm, pair[1], pair[0])[\"method 1\"])\n",
    "\n",
    "        ji_sim_2.append(calculate_similarity(gm, pair[0], pair[1])[\"method 2\"])\n",
    "        ji_sim_2.append(calculate_similarity(gm, pair[1], pair[0])[\"method 2\"])\n",
    "\n",
    "    similarity_data = {\"Edit-Distance Immediate Similarity\": ed_immediate_sim, \"Edit-Distance Full Similarity\": ed_full_sim,\n",
    "           \"Jaccard Index Similarity (Method 1)\": ji_sim_1, \"Jaccard Index Similarity (Method 2)\": ji_sim_2}\n",
    "        \n",
    "    return similarity_data"
   ]
  },
  {
   "cell_type": "code",
   "execution_count": 23,
   "metadata": {},
   "outputs": [],
   "source": [
    "def getCliqueData(gm):\n",
    "    node_list = list(gm.nodes)\n",
    "    num_rows = len(list(it.combinations(node_list, 2))) * 2\n",
    "    \n",
    "    longest_max_indep_set = len(independent_set.maximum_independent_set(gm))\n",
    "    max_cliques = list(clique.clique_removal(gm)[1]) * num_rows\n",
    "    num_max_cliques = len(max_cliques)\n",
    "    longest_max_clique = len(max_cliques[0])\n",
    "    \n",
    "    clique_data = {\"Longest Maximum Independent Set\": [longest_max_indep_set] * num_rows,\n",
    "                   \"Number of Maximum Cliques\": [num_max_cliques] * num_rows, \n",
    "                   \"Longest Maximum Clique\": [longest_max_clique] * num_rows}\n",
    "    \n",
    "    return clique_data"
   ]
  },
  {
   "cell_type": "code",
   "execution_count": 24,
   "metadata": {},
   "outputs": [],
   "source": [
    "def getSimilarityDistribution(num_graphs, num_nodes, num_edges): \n",
    "    graph_df_list = []\n",
    "    \n",
    "    for i in range(num_graphs):\n",
    "        dg = makeDirectedGraph(num_nodes, num_edges)\n",
    "        \n",
    "        similarity_data = getSimilarityData(dg)\n",
    "        clique_data = getCliqueData(dg)\n",
    "                \n",
    "        similarity_data.update(clique_data)\n",
    "                        \n",
    "        graph_df = pd.DataFrame(data = similarity_data)\n",
    "        \n",
    "        graph_df_list.append(graph_df)\n",
    "    \n",
    "    return graph_df_list"
   ]
  },
  {
   "cell_type": "code",
   "execution_count": 25,
   "metadata": {},
   "outputs": [
    {
     "data": {
      "text/html": [
       "<div>\n",
       "<style scoped>\n",
       "    .dataframe tbody tr th:only-of-type {\n",
       "        vertical-align: middle;\n",
       "    }\n",
       "\n",
       "    .dataframe tbody tr th {\n",
       "        vertical-align: top;\n",
       "    }\n",
       "\n",
       "    .dataframe thead th {\n",
       "        text-align: right;\n",
       "    }\n",
       "</style>\n",
       "<table border=\"1\" class=\"dataframe\">\n",
       "  <thead>\n",
       "    <tr style=\"text-align: right;\">\n",
       "      <th></th>\n",
       "      <th>Edit-Distance Immediate Similarity</th>\n",
       "      <th>Edit-Distance Full Similarity</th>\n",
       "      <th>Jaccard Index Similarity (Method 1)</th>\n",
       "      <th>Jaccard Index Similarity (Method 2)</th>\n",
       "      <th>Longest Maximum Independent Set</th>\n",
       "      <th>Number of Maximum Cliques</th>\n",
       "      <th>Longest Maximum Clique</th>\n",
       "    </tr>\n",
       "  </thead>\n",
       "  <tbody>\n",
       "    <tr>\n",
       "      <th>0</th>\n",
       "      <td>0.0</td>\n",
       "      <td>0.000000</td>\n",
       "      <td>0.000000</td>\n",
       "      <td>0.000000</td>\n",
       "      <td>19</td>\n",
       "      <td>15660</td>\n",
       "      <td>3</td>\n",
       "    </tr>\n",
       "    <tr>\n",
       "      <th>1</th>\n",
       "      <td>1.0</td>\n",
       "      <td>1.000000</td>\n",
       "      <td>0.000000</td>\n",
       "      <td>0.000000</td>\n",
       "      <td>19</td>\n",
       "      <td>15660</td>\n",
       "      <td>3</td>\n",
       "    </tr>\n",
       "    <tr>\n",
       "      <th>2</th>\n",
       "      <td>0.0</td>\n",
       "      <td>0.000000</td>\n",
       "      <td>0.000000</td>\n",
       "      <td>0.000000</td>\n",
       "      <td>19</td>\n",
       "      <td>15660</td>\n",
       "      <td>3</td>\n",
       "    </tr>\n",
       "    <tr>\n",
       "      <th>3</th>\n",
       "      <td>1.0</td>\n",
       "      <td>1.000000</td>\n",
       "      <td>0.000000</td>\n",
       "      <td>0.000000</td>\n",
       "      <td>19</td>\n",
       "      <td>15660</td>\n",
       "      <td>3</td>\n",
       "    </tr>\n",
       "    <tr>\n",
       "      <th>4</th>\n",
       "      <td>0.0</td>\n",
       "      <td>0.000000</td>\n",
       "      <td>0.000000</td>\n",
       "      <td>0.000000</td>\n",
       "      <td>19</td>\n",
       "      <td>15660</td>\n",
       "      <td>3</td>\n",
       "    </tr>\n",
       "    <tr>\n",
       "      <th>...</th>\n",
       "      <td>...</td>\n",
       "      <td>...</td>\n",
       "      <td>...</td>\n",
       "      <td>...</td>\n",
       "      <td>...</td>\n",
       "      <td>...</td>\n",
       "      <td>...</td>\n",
       "    </tr>\n",
       "    <tr>\n",
       "      <th>865</th>\n",
       "      <td>1.0</td>\n",
       "      <td>0.339786</td>\n",
       "      <td>0.133182</td>\n",
       "      <td>0.153644</td>\n",
       "      <td>19</td>\n",
       "      <td>15660</td>\n",
       "      <td>3</td>\n",
       "    </tr>\n",
       "    <tr>\n",
       "      <th>866</th>\n",
       "      <td>1.0</td>\n",
       "      <td>0.960222</td>\n",
       "      <td>0.007450</td>\n",
       "      <td>0.007505</td>\n",
       "      <td>19</td>\n",
       "      <td>15660</td>\n",
       "      <td>3</td>\n",
       "    </tr>\n",
       "    <tr>\n",
       "      <th>867</th>\n",
       "      <td>1.0</td>\n",
       "      <td>0.323779</td>\n",
       "      <td>0.007450</td>\n",
       "      <td>0.007505</td>\n",
       "      <td>19</td>\n",
       "      <td>15660</td>\n",
       "      <td>3</td>\n",
       "    </tr>\n",
       "    <tr>\n",
       "      <th>868</th>\n",
       "      <td>1.0</td>\n",
       "      <td>1.000000</td>\n",
       "      <td>0.000000</td>\n",
       "      <td>0.000000</td>\n",
       "      <td>19</td>\n",
       "      <td>15660</td>\n",
       "      <td>3</td>\n",
       "    </tr>\n",
       "    <tr>\n",
       "      <th>869</th>\n",
       "      <td>1.0</td>\n",
       "      <td>1.000000</td>\n",
       "      <td>0.000000</td>\n",
       "      <td>0.000000</td>\n",
       "      <td>19</td>\n",
       "      <td>15660</td>\n",
       "      <td>3</td>\n",
       "    </tr>\n",
       "  </tbody>\n",
       "</table>\n",
       "<p>870 rows × 7 columns</p>\n",
       "</div>"
      ],
      "text/plain": [
       "     Edit-Distance Immediate Similarity  Edit-Distance Full Similarity  \\\n",
       "0                                   0.0                       0.000000   \n",
       "1                                   1.0                       1.000000   \n",
       "2                                   0.0                       0.000000   \n",
       "3                                   1.0                       1.000000   \n",
       "4                                   0.0                       0.000000   \n",
       "..                                  ...                            ...   \n",
       "865                                 1.0                       0.339786   \n",
       "866                                 1.0                       0.960222   \n",
       "867                                 1.0                       0.323779   \n",
       "868                                 1.0                       1.000000   \n",
       "869                                 1.0                       1.000000   \n",
       "\n",
       "     Jaccard Index Similarity (Method 1)  Jaccard Index Similarity (Method 2)  \\\n",
       "0                               0.000000                             0.000000   \n",
       "1                               0.000000                             0.000000   \n",
       "2                               0.000000                             0.000000   \n",
       "3                               0.000000                             0.000000   \n",
       "4                               0.000000                             0.000000   \n",
       "..                                   ...                                  ...   \n",
       "865                             0.133182                             0.153644   \n",
       "866                             0.007450                             0.007505   \n",
       "867                             0.007450                             0.007505   \n",
       "868                             0.000000                             0.000000   \n",
       "869                             0.000000                             0.000000   \n",
       "\n",
       "     Longest Maximum Independent Set  Number of Maximum Cliques  \\\n",
       "0                                 19                      15660   \n",
       "1                                 19                      15660   \n",
       "2                                 19                      15660   \n",
       "3                                 19                      15660   \n",
       "4                                 19                      15660   \n",
       "..                               ...                        ...   \n",
       "865                               19                      15660   \n",
       "866                               19                      15660   \n",
       "867                               19                      15660   \n",
       "868                               19                      15660   \n",
       "869                               19                      15660   \n",
       "\n",
       "     Longest Maximum Clique  \n",
       "0                         3  \n",
       "1                         3  \n",
       "2                         3  \n",
       "3                         3  \n",
       "4                         3  \n",
       "..                      ...  \n",
       "865                       3  \n",
       "866                       3  \n",
       "867                       3  \n",
       "868                       3  \n",
       "869                       3  \n",
       "\n",
       "[870 rows x 7 columns]"
      ]
     },
     "execution_count": 25,
     "metadata": {},
     "output_type": "execute_result"
    }
   ],
   "source": [
    "similarity_dist = getSimilarityDistribution(10, 30, 45)\n",
    "similarity_dist[0]"
   ]
  },
  {
   "cell_type": "markdown",
   "metadata": {},
   "source": [
    "### Condensing Data"
   ]
  },
  {
   "cell_type": "code",
   "execution_count": 26,
   "metadata": {},
   "outputs": [],
   "source": [
    "# condenseExperimentData() takes the output of runExperiment as an input.\n",
    "# Returns a DataFrame consisting of averages for each similarity index\n",
    "def condenseExperimentData(experiment_data):\n",
    "    ed_immediate_sim_avgs, ed_full_sim_avgs, ji_sim_1_avgs, ji_sim_2_avgs = [], [], [], []\n",
    "    longest_max_ind_set_avgs, num_max_cliques_avgs, longest_max_clique_avgs = [], [], []\n",
    "    \n",
    "    for graph_df in experiment_data:\n",
    "        graph_avgs = graph_df.mean(axis=0)\n",
    "        ed_immediate_sim_avgs.append(graph_avgs[\"Edit-Distance Immediate Similarity\"])\n",
    "        ed_full_sim_avgs.append(graph_avgs[\"Edit-Distance Full Similarity\"])\n",
    "        ji_sim_1_avgs.append(graph_avgs[\"Jaccard Index Similarity (Method 1)\"])\n",
    "        ji_sim_2_avgs.append(graph_avgs[\"Jaccard Index Similarity (Method 2)\"])\n",
    "        longest_max_ind_set_avgs.append(graph_avgs[\"Longest Maximum Independent Set\"])\n",
    "        num_max_cliques_avgs.append(graph_avgs[\"Number of Maximum Cliques\"])\n",
    "        longest_max_clique_avgs.append(graph_avgs[\"Longest Maximum Clique\"])\n",
    "        \n",
    "    condensed_data = {\"Edit-Distance Immediate Similarity Averages\": ed_immediate_sim_avgs,\n",
    "                     \"Edit-Distance Full Similarity Averages\": ed_full_sim_avgs,\n",
    "                     \"Jaccard Index Similarity (Method 1) Averages\": ji_sim_1_avgs,\n",
    "                     \"Jaccard Index Similarity (Method 2) Averages\": ji_sim_2_avgs,\n",
    "                     \"Longest Maximum Independent Set\": longest_max_ind_set_avgs,\n",
    "                     \"Number of Maximum Cliques\": num_max_cliques_avgs,\n",
    "                     \"Longest Maximum Clique\": longest_max_clique_avgs}\n",
    "    condensed_df = pd.DataFrame(data = condensed_data)\n",
    "    \n",
    "    return condensed_df"
   ]
  },
  {
   "cell_type": "code",
   "execution_count": 27,
   "metadata": {},
   "outputs": [
    {
     "data": {
      "text/html": [
       "<div>\n",
       "<style scoped>\n",
       "    .dataframe tbody tr th:only-of-type {\n",
       "        vertical-align: middle;\n",
       "    }\n",
       "\n",
       "    .dataframe tbody tr th {\n",
       "        vertical-align: top;\n",
       "    }\n",
       "\n",
       "    .dataframe thead th {\n",
       "        text-align: right;\n",
       "    }\n",
       "</style>\n",
       "<table border=\"1\" class=\"dataframe\">\n",
       "  <thead>\n",
       "    <tr style=\"text-align: right;\">\n",
       "      <th></th>\n",
       "      <th>Edit-Distance Immediate Similarity Averages</th>\n",
       "      <th>Edit-Distance Full Similarity Averages</th>\n",
       "      <th>Jaccard Index Similarity (Method 1) Averages</th>\n",
       "      <th>Jaccard Index Similarity (Method 2) Averages</th>\n",
       "      <th>Longest Maximum Independent Set</th>\n",
       "      <th>Number of Maximum Cliques</th>\n",
       "      <th>Longest Maximum Clique</th>\n",
       "    </tr>\n",
       "  </thead>\n",
       "  <tbody>\n",
       "    <tr>\n",
       "      <th>0</th>\n",
       "      <td>0.771123</td>\n",
       "      <td>0.507950</td>\n",
       "      <td>0.130620</td>\n",
       "      <td>0.270659</td>\n",
       "      <td>19.0</td>\n",
       "      <td>15660.0</td>\n",
       "      <td>3.0</td>\n",
       "    </tr>\n",
       "    <tr>\n",
       "      <th>1</th>\n",
       "      <td>0.710505</td>\n",
       "      <td>0.427227</td>\n",
       "      <td>0.128153</td>\n",
       "      <td>0.366689</td>\n",
       "      <td>18.0</td>\n",
       "      <td>14790.0</td>\n",
       "      <td>3.0</td>\n",
       "    </tr>\n",
       "    <tr>\n",
       "      <th>2</th>\n",
       "      <td>0.650641</td>\n",
       "      <td>0.520339</td>\n",
       "      <td>0.067644</td>\n",
       "      <td>0.122713</td>\n",
       "      <td>19.0</td>\n",
       "      <td>16530.0</td>\n",
       "      <td>2.0</td>\n",
       "    </tr>\n",
       "    <tr>\n",
       "      <th>3</th>\n",
       "      <td>0.713761</td>\n",
       "      <td>0.457566</td>\n",
       "      <td>0.148226</td>\n",
       "      <td>0.653264</td>\n",
       "      <td>17.0</td>\n",
       "      <td>13920.0</td>\n",
       "      <td>2.0</td>\n",
       "    </tr>\n",
       "    <tr>\n",
       "      <th>4</th>\n",
       "      <td>0.677776</td>\n",
       "      <td>0.508908</td>\n",
       "      <td>0.081907</td>\n",
       "      <td>0.161411</td>\n",
       "      <td>18.0</td>\n",
       "      <td>16530.0</td>\n",
       "      <td>3.0</td>\n",
       "    </tr>\n",
       "    <tr>\n",
       "      <th>5</th>\n",
       "      <td>0.709114</td>\n",
       "      <td>0.498981</td>\n",
       "      <td>0.121194</td>\n",
       "      <td>0.269400</td>\n",
       "      <td>17.0</td>\n",
       "      <td>13050.0</td>\n",
       "      <td>3.0</td>\n",
       "    </tr>\n",
       "    <tr>\n",
       "      <th>6</th>\n",
       "      <td>0.676687</td>\n",
       "      <td>0.397288</td>\n",
       "      <td>0.183237</td>\n",
       "      <td>0.794469</td>\n",
       "      <td>18.0</td>\n",
       "      <td>16530.0</td>\n",
       "      <td>3.0</td>\n",
       "    </tr>\n",
       "    <tr>\n",
       "      <th>7</th>\n",
       "      <td>0.713351</td>\n",
       "      <td>0.527404</td>\n",
       "      <td>0.088061</td>\n",
       "      <td>0.578432</td>\n",
       "      <td>21.0</td>\n",
       "      <td>14790.0</td>\n",
       "      <td>3.0</td>\n",
       "    </tr>\n",
       "    <tr>\n",
       "      <th>8</th>\n",
       "      <td>0.705677</td>\n",
       "      <td>0.565261</td>\n",
       "      <td>0.051527</td>\n",
       "      <td>0.150020</td>\n",
       "      <td>19.0</td>\n",
       "      <td>16530.0</td>\n",
       "      <td>2.0</td>\n",
       "    </tr>\n",
       "    <tr>\n",
       "      <th>9</th>\n",
       "      <td>0.709931</td>\n",
       "      <td>0.424179</td>\n",
       "      <td>0.160027</td>\n",
       "      <td>0.409340</td>\n",
       "      <td>18.0</td>\n",
       "      <td>16530.0</td>\n",
       "      <td>3.0</td>\n",
       "    </tr>\n",
       "  </tbody>\n",
       "</table>\n",
       "</div>"
      ],
      "text/plain": [
       "   Edit-Distance Immediate Similarity Averages  \\\n",
       "0                                     0.771123   \n",
       "1                                     0.710505   \n",
       "2                                     0.650641   \n",
       "3                                     0.713761   \n",
       "4                                     0.677776   \n",
       "5                                     0.709114   \n",
       "6                                     0.676687   \n",
       "7                                     0.713351   \n",
       "8                                     0.705677   \n",
       "9                                     0.709931   \n",
       "\n",
       "   Edit-Distance Full Similarity Averages  \\\n",
       "0                                0.507950   \n",
       "1                                0.427227   \n",
       "2                                0.520339   \n",
       "3                                0.457566   \n",
       "4                                0.508908   \n",
       "5                                0.498981   \n",
       "6                                0.397288   \n",
       "7                                0.527404   \n",
       "8                                0.565261   \n",
       "9                                0.424179   \n",
       "\n",
       "   Jaccard Index Similarity (Method 1) Averages  \\\n",
       "0                                      0.130620   \n",
       "1                                      0.128153   \n",
       "2                                      0.067644   \n",
       "3                                      0.148226   \n",
       "4                                      0.081907   \n",
       "5                                      0.121194   \n",
       "6                                      0.183237   \n",
       "7                                      0.088061   \n",
       "8                                      0.051527   \n",
       "9                                      0.160027   \n",
       "\n",
       "   Jaccard Index Similarity (Method 2) Averages  \\\n",
       "0                                      0.270659   \n",
       "1                                      0.366689   \n",
       "2                                      0.122713   \n",
       "3                                      0.653264   \n",
       "4                                      0.161411   \n",
       "5                                      0.269400   \n",
       "6                                      0.794469   \n",
       "7                                      0.578432   \n",
       "8                                      0.150020   \n",
       "9                                      0.409340   \n",
       "\n",
       "   Longest Maximum Independent Set  Number of Maximum Cliques  \\\n",
       "0                             19.0                    15660.0   \n",
       "1                             18.0                    14790.0   \n",
       "2                             19.0                    16530.0   \n",
       "3                             17.0                    13920.0   \n",
       "4                             18.0                    16530.0   \n",
       "5                             17.0                    13050.0   \n",
       "6                             18.0                    16530.0   \n",
       "7                             21.0                    14790.0   \n",
       "8                             19.0                    16530.0   \n",
       "9                             18.0                    16530.0   \n",
       "\n",
       "   Longest Maximum Clique  \n",
       "0                     3.0  \n",
       "1                     3.0  \n",
       "2                     2.0  \n",
       "3                     2.0  \n",
       "4                     3.0  \n",
       "5                     3.0  \n",
       "6                     3.0  \n",
       "7                     3.0  \n",
       "8                     2.0  \n",
       "9                     3.0  "
      ]
     },
     "execution_count": 27,
     "metadata": {},
     "output_type": "execute_result"
    }
   ],
   "source": [
    "condensed_similarity_dist = condenseExperimentData(similarity_dist)\n",
    "condensed_similarity_dist"
   ]
  },
  {
   "cell_type": "markdown",
   "metadata": {},
   "source": [
    "### Distribution Over Varying Graph Sizes"
   ]
  },
  {
   "cell_type": "code",
   "execution_count": 28,
   "metadata": {},
   "outputs": [],
   "source": [
    "nodes_to_edges_factor = 1.5\n",
    "def getGraphSizeDistribution(num_graphs, start_num_nodes, end_num_nodes, step):\n",
    "    experiments_df = pd.DataFrame(columns = [\"Nodes\", \"Edit-Distance Immediate Similarity\",\n",
    "                                            \"Edit-Distance Full Similarity\",\n",
    "                                            \"Jaccard Index Similarity (Method 1)\",\n",
    "                                            \"Jaccard Index Similarity (Method 2)\",\n",
    "                                            \"Longest Maximum Independent Set\",\n",
    "                                            \"Number of Maximum Cliques\",\n",
    "                                            \"Longest Maximum Clique\"])\n",
    "    \n",
    "    for num_nodes in range(start_num_nodes, end_num_nodes, step):\n",
    "        num_edges = int(num_nodes * 1.5)\n",
    "        experiment_data = getSimilarityDistribution(num_graphs, num_nodes, num_edges)\n",
    "        condensed_data = condenseExperimentData(experiment_data)\n",
    "        condensed_data_avgs = condensed_data.mean(axis=0)\n",
    "\n",
    "        experiments_df = experiments_df.append({\"Nodes\": num_nodes,\n",
    "                               \"Edit-Distance Immediate Similarity\": condensed_data_avgs[\"Edit-Distance Immediate Similarity Averages\"],\n",
    "                                \"Edit-Distance Full Similarity\": condensed_data_avgs[\"Edit-Distance Full Similarity Averages\"],\n",
    "                                \"Jaccard Index Similarity (Method 1)\": condensed_data_avgs[\"Jaccard Index Similarity (Method 1) Averages\"],\n",
    "                                \"Jaccard Index Similarity (Method 2)\": condensed_data_avgs[\"Jaccard Index Similarity (Method 2) Averages\"],\n",
    "                                \"Longest Maximum Independent Set\": condensed_data_avgs[\"Longest Maximum Independent Set\"],\n",
    "                                \"Number of Maximum Cliques\": condensed_data_avgs[\"Number of Maximum Cliques\"],\n",
    "                                \"Longest Maximum Clique\": condensed_data_avgs[\"Longest Maximum Clique\"]}, ignore_index=True)\n",
<<<<<<< HEAD
    "\n",
=======
    "    \n",
>>>>>>> 87c06f3b15c33d32e68b8f23a54e862bc8e0eabc
    "    return experiments_df    "
   ]
  },
  {
   "cell_type": "code",
   "execution_count": 29,
   "metadata": {},
   "outputs": [],
   "source": [
    "graph_size_dist = getGraphSizeDistribution(10, 10, 51, 10)"
   ]
  },
  {
   "cell_type": "markdown",
   "metadata": {},
   "source": [
    "## Exporting Data"
   ]
  },
  {
   "cell_type": "code",
   "execution_count": 30,
   "metadata": {},
   "outputs": [],
   "source": [
    "condensed_similarity_dist.to_csv(\"Data/similarity-distribution.csv\", index=True)"
   ]
  },
  {
   "cell_type": "code",
   "execution_count": 31,
   "metadata": {},
   "outputs": [],
   "source": [
    "graph_size_dist.to_csv(\"Data/graph-size-distrubtion.csv\", index=True)"
   ]
  }
 ],
 "metadata": {
  "kernelspec": {
   "display_name": "Python 3",
   "language": "python",
   "name": "python3"
  },
  "language_info": {
   "codemirror_mode": {
    "name": "ipython",
    "version": 3
   },
   "file_extension": ".py",
   "mimetype": "text/x-python",
   "name": "python",
   "nbconvert_exporter": "python",
   "pygments_lexer": "ipython3",
   "version": "3.7.3"
  }
 },
 "nbformat": 4,
 "nbformat_minor": 4
}
