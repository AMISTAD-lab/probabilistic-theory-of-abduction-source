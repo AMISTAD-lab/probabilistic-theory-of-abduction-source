{
 "cells": [
  {
   "cell_type": "code",
   "execution_count": 1,
   "metadata": {},
   "outputs": [],
   "source": [
    "from similarityfunctions import *\n",
    "import networkx as nx"
   ]
  },
  {
   "cell_type": "code",
   "execution_count": 2,
   "metadata": {},
   "outputs": [],
   "source": [
    "dg = makeDirectedGraph(6, 4)"
   ]
  },
  {
   "cell_type": "code",
   "execution_count": 3,
   "metadata": {},
   "outputs": [
    {
     "data": {
      "image/png": "[encoded data removed]",
      "text/plain": [
       "<Figure size 432x288 with 1 Axes>"
      ]
     },
     "metadata": {
      "needs_background": "light"
     },
     "output_type": "display_data"
    }
   ],
   "source": [
    "nx.draw_networkx(dg)"
   ]
  },
  {
   "cell_type": "code",
   "execution_count": 4,
   "metadata": {},
   "outputs": [],
   "source": [
    "# add observations to a graph\n",
    "def observeData(graph, true_nodes, false_nodes):\n",
    "    nodes = graph.nodes()\n",
    "    for i in nodes:\n",
    "        if i in true_nodes:\n",
    "            graph.nodes[i]['value'] = True\n",
    "        if i in false_nodes:\n",
    "            graph.nodes[i]['value'] = False\n",
    "        else:\n",
    "            graph.nodes[i]['value'] = 0"
   ]
  },
  {
   "cell_type": "code",
   "execution_count": 5,
   "metadata": {},
   "outputs": [],
   "source": [
    "observeData(dg, [1, 4], [3])"
   ]
  },
  {
   "cell_type": "code",
   "execution_count": 6,
   "metadata": {},
   "outputs": [
    {
     "data": {
      "text/plain": [
       "NodeView((0, 1, 2, 3, 4, 5))"
      ]
     },
     "execution_count": 6,
     "metadata": {},
     "output_type": "execute_result"
    }
   ],
   "source": [
    "dg.nodes()"
   ]
  },
  {
   "cell_type": "code",
   "execution_count": 7,
   "metadata": {},
   "outputs": [],
   "source": [
    "# adds new true nodes and new false nodes to the graph and then checks for contradictions\n",
    "# only finds direct contraidctions? Should talk with group about this.\n",
    "import copy \n",
    "def findContradictions(graph, new_true_nodes, new_false_nodes, threshold=.5):\n",
    "    new_g = copy.deepcopy(graph)\n",
    "    observeData(new_g, new_true_nodes, new_false_nodes)\n",
    "    edge_attrs = nx.get_edge_attributes(new_g, 'weight')\n",
    "    for i in new_g.nodes():\n",
    "        if 'observed' in new_g.nodes.data()[i]:\n",
    "            if new_g.nodes.data()[i]['observed'] is True:\n",
    "                for x in edge_attrs:\n",
    "                    print(x, x[1], new_g.nodes.data()[x[1]], edge_attrs[x])\n",
    "                    if 'observed' in new_g.nodes.data()[x[1]]:\n",
    "                        if x[0] == i and new_g.nodes.data()[x[1]]['observed'] is False and edge_attrs[x] >= threshold:\n",
    "                            return (i, True, x[1], False, edge_attrs[x])\n",
    "    return \"No contradictions found\""
   ]
  },
  {
   "cell_type": "code",
   "execution_count": 8,
   "metadata": {},
   "outputs": [
    {
     "data": {
      "text/plain": [
       "'No contradictions found'"
      ]
     },
     "execution_count": 8,
     "metadata": {},
     "output_type": "execute_result"
    }
   ],
   "source": [
    "findContradictions(dg, [], [0])"
   ]
  },
  {
   "cell_type": "code",
   "execution_count": 64,
   "metadata": {},
   "outputs": [],
   "source": [
    "class CPT(object):\n",
    "    \"\"\"\n",
    "    Defines a CPT Class\n",
    "    \"\"\"\n",
    "    def __init__(self, num_parents):\n",
    "        self.num_parents = num_parents\n",
    "        self.CPTable = self.make_table()\n",
    "        \n",
    "    def make_table(self):\n",
    "        CPTable = {}\n",
    "        for i in range(2**self.num_parents):\n",
    "            CPTable[bin(i)] = 0.0\n",
    "        return CPTable\n",
    "    \n",
    "    def add_entry(self, parent_values, prob):\n",
    "        # values of nodes sorted in alphabetical order\n",
    "        key = ''\n",
    "        for i in parent_values:\n",
    "            key += str(i)\n",
    "        self.CPTable[bin(int(key, 2))] = prob     \n",
    "    \n",
    "    def get_entry(self, parent_values)\n",
    "        key = ''\n",
    "        for i in parent_values:\n",
    "            key += str(i)\n",
    "        return self.CPTable[bin(int(key, 2))]\n",
    "    \n",
    "    def get_table(self):\n",
    "        return self.CPTable"
   ]
  },
  {
   "cell_type": "code",
   "execution_count": 68,
   "metadata": {},
   "outputs": [
    {
     "name": "stdout",
     "output_type": "stream",
     "text": [
      "{'0b0': 0.0, '0b1': 0.6, '0b10': 0.0, '0b11': 0.0}\n"
     ]
    }
   ],
   "source": [
    "myCPT = CPT(2)\n",
    "myCPT.add_entry([0, 1], .6)\n",
    "print(myCPT.get_table())"
   ]
  },
  {
   "cell_type": "code",
   "execution_count": 30,
   "metadata": {},
   "outputs": [],
   "source": [
    "def getMarkovBlanket(graph, obs, hyp):\n",
    "    #generates a new graph (markov blanket) based on the graph, observations, and hypothesis\n",
    "    #get all parent nodes\n",
    "    edge_attrs = nx.get_edge_attributes(graph, 'weight')\n",
    "    new_graph = nx.DiGraph()\n",
    "    new_graph.add_node(hyp)\n",
    "    new_graph.add_nodes_from(obs)\n",
    "    for i in edge_attrs:\n",
    "        if i[0] in obs or i[0] == hyp:\n",
    "            new_graph.add_node(i[1])\n",
    "            new_graph.add_edge(i[0], i[1], weight=edge_attrs[i])\n",
    "        if i[1] in obs or i[1] == hyp:\n",
    "            new_graph.add_node(i[0])\n",
    "            new_graph.add_edge(i[0], i[1], weight=edge_attrs[i])\n",
    "    return new_graph"
   ]
  },
  {
   "cell_type": "code",
   "execution_count": 31,
   "metadata": {},
   "outputs": [],
   "source": [
    "graph = getMarkovBlanket(dg, [4], 1)"
   ]
  },
  {
   "cell_type": "code",
   "execution_count": 32,
   "metadata": {},
   "outputs": [
    {
     "data": {
      "image/png": "[encoded data removed]",
      "text/plain": [
       "<Figure size 432x288 with 1 Axes>"
      ]
     },
     "metadata": {
      "needs_background": "light"
     },
     "output_type": "display_data"
    }
   ],
   "source": [
    "nx.draw_networkx(graph)"
   ]
  },
  {
   "cell_type": "markdown",
   "metadata": {},
   "source": [
    "## Criteria for Hypothesis\n",
    "We want a hypothesis that is:\n",
    "- Simple. As few nodes as possible.\n",
    "- Probable. Should have a high probability of being true"
   ]
  },
  {
   "cell_type": "code",
   "execution_count": null,
   "metadata": {},
   "outputs": [],
   "source": [
    "def calculateNodeProbability(graph, node, parent_values):\n",
    "    return graph.nodes()[node][['CPT']].get_entry(parent_values)"
   ]
  },
  {
   "cell_type": "code",
   "execution_count": 69,
   "metadata": {},
   "outputs": [
    {
     "data": {
      "text/plain": [
       "[4]"
      ]
     },
     "execution_count": 69,
     "metadata": {},
     "output_type": "execute_result"
    }
   ],
   "source": [
    "list(dg.predecessors(5))"
   ]
  },
  {
   "cell_type": "code",
   "execution_count": 78,
   "metadata": {},
   "outputs": [
    {
     "ename": "SyntaxError",
     "evalue": "invalid syntax (<ipython-input-78-895e7e299eb6>, line 7)",
     "output_type": "error",
     "traceback": [
      "\u001b[0;36m  File \u001b[0;32m\"<ipython-input-78-895e7e299eb6>\"\u001b[0;36m, line \u001b[0;32m7\u001b[0m\n\u001b[0;31m    return p*\u001b[0m\n\u001b[0m             ^\u001b[0m\n\u001b[0;31mSyntaxError\u001b[0m\u001b[0;31m:\u001b[0m invalid syntax\n"
     ]
    }
   ],
   "source": [
    "def calculateTotalProbability(blanket, hyp, obs):\n",
    "    #calculate node probability given children\n",
    "    # want to calculate hyp | obs\n",
    "    prob = 0\n",
    "    for i in blanket.nodes():\n",
    "        total = 1\n",
    "        if not (i == hyp or i in obs):\n",
    "            total *= graph.nodes()[i][['CPT']].get_entry(parent_values)\n",
    "            \n",
    "        prob += total\n",
    "        "
   ]
  },
  {
   "cell_type": "code",
   "execution_count": 79,
   "metadata": {},
   "outputs": [],
   "source": [
    "# sees if some nodes are independent based on the nodes we are conditioning on\n",
    "# we are only checking for *direct* conditions. chains are not accounted for\n",
    "# since in baysien networks edges are \"direct dependence.\" Should double-check this.\n",
    "def independenceChecker(graph, conditions, nodes):\n",
    "    edges = nx.get_edge_attributes(graph, 'weight')\n",
    "    for i in edges:\n",
    "        if i[1] in nodes and not i[0] in conditions:\n",
    "            return False\n",
    "    return True"
   ]
  },
  {
   "cell_type": "code",
   "execution_count": 80,
   "metadata": {},
   "outputs": [],
   "source": [
    "def findHypotheses(graph, true_nodes, false_nodes):\n",
    "    hyps = []\n",
    "    for i in graph.nodes():\n",
    "        children = get_all_children(graph, i, {}, 1)\n",
    "        if all(item in children.keys() for item in true_nodes) and not any(item in children.keys() for item in false_nodes):\n",
    "            hyps.append(i)\n",
    "    return hyps"
   ]
  },
  {
   "cell_type": "code",
   "execution_count": 81,
   "metadata": {},
   "outputs": [],
   "source": [
    "def findBestExplanation(graph, true_nodes, false_nodes):\n",
    "    hyps = findHypothesis(graph, true_nodes, false_nodes)"
   ]
  },
  {
   "cell_type": "code",
   "execution_count": 83,
   "metadata": {},
   "outputs": [
    {
     "data": {
      "text/plain": [
       "[2, 4]"
      ]
     },
     "execution_count": 83,
     "metadata": {},
     "output_type": "execute_result"
    }
   ],
   "source": [
    "findHypotheses(dg, [0], [])"
   ]
  }
 ],
 "metadata": {
  "kernelspec": {
   "display_name": "Python 3",
   "language": "python",
   "name": "python3"
  },
  "language_info": {
   "codemirror_mode": {
    "name": "ipython",
    "version": 3
   },
   "file_extension": ".py",
   "mimetype": "text/x-python",
   "name": "python",
   "nbconvert_exporter": "python",
   "pygments_lexer": "ipython3",
   "version": "3.7.3"
  }
 },
 "nbformat": 4,
 "nbformat_minor": 2
}
