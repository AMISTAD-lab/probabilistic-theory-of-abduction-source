{
 "cells": [
  {
   "cell_type": "markdown",
   "metadata": {},
   "source": [
    "# Hypothesis Functionality\n",
    "\n",
    "## Goals\n",
    "We want a hypothesis that is:\n",
    "- Simple. As few nodes as possible.\n",
    "- Probable. Should have a high probability of being true\n",
    "\n",
    "## Important Functions\n",
    "- Write the Graph\n",
    "- Learn the CPT Table\n",
    "- ObserveData: Should be done after CPT Table is created but before hypothesis testing\n",
    "- GetMarkovBlanket gets the markov blanket of our observed data\n",
    "- GetTotalProbability"
   ]
  },
  {
   "cell_type": "code",
   "execution_count": 115,
   "metadata": {},
   "outputs": [],
   "source": [
    "# add observations to a graph\n",
    "def observeData(graph, true_nodes, false_nodes):\n",
    "    nodes = graph.nodes()\n",
    "    for i in nodes:\n",
    "        if i in true_nodes:\n",
    "            graph.nodes[i]['value'] = 1\n",
    "        elif i in false_nodes:\n",
    "            graph.nodes[i]['value'] = 0\n",
    "        else:\n",
    "            graph.nodes[i]['value'] = None"
   ]
  },
  {
   "cell_type": "code",
   "execution_count": 96,
   "metadata": {},
   "outputs": [],
   "source": [
    "class CPT(object):\n",
    "    \"\"\"\n",
    "    Defines a CPT Class\n",
    "    \"\"\"\n",
    "    def __init__(self, num_parents):\n",
    "        self.num_parents = num_parents\n",
    "        self.CPTable = self.make_table()\n",
    "        \n",
    "    def make_table(self):\n",
    "        CPTable = {}\n",
    "        if self.num_parents > 0:\n",
    "            for i in range(2**self.num_parents):\n",
    "                CPTable[bin(i)] = 0.0\n",
    "        else:\n",
    "            CPTable['self'] = 0.0\n",
    "        return CPTable\n",
    "    \n",
    "    def add_entry(self, parent_values, prob):\n",
    "        # values of nodes sorted in alphabetical order\n",
    "        key = ''\n",
    "        for i in parent_values:\n",
    "            key += str(i)\n",
    "        self.CPTable[bin(int(key, 2))] = prob \n",
    "    \n",
    "    def add_entry_self(self, prob):\n",
    "        self.CPTable['self'] = prob\n",
    "    \n",
    "    def get_entry(self, parent_values, value):\n",
    "        key = ''\n",
    "        for i in parent_values:\n",
    "            key += str(i)\n",
    "        return self.CPTable[bin(int(key, 2))][value]\n",
    "    \n",
    "    def get_entry_bin(self, parent_bin, value):\n",
    "        return self.CPTable[parent_bin][value]\n",
    "    \n",
    "    def get_entry_self(self, value):\n",
    "        return self.CPTable['self'][value]\n",
    "    \n",
    "    def get_table(self):\n",
    "        return self.CPTable"
   ]
  },
  {
   "cell_type": "code",
   "execution_count": 97,
   "metadata": {},
   "outputs": [],
   "source": [
    "def getMarkovBlanket(graph, obs, hyp):\n",
    "    #generates a new graph (markov blanket) based on the graph, observations, and hypothesis\n",
    "    #get all parent nodes\n",
    "    edge_attrs = nx.get_edge_attributes(graph, 'weight')\n",
    "    new_graph = nx.DiGraph()\n",
    "    new_graph.add_node(hyp)\n",
    "    new_graph.add_nodes_from(obs)\n",
    "    for i in edge_attrs:\n",
    "        if i[0] in obs or i[0] == hyp:\n",
    "            new_graph.add_node(i[1])\n",
    "            new_graph.add_edge(i[0], i[1], weight=edge_attrs[i])\n",
    "        if i[1] in obs or i[1] == hyp:\n",
    "            new_graph.add_node(i[0])\n",
    "            new_graph.add_edge(i[0], i[1], weight=edge_attrs[i])\n",
    "    return new_graph"
   ]
  },
  {
   "cell_type": "code",
   "execution_count": 211,
   "metadata": {},
   "outputs": [],
   "source": [
    "def calculateMarginalProbability(blanket, knodes):\n",
    "    sorted_nodes = sorted(blanket.nodes())\n",
    "    #print(sorted_nodes)\n",
    "    # want to calculate P(hyp | obs)\n",
    "    # first, calculate marginal probability of P(hyp, obs, nodes)\n",
    "    print(knodes)\n",
    "    \n",
    "    unodes = [item for item in sorted_nodes if (not item in knodes)]\n",
    "    print(unodes)\n",
    "    keys = list(product(range(2), repeat=len(unodes)))\n",
    "    prob = 0\n",
    "    for i in keys:\n",
    "        p = 1\n",
    "        print(i)\n",
    "        for x in sorted_nodes:\n",
    "            # print(blanket.node[x]['CPT'].get_table())\n",
    "            # find the parent values of a node\n",
    "            #print(x)\n",
    "            parents = sorted(list(blanket.predecessors(x)))\n",
    "            # print(parents)\n",
    "            # if it has parents, get the key and get the probability\n",
    "            if parents:\n",
    "                # get the parents:\n",
    "                parent_values = []\n",
    "                for z in parents:\n",
    "                    #print(\"z\", z)\n",
    "                    if z in knodes:\n",
    "                        parent_values.append(blanket.node[z]['value'])\n",
    "                    else:\n",
    "                        #print(\"parent val\", unodes.index(z))\n",
    "                        parent_values.append(i[unodes.index(z)])\n",
    "                #parent_values = [i[sorted_nodes.index(item)] for item in parents]\n",
    "                parents_key = bin(int(''.join(map(str, parent_values)), 2))\n",
    "                #print(parent_values)\n",
    "                #print(parents_key)\n",
    "                if x in knodes:\n",
    "                    p *= blanket.node[x]['CPT'].get_entry_bin(parents_key, blanket.node[x]['value'])\n",
    "                else:\n",
    "                    p *= blanket.node[x]['CPT'].get_entry_bin(parents_key, i[unodes.index(x)])\n",
    "            # if it doesn't have parents, get the entry for itself based on the node value\n",
    "            else:\n",
    "                if x in knodes:\n",
    "                    p *= blanket.node[x]['CPT'].get_entry_self(blanket.node[x]['value'])\n",
    "                else:\n",
    "                    p *= blanket.node[x]['CPT'].get_entry_self(i[unodes.index(x)])\n",
    "        prob += p\n",
    "    return prob"
   ]
  },
  {
   "cell_type": "code",
   "execution_count": 213,
   "metadata": {},
   "outputs": [],
   "source": [
    "def calculateTotalMarginalProbability(blanket, hyp, obs):\n",
    "    all_obs = []\n",
    "    all_obs += obs\n",
    "    all_obs.append(hyp)\n",
    "    num_prob = calculateMarginalProbability(blanket, all_obs)\n",
    "    print(num_prob)\n",
    "    denom_prob = calculateMarginalProbability(blanket, obs)\n",
    "    print(denom_prob)\n",
    "    return num_prob / denom_prob"
   ]
  },
  {
   "cell_type": "markdown",
   "metadata": {},
   "source": [
    "## Testing Things\n",
    "### Making the graph! \n",
    "- Based off the example found [HERE](https://www.ics.uci.edu/~rickl/courses/cs-171/2012-wq-cs171/2012-wq-cs171-lecture-slides/2012wq171-17-BayesianNetworks.pdf)"
   ]
  },
  {
   "cell_type": "code",
   "execution_count": 100,
   "metadata": {},
   "outputs": [
    {
     "data": {
      "image/png": "[encoded data removed]",
      "text/plain": [
       "<Figure size 432x288 with 1 Axes>"
      ]
     },
     "metadata": {
      "needs_background": "light"
     },
     "output_type": "display_data"
    }
   ],
   "source": [
    "from similarityfunctions import *\n",
    "import networkx as nx\n",
    "from itertools import permutations\n",
    "dg = nx.DiGraph()\n",
    "dg.add_nodes_from(['B', 'E', 'A', 'M', 'J'])\n",
    "dg.add_edges_from([('B','A'),('E','A'),('A', 'M'),('A','J')])\n",
    "nx.draw_networkx(dg)"
   ]
  },
  {
   "cell_type": "markdown",
   "metadata": {},
   "source": [
    "### Learning the CPTable"
   ]
  },
  {
   "cell_type": "code",
   "execution_count": 102,
   "metadata": {},
   "outputs": [],
   "source": [
    "# burglar\n",
    "cpt_B = CPT(0)\n",
    "cpt_B.add_entry_self((1-.001, .001))\n",
    "dg.node['B']['CPT'] = cpt_B\n",
    "# earthquake\n",
    "cpt_E = CPT(0)\n",
    "cpt_E.add_entry_self((1-.002, .002))\n",
    "dg.node['E']['CPT'] = cpt_E\n",
    "#alarm\n",
    "cpt_A = CPT(2)\n",
    "cpt_A.add_entry([1, 1], (1-.95, .95))\n",
    "cpt_A.add_entry([1, 0], (1-.94, .94))\n",
    "cpt_A.add_entry([0, 1], (1-.29, .29))\n",
    "cpt_A.add_entry([0, 0], (1-.001, .001))\n",
    "dg.node['A']['CPT'] = cpt_A\n",
    "#john calls\n",
    "cpt_J = CPT(1)\n",
    "cpt_J.add_entry([1], (1-.9, .9))\n",
    "cpt_J.add_entry([0], (1-.05, .05))\n",
    "dg.node['J']['CPT'] = cpt_J\n",
    "#mary calls\n",
    "cpt_M = CPT(1)\n",
    "cpt_M.add_entry([1], (1-.7, .7))\n",
    "cpt_M.add_entry([0], (1-.01, .01))\n",
    "dg.node['M']['CPT'] = cpt_M"
   ]
  },
  {
   "cell_type": "markdown",
   "metadata": {},
   "source": [
    "### Observe the table"
   ]
  },
  {
   "cell_type": "code",
   "execution_count": 229,
   "metadata": {},
   "outputs": [],
   "source": [
    "observeData(dg, ['B', 'M', 'J'], [])"
   ]
  },
  {
   "cell_type": "markdown",
   "metadata": {},
   "source": [
    "### Finding probabilities (fingers crossed!)"
   ]
  },
  {
   "cell_type": "code",
   "execution_count": 230,
   "metadata": {},
   "outputs": [
    {
     "name": "stdout",
     "output_type": "stream",
     "text": [
      "['B', 'M', 'J']\n",
      "['A', 'E']\n",
      "(0, 0)\n",
      "(0, 1)\n",
      "(1, 0)\n",
      "(1, 1)\n"
     ]
    },
    {
     "data": {
      "text/plain": [
       "0.0005922425899999999"
      ]
     },
     "execution_count": 230,
     "metadata": {},
     "output_type": "execute_result"
    }
   ],
   "source": [
    "calculateMarginalProbability(dg, ['B', 'M', 'J'])"
   ]
  },
  {
   "cell_type": "code",
   "execution_count": 231,
   "metadata": {},
   "outputs": [
    {
     "name": "stdout",
     "output_type": "stream",
     "text": [
      "['M', 'J', 'B']\n",
      "['A', 'E']\n",
      "(0, 0)\n",
      "(0, 1)\n",
      "(1, 0)\n",
      "(1, 1)\n",
      "0.0005922425899999999\n",
      "['M', 'J']\n",
      "['A', 'B', 'E']\n",
      "(0, 0, 0)\n",
      "(0, 0, 1)\n",
      "(0, 1, 0)\n",
      "(0, 1, 1)\n",
      "(1, 0, 0)\n",
      "(1, 0, 1)\n",
      "(1, 1, 0)\n",
      "(1, 1, 1)\n",
      "0.002084100239\n"
     ]
    },
    {
     "data": {
      "text/plain": [
       "0.2841718353643929"
      ]
     },
     "execution_count": 231,
     "metadata": {},
     "output_type": "execute_result"
    }
   ],
   "source": [
    "calculateTotalMarginalProbability(dg, 'B', ['M', 'J'])"
   ]
  },
  {
   "cell_type": "markdown",
   "metadata": {},
   "source": [
    "## Stuff to Implement Soon"
   ]
  },
  {
   "cell_type": "code",
   "execution_count": 97,
   "metadata": {},
   "outputs": [],
   "source": [
    "# Finds a bunch of hypothesis. Does nothing yet\n",
    "def findBestExplanation(graph, true_nodes, false_nodes):\n",
    "    hyps = findHypothesis(graph, true_nodes, false_nodes)"
   ]
  },
  {
   "cell_type": "code",
   "execution_count": 98,
   "metadata": {},
   "outputs": [],
   "source": [
    "# Finds all possible hypothesis\n",
    "def findHypotheses(graph, true_nodes, false_nodes):\n",
    "    hyps = []\n",
    "    for i in graph.nodes():\n",
    "        children = get_all_children(graph, i, {}, 1)\n",
    "        if all(item in children.keys() for item in true_nodes) or all(item in children.keys() for item in false_nodes):\n",
    "            hyps.append(i)\n",
    "    return hyps"
   ]
  },
  {
   "cell_type": "code",
   "execution_count": 99,
   "metadata": {},
   "outputs": [],
   "source": [
    "# Something to calculate new markov blanket probabilities- talk with Hana!!"
   ]
  },
  {
   "cell_type": "markdown",
   "metadata": {},
   "source": [
    "## Stuff we're probably not using"
   ]
  },
  {
   "cell_type": "code",
   "execution_count": 90,
   "metadata": {},
   "outputs": [],
   "source": [
    "# adds new true nodes and new false nodes to the graph and then checks for contradictions\n",
    "# only finds direct contraidctions? Should talk with group about this.\n",
    "import copy \n",
    "def findContradictions(graph, new_true_nodes, new_false_nodes, threshold=.5):\n",
    "    new_g = copy.deepcopy(graph)\n",
    "    observeData(new_g, new_true_nodes, new_false_nodes)\n",
    "    edge_attrs = nx.get_edge_attributes(new_g, 'weight')\n",
    "    for i in new_g.nodes():\n",
    "        if 'observed' in new_g.nodes.data()[i]:\n",
    "            if new_g.nodes.data()[i]['observed'] is True:\n",
    "                for x in edge_attrs:\n",
    "                    print(x, x[1], new_g.nodes.data()[x[1]], edge_attrs[x])\n",
    "                    if 'observed' in new_g.nodes.data()[x[1]]:\n",
    "                        if x[0] == i and new_g.nodes.data()[x[1]]['observed'] is False and edge_attrs[x] >= threshold:\n",
    "                            return (i, True, x[1], False, edge_attrs[x])\n",
    "    return \"No contradictions found\""
   ]
  },
  {
   "cell_type": "code",
   "execution_count": 96,
   "metadata": {},
   "outputs": [],
   "source": [
    "# sees if some nodes are independent based on the nodes we are conditioning on\n",
    "# we are only checking for *direct* conditions. chains are not accounted for\n",
    "# since in baysien networks edges are \"direct dependence.\" Should double-check this.\n",
    "def independenceChecker(graph, conditions, nodes):\n",
    "    edges = nx.get_edge_attributes(graph, 'weight')\n",
    "    for i in edges:\n",
    "        if i[1] in nodes and not i[0] in conditions:\n",
    "            return False\n",
    "    return True"
   ]
  },
  {
   "cell_type": "code",
   "execution_count": null,
   "metadata": {},
   "outputs": [],
   "source": []
  }
 ],
 "metadata": {
  "kernelspec": {
   "display_name": "Python 3",
   "language": "python",
   "name": "python3"
  },
  "language_info": {
   "codemirror_mode": {
    "name": "ipython",
    "version": 3
   },
   "file_extension": ".py",
   "mimetype": "text/x-python",
   "name": "python",
   "nbconvert_exporter": "python",
   "pygments_lexer": "ipython3",
   "version": "3.7.3"
  }
 },
 "nbformat": 4,
 "nbformat_minor": 2
}
