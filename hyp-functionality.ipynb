{
 "cells": [
  {
   "cell_type": "markdown",
   "metadata": {},
   "source": [
    "# Hypothesis Functionality\n",
    "\n",
    "## Goals\n",
    "We want a hypothesis that is:\n",
    "- Simple. As few nodes as possible.\n",
    "- Probable. Should have a high probability of being true\n",
    "\n",
    "## Important Functions\n",
    "- Write the Graph\n",
    "- Learn the CPT Table\n",
    "- ObserveData: Should be done after CPT Table is created but before hypothesis testing\n",
    "- findBestExplanation given the observed data and the graph\n",
    "\n",
    "## TO DO:\n"
   ]
  },
  {
   "cell_type": "code",
   "execution_count": 23,
   "metadata": {},
   "outputs": [],
   "source": [
    "from similarityfunctions import *\n",
    "import networkx as nx\n",
    "from itertools import permutations, combinations"
   ]
  },
  {
   "cell_type": "code",
   "execution_count": 14,
   "metadata": {},
   "outputs": [],
   "source": [
    "# add observations to a graph\n",
    "def observeData(graph, true_nodes, false_nodes):\n",
    "    nodes = graph.nodes()\n",
    "    for i in nodes:\n",
    "        if i in true_nodes:\n",
    "            graph.nodes[i]['value'] = 1\n",
    "        elif i in false_nodes:\n",
    "            graph.nodes[i]['value'] = 0\n",
    "        else:\n",
    "            graph.nodes[i]['value'] = None"
   ]
  },
  {
   "cell_type": "code",
   "execution_count": 15,
   "metadata": {},
   "outputs": [],
   "source": [
    "class CPT(object):\n",
    "    \"\"\"\n",
    "    Defines a CPT Class\n",
    "    \"\"\"\n",
    "    def __init__(self, num_parents):\n",
    "        self.num_parents = num_parents\n",
    "        self.CPTable = self.make_table()\n",
    "        \n",
    "    def make_table(self):\n",
    "        CPTable = {}\n",
    "        if self.num_parents > 0:\n",
    "            for i in range(2**self.num_parents):\n",
    "                CPTable[bin(i)] = 0.0\n",
    "        else:\n",
    "            CPTable['self'] = 0.0\n",
    "        return CPTable\n",
    "    \n",
    "    def add_entry(self, parent_values, prob):\n",
    "        # values of nodes sorted in alphabetical order\n",
    "        key = ''\n",
    "        for i in parent_values:\n",
    "            key += str(i)\n",
    "        self.CPTable[bin(int(key, 2))] = prob \n",
    "    \n",
    "    def add_entry_self(self, prob):\n",
    "        self.CPTable['self'] = prob\n",
    "    \n",
    "    def get_entry(self, parent_values, value):\n",
    "        key = ''\n",
    "        for i in parent_values:\n",
    "            key += str(i)\n",
    "        return self.CPTable[bin(int(key, 2))][value]\n",
    "    \n",
    "    def get_entry_bin(self, parent_bin, value):\n",
    "        return self.CPTable[parent_bin][value]\n",
    "    \n",
    "    def get_entry_self(self, value):\n",
    "        return self.CPTable['self'][value]\n",
    "    \n",
    "    def get_table(self):\n",
    "        return self.CPTable"
   ]
  },
  {
   "cell_type": "code",
   "execution_count": 16,
   "metadata": {},
   "outputs": [],
   "source": [
    "from itertools import product\n",
    "def calculateMarginalProbability(blanket, knodes):\n",
    "    sorted_nodes = sorted(blanket.nodes())\n",
    "    # want to calculate P(hyp | obs)\n",
    "    # first, calculate marginal probability of P(hyp, obs, nodes)\n",
    "    \n",
    "    unodes = [item for item in sorted_nodes if (not item in knodes)]\n",
    "    keys = list(product(range(2), repeat=len(unodes)))\n",
    "    prob = 0\n",
    "    for i in keys:\n",
    "        p = 1\n",
    "        for x in sorted_nodes:\n",
    "            # find the parent values of a node\n",
    "            parents = sorted(list(blanket.predecessors(x)))\n",
    "            # if it has parents, get the key and get the probability\n",
    "            if parents:\n",
    "                # get the parents:\n",
    "                parent_values = []\n",
    "                for z in parents:\n",
    "                    if z in knodes:\n",
    "                        parent_values.append(blanket.node[z]['value'])\n",
    "                    else:\n",
    "                        parent_values.append(i[unodes.index(z)])\n",
    "                \n",
    "                parents_key = bin(int(''.join(map(str, parent_values)), 2))\n",
    "                if x in knodes:\n",
    "                    p *= blanket.node[x]['CPT'].get_entry_bin(parents_key, blanket.node[x]['value'])\n",
    "                else:\n",
    "                    p *= blanket.node[x]['CPT'].get_entry_bin(parents_key, i[unodes.index(x)])\n",
    "            # if it doesn't have parents, get the entry for itself based on the node value\n",
    "            else:\n",
    "                if x in knodes:\n",
    "                    p *= blanket.node[x]['CPT'].get_entry_self(blanket.node[x]['value'])\n",
    "                else:\n",
    "                    p *= blanket.node[x]['CPT'].get_entry_self(i[unodes.index(x)])\n",
    "        prob += p\n",
    "    return prob"
   ]
  },
  {
   "cell_type": "code",
   "execution_count": 17,
   "metadata": {},
   "outputs": [],
   "source": [
    "def calculateTotalMarginalProbability(blanket, hyp, obs, bnodes):\n",
    "    # hyp | obs\n",
    "    # obs | hyp\n",
    "    all_obs = []\n",
    "    all_obs += obs\n",
    "    all_obs += hyp\n",
    "    all_obs += bnodes\n",
    "    new_obs = obs + bnodes\n",
    "    num_prob = calculateMarginalProbability(blanket, all_obs)\n",
    "    denom_prob = calculateMarginalProbability(blanket, new_obs)\n",
    "    return num_prob / denom_prob\n",
    "\n",
    "def calculateTotalMarginalProbabilityObs(blanket, hyp, obs, bnodes):\n",
    "    all_obs = []\n",
    "    all_obs += obs\n",
    "    all_obs += hyp\n",
    "    all_obs += bnodes\n",
    "    new_hyp = hyp + bnodes\n",
    "    num_prob = calculateMarginalProbability(blanket, all_obs)\n",
    "    denom_prob = calculateMarginalProbability(blanket, new_hyp)\n",
    "    return num_prob / denom_prob"
   ]
  },
  {
   "cell_type": "code",
   "execution_count": 18,
   "metadata": {},
   "outputs": [],
   "source": [
    "# Finds all possible hypothesis\n",
    "def findHypotheses(graph, observed_nodes, bnodes):\n",
    "    hyps = []\n",
    "    for i in graph.nodes():\n",
    "        children = get_all_children(graph, i, {}, 1)\n",
    "        if all(item in children.keys() for item in observed_nodes):\n",
    "            if not i in bnodes:\n",
    "                hyps.append(i)\n",
    "    return hyps\n",
    "\n",
    "# Finds a bunch of hypothesis. Does nothing yet\n",
    "def findBestExplanation(graph, observed_nodes, bnodes, flipped=False):\n",
    "    hyps = findHypotheses(graph, observed_nodes, bnodes)\n",
    "    hyps_str = \"\".join(hyps)\n",
    "    for i in range(2, len(hyps)+1):\n",
    "        hyps += list(combinations(hyps_str, i))\n",
    "    current_best = (None, 0)\n",
    "    for i in hyps:\n",
    "        if isinstance(i, tuple): \n",
    "            for x in i:\n",
    "                graph.nodes[x]['value'] = 1\n",
    "            if flipped:\n",
    "                prob = calculateTotalMarginalProbabilityObs(graph, list(i), observed_nodes, bnodes)\n",
    "            else:\n",
    "                prob = calculateTotalMarginalProbability(graph, list(i), observed_nodes, bnodes)\n",
    "            for x in i:\n",
    "                graph.nodes[x]['value'] = None\n",
    "        else:\n",
    "            graph.nodes[i]['value'] = 1\n",
    "            if flipped:\n",
    "                prob = calculateTotalMarginalProbabilityObs(graph, list(i), observed_nodes, bnodes)\n",
    "            else:\n",
    "                prob = calculateTotalMarginalProbability(graph, list(i), observed_nodes, bnodes)\n",
    "            graph.nodes[i]['value'] = None\n",
    "        if prob > current_best[1]:\n",
    "            current_best = (i, prob)\n",
    "        print((i, prob))\n",
    "    return current_best"
   ]
  },
  {
   "cell_type": "markdown",
   "metadata": {},
   "source": [
    "## Cost Functions\n",
    "- What do we want to prioritize? \n"
   ]
  },
  {
   "cell_type": "markdown",
   "metadata": {},
   "source": [
    "## Testing"
   ]
  },
  {
   "cell_type": "markdown",
   "metadata": {},
   "source": [
    "### Burgler Tests\n",
    "Based off the example found [HERE](https://www.ics.uci.edu/~rickl/courses/cs-171/2012-wq-cs171/2012-wq-cs171-lecture-slides/2012wq171-17-BayesianNetworks.pdf)"
   ]
  },
  {
   "cell_type": "code",
   "execution_count": 19,
   "metadata": {},
   "outputs": [
    {
     "data": {
      "image/png": "[encoded data removed]",
      "text/plain": [
       "<Figure size 432x288 with 1 Axes>"
      ]
     },
     "metadata": {
      "needs_background": "light"
     },
     "output_type": "display_data"
    }
   ],
   "source": [
    "bdg = nx.DiGraph()\n",
    "bdg.add_nodes_from(['B', 'E', 'A', 'M', 'J'])\n",
    "bdg.add_weighted_edges_from([('B','A', .94002),('E','A', .29066),('A', 'M',.7),('A','J',.9)])\n",
    "nx.draw_networkx(bdg)"
   ]
  },
  {
   "cell_type": "code",
   "execution_count": 20,
   "metadata": {},
   "outputs": [],
   "source": [
    "# learn the CPTable\n",
    "\n",
    "# burglar\n",
    "cpt_B = CPT(0)\n",
    "cpt_B.add_entry_self((1-.001, .001))\n",
    "bdg.node['B']['CPT'] = cpt_B\n",
    "# earthquake\n",
    "cpt_E = CPT(0)\n",
    "cpt_E.add_entry_self((1-.002, .002))\n",
    "bdg.node['E']['CPT'] = cpt_E\n",
    "#alarm\n",
    "cpt_A = CPT(2)\n",
    "cpt_A.add_entry([1, 1], (1-.95, .95))\n",
    "cpt_A.add_entry([1, 0], (1-.94, .94))\n",
    "cpt_A.add_entry([0, 1], (1-.29, .29))\n",
    "cpt_A.add_entry([0, 0], (1-.001, .001))\n",
    "bdg.node['A']['CPT'] = cpt_A\n",
    "#john calls\n",
    "cpt_J = CPT(1)\n",
    "cpt_J.add_entry([1], (1-.9, .9))\n",
    "cpt_J.add_entry([0], (1-.05, .05))\n",
    "bdg.node['J']['CPT'] = cpt_J\n",
    "#mary calls\n",
    "cpt_M = CPT(1)\n",
    "cpt_M.add_entry([1], (1-.7, .7))\n",
    "cpt_M.add_entry([0], (1-.01, .01))\n",
    "bdg.node['M']['CPT'] = cpt_M"
   ]
  },
  {
   "cell_type": "code",
   "execution_count": 21,
   "metadata": {},
   "outputs": [],
   "source": [
    "observeData(bdg, ['A', 'M'], [])"
   ]
  },
  {
   "cell_type": "code",
   "execution_count": 24,
   "metadata": {},
   "outputs": [
    {
     "name": "stdout",
     "output_type": "stream",
     "text": [
      "('B', 0.373551228281836)\n",
      "('E', 0.23100870196889098)\n",
      "(('B', 'E'), 0.0007550342904783817)\n"
     ]
    },
    {
     "data": {
      "text/plain": [
       "('B', 0.373551228281836)"
      ]
     },
     "execution_count": 24,
     "metadata": {},
     "output_type": "execute_result"
    }
   ],
   "source": [
    "findBestExplanation(bdg, ['M', 'A'], [])"
   ]
  },
  {
   "cell_type": "code",
   "execution_count": 25,
   "metadata": {},
   "outputs": [
    {
     "name": "stdout",
     "output_type": "stream",
     "text": [
      "('B', 0.658014)\n",
      "('E', 0.20346199999999998)\n",
      "(('B', 'E'), 0.6649999999999999)\n"
     ]
    },
    {
     "data": {
      "text/plain": [
       "(('B', 'E'), 0.6649999999999999)"
      ]
     },
     "execution_count": 25,
     "metadata": {},
     "output_type": "execute_result"
    }
   ],
   "source": [
    "findBestExplanation(bdg, ['M', 'A'], [], flipped=True)"
   ]
  },
  {
   "cell_type": "markdown",
   "metadata": {},
   "source": [
    "### Sprinkler Tests"
   ]
  },
  {
   "cell_type": "code",
   "execution_count": 26,
   "metadata": {},
   "outputs": [
    {
     "data": {
      "image/png": "[encoded data removed]",
      "text/plain": [
       "<Figure size 432x288 with 1 Axes>"
      ]
     },
     "metadata": {
      "needs_background": "light"
     },
     "output_type": "display_data"
    }
   ],
   "source": [
    "# make the graph\n",
    "sdg = nx.DiGraph()\n",
    "sdg.add_nodes_from(['C', 'S', 'R', 'W'])\n",
    "sdg.add_weighted_edges_from([('C','S', 0),('C','R', 0),('S', 'W', 0),('R','W', 0)])\n",
    "nx.draw_networkx(sdg)"
   ]
  },
  {
   "cell_type": "code",
   "execution_count": 27,
   "metadata": {},
   "outputs": [
    {
     "data": {
      "text/plain": [
       "['C', 'R', 'S', 'W']"
      ]
     },
     "execution_count": 27,
     "metadata": {},
     "output_type": "execute_result"
    }
   ],
   "source": [
    "sorted(list(sdg.nodes()))"
   ]
  },
  {
   "cell_type": "code",
   "execution_count": 28,
   "metadata": {},
   "outputs": [],
   "source": [
    "# learn the CPTable\n",
    "\n",
    "# Cloudy\n",
    "cpt_C = CPT(0)\n",
    "cpt_C.add_entry_self((.5, .5))\n",
    "sdg.node['C']['CPT'] = cpt_C\n",
    "\n",
    "# Rain\n",
    "cpt_R = CPT(1)\n",
    "cpt_R.add_entry([1], (1-.8, .8))\n",
    "cpt_R.add_entry([0], (1-.2, .2))\n",
    "sdg.node['R']['CPT'] = cpt_R\n",
    "\n",
    "# Sprinkler\n",
    "cpt_S = CPT(1)\n",
    "cpt_S.add_entry([1], (1-.1, .1))\n",
    "cpt_S.add_entry([0], (1-.5, .5))\n",
    "sdg.node['S']['CPT'] = cpt_S\n",
    "\n",
    "# Grass Wet\n",
    "cpt_W = CPT(2)\n",
    "cpt_W.add_entry([1, 1], (1-.99, .99))\n",
    "cpt_W.add_entry([1, 0], (1-.9, .9))\n",
    "cpt_W.add_entry([0, 1], (1-.9, .9))\n",
    "cpt_W.add_entry([0, 0], (1, 0))\n",
    "sdg.node['W']['CPT'] = cpt_W"
   ]
  },
  {
   "cell_type": "code",
   "execution_count": 29,
   "metadata": {},
   "outputs": [],
   "source": [
    "# observe the data\n",
    "observeData(sdg, ['W', 'C'], [])"
   ]
  },
  {
   "cell_type": "code",
   "execution_count": 30,
   "metadata": {},
   "outputs": [
    {
     "name": "stdout",
     "output_type": "stream",
     "text": [
      "('S', 0.13043478260869565)\n",
      "('R', 0.9758454106280193)\n",
      "(('S', 'R'), 0.10628019323671498)\n"
     ]
    },
    {
     "data": {
      "text/plain": [
       "('R', 0.9758454106280193)"
      ]
     },
     "execution_count": 30,
     "metadata": {},
     "output_type": "execute_result"
    }
   ],
   "source": [
    "# calculate the total marginal probability (both ways)\n",
    "# hyp | obs\n",
    "findBestExplanation(sdg, ['W'], ['C'])"
   ]
  },
  {
   "cell_type": "code",
   "execution_count": 31,
   "metadata": {},
   "outputs": [
    {
     "name": "stdout",
     "output_type": "stream",
     "text": [
      "('S', 0.9720000000000001)\n",
      "('R', 0.909)\n",
      "(('S', 'R'), 0.9900000000000001)\n"
     ]
    },
    {
     "data": {
      "text/plain": [
       "(('S', 'R'), 0.9900000000000001)"
      ]
     },
     "execution_count": 31,
     "metadata": {},
     "output_type": "execute_result"
    }
   ],
   "source": [
    "# obs | hyp\n",
    "findBestExplanation(sdg, ['W'], ['C'], flipped=True)"
   ]
  },
  {
   "cell_type": "markdown",
   "metadata": {},
   "source": [
    "### Asia Tests"
   ]
  },
  {
   "cell_type": "code",
   "execution_count": 32,
   "metadata": {},
   "outputs": [
    {
     "data": {
      "image/png": "[encoded data removed]",
      "text/plain": [
       "<Figure size 432x288 with 1 Axes>"
      ]
     },
     "metadata": {
      "needs_background": "light"
     },
     "output_type": "display_data"
    }
   ],
   "source": [
    "# make the graph\n",
    "adg = nx.DiGraph()\n",
    "adg.add_nodes_from(['V', 'T', 'S', 'L', 'B', 'O', 'X', 'D'])\n",
    "adg.add_weighted_edges_from([('V','T', 0),('T','O', 0),('O','X', 0),\n",
    "                             ('O','D', 0), ('S','L', 0), ('S','B', 0),\n",
    "                            ('L','O', 0), ('B','D', 0)])\n",
    "nx.draw_networkx(adg)"
   ]
  },
  {
   "cell_type": "code",
   "execution_count": 33,
   "metadata": {},
   "outputs": [
    {
     "data": {
      "text/plain": [
       "['B', 'D', 'L', 'O', 'S', 'T', 'V', 'X']"
      ]
     },
     "execution_count": 33,
     "metadata": {},
     "output_type": "execute_result"
    }
   ],
   "source": [
    "sorted(list(adg.nodes()))"
   ]
  },
  {
   "cell_type": "code",
   "execution_count": 34,
   "metadata": {},
   "outputs": [],
   "source": [
    "# learn the CPTable\n",
    "\n",
    "# Visit to Asia\n",
    "cpt_V = CPT(0)\n",
    "cpt_V.add_entry_self((.99, .01))\n",
    "adg.node['V']['CPT'] = cpt_V\n",
    "\n",
    "# Smoker\n",
    "cpt_S = CPT(0)\n",
    "cpt_S.add_entry_self((.5, .5))\n",
    "adg.node['S']['CPT'] = cpt_S\n",
    "\n",
    "# Tuburculosis\n",
    "cpt_T = CPT(1)\n",
    "cpt_T.add_entry([1], (1-.05, .05))\n",
    "cpt_T.add_entry([0], (1-.01, .01))\n",
    "adg.node['T']['CPT'] = cpt_T\n",
    "\n",
    "# Lung Cancer\n",
    "cpt_L = CPT(1)\n",
    "cpt_L.add_entry([1], (1-.1, .1))\n",
    "cpt_L.add_entry([0], (1-.01, .01))\n",
    "adg.node['L']['CPT'] = cpt_L\n",
    "\n",
    "# Bronchitus\n",
    "cpt_B = CPT(1)\n",
    "cpt_B.add_entry([1], (1-.6, .6))\n",
    "cpt_B.add_entry([0], (1-.3, .3))\n",
    "adg.node['B']['CPT'] = cpt_B\n",
    "\n",
    "# Tub or Cancer\n",
    "cpt_O = CPT(2)\n",
    "cpt_O.add_entry([1, 1], (0, 1))\n",
    "cpt_O.add_entry([1, 0], (0, 1))\n",
    "cpt_O.add_entry([0, 1], (0, 1))\n",
    "cpt_O.add_entry([0, 0], (1, 0))\n",
    "adg.node['O']['CPT'] = cpt_O\n",
    "\n",
    "# Dyspena\n",
    "cpt_D = CPT(2)\n",
    "cpt_D.add_entry([1, 1], (1-.9, .9))\n",
    "cpt_D.add_entry([1, 0], (1-.8, .8))\n",
    "cpt_D.add_entry([0, 1], (1-.7, .7))\n",
    "cpt_D.add_entry([0, 0], (1-.1, .1))\n",
    "adg.node['D']['CPT'] = cpt_D\n",
    "\n",
    "# Xray result\n",
    "cpt_X = CPT(1)\n",
    "cpt_X.add_entry([1], (1-.98, .98))\n",
    "cpt_X.add_entry([0], (1-.05, .05))\n",
    "adg.node['X']['CPT'] = cpt_X"
   ]
  },
  {
   "cell_type": "code",
   "execution_count": 35,
   "metadata": {},
   "outputs": [],
   "source": [
    "# observe the data\n",
    "observeData(adg, ['X'], ['D'])"
   ]
  },
  {
   "cell_type": "code",
   "execution_count": 36,
   "metadata": {},
   "outputs": [
    {
     "name": "stdout",
     "output_type": "stream",
     "text": [
      "('V', 0.01167842004266155)\n",
      "('T', 0.05402128922188351)\n",
      "('S', 0.5132070936531251)\n",
      "('L', 0.252297229882423)\n",
      "('O', 0.30369462791352925)\n",
      "(('V', 'T'), 0.0025971773664367074)\n",
      "(('V', 'S'), 0.0058175258619047295)\n",
      "(('V', 'L'), 0.00252297229882423)\n",
      "(('V', 'O'), 0.0049940010503197255)\n",
      "(('T', 'S'), 0.023151981095092932)\n",
      "(('T', 'L'), 0.0026238911907771993)\n",
      "(('T', 'O'), 0.05402128922188351)\n",
      "(('S', 'L'), 0.22261520283743202)\n",
      "(('S', 'O'), 0.24345198582301567)\n",
      "(('L', 'O'), 0.252297229882423)\n",
      "(('V', 'T', 'S'), 0.0011130760141871603)\n",
      "(('V', 'T', 'L'), 0.0001261486149412115)\n",
      "(('V', 'T', 'O'), 0.0025971773664367074)\n",
      "(('V', 'S', 'L'), 0.0022261520283743206)\n",
      "(('V', 'S', 'O'), 0.0032279204411427647)\n",
      "(('V', 'L', 'O'), 0.00252297229882423)\n",
      "(('T', 'S', 'L'), 0.002315198109509293)\n",
      "(('T', 'S', 'O'), 0.023151981095092932)\n",
      "(('T', 'L', 'O'), 0.0026238911907771993)\n",
      "(('S', 'L', 'O'), 0.22261520283743202)\n",
      "(('V', 'T', 'S', 'L'), 0.00011130760141871604)\n",
      "(('V', 'T', 'S', 'O'), 0.0011130760141871603)\n",
      "(('V', 'T', 'L', 'O'), 0.0001261486149412115)\n",
      "(('V', 'S', 'L', 'O'), 0.0022261520283743206)\n",
      "(('T', 'S', 'L', 'O'), 0.002315198109509293)\n",
      "(('V', 'T', 'S', 'L', 'O'), 0.00011130760141871604)\n"
     ]
    },
    {
     "data": {
      "text/plain": [
       "('S', 0.5132070936531251)"
      ]
     },
     "execution_count": 36,
     "metadata": {},
     "output_type": "execute_result"
    }
   ],
   "source": [
    "findBestExplanation(adg, ['X', 'D'], [])"
   ]
  },
  {
   "cell_type": "code",
   "execution_count": 37,
   "metadata": {},
   "outputs": [
    {
     "name": "stdout",
     "output_type": "stream",
     "text": [
      "('V', 0.046269824999999994)\n",
      "('T', 0.20579999999999996)\n",
      "('S', 0.040666463999999986)\n",
      "('L', 0.18174545454545452)\n",
      "('O', 0.18560439316344782)\n",
      "(('V', 'T'), 0.20579999999999996)\n",
      "(('V', 'S'), 0.04609800000000001)\n",
      "(('V', 'L'), 0.18174545454545452)\n",
      "(('V', 'O'), 0.1935080684596577)\n",
      "(('T', 'S'), 0.17639999999999997)\n",
      "(('T', 'L'), 0.18174545454545454)\n",
      "(('T', 'O'), 0.20579999999999996)\n",
      "(('S', 'L'), 0.17639999999999997)\n",
      "(('S', 'O'), 0.17639999999999997)\n",
      "(('L', 'O'), 0.18174545454545452)\n",
      "(('V', 'T', 'S'), 0.1764)\n",
      "(('V', 'T', 'L'), 0.18174545454545452)\n",
      "(('V', 'T', 'O'), 0.20579999999999996)\n",
      "(('V', 'S', 'L'), 0.17639999999999997)\n",
      "(('V', 'S', 'O'), 0.17639999999999995)\n",
      "(('V', 'L', 'O'), 0.18174545454545452)\n",
      "(('T', 'S', 'L'), 0.17639999999999997)\n",
      "(('T', 'S', 'O'), 0.17639999999999997)\n",
      "(('T', 'L', 'O'), 0.18174545454545454)\n",
      "(('S', 'L', 'O'), 0.17639999999999997)\n",
      "(('V', 'T', 'S', 'L'), 0.1764)\n",
      "(('V', 'T', 'S', 'O'), 0.1764)\n",
      "(('V', 'T', 'L', 'O'), 0.18174545454545452)\n",
      "(('V', 'S', 'L', 'O'), 0.17639999999999997)\n",
      "(('T', 'S', 'L', 'O'), 0.17639999999999997)\n",
      "(('V', 'T', 'S', 'L', 'O'), 0.1764)\n"
     ]
    },
    {
     "data": {
      "text/plain": [
       "('T', 0.20579999999999996)"
      ]
     },
     "execution_count": 37,
     "metadata": {},
     "output_type": "execute_result"
    }
   ],
   "source": [
    "# calculate the total marginal probability (both ways)\n",
    "findBestExplanation(adg, ['X', 'D'], [], flipped=True)"
   ]
  },
  {
   "cell_type": "markdown",
   "metadata": {},
   "source": [
    "## Stuff we're probably not using"
   ]
  },
  {
   "cell_type": "code",
   "execution_count": 38,
   "metadata": {},
   "outputs": [],
   "source": [
    "# adds new true nodes and new false nodes to the graph and then checks for contradictions\n",
    "# only finds direct contraidctions? Should talk with group about this.\n",
    "import copy \n",
    "def findContradictions(graph, new_true_nodes, new_false_nodes, threshold=.5):\n",
    "    new_g = copy.deepcopy(graph)\n",
    "    observeData(new_g, new_true_nodes, new_false_nodes)\n",
    "    edge_attrs = nx.get_edge_attributes(new_g, 'weight')\n",
    "    for i in new_g.nodes():\n",
    "        if 'observed' in new_g.nodes.data()[i]:\n",
    "            if new_g.nodes.data()[i]['observed'] is True:\n",
    "                for x in edge_attrs:\n",
    "                    print(x, x[1], new_g.nodes.data()[x[1]], edge_attrs[x])\n",
    "                    if 'observed' in new_g.nodes.data()[x[1]]:\n",
    "                        if x[0] == i and new_g.nodes.data()[x[1]]['observed'] is False and edge_attrs[x] >= threshold:\n",
    "                            return (i, True, x[1], False, edge_attrs[x])\n",
    "    return \"No contradictions found\""
   ]
  },
  {
   "cell_type": "code",
   "execution_count": 96,
   "metadata": {},
   "outputs": [],
   "source": [
    "# sees if some nodes are independent based on the nodes we are conditioning on\n",
    "# we are only checking for *direct* conditions. chains are not accounted for\n",
    "# since in baysien networks edges are \"direct dependence.\" Should double-check this.\n",
    "def independenceChecker(graph, conditions, nodes):\n",
    "    edges = nx.get_edge_attributes(graph, 'weight')\n",
    "    for i in edges:\n",
    "        if i[1] in nodes and not i[0] in conditions:\n",
    "            return False\n",
    "    return True"
   ]
  },
  {
   "cell_type": "code",
   "execution_count": null,
   "metadata": {},
   "outputs": [],
   "source": [
    "def getMarkovBlanket(graph, obs, hyp):\n",
    "    #generates a new graph (markov blanket) based on the graph, observations, and hypothesis\n",
    "    #get all parent nodes\n",
    "    edge_attrs = nx.get_edge_attributes(graph, 'weight')\n",
    "    new_graph = nx.DiGraph()\n",
    "    new_graph.add_node(hyp)\n",
    "    new_graph.add_nodes_from(obs)\n",
    "    for i in edge_attrs:\n",
    "        if i[0] in obs or i[0] == hyp:\n",
    "            new_graph.add_node(i[1])\n",
    "            new_graph.add_edge(i[0], i[1], weight=edge_attrs[i])\n",
    "        if i[1] in obs or i[1] == hyp:\n",
    "            new_graph.add_node(i[0])\n",
    "            new_graph.add_edge(i[0], i[1], weight=edge_attrs[i])\n",
    "    return new_graph"
   ]
  }
 ],
 "metadata": {
  "kernelspec": {
   "display_name": "Python 3",
   "language": "python",
   "name": "python3"
  },
  "language_info": {
   "codemirror_mode": {
    "name": "ipython",
    "version": 3
   },
   "file_extension": ".py",
   "mimetype": "text/x-python",
   "name": "python",
   "nbconvert_exporter": "python",
   "pygments_lexer": "ipython3",
   "version": "3.7.3"
  }
 },
 "nbformat": 4,
 "nbformat_minor": 2
}
