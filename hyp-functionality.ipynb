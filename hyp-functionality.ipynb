{
 "cells": [
  {
   "cell_type": "markdown",
   "metadata": {},
   "source": [
    "# Hypothesis Functionality\n",
    "\n",
    "## Goals\n",
    "We want a hypothesis that is:\n",
    "- Simple. As few nodes as possible.\n",
    "- Probable. Should have a high probability of being true\n",
    "\n",
    "## Important Functions\n",
    "- Write the Graph\n",
    "- Learn the CPT Table\n",
    "- ObserveData: Should be done after CPT Table is created but before hypothesis testing\n",
    "- GetMarkovBlanket gets the markov blanket of our observed data\n",
    "- GetTotalProbability"
   ]
  },
  {
   "cell_type": "code",
   "execution_count": 1,
   "metadata": {},
   "outputs": [],
   "source": [
    "# add observations to a graph\n",
    "def observeData(graph, true_nodes, false_nodes):\n",
    "    nodes = graph.nodes()\n",
    "    for i in nodes:\n",
    "        if i in true_nodes:\n",
    "            graph.nodes[i]['value'] = True\n",
    "        if i in false_nodes:\n",
    "            graph.nodes[i]['value'] = False\n",
    "        else:\n",
    "            graph.nodes[i]['value'] = 0"
   ]
  },
  {
   "cell_type": "code",
   "execution_count": 2,
   "metadata": {},
   "outputs": [],
   "source": [
    "class CPT(object):\n",
    "    \"\"\"\n",
    "    Defines a CPT Class\n",
    "    \"\"\"\n",
    "    def __init__(self, num_parents):\n",
    "        self.num_parents = num_parents\n",
    "        self.CPTable = self.make_table()\n",
    "        \n",
    "    def make_table(self):\n",
    "        CPTable = {}\n",
    "        if self.num_parents > 0:\n",
    "            for i in range(2**self.num_parents):\n",
    "                CPTable[bin(i)] = 0.0\n",
    "        else:\n",
    "            CPTable['self'] = 0.0\n",
    "        return CPTable\n",
    "    \n",
    "    def add_entry(self, parent_values, prob):\n",
    "        # values of nodes sorted in alphabetical order\n",
    "        key = ''\n",
    "        for i in parent_values:\n",
    "            key += str(i)\n",
    "        self.CPTable[bin(int(key, 2))] = prob \n",
    "    \n",
    "    def add_entry_self(self, prob):\n",
    "        self.CPTable['self'] = prob\n",
    "    \n",
    "    def get_entry(self, parent_values):\n",
    "        key = ''\n",
    "        for i in parent_values:\n",
    "            key += str(i)\n",
    "        return self.CPTable[bin(int(key, 2))]\n",
    "    \n",
    "    def get_entry_bin(self, parent_bin):\n",
    "        return self.CPTable[parent_bin]\n",
    "    \n",
    "    def get_entry_self(self):\n",
    "        return self.CPTable['self']\n",
    "    \n",
    "    def get_table(self):\n",
    "        return self.CPTable"
   ]
  },
  {
   "cell_type": "code",
   "execution_count": 3,
   "metadata": {},
   "outputs": [],
   "source": [
    "def getMarkovBlanket(graph, obs, hyp):\n",
    "    #generates a new graph (markov blanket) based on the graph, observations, and hypothesis\n",
    "    #get all parent nodes\n",
    "    edge_attrs = nx.get_edge_attributes(graph, 'weight')\n",
    "    new_graph = nx.DiGraph()\n",
    "    new_graph.add_node(hyp)\n",
    "    new_graph.add_nodes_from(obs)\n",
    "    for i in edge_attrs:\n",
    "        if i[0] in obs or i[0] == hyp:\n",
    "            new_graph.add_node(i[1])\n",
    "            new_graph.add_edge(i[0], i[1], weight=edge_attrs[i])\n",
    "        if i[1] in obs or i[1] == hyp:\n",
    "            new_graph.add_node(i[0])\n",
    "            new_graph.add_edge(i[0], i[1], weight=edge_attrs[i])\n",
    "    return new_graph"
   ]
  },
  {
   "cell_type": "code",
   "execution_count": 8,
   "metadata": {},
   "outputs": [],
   "source": [
    "def calculateTotalProbability(blanket, hyp, obs):\n",
    "    #calculate node probability given children\n",
    "    # want to calculate hyp | obs\n",
    "    # the way i do this is kind of crazy. \n",
    "    sorted_nodes = sorted(blanket.nodes())\n",
    "    num_prob = 0\n",
    "    ## [blanket.predecessors(item) for item in sorted_nodes if (item != hyp or not item in obs)]\n",
    "    preds = [blanket.predecessors(item) for item in sorted_nodes]\n",
    "    no_preds = [item for item in sorted_nodes if len(list(blanket.predecessors(item))) == 0]\n",
    "    num = 2**sum([len(list(item)) for item in preds])\n",
    "    for i in range(num):\n",
    "        bin_num = bin(num)\n",
    "        str_bin_num = str(bin_num)[2:]\n",
    "        total_len_so_far = 0\n",
    "        total = 1\n",
    "        for x in sorted_nodes:\n",
    "            if not x in no_preds:\n",
    "                key = str_bin_num[total_len_so_far:total_len_so_far + len(x)]\n",
    "                total *= blanket.node[x]['CPT'].get_entry_bin(bin(int(key, 2)))\n",
    "        for z in no_preds:\n",
    "            total *= blanket.node[z]['CPT'].get_entry_self()\n",
    "        num_prob += total\n",
    "        \n",
    "    denom_prob = 0 \n",
    "    preds = [blanket.predecessors(item) for item in sorted_nodes if (item != hyp)]\n",
    "    num = 2**sum([len(list(item)) for item in preds])\n",
    "    for i in range(num):\n",
    "        bin_num = bin(num)\n",
    "        str_bin_num = str(bin_num)[2:]\n",
    "        total_len_so_far = 0\n",
    "        total = 1\n",
    "        for x in sorted_nodes:\n",
    "            if x != hyp and not x in no_preds:\n",
    "                key = str_bin_num[total_len_so_far:total_len_so_far + len(x)]\n",
    "                print(blanket.node[x]['CPT'].get_entry_bin(bin(int(key, 2))))\n",
    "                print(blanket.node[x]['CPT'].get_table())\n",
    "                print(key)\n",
    "                total *= blanket.node[x]['CPT'].get_entry_bin(bin(int(key, 2)))\n",
    "            for z in no_preds:\n",
    "                total *= blanket.node[z]['CPT'].get_entry_self()\n",
    "            denom_prob += total\n",
    "    return num_prob/denom_prob"
   ]
  },
  {
   "cell_type": "markdown",
   "metadata": {},
   "source": [
    "## Testing Things\n",
    "### Making the graph! \n",
    "- Based off the example found [HERE](https://www.ics.uci.edu/~rickl/courses/cs-171/2012-wq-cs171/2012-wq-cs171-lecture-slides/2012wq171-17-BayesianNetworks.pdf)"
   ]
  },
  {
   "cell_type": "code",
   "execution_count": 9,
   "metadata": {},
   "outputs": [
    {
     "data": {
      "image/png": "[encoded data removed]",
      "text/plain": [
       "<Figure size 432x288 with 1 Axes>"
      ]
     },
     "metadata": {
      "needs_background": "light"
     },
     "output_type": "display_data"
    }
   ],
   "source": [
    "from similarityfunctions import *\n",
    "import networkx as nx\n",
    "from itertools import permutations\n",
    "dg = nx.DiGraph()\n",
    "dg.add_nodes_from(['B', 'E', 'A', 'M', 'J'])\n",
    "dg.add_edges_from([('B','A'),('E','A'),('A', 'M'),('A','J')])\n",
    "nx.draw_networkx(dg)"
   ]
  },
  {
   "cell_type": "markdown",
   "metadata": {},
   "source": [
    "### Learning the CPTable"
   ]
  },
  {
   "cell_type": "code",
   "execution_count": 10,
   "metadata": {},
   "outputs": [],
   "source": [
    "# burglar\n",
    "cpt_B = CPT(0)\n",
    "cpt_B.add_entry_self(.001)\n",
    "dg.node['B']['CPT'] = cpt_B\n",
    "# earthquake\n",
    "cpt_E = CPT(0)\n",
    "cpt_E.add_entry_self(.002)\n",
    "dg.node['E']['CPT'] = cpt_E\n",
    "#alarm\n",
    "cpt_A = CPT(2)\n",
    "cpt_A.add_entry([1, 1], .95)\n",
    "cpt_A.add_entry([1, 0], .94)\n",
    "cpt_A.add_entry([0, 1], .29)\n",
    "cpt_A.add_entry([0, 0], .001)\n",
    "dg.node['A']['CPT'] = cpt_A\n",
    "#john calls\n",
    "cpt_J = CPT(1)\n",
    "cpt_J.add_entry([1], .9)\n",
    "cpt_J.add_entry([0], .05)\n",
    "dg.node['J']['CPT'] = cpt_J\n",
    "#mary calls\n",
    "cpt_M = CPT(1)\n",
    "cpt_M.add_entry([1], .7)\n",
    "cpt_M.add_entry([0], .01)\n",
    "dg.node['M']['CPT'] = cpt_M"
   ]
  },
  {
   "cell_type": "markdown",
   "metadata": {},
   "source": [
    "### Finding probabilities (fingers crossed!)"
   ]
  },
  {
   "cell_type": "code",
   "execution_count": 11,
   "metadata": {},
   "outputs": [
    {
     "name": "stdout",
     "output_type": "stream",
     "text": [
      "0.29\n",
      "{'0b0': 0.001, '0b1': 0.29, '0b10': 0.94, '0b11': 0.95}\n",
      "1\n",
      "0.9\n",
      "{'0b0': 0.05, '0b1': 0.9}\n",
      "1\n",
      "0.7\n",
      "{'0b0': 0.01, '0b1': 0.7}\n",
      "1\n",
      "0.29\n",
      "{'0b0': 0.001, '0b1': 0.29, '0b10': 0.94, '0b11': 0.95}\n",
      "1\n",
      "0.9\n",
      "{'0b0': 0.05, '0b1': 0.9}\n",
      "1\n",
      "0.7\n",
      "{'0b0': 0.01, '0b1': 0.7}\n",
      "1\n",
      "0.29\n",
      "{'0b0': 0.001, '0b1': 0.29, '0b10': 0.94, '0b11': 0.95}\n",
      "1\n",
      "0.9\n",
      "{'0b0': 0.05, '0b1': 0.9}\n",
      "1\n",
      "0.7\n",
      "{'0b0': 0.01, '0b1': 0.7}\n",
      "1\n",
      "0.29\n",
      "{'0b0': 0.001, '0b1': 0.29, '0b10': 0.94, '0b11': 0.95}\n",
      "1\n",
      "0.9\n",
      "{'0b0': 0.05, '0b1': 0.9}\n",
      "1\n",
      "0.7\n",
      "{'0b0': 0.01, '0b1': 0.7}\n",
      "1\n",
      "0.29\n",
      "{'0b0': 0.001, '0b1': 0.29, '0b10': 0.94, '0b11': 0.95}\n",
      "1\n",
      "0.9\n",
      "{'0b0': 0.05, '0b1': 0.9}\n",
      "1\n",
      "0.7\n",
      "{'0b0': 0.01, '0b1': 0.7}\n",
      "1\n",
      "0.29\n",
      "{'0b0': 0.001, '0b1': 0.29, '0b10': 0.94, '0b11': 0.95}\n",
      "1\n",
      "0.9\n",
      "{'0b0': 0.05, '0b1': 0.9}\n",
      "1\n",
      "0.7\n",
      "{'0b0': 0.01, '0b1': 0.7}\n",
      "1\n",
      "0.29\n",
      "{'0b0': 0.001, '0b1': 0.29, '0b10': 0.94, '0b11': 0.95}\n",
      "1\n",
      "0.9\n",
      "{'0b0': 0.05, '0b1': 0.9}\n",
      "1\n",
      "0.7\n",
      "{'0b0': 0.01, '0b1': 0.7}\n",
      "1\n",
      "0.29\n",
      "{'0b0': 0.001, '0b1': 0.29, '0b10': 0.94, '0b11': 0.95}\n",
      "1\n",
      "0.9\n",
      "{'0b0': 0.05, '0b1': 0.9}\n",
      "1\n",
      "0.7\n",
      "{'0b0': 0.01, '0b1': 0.7}\n",
      "1\n",
      "0.29\n",
      "{'0b0': 0.001, '0b1': 0.29, '0b10': 0.94, '0b11': 0.95}\n",
      "1\n",
      "0.9\n",
      "{'0b0': 0.05, '0b1': 0.9}\n",
      "1\n",
      "0.7\n",
      "{'0b0': 0.01, '0b1': 0.7}\n",
      "1\n",
      "0.29\n",
      "{'0b0': 0.001, '0b1': 0.29, '0b10': 0.94, '0b11': 0.95}\n",
      "1\n",
      "0.9\n",
      "{'0b0': 0.05, '0b1': 0.9}\n",
      "1\n",
      "0.7\n",
      "{'0b0': 0.01, '0b1': 0.7}\n",
      "1\n",
      "0.29\n",
      "{'0b0': 0.001, '0b1': 0.29, '0b10': 0.94, '0b11': 0.95}\n",
      "1\n",
      "0.9\n",
      "{'0b0': 0.05, '0b1': 0.9}\n",
      "1\n",
      "0.7\n",
      "{'0b0': 0.01, '0b1': 0.7}\n",
      "1\n",
      "0.29\n",
      "{'0b0': 0.001, '0b1': 0.29, '0b10': 0.94, '0b11': 0.95}\n",
      "1\n",
      "0.9\n",
      "{'0b0': 0.05, '0b1': 0.9}\n",
      "1\n",
      "0.7\n",
      "{'0b0': 0.01, '0b1': 0.7}\n",
      "1\n",
      "0.29\n",
      "{'0b0': 0.001, '0b1': 0.29, '0b10': 0.94, '0b11': 0.95}\n",
      "1\n",
      "0.9\n",
      "{'0b0': 0.05, '0b1': 0.9}\n",
      "1\n",
      "0.7\n",
      "{'0b0': 0.01, '0b1': 0.7}\n",
      "1\n",
      "0.29\n",
      "{'0b0': 0.001, '0b1': 0.29, '0b10': 0.94, '0b11': 0.95}\n",
      "1\n",
      "0.9\n",
      "{'0b0': 0.05, '0b1': 0.9}\n",
      "1\n",
      "0.7\n",
      "{'0b0': 0.01, '0b1': 0.7}\n",
      "1\n",
      "0.29\n",
      "{'0b0': 0.001, '0b1': 0.29, '0b10': 0.94, '0b11': 0.95}\n",
      "1\n",
      "0.9\n",
      "{'0b0': 0.05, '0b1': 0.9}\n",
      "1\n",
      "0.7\n",
      "{'0b0': 0.01, '0b1': 0.7}\n",
      "1\n",
      "0.29\n",
      "{'0b0': 0.001, '0b1': 0.29, '0b10': 0.94, '0b11': 0.95}\n",
      "1\n",
      "0.9\n",
      "{'0b0': 0.05, '0b1': 0.9}\n",
      "1\n",
      "0.7\n",
      "{'0b0': 0.01, '0b1': 0.7}\n",
      "1\n"
     ]
    },
    {
     "data": {
      "text/plain": [
       "0.62999874"
      ]
     },
     "execution_count": 11,
     "metadata": {},
     "output_type": "execute_result"
    }
   ],
   "source": [
    "calculateTotalProbability(dg, 'B', ['M', 'J'])"
   ]
  },
  {
   "cell_type": "markdown",
   "metadata": {},
   "source": [
    "## Stuff to Implement Soon"
   ]
  },
  {
   "cell_type": "code",
   "execution_count": 97,
   "metadata": {},
   "outputs": [],
   "source": [
    "# Finds a bunch of hypothesis. Does nothing yet\n",
    "def findBestExplanation(graph, true_nodes, false_nodes):\n",
    "    hyps = findHypothesis(graph, true_nodes, false_nodes)"
   ]
  },
  {
   "cell_type": "code",
   "execution_count": 98,
   "metadata": {},
   "outputs": [],
   "source": [
    "# Finds all possible hypothesis\n",
    "def findHypotheses(graph, true_nodes, false_nodes):\n",
    "    hyps = []\n",
    "    for i in graph.nodes():\n",
    "        children = get_all_children(graph, i, {}, 1)\n",
    "        if all(item in children.keys() for item in true_nodes) and not any(item in children.keys() for item in false_nodes):\n",
    "            hyps.append(i)\n",
    "    return hyps"
   ]
  },
  {
   "cell_type": "code",
   "execution_count": 99,
   "metadata": {},
   "outputs": [],
   "source": [
    "# Something to calculate new markov blanket probabilities- talk with Hana!!"
   ]
  },
  {
   "cell_type": "markdown",
   "metadata": {},
   "source": [
    "## Stuff we're probably not using"
   ]
  },
  {
   "cell_type": "code",
   "execution_count": 90,
   "metadata": {},
   "outputs": [],
   "source": [
    "# adds new true nodes and new false nodes to the graph and then checks for contradictions\n",
    "# only finds direct contraidctions? Should talk with group about this.\n",
    "import copy \n",
    "def findContradictions(graph, new_true_nodes, new_false_nodes, threshold=.5):\n",
    "    new_g = copy.deepcopy(graph)\n",
    "    observeData(new_g, new_true_nodes, new_false_nodes)\n",
    "    edge_attrs = nx.get_edge_attributes(new_g, 'weight')\n",
    "    for i in new_g.nodes():\n",
    "        if 'observed' in new_g.nodes.data()[i]:\n",
    "            if new_g.nodes.data()[i]['observed'] is True:\n",
    "                for x in edge_attrs:\n",
    "                    print(x, x[1], new_g.nodes.data()[x[1]], edge_attrs[x])\n",
    "                    if 'observed' in new_g.nodes.data()[x[1]]:\n",
    "                        if x[0] == i and new_g.nodes.data()[x[1]]['observed'] is False and edge_attrs[x] >= threshold:\n",
    "                            return (i, True, x[1], False, edge_attrs[x])\n",
    "    return \"No contradictions found\""
   ]
  },
  {
   "cell_type": "code",
   "execution_count": 96,
   "metadata": {},
   "outputs": [],
   "source": [
    "# sees if some nodes are independent based on the nodes we are conditioning on\n",
    "# we are only checking for *direct* conditions. chains are not accounted for\n",
    "# since in baysien networks edges are \"direct dependence.\" Should double-check this.\n",
    "def independenceChecker(graph, conditions, nodes):\n",
    "    edges = nx.get_edge_attributes(graph, 'weight')\n",
    "    for i in edges:\n",
    "        if i[1] in nodes and not i[0] in conditions:\n",
    "            return False\n",
    "    return True"
   ]
  },
  {
   "cell_type": "code",
   "execution_count": null,
   "metadata": {},
   "outputs": [],
   "source": []
  }
 ],
 "metadata": {
  "kernelspec": {
   "display_name": "Python 3",
   "language": "python",
   "name": "python3"
  },
  "language_info": {
   "codemirror_mode": {
    "name": "ipython",
    "version": 3
   },
   "file_extension": ".py",
   "mimetype": "text/x-python",
   "name": "python",
   "nbconvert_exporter": "python",
   "pygments_lexer": "ipython3",
   "version": "3.7.3"
  }
 },
 "nbformat": 4,
 "nbformat_minor": 2
}
