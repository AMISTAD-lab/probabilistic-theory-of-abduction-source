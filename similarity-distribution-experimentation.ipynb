{
 "cells": [
  {
   "cell_type": "code",
   "execution_count": 1,
   "metadata": {},
   "outputs": [],
   "source": [
    "# stuff to import\n",
    "import networkx as nx\n",
    "import matplotlib.pyplot as plt"
   ]
  },
  {
   "cell_type": "markdown",
   "metadata": {},
   "source": [
    "# Similarity"
   ]
  },
  {
   "cell_type": "markdown",
   "metadata": {},
   "source": [
    "## Jaccard Index Similarity"
   ]
  },
  {
   "cell_type": "code",
   "execution_count": 3,
   "metadata": {},
   "outputs": [],
   "source": [
    "# get all children in a dictionary including their respective weights (chains taken into account)\n",
    "def get_all_children(graph, parent, children_dict={}, carry=1):\n",
    "    weights = nx.get_edge_attributes(graph, 'weight')\n",
    "    for i in graph.out_edges(parent):\n",
    "        children_dict[i[1]] = carry*weights[i]\n",
    "        get_all_children(graph, i[1], children_dict=children_dict, carry=weights[i])\n",
    "    return children_dict"
   ]
  },
  {
   "cell_type": "code",
   "execution_count": 4,
   "metadata": {},
   "outputs": [],
   "source": [
    "# all children of rain\n",
    "def calculate_intersection(graph, children_a, children_b):\n",
    "    inter = 0\n",
    "    for i in children_a:\n",
    "        if i in children_b:\n",
    "            if children_a[i] < children_b[i]:\n",
    "                inter += children_a[i]\n",
    "            else:\n",
    "                inter += children_b[i]\n",
    "    return inter  "
   ]
  },
  {
   "cell_type": "code",
   "execution_count": 5,
   "metadata": {},
   "outputs": [],
   "source": [
    "# helper func to calculate the union using method 1\n",
    "def calculate_union_1(graph, children_a, children_b):\n",
    "    union = 0\n",
    "    for i in children_a:\n",
    "        union += children_a[i]\n",
    "    for i in children_b:\n",
    "        union += children_b[i]\n",
    "    union -= calculate_intersection(graph, children_a, children_b)\n",
    "    return union"
   ]
  },
  {
   "cell_type": "code",
   "execution_count": 6,
   "metadata": {},
   "outputs": [],
   "source": [
    "# helper func to calculate the union using method 2\n",
    "def calculate_union_2(graph, children_a, children_b):\n",
    "    union = 0\n",
    "    for i in children_a:\n",
    "        if i in children_b:\n",
    "            union += abs(children_a[i] - children_b[i])\n",
    "        else:\n",
    "            union += children_a[i]\n",
    "    for i in children_b:\n",
    "        if not i in children_a:\n",
    "            union += children_b[i]\n",
    "    return union"
   ]
  },
  {
   "cell_type": "code",
   "execution_count": 7,
   "metadata": {},
   "outputs": [],
   "source": [
    "# calculate the similarity, compares both methods\n",
    "def calculate_similarity(graph, node_a, node_b):\n",
    "    children_a = get_all_children(DG, node_a, {})\n",
    "    children_b = get_all_children(DG, node_b, {})\n",
    "    intersection = calculate_intersection(graph, children_a, children_b)\n",
    "    union_1 = calculate_union_1(graph, children_a, children_b)\n",
    "    union_2 = calculate_union_2(graph, children_a, children_b)\n",
    "    results = {\"method 1\": intersection/union_1, \"method 2\": intersection/union_2}\n",
    "    return results"
   ]
  },
  {
   "cell_type": "markdown",
   "metadata": {},
   "source": [
    "## Other Similarity"
   ]
  },
  {
   "cell_type": "code",
   "execution_count": 8,
   "metadata": {},
   "outputs": [],
   "source": [
    "# nx.algorithms.similarity.simrank_similarity(graph, source=\"node_a\", target=\"node_b\")"
   ]
  },
  {
   "cell_type": "code",
   "execution_count": null,
   "metadata": {},
   "outputs": [],
   "source": []
  },
  {
   "cell_type": "markdown",
   "metadata": {},
   "source": [
    "# Edit Distance"
   ]
  },
  {
   "cell_type": "code",
   "execution_count": null,
   "metadata": {},
   "outputs": [],
   "source": [
    "def find_node_children_subgraph(graph, snode, childgraph):\n",
    "    cnodes = graph.neighbors(snode)\n",
    "    edges = nx.edges(graph)\n",
    "    for i in cnodes:\n",
    "        childgraph.add_node(i)\n",
    "        childgraph.add_edge(snode, i)\n",
    "        childgraph = find_node_children_subgraph(graph, i, childgraph)\n",
    "    return childgraph"
   ]
  },
  {
   "cell_type": "markdown",
   "metadata": {},
   "source": [
    "### Other Edit Distance"
   ]
  },
  {
   "cell_type": "code",
   "execution_count": 9,
   "metadata": {},
   "outputs": [],
   "source": [
    "# nx.graph_edit_distance(Graph1, Graph2)"
   ]
  },
  {
   "cell_type": "code",
   "execution_count": null,
   "metadata": {},
   "outputs": [],
   "source": []
  }
 ],
 "metadata": {
  "kernelspec": {
   "display_name": "Python 3",
   "language": "python",
   "name": "python3"
  },
  "language_info": {
   "codemirror_mode": {
    "name": "ipython",
    "version": 3
   },
   "file_extension": ".py",
   "mimetype": "text/x-python",
   "name": "python",
   "nbconvert_exporter": "python",
   "pygments_lexer": "ipython3",
   "version": "3.7.3"
  }
 },
 "nbformat": 4,
 "nbformat_minor": 4
}
