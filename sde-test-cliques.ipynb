{
 "cells": [
  {
   "cell_type": "markdown",
   "metadata": {},
   "source": [
    "# Graphical Models: Similarity Distribution Experimentation"
   ]
  },
  {
   "cell_type": "code",
   "execution_count": 15,
   "metadata": {},
   "outputs": [],
   "source": [
    "# Import necessary libraries\n",
    "from sde import *"
   ]
  },
  {
   "cell_type": "markdown",
   "metadata": {},
   "source": [
    "## Experiment"
   ]
  },
  {
   "cell_type": "markdown",
   "metadata": {},
   "source": [
    "### make directed graph"
   ]
  },
  {
   "cell_type": "code",
   "execution_count": 16,
   "metadata": {},
   "outputs": [
    {
     "data": {
      "text/plain": [
       "OutEdgeView([(0, 8), (1, 5), (2, 10), (3, 12), (5, 14), (8, 7), (8, 13), (9, 5), (9, 10), (9, 13), (9, 2), (11, 10), (11, 0), (12, 3), (13, 4)])"
      ]
     },
     "execution_count": 16,
     "metadata": {},
     "output_type": "execute_result"
    }
   ],
   "source": [
    "g = makeDirectedGraph(15, 17)\n",
    "nx.edges(g)"
   ]
  },
  {
   "cell_type": "code",
   "execution_count": 17,
   "metadata": {},
   "outputs": [
    {
     "data": {
      "image/png": "[encoded data removed]",
      "text/plain": [
       "<Figure size 432x288 with 1 Axes>"
      ]
     },
     "metadata": {},
     "output_type": "display_data"
    }
   ],
   "source": [
    "nx.draw_networkx(g)"
   ]
  },
  {
   "cell_type": "code",
   "execution_count": 18,
   "metadata": {},
   "outputs": [
    {
     "data": {
      "text/plain": [
       "{(0, 8): 0.10705481082284529,\n",
       " (1, 5): 0.33789950082167586,\n",
       " (2, 10): 0.20042539272764914,\n",
       " (3, 12): 0.0027635293534530314,\n",
       " (5, 14): 0.9337957965416462,\n",
       " (8, 7): 0.3165671855854175,\n",
       " (8, 13): 0.6306370273480687,\n",
       " (9, 5): 0.6652249756886771,\n",
       " (9, 10): 0.04034587693959979,\n",
       " (9, 13): 0.021458901906325933,\n",
       " (9, 2): 0.9665335215008626,\n",
       " (11, 10): 0.7037568337021488,\n",
       " (11, 0): 0.9247423800060931,\n",
       " (12, 3): 0.7322693029704619,\n",
       " (13, 4): 0.9243059023924293}"
      ]
     },
     "execution_count": 18,
     "metadata": {},
     "output_type": "execute_result"
    }
   ],
   "source": [
    "nx.get_edge_attributes(g, 'weight')"
   ]
  },
  {
   "cell_type": "code",
   "execution_count": 19,
   "metadata": {},
   "outputs": [],
   "source": [
    "# clique size\n",
    "import itertools as it\n",
    "from networkx.algorithms import approximation\n",
    "from networkx.algorithms.approximation import clique"
   ]
  },
  {
   "cell_type": "code",
   "execution_count": 20,
   "metadata": {},
   "outputs": [
    {
     "name": "stdout",
     "output_type": "stream",
     "text": [
      "{9, 13}\n"
     ]
    }
   ],
   "source": [
    "max_clique = clique.max_clique(g)\n",
    "print(max_clique)"
   ]
  },
  {
   "cell_type": "markdown",
   "metadata": {},
   "source": [
    "# Finding the largest size clique"
   ]
  },
  {
   "cell_type": "markdown",
   "metadata": {},
   "source": [
    "# Similarity Implementation: Edit-Distance"
   ]
  },
  {
   "cell_type": "code",
   "execution_count": 21,
   "metadata": {},
   "outputs": [
    {
     "name": "stdout",
     "output_type": "stream",
     "text": [
      "9\n",
      "13\n"
     ]
    }
   ],
   "source": [
    "list_max_clique  = list(max_clique)\n",
    "A = list_max_clique[0]\n",
    "B = list_max_clique[1]\n",
    "\n",
    "print(A)\n",
    "print(B)"
   ]
  },
  {
   "cell_type": "code",
   "execution_count": 22,
   "metadata": {},
   "outputs": [
    {
     "data": {
      "text/plain": [
       "{0: 0.17432437623921526,\n",
       " 12: 0.141006931853849,\n",
       " 2: 0.9665335215008626,\n",
       " 9: 0.26879426888764013,\n",
       " 5: 0.6652249756886771,\n",
       " 14: 0.6211842860526054,\n",
       " 10: 0.1937178606312481,\n",
       " 13: 0.021458901906325933,\n",
       " 4: 0.019834589690877213}"
      ]
     },
     "execution_count": 22,
     "metadata": {},
     "output_type": "execute_result"
    }
   ],
   "source": [
    "a = get_all_children(g, A)\n",
    "a"
   ]
  },
  {
   "cell_type": "code",
   "execution_count": 23,
   "metadata": {},
   "outputs": [
    {
     "data": {
      "text/plain": [
       "{0: 0.17432437623921526,\n",
       " 12: 0.141006931853849,\n",
       " 2: 0.9665335215008626,\n",
       " 9: 0.26879426888764013,\n",
       " 5: 0.6652249756886771,\n",
       " 14: 0.6211842860526054,\n",
       " 10: 0.1937178606312481,\n",
       " 13: 0.021458901906325933,\n",
       " 4: 0.9243059023924293}"
      ]
     },
     "execution_count": 23,
     "metadata": {},
     "output_type": "execute_result"
    }
   ],
   "source": [
    "b = get_all_children(g,B)\n",
    "b"
   ]
  },
  {
   "cell_type": "markdown",
   "metadata": {},
   "source": [
    "Edit distance by a node's child"
   ]
  },
  {
   "cell_type": "code",
   "execution_count": 24,
   "metadata": {},
   "outputs": [
    {
     "data": {
      "text/plain": [
       "1.0"
      ]
     },
     "execution_count": 24,
     "metadata": {},
     "output_type": "execute_result"
    }
   ],
   "source": [
    "get_immediate_similarity(g, A, B)"
   ]
  },
  {
   "cell_type": "code",
   "execution_count": 25,
   "metadata": {},
   "outputs": [
    {
     "data": {
      "text/plain": [
       "2"
      ]
     },
     "execution_count": 25,
     "metadata": {},
     "output_type": "execute_result"
    }
   ],
   "source": [
    "find_most_immediate_similar(g, A)"
   ]
  },
  {
   "cell_type": "code",
   "execution_count": 26,
   "metadata": {},
   "outputs": [],
   "source": [
    "#find_most_immediate_similar(g, B)"
   ]
  },
  {
   "cell_type": "code",
   "execution_count": 27,
   "metadata": {},
   "outputs": [
    {
     "name": "stdout",
     "output_type": "stream",
     "text": [
      "Node: 0\n",
      "Similarity: 1.0\n",
      "\n",
      "Node: 1\n",
      "Similarity: 0.8318313687167503\n",
      "\n",
      "Node: 2\n",
      "Similarity: 0.7900198789470123\n",
      "\n",
      "Node: 3\n",
      "Similarity: 1.0\n",
      "\n",
      "Node: 4\n",
      "Similarity: 1.0\n",
      "\n",
      "Node: 5\n",
      "Similarity: 1.0\n",
      "\n",
      "Node: 6\n",
      "Similarity: 1.0\n",
      "\n",
      "Node: 7\n",
      "Similarity: 1.0\n",
      "\n",
      "Node: 8\n",
      "Similarity: 0.9022945313604357\n",
      "\n",
      "Node: 10\n",
      "Similarity: 1.0\n",
      "\n",
      "Node: 11\n",
      "Similarity: 0.9158527391906373\n",
      "\n",
      "Node: 12\n",
      "Similarity: 1.0\n",
      "\n",
      "Node: 13\n",
      "Similarity: 1.0\n",
      "\n",
      "Node: 14\n",
      "Similarity: 1.0\n",
      "\n"
     ]
    }
   ],
   "source": [
    "nodes = list(g.nodes)\n",
    "nodes.remove(A)\n",
    "\n",
    "for node in nodes:\n",
    "    node_similarity = get_immediate_similarity(g, A, node)\n",
    "    print(\"Node:\", node)\n",
    "    print(\"Similarity:\", node_similarity)\n",
    "    print()"
   ]
  },
  {
   "cell_type": "markdown",
   "metadata": {},
   "source": [
    "Edit-distance similarity implementation based on all descendants of a node."
   ]
  },
  {
   "cell_type": "code",
   "execution_count": 28,
   "metadata": {},
   "outputs": [
    {
     "data": {
      "text/plain": [
       "{5: 0.6652249756886771,\n",
       " 14: 0.6211842860526054,\n",
       " 10: 0.1937178606312481,\n",
       " 13: 0.021458901906325933,\n",
       " 4: 0.019834589690877213,\n",
       " 2: 0.9665335215008626}"
      ]
     },
     "execution_count": 28,
     "metadata": {},
     "output_type": "execute_result"
    }
   ],
   "source": [
    "A_desc = get_descendants(g, A)\n",
    "A_desc"
   ]
  },
  {
   "cell_type": "code",
   "execution_count": 29,
   "metadata": {},
   "outputs": [
    {
     "data": {
      "text/plain": [
       "{5: 0.6652249756886771,\n",
       " 14: 0.6211842860526054,\n",
       " 10: 0.1937178606312481,\n",
       " 13: 0.021458901906325933,\n",
       " 4: 0.9243059023924293,\n",
       " 2: 0.9665335215008626}"
      ]
     },
     "execution_count": 29,
     "metadata": {},
     "output_type": "execute_result"
    }
   ],
   "source": [
    "B_desc = get_descendants(g, B)\n",
    "B_desc"
   ]
  },
  {
   "cell_type": "code",
   "execution_count": 30,
   "metadata": {},
   "outputs": [
    {
     "data": {
      "text/plain": [
       "0.9840785521169253"
      ]
     },
     "execution_count": 30,
     "metadata": {},
     "output_type": "execute_result"
    }
   ],
   "source": [
    "get_full_similarity(g, A, B)"
   ]
  },
  {
   "cell_type": "markdown",
   "metadata": {},
   "source": [
    "# Finding all maximal cliques"
   ]
  },
  {
   "cell_type": "code",
   "execution_count": 31,
   "metadata": {},
   "outputs": [
    {
     "name": "stdout",
     "output_type": "stream",
     "text": [
      "{0, 1, 2, 3, 4, 6, 7, 9, 11, 14}\n"
     ]
    }
   ],
   "source": [
    "from networkx.algorithms.approximation import independent_set\n",
    "mis = independent_set.maximum_independent_set(g)\n",
    "print(mis)"
   ]
  },
  {
   "cell_type": "code",
   "execution_count": 32,
   "metadata": {},
   "outputs": [
    {
     "name": "stdout",
     "output_type": "stream",
     "text": [
      "({0, 1, 2, 3, 4, 6, 7, 9, 11, 14}, [{9, 10, 2}, {8, 0}, {1, 5}, {3, 12}, {4, 13}, {6}, {7}, {11}, {14}])\n"
     ]
    }
   ],
   "source": [
    "from networkx.algorithms.approximation import clique\n",
    "cliq_rem = clique.clique_removal(g)\n",
    "print(cliq_rem)"
   ]
  },
  {
   "cell_type": "code",
   "execution_count": 33,
   "metadata": {},
   "outputs": [
    {
     "name": "stdout",
     "output_type": "stream",
     "text": [
      "[{9, 10, 2}, {8, 0}, {1, 5}, {3, 12}, {4, 13}, {6}, {7}, {11}, {14}]\n"
     ]
    }
   ],
   "source": [
    "cliques = cliq_rem[1]     #retrieve list of maximal cliques in the graph\n",
    "print(cliques)"
   ]
  }
 ],
 "metadata": {
  "kernelspec": {
   "display_name": "Python 3",
   "language": "python",
   "name": "python3"
  },
  "language_info": {
   "codemirror_mode": {
    "name": "ipython",
    "version": 3
   },
   "file_extension": ".py",
   "mimetype": "text/x-python",
   "name": "python",
   "nbconvert_exporter": "python",
   "pygments_lexer": "ipython3",
   "version": "3.7.4"
  }
 },
 "nbformat": 4,
 "nbformat_minor": 4
}
