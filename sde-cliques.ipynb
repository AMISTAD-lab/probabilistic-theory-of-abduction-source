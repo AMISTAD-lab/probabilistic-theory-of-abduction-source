{
 "cells": [
  {
   "cell_type": "markdown",
   "metadata": {},
   "source": [
    "# Graphical Models: Similarity Distribution Experimentation"
   ]
  },
  {
   "cell_type": "code",
   "execution_count": 2,
   "metadata": {},
   "outputs": [],
   "source": [
    "# Import necessary libraries\n",
    "from sde import *"
   ]
  },
  {
   "cell_type": "markdown",
   "metadata": {},
   "source": [
    "# Tests - Edit Distance"
   ]
  },
  {
   "cell_type": "code",
   "execution_count": 3,
   "metadata": {},
   "outputs": [],
   "source": [
    "def dgWithCliqs(num_cliq):   \n",
    "    #create DAG\n",
    "    rand_num_nodes = random.randint(num_cliq, num_cliq*3)\n",
    "    dg = makeDirectedGraph(rand_num_nodes, int(rand_num_nodes*1.5))\n",
    "    \n",
    "    #count num of cliques in graph\n",
    "    cliq_rem = clique.clique_removal(dg)\n",
    "    cliqCount = len(cliq_rem[1])   \n",
    "    \n",
    "    # remake graph if it doesn't match the input\n",
    "    if (cliqCount == num_cliq):\n",
    "        return dg\n",
    "    else:\n",
    "        return dgWithCliqs(num_cliq)"
   ]
  },
  {
   "cell_type": "code",
   "execution_count": 4,
   "metadata": {},
   "outputs": [
    {
     "data": {
      "image/png": "[encoded data removed]",
      "text/plain": [
       "<Figure size 432x288 with 1 Axes>"
      ]
     },
     "metadata": {},
     "output_type": "display_data"
    }
   ],
   "source": [
    "dg = dgWithCliqs(10)\n",
    "nx.draw_networkx(dg)"
   ]
  },
  {
   "cell_type": "markdown",
   "metadata": {},
   "source": [
    "Graph with 10 cliques"
   ]
  },
  {
   "cell_type": "code",
   "execution_count": 5,
   "metadata": {},
   "outputs": [],
   "source": [
    "maxCliqs = clique.clique_removal(dg)\n",
    "cliqueChoose2 = list(itertools.combinations(maxCliqs[1], 2))\n",
    "#print(cliqueChoose2)"
   ]
  },
  {
   "cell_type": "code",
   "execution_count": 6,
   "metadata": {},
   "outputs": [],
   "source": [
    "cliq_imm_sim = []\n",
    "for pair in cliqueChoose2:\n",
    "    imm_sim = get_immediate_similarity(dg, pair[0], pair[1])\n",
    "    cliq_imm_sim.append(imm_sim)\n",
    "    #print(pair, imm_sim)"
   ]
  },
  {
   "cell_type": "markdown",
   "metadata": {},
   "source": [
    "# Edit Distance, immediate similarity"
   ]
  },
  {
   "cell_type": "markdown",
   "metadata": {},
   "source": [
    "Between cliques"
   ]
  },
  {
   "cell_type": "code",
   "execution_count": 7,
   "metadata": {},
   "outputs": [],
   "source": [
    "#function that accepts a graph, returns a list of all the immediate similarity values between clique pairs. \n",
    "#Do the same for node pairs.\n",
    "\n",
    "def immSimCliqs(dg):\n",
    "    cliq_rem = clique.clique_removal(dg)\n",
    "    maxCliqs = cliq_rem[1]\n",
    "    cliqueChoose2 = list(itertools.combinations(maxCliqs, 2))\n",
    "    cliq_imm_sim = []\n",
    "    for pair in cliqueChoose2:\n",
    "        imm_sim = get_immediate_similarity(dg, pair[0], pair[1])\n",
    "        cliq_imm_sim.append(imm_sim)\n",
    "        #print(pair, imm_sim)\n",
    "    return cliq_imm_sim"
   ]
  },
  {
   "cell_type": "code",
   "execution_count": 8,
   "metadata": {},
   "outputs": [],
   "source": [
    "cliqNums = [10, 30, 50, 80, 100]\n",
    "immSims = {}\n",
    "avgImmSims = {}\n",
    "\n",
    "for c in cliqNums:\n",
    "    dg = dgWithCliqs(c)\n",
    "    \n",
    "    immSimsVals = immSimCliqs(dg)\n",
    "    immSims[str(c) + ' cliques'] = immSimsVals\n",
    "    \n",
    "    avgIS = mean(immSimsVals)\n",
    "    avgImmSims[str(c)] = avgIS\n",
    "\n",
    "#print(immSims)\n",
    "#print(avgImmSims)"
   ]
  },
  {
   "cell_type": "code",
   "execution_count": null,
   "metadata": {},
   "outputs": [],
   "source": [
    "def cliqueIS(listOfCliqs):\n",
    "    for c in listOfCliqs:\n",
    "        #get immediate sim dictionary (indiv. and average)\n",
    "        dg = dgWithCliqs(c)\n",
    "\n",
    "        immSimsVals = immSimCliqs(dg)\n",
    "        immSims[str(c) + ' cliques'] = immSimsVals\n",
    "\n",
    "        avgIS = mean(immSimsVals)\n",
    "        avgImmSims[str(c)] = avgIS\n",
    "        \n",
    "        #get full sim dicitonary (indiv. and average)"
   ]
  },
  {
   "cell_type": "code",
   "execution_count": 9,
   "metadata": {
    "scrolled": false
   },
   "outputs": [
    {
     "data": {
      "text/html": [
       "<div>\n",
       "<style scoped>\n",
       "    .dataframe tbody tr th:only-of-type {\n",
       "        vertical-align: middle;\n",
       "    }\n",
       "\n",
       "    .dataframe tbody tr th {\n",
       "        vertical-align: top;\n",
       "    }\n",
       "\n",
       "    .dataframe thead th {\n",
       "        text-align: right;\n",
       "    }\n",
       "</style>\n",
       "<table border=\"1\" class=\"dataframe\">\n",
       "  <thead>\n",
       "    <tr style=\"text-align: right;\">\n",
       "      <th></th>\n",
       "      <th>10 cliques</th>\n",
       "      <th>30 cliques</th>\n",
       "      <th>50 cliques</th>\n",
       "      <th>80 cliques</th>\n",
       "      <th>100 cliques</th>\n",
       "    </tr>\n",
       "  </thead>\n",
       "  <tbody>\n",
       "    <tr>\n",
       "      <td>0</td>\n",
       "      <td>0.875846</td>\n",
       "      <td>1.0</td>\n",
       "      <td>1.0</td>\n",
       "      <td>1.0</td>\n",
       "      <td>1.0</td>\n",
       "    </tr>\n",
       "    <tr>\n",
       "      <td>1</td>\n",
       "      <td>0.967970</td>\n",
       "      <td>1.0</td>\n",
       "      <td>1.0</td>\n",
       "      <td>1.0</td>\n",
       "      <td>1.0</td>\n",
       "    </tr>\n",
       "    <tr>\n",
       "      <td>2</td>\n",
       "      <td>0.849415</td>\n",
       "      <td>1.0</td>\n",
       "      <td>1.0</td>\n",
       "      <td>1.0</td>\n",
       "      <td>1.0</td>\n",
       "    </tr>\n",
       "    <tr>\n",
       "      <td>3</td>\n",
       "      <td>0.939511</td>\n",
       "      <td>1.0</td>\n",
       "      <td>1.0</td>\n",
       "      <td>1.0</td>\n",
       "      <td>1.0</td>\n",
       "    </tr>\n",
       "    <tr>\n",
       "      <td>4</td>\n",
       "      <td>0.888632</td>\n",
       "      <td>1.0</td>\n",
       "      <td>1.0</td>\n",
       "      <td>1.0</td>\n",
       "      <td>1.0</td>\n",
       "    </tr>\n",
       "    <tr>\n",
       "      <td>...</td>\n",
       "      <td>...</td>\n",
       "      <td>...</td>\n",
       "      <td>...</td>\n",
       "      <td>...</td>\n",
       "      <td>...</td>\n",
       "    </tr>\n",
       "    <tr>\n",
       "      <td>4945</td>\n",
       "      <td>NaN</td>\n",
       "      <td>NaN</td>\n",
       "      <td>NaN</td>\n",
       "      <td>NaN</td>\n",
       "      <td>1.0</td>\n",
       "    </tr>\n",
       "    <tr>\n",
       "      <td>4946</td>\n",
       "      <td>NaN</td>\n",
       "      <td>NaN</td>\n",
       "      <td>NaN</td>\n",
       "      <td>NaN</td>\n",
       "      <td>1.0</td>\n",
       "    </tr>\n",
       "    <tr>\n",
       "      <td>4947</td>\n",
       "      <td>NaN</td>\n",
       "      <td>NaN</td>\n",
       "      <td>NaN</td>\n",
       "      <td>NaN</td>\n",
       "      <td>1.0</td>\n",
       "    </tr>\n",
       "    <tr>\n",
       "      <td>4948</td>\n",
       "      <td>NaN</td>\n",
       "      <td>NaN</td>\n",
       "      <td>NaN</td>\n",
       "      <td>NaN</td>\n",
       "      <td>1.0</td>\n",
       "    </tr>\n",
       "    <tr>\n",
       "      <td>4949</td>\n",
       "      <td>NaN</td>\n",
       "      <td>NaN</td>\n",
       "      <td>NaN</td>\n",
       "      <td>NaN</td>\n",
       "      <td>1.0</td>\n",
       "    </tr>\n",
       "  </tbody>\n",
       "</table>\n",
       "<p>4950 rows × 5 columns</p>\n",
       "</div>"
      ],
      "text/plain": [
       "      10 cliques  30 cliques  50 cliques  80 cliques  100 cliques\n",
       "0       0.875846         1.0         1.0         1.0          1.0\n",
       "1       0.967970         1.0         1.0         1.0          1.0\n",
       "2       0.849415         1.0         1.0         1.0          1.0\n",
       "3       0.939511         1.0         1.0         1.0          1.0\n",
       "4       0.888632         1.0         1.0         1.0          1.0\n",
       "...          ...         ...         ...         ...          ...\n",
       "4945         NaN         NaN         NaN         NaN          1.0\n",
       "4946         NaN         NaN         NaN         NaN          1.0\n",
       "4947         NaN         NaN         NaN         NaN          1.0\n",
       "4948         NaN         NaN         NaN         NaN          1.0\n",
       "4949         NaN         NaN         NaN         NaN          1.0\n",
       "\n",
       "[4950 rows x 5 columns]"
      ]
     },
     "execution_count": 9,
     "metadata": {},
     "output_type": "execute_result"
    }
   ],
   "source": [
    "immSim_df = pd.DataFrame({ key:pd.Series(value) for key, value in immSims.items() })\n",
    "immSim_df"
   ]
  },
  {
   "cell_type": "code",
   "execution_count": 10,
   "metadata": {},
   "outputs": [
    {
     "data": {
      "text/plain": [
       "'# plot to compare immediate similarity values against number of cliques\\nfor key in immSims.keys():\\n    plt.plot(list(immSims.get(key)))\\n    plt.title(key)\\n    plt.ylabel(\"Immediate Similarity between all cliques\")\\n    plt.xlabel(\\'Number of Nodes\\')\\n    plt.show()'"
      ]
     },
     "execution_count": 10,
     "metadata": {},
     "output_type": "execute_result"
    }
   ],
   "source": [
    "\"\"\"# plot to compare immediate similarity values against number of cliques\n",
    "for key in immSims.keys():\n",
    "    plt.plot(list(immSims.get(key)))\n",
    "    plt.title(key)\n",
    "    plt.ylabel(\"Immediate Similarity between all cliques\")\n",
    "    plt.xlabel('Number of Nodes')\n",
    "    plt.show()\"\"\""
   ]
  },
  {
   "cell_type": "code",
   "execution_count": 11,
   "metadata": {
    "scrolled": true
   },
   "outputs": [
    {
     "data": {
      "image/png": "[encoded data removed]",
      "text/plain": [
       "<Figure size 432x288 with 1 Axes>"
      ]
     },
     "metadata": {
      "needs_background": "light"
     },
     "output_type": "display_data"
    }
   ],
   "source": [
    "# bar chart to compare average immediate similarity values against number of cliques \n",
    "plt.bar(range(len(avgImmSims)), avgImmSims.values(), align='center')\n",
    "plt.xticks(range(len(avgImmSims)), list(avgImmSims.keys()))\n",
    "plt.ylabel('Average Immediate Similarity between all cliques')\n",
    "plt.xlabel('Number of cliques in graph')\n",
    "plt.show()\n"
   ]
  },
  {
   "cell_type": "markdown",
   "metadata": {},
   "source": [
    "For entire graphs"
   ]
  },
  {
   "cell_type": "code",
   "execution_count": 13,
   "metadata": {},
   "outputs": [],
   "source": [
    "cliqNums = [10, 30, 50, 80, 100]\n",
    "graphImmSims = {}\n",
    "avgGraphIS = {}\n",
    "for c in cliqNums:\n",
    "    gm = dgWithCliqs(c)\n",
    "    node_list = list(gm.nodes)\n",
    "    node_pairs = list(it.combinations(node_list, 2))\n",
    "    \n",
    "    ed_imm_sim = []\n",
    "    for pair in node_pairs:\n",
    "        ed_imm_sim.append(get_immediate_similarity(gm, pair[0], pair[1]))\n",
    "        ed_imm_sim.append(get_immediate_similarity(gm, pair[1], pair[0]))\n",
    "        \n",
    "    graphImmSims[str(c)] = ed_imm_sim\n",
    "    avgGraphIS[str(c)] = mean(ed_imm_sim)"
   ]
  },
  {
   "cell_type": "code",
   "execution_count": 14,
   "metadata": {},
   "outputs": [
    {
     "data": {
      "text/html": [
       "<div>\n",
       "<style scoped>\n",
       "    .dataframe tbody tr th:only-of-type {\n",
       "        vertical-align: middle;\n",
       "    }\n",
       "\n",
       "    .dataframe tbody tr th {\n",
       "        vertical-align: top;\n",
       "    }\n",
       "\n",
       "    .dataframe thead th {\n",
       "        text-align: right;\n",
       "    }\n",
       "</style>\n",
       "<table border=\"1\" class=\"dataframe\">\n",
       "  <thead>\n",
       "    <tr style=\"text-align: right;\">\n",
       "      <th></th>\n",
       "      <th>10</th>\n",
       "      <th>30</th>\n",
       "      <th>50</th>\n",
       "      <th>80</th>\n",
       "      <th>100</th>\n",
       "    </tr>\n",
       "  </thead>\n",
       "  <tbody>\n",
       "    <tr>\n",
       "      <td>0</td>\n",
       "      <td>1.0</td>\n",
       "      <td>0.0</td>\n",
       "      <td>0.0</td>\n",
       "      <td>0.0</td>\n",
       "      <td>1.0</td>\n",
       "    </tr>\n",
       "    <tr>\n",
       "      <td>1</td>\n",
       "      <td>0.0</td>\n",
       "      <td>1.0</td>\n",
       "      <td>1.0</td>\n",
       "      <td>1.0</td>\n",
       "      <td>0.0</td>\n",
       "    </tr>\n",
       "    <tr>\n",
       "      <td>2</td>\n",
       "      <td>1.0</td>\n",
       "      <td>0.0</td>\n",
       "      <td>0.0</td>\n",
       "      <td>0.0</td>\n",
       "      <td>1.0</td>\n",
       "    </tr>\n",
       "    <tr>\n",
       "      <td>3</td>\n",
       "      <td>1.0</td>\n",
       "      <td>1.0</td>\n",
       "      <td>0.0</td>\n",
       "      <td>1.0</td>\n",
       "      <td>0.0</td>\n",
       "    </tr>\n",
       "    <tr>\n",
       "      <td>4</td>\n",
       "      <td>1.0</td>\n",
       "      <td>0.0</td>\n",
       "      <td>0.0</td>\n",
       "      <td>0.0</td>\n",
       "      <td>1.0</td>\n",
       "    </tr>\n",
       "    <tr>\n",
       "      <td>...</td>\n",
       "      <td>...</td>\n",
       "      <td>...</td>\n",
       "      <td>...</td>\n",
       "      <td>...</td>\n",
       "      <td>...</td>\n",
       "    </tr>\n",
       "    <tr>\n",
       "      <td>28051</td>\n",
       "      <td>NaN</td>\n",
       "      <td>NaN</td>\n",
       "      <td>NaN</td>\n",
       "      <td>NaN</td>\n",
       "      <td>1.0</td>\n",
       "    </tr>\n",
       "    <tr>\n",
       "      <td>28052</td>\n",
       "      <td>NaN</td>\n",
       "      <td>NaN</td>\n",
       "      <td>NaN</td>\n",
       "      <td>NaN</td>\n",
       "      <td>1.0</td>\n",
       "    </tr>\n",
       "    <tr>\n",
       "      <td>28053</td>\n",
       "      <td>NaN</td>\n",
       "      <td>NaN</td>\n",
       "      <td>NaN</td>\n",
       "      <td>NaN</td>\n",
       "      <td>1.0</td>\n",
       "    </tr>\n",
       "    <tr>\n",
       "      <td>28054</td>\n",
       "      <td>NaN</td>\n",
       "      <td>NaN</td>\n",
       "      <td>NaN</td>\n",
       "      <td>NaN</td>\n",
       "      <td>1.0</td>\n",
       "    </tr>\n",
       "    <tr>\n",
       "      <td>28055</td>\n",
       "      <td>NaN</td>\n",
       "      <td>NaN</td>\n",
       "      <td>NaN</td>\n",
       "      <td>NaN</td>\n",
       "      <td>1.0</td>\n",
       "    </tr>\n",
       "  </tbody>\n",
       "</table>\n",
       "<p>28056 rows × 5 columns</p>\n",
       "</div>"
      ],
      "text/plain": [
       "        10   30   50   80  100\n",
       "0      1.0  0.0  0.0  0.0  1.0\n",
       "1      0.0  1.0  1.0  1.0  0.0\n",
       "2      1.0  0.0  0.0  0.0  1.0\n",
       "3      1.0  1.0  0.0  1.0  0.0\n",
       "4      1.0  0.0  0.0  0.0  1.0\n",
       "...    ...  ...  ...  ...  ...\n",
       "28051  NaN  NaN  NaN  NaN  1.0\n",
       "28052  NaN  NaN  NaN  NaN  1.0\n",
       "28053  NaN  NaN  NaN  NaN  1.0\n",
       "28054  NaN  NaN  NaN  NaN  1.0\n",
       "28055  NaN  NaN  NaN  NaN  1.0\n",
       "\n",
       "[28056 rows x 5 columns]"
      ]
     },
     "execution_count": 14,
     "metadata": {},
     "output_type": "execute_result"
    }
   ],
   "source": [
    "graphIS_df = pd.DataFrame({ key:pd.Series(value) for key, value in graphImmSims.items() })\n",
    "graphIS_df"
   ]
  },
  {
   "cell_type": "code",
   "execution_count": 15,
   "metadata": {},
   "outputs": [],
   "source": [
    "#pd.to_excel()"
   ]
  },
  {
   "cell_type": "code",
   "execution_count": 16,
   "metadata": {},
   "outputs": [
    {
     "data": {
      "text/plain": [
       "'# plot to compare immediate similarity values against number of cliques\\nfor key in graphImmSims.keys():\\n    plt.plot(list(graphImmSims.get(key)))\\n    plt.title(key)\\n    plt.ylabel(\"Immediate Similarity\")\\n    plt.xlabel(\\'Number of Nodes\\')\\n    plt.show()'"
      ]
     },
     "execution_count": 16,
     "metadata": {},
     "output_type": "execute_result"
    }
   ],
   "source": [
    "\"\"\"# plot to compare immediate similarity values against number of cliques\n",
    "for key in graphImmSims.keys():\n",
    "    plt.plot(list(graphImmSims.get(key)))\n",
    "    plt.title(key)\n",
    "    plt.ylabel(\"Immediate Similarity\")\n",
    "    plt.xlabel('Number of Nodes')\n",
    "    plt.show()\"\"\""
   ]
  },
  {
   "cell_type": "code",
   "execution_count": 17,
   "metadata": {},
   "outputs": [
    {
     "data": {
      "image/png": "[encoded data removed]",
      "text/plain": [
       "<Figure size 432x288 with 1 Axes>"
      ]
     },
     "metadata": {
      "needs_background": "light"
     },
     "output_type": "display_data"
    }
   ],
   "source": [
    "# bar chart to compare average immediate similarity values against number of cliques \n",
    "plt.bar(range(len(avgGraphIS)), avgGraphIS.values(), align='center')\n",
    "plt.xticks(range(len(avgGraphIS)), list(avgGraphIS.keys()))\n",
    "plt.ylabel('Average Immediate Similarity')\n",
    "plt.xlabel('Number of cliques in graph')\n",
    "plt.show()"
   ]
  },
  {
   "cell_type": "markdown",
   "metadata": {},
   "source": [
    "# Edit distance, full similarity"
   ]
  },
  {
   "cell_type": "markdown",
   "metadata": {},
   "source": [
    "between all  cliques"
   ]
  },
  {
   "cell_type": "code",
   "execution_count": 18,
   "metadata": {},
   "outputs": [],
   "source": [
    "def fullSimCliqs(dg):\n",
    "    cliq_rem = clique.clique_removal(dg)\n",
    "    maxCliqs = cliq_rem[1]\n",
    "    cliqueChoose2 = list(itertools.combinations(maxCliqs, 2))\n",
    "    cliq_full_sim = []\n",
    "    for pair in cliqueChoose2:\n",
    "        fullSim = get_full_similarity(dg, pair[0], pair[1])\n",
    "        cliq_full_sim.append(fullSim)\n",
    "        #print(pair, imm_sim)\n",
    "    return cliq_full_sim"
   ]
  },
  {
   "cell_type": "code",
   "execution_count": 19,
   "metadata": {},
   "outputs": [],
   "source": [
    "cliqNums = [10, 30, 50, 80, 100]\n",
    "fullSims = {}\n",
    "avgFS = {}\n",
    "for c in cliqNums:\n",
    "    gm = dgWithCliqs(c)\n",
    "    node_list = list(gm.nodes)\n",
    "    node_pairs = list(it.combinations(node_list, 2))\n",
    "    \n",
    "    ed_full_sim = []\n",
    "    for pair in node_pairs:\n",
    "        ed_full_sim.append(get_full_similarity(gm, pair[0], pair[1]))\n",
    "        ed_full_sim.append(get_full_similarity(gm, pair[1], pair[0]))\n",
    "        \n",
    "    fullSims[str(c)] = ed_full_sim\n",
    "    avgFS[str(c)] = mean(ed_full_sim)"
   ]
  },
  {
   "cell_type": "code",
   "execution_count": 20,
   "metadata": {},
   "outputs": [
    {
     "data": {
      "text/plain": [
       "'# plot to compare immediate similarity values against number of cliques\\nfor key in fullSims.keys():\\n    plt.plot(list(fullSims.get(key)))\\n    plt.title(key + \\' cliques\\')\\n    plt.ylabel(\"Full Similarity between cliques\")\\n    plt.xlabel(\\'Number of Nodes\\')\\n    plt.show()'"
      ]
     },
     "execution_count": 20,
     "metadata": {},
     "output_type": "execute_result"
    }
   ],
   "source": [
    "\"\"\"# plot to compare immediate similarity values against number of cliques\n",
    "for key in fullSims.keys():\n",
    "    plt.plot(list(fullSims.get(key)))\n",
    "    plt.title(key + ' cliques')\n",
    "    plt.ylabel(\"Full Similarity between cliques\")\n",
    "    plt.xlabel('Number of Nodes')\n",
    "    plt.show()\"\"\""
   ]
  },
  {
   "cell_type": "code",
   "execution_count": 21,
   "metadata": {},
   "outputs": [
    {
     "data": {
      "image/png": "[encoded data removed]",
      "text/plain": [
       "<Figure size 432x288 with 1 Axes>"
      ]
     },
     "metadata": {
      "needs_background": "light"
     },
     "output_type": "display_data"
    }
   ],
   "source": [
    "# bar chart to compare average full similarity values against number of cliques \n",
    "plt.bar(range(len(avgFS)), avgFS.values(), align='center')\n",
    "plt.xticks(range(len(avgFS)), list(avgFS.keys()))\n",
    "plt.ylabel('Average Full Similarity')\n",
    "plt.xlabel('Number of cliques in graph')\n",
    "plt.show()\n"
   ]
  },
  {
   "cell_type": "code",
   "execution_count": 22,
   "metadata": {},
   "outputs": [
    {
     "data": {
      "text/html": [
       "<div>\n",
       "<style scoped>\n",
       "    .dataframe tbody tr th:only-of-type {\n",
       "        vertical-align: middle;\n",
       "    }\n",
       "\n",
       "    .dataframe tbody tr th {\n",
       "        vertical-align: top;\n",
       "    }\n",
       "\n",
       "    .dataframe thead th {\n",
       "        text-align: right;\n",
       "    }\n",
       "</style>\n",
       "<table border=\"1\" class=\"dataframe\">\n",
       "  <thead>\n",
       "    <tr style=\"text-align: right;\">\n",
       "      <th></th>\n",
       "      <th>10</th>\n",
       "      <th>30</th>\n",
       "      <th>50</th>\n",
       "      <th>80</th>\n",
       "      <th>100</th>\n",
       "    </tr>\n",
       "  </thead>\n",
       "  <tbody>\n",
       "    <tr>\n",
       "      <td>0</td>\n",
       "      <td>0.841592</td>\n",
       "      <td>0.0</td>\n",
       "      <td>0.964927</td>\n",
       "      <td>0.0</td>\n",
       "      <td>0.014911</td>\n",
       "    </tr>\n",
       "    <tr>\n",
       "      <td>1</td>\n",
       "      <td>0.366368</td>\n",
       "      <td>0.0</td>\n",
       "      <td>0.088100</td>\n",
       "      <td>0.0</td>\n",
       "      <td>0.323959</td>\n",
       "    </tr>\n",
       "    <tr>\n",
       "      <td>2</td>\n",
       "      <td>0.875474</td>\n",
       "      <td>0.0</td>\n",
       "      <td>1.000000</td>\n",
       "      <td>0.0</td>\n",
       "      <td>0.995310</td>\n",
       "    </tr>\n",
       "    <tr>\n",
       "      <td>3</td>\n",
       "      <td>0.003792</td>\n",
       "      <td>1.0</td>\n",
       "      <td>1.000000</td>\n",
       "      <td>0.0</td>\n",
       "      <td>0.945283</td>\n",
       "    </tr>\n",
       "    <tr>\n",
       "      <td>4</td>\n",
       "      <td>0.678387</td>\n",
       "      <td>0.0</td>\n",
       "      <td>0.213760</td>\n",
       "      <td>0.0</td>\n",
       "      <td>1.000000</td>\n",
       "    </tr>\n",
       "    <tr>\n",
       "      <td>...</td>\n",
       "      <td>...</td>\n",
       "      <td>...</td>\n",
       "      <td>...</td>\n",
       "      <td>...</td>\n",
       "      <td>...</td>\n",
       "    </tr>\n",
       "    <tr>\n",
       "      <td>25435</td>\n",
       "      <td>NaN</td>\n",
       "      <td>NaN</td>\n",
       "      <td>NaN</td>\n",
       "      <td>NaN</td>\n",
       "      <td>0.000000</td>\n",
       "    </tr>\n",
       "    <tr>\n",
       "      <td>25436</td>\n",
       "      <td>NaN</td>\n",
       "      <td>NaN</td>\n",
       "      <td>NaN</td>\n",
       "      <td>NaN</td>\n",
       "      <td>0.038616</td>\n",
       "    </tr>\n",
       "    <tr>\n",
       "      <td>25437</td>\n",
       "      <td>NaN</td>\n",
       "      <td>NaN</td>\n",
       "      <td>NaN</td>\n",
       "      <td>NaN</td>\n",
       "      <td>0.170571</td>\n",
       "    </tr>\n",
       "    <tr>\n",
       "      <td>25438</td>\n",
       "      <td>NaN</td>\n",
       "      <td>NaN</td>\n",
       "      <td>NaN</td>\n",
       "      <td>NaN</td>\n",
       "      <td>0.000000</td>\n",
       "    </tr>\n",
       "    <tr>\n",
       "      <td>25439</td>\n",
       "      <td>NaN</td>\n",
       "      <td>NaN</td>\n",
       "      <td>NaN</td>\n",
       "      <td>NaN</td>\n",
       "      <td>1.000000</td>\n",
       "    </tr>\n",
       "  </tbody>\n",
       "</table>\n",
       "<p>25440 rows × 5 columns</p>\n",
       "</div>"
      ],
      "text/plain": [
       "             10   30        50   80       100\n",
       "0      0.841592  0.0  0.964927  0.0  0.014911\n",
       "1      0.366368  0.0  0.088100  0.0  0.323959\n",
       "2      0.875474  0.0  1.000000  0.0  0.995310\n",
       "3      0.003792  1.0  1.000000  0.0  0.945283\n",
       "4      0.678387  0.0  0.213760  0.0  1.000000\n",
       "...         ...  ...       ...  ...       ...\n",
       "25435       NaN  NaN       NaN  NaN  0.000000\n",
       "25436       NaN  NaN       NaN  NaN  0.038616\n",
       "25437       NaN  NaN       NaN  NaN  0.170571\n",
       "25438       NaN  NaN       NaN  NaN  0.000000\n",
       "25439       NaN  NaN       NaN  NaN  1.000000\n",
       "\n",
       "[25440 rows x 5 columns]"
      ]
     },
     "execution_count": 22,
     "metadata": {},
     "output_type": "execute_result"
    }
   ],
   "source": [
    "fullSims_df = pd.DataFrame({ key:pd.Series(value) for key, value in fullSims.items() })\n",
    "fullSims_df"
   ]
  },
  {
   "cell_type": "markdown",
   "metadata": {},
   "source": [
    "for entire graph"
   ]
  },
  {
   "cell_type": "code",
   "execution_count": 23,
   "metadata": {},
   "outputs": [],
   "source": [
    "cliqNums = [10, 30, 50, 80, 100]\n",
    "graphFS = {}\n",
    "avgGraphFS = {}\n",
    "for c in cliqNums:\n",
    "    gm = dgWithCliqs(c)\n",
    "    node_list = list(gm.nodes)\n",
    "    node_pairs = list(it.combinations(node_list, 2))\n",
    "    \n",
    "    graph_full_sim = []\n",
    "    for pair in node_pairs:\n",
    "        graph_full_sim.append(get_full_similarity(gm, pair[0], pair[1]))\n",
    "        graph_full_sim.append(get_full_similarity(gm, pair[1], pair[0]))\n",
    "        \n",
    "    graphFS[str(c)] = graph_full_sim\n",
    "    avgGraphFS[str(c)] = mean(graph_full_sim)"
   ]
  },
  {
   "cell_type": "code",
   "execution_count": 24,
   "metadata": {},
   "outputs": [
    {
     "data": {
      "text/plain": [
       "'# plot to compare immediate similarity values against number of cliques\\nfor key in graphFS.keys():\\n    plt.plot(list(graphFS.get(key)))\\n    plt.title(key + \\' cliques\\')\\n    plt.ylabel(\"Full Similarity\")\\n    plt.xlabel(\\'Number of Nodes\\')\\n    plt.show()'"
      ]
     },
     "execution_count": 24,
     "metadata": {},
     "output_type": "execute_result"
    }
   ],
   "source": [
    "\"\"\"# plot to compare immediate similarity values against number of cliques\n",
    "for key in graphFS.keys():\n",
    "    plt.plot(list(graphFS.get(key)))\n",
    "    plt.title(key + ' cliques')\n",
    "    plt.ylabel(\"Full Similarity\")\n",
    "    plt.xlabel('Number of Nodes')\n",
    "    plt.show()\"\"\""
   ]
  },
  {
   "cell_type": "code",
   "execution_count": 25,
   "metadata": {},
   "outputs": [
    {
     "data": {
      "image/png": "[encoded data removed]",
      "text/plain": [
       "<Figure size 432x288 with 1 Axes>"
      ]
     },
     "metadata": {
      "needs_background": "light"
     },
     "output_type": "display_data"
    }
   ],
   "source": [
    "# bar chart to compare average full similarity values against number of cliques \n",
    "plt.bar(range(len(avgGraphFS)), avgGraphFS.values(), align='center')\n",
    "plt.xticks(range(len(avgGraphFS)), list(avgGraphFS.keys()))\n",
    "plt.ylabel('Average Full Similarity')\n",
    "plt.xlabel('Number of cliques in graph')\n",
    "plt.show()\n"
   ]
  },
  {
   "cell_type": "code",
   "execution_count": 26,
   "metadata": {},
   "outputs": [
    {
     "data": {
      "text/html": [
       "<div>\n",
       "<style scoped>\n",
       "    .dataframe tbody tr th:only-of-type {\n",
       "        vertical-align: middle;\n",
       "    }\n",
       "\n",
       "    .dataframe tbody tr th {\n",
       "        vertical-align: top;\n",
       "    }\n",
       "\n",
       "    .dataframe thead th {\n",
       "        text-align: right;\n",
       "    }\n",
       "</style>\n",
       "<table border=\"1\" class=\"dataframe\">\n",
       "  <thead>\n",
       "    <tr style=\"text-align: right;\">\n",
       "      <th></th>\n",
       "      <th>10</th>\n",
       "      <th>30</th>\n",
       "      <th>50</th>\n",
       "      <th>80</th>\n",
       "      <th>100</th>\n",
       "    </tr>\n",
       "  </thead>\n",
       "  <tbody>\n",
       "    <tr>\n",
       "      <td>0</td>\n",
       "      <td>0.105267</td>\n",
       "      <td>1.000000</td>\n",
       "      <td>1.0</td>\n",
       "      <td>0.821658</td>\n",
       "      <td>1.000000</td>\n",
       "    </tr>\n",
       "    <tr>\n",
       "      <td>1</td>\n",
       "      <td>0.850878</td>\n",
       "      <td>0.000000</td>\n",
       "      <td>1.0</td>\n",
       "      <td>0.094572</td>\n",
       "      <td>0.000000</td>\n",
       "    </tr>\n",
       "    <tr>\n",
       "      <td>2</td>\n",
       "      <td>1.000000</td>\n",
       "      <td>1.000000</td>\n",
       "      <td>1.0</td>\n",
       "      <td>0.843017</td>\n",
       "      <td>1.000000</td>\n",
       "    </tr>\n",
       "    <tr>\n",
       "      <td>3</td>\n",
       "      <td>0.000000</td>\n",
       "      <td>0.000000</td>\n",
       "      <td>1.0</td>\n",
       "      <td>0.058103</td>\n",
       "      <td>1.000000</td>\n",
       "    </tr>\n",
       "    <tr>\n",
       "      <td>4</td>\n",
       "      <td>1.000000</td>\n",
       "      <td>0.579305</td>\n",
       "      <td>1.0</td>\n",
       "      <td>1.000000</td>\n",
       "      <td>1.000000</td>\n",
       "    </tr>\n",
       "    <tr>\n",
       "      <td>...</td>\n",
       "      <td>...</td>\n",
       "      <td>...</td>\n",
       "      <td>...</td>\n",
       "      <td>...</td>\n",
       "      <td>...</td>\n",
       "    </tr>\n",
       "    <tr>\n",
       "      <td>24175</td>\n",
       "      <td>NaN</td>\n",
       "      <td>NaN</td>\n",
       "      <td>NaN</td>\n",
       "      <td>NaN</td>\n",
       "      <td>0.782618</td>\n",
       "    </tr>\n",
       "    <tr>\n",
       "      <td>24176</td>\n",
       "      <td>NaN</td>\n",
       "      <td>NaN</td>\n",
       "      <td>NaN</td>\n",
       "      <td>NaN</td>\n",
       "      <td>1.000000</td>\n",
       "    </tr>\n",
       "    <tr>\n",
       "      <td>24177</td>\n",
       "      <td>NaN</td>\n",
       "      <td>NaN</td>\n",
       "      <td>NaN</td>\n",
       "      <td>NaN</td>\n",
       "      <td>0.000000</td>\n",
       "    </tr>\n",
       "    <tr>\n",
       "      <td>24178</td>\n",
       "      <td>NaN</td>\n",
       "      <td>NaN</td>\n",
       "      <td>NaN</td>\n",
       "      <td>NaN</td>\n",
       "      <td>1.000000</td>\n",
       "    </tr>\n",
       "    <tr>\n",
       "      <td>24179</td>\n",
       "      <td>NaN</td>\n",
       "      <td>NaN</td>\n",
       "      <td>NaN</td>\n",
       "      <td>NaN</td>\n",
       "      <td>0.000000</td>\n",
       "    </tr>\n",
       "  </tbody>\n",
       "</table>\n",
       "<p>24180 rows × 5 columns</p>\n",
       "</div>"
      ],
      "text/plain": [
       "             10        30   50        80       100\n",
       "0      0.105267  1.000000  1.0  0.821658  1.000000\n",
       "1      0.850878  0.000000  1.0  0.094572  0.000000\n",
       "2      1.000000  1.000000  1.0  0.843017  1.000000\n",
       "3      0.000000  0.000000  1.0  0.058103  1.000000\n",
       "4      1.000000  0.579305  1.0  1.000000  1.000000\n",
       "...         ...       ...  ...       ...       ...\n",
       "24175       NaN       NaN  NaN       NaN  0.782618\n",
       "24176       NaN       NaN  NaN       NaN  1.000000\n",
       "24177       NaN       NaN  NaN       NaN  0.000000\n",
       "24178       NaN       NaN  NaN       NaN  1.000000\n",
       "24179       NaN       NaN  NaN       NaN  0.000000\n",
       "\n",
       "[24180 rows x 5 columns]"
      ]
     },
     "execution_count": 26,
     "metadata": {},
     "output_type": "execute_result"
    }
   ],
   "source": [
    "graphFS_df = pd.DataFrame({ key:pd.Series(value) for key, value in graphFS.items() })\n",
    "graphFS_df"
   ]
  },
  {
   "cell_type": "markdown",
   "metadata": {},
   "source": [
    "get graph similarity data"
   ]
  },
  {
   "cell_type": "code",
   "execution_count": 36,
   "metadata": {},
   "outputs": [],
   "source": [
    "#avg ed (full sim)\n",
    "graphFS_df.to_excel(r\"C:\\Users\\hanaa\\OneDrive\\jupyter excel files\\AMISTAD 2020\\cliqEDdata_graphavgFS.xlsx\", index=True)"
   ]
  },
  {
   "cell_type": "code",
   "execution_count": null,
   "metadata": {},
   "outputs": [],
   "source": []
  },
  {
   "cell_type": "markdown",
   "metadata": {},
   "source": [
    "# Similarity method: Jaccard Index"
   ]
  },
  {
   "cell_type": "code",
   "execution_count": 29,
   "metadata": {},
   "outputs": [],
   "source": [
    "cliqNums = [10, 30, 50, 80, 100]\n",
    "jindices = {}\n",
    "avgJI = {}\n",
    "for c in cliqNums:\n",
    "    gm = dgWithCliqs(c)\n",
    "    node_list = list(gm.nodes)\n",
    "    node_pairs = list(it.combinations(node_list, 2))\n",
    "    \n",
    "    ji_sim_1 = []\n",
    "    for pair in node_pairs:\n",
    "        ji_sim_1.append(calculate_jaccard_similarity(gm, pair[0], pair[1]))\n",
    "        ji_sim_1.append(calculate_jaccard_similarity(gm, pair[1], pair[0]))\n",
    "        \n",
    "    jindices[str(c)] = ji_sim_1\n",
    "    avgJI[str(c)] = mean(ji_sim_1)"
   ]
  },
  {
   "cell_type": "code",
   "execution_count": 30,
   "metadata": {},
   "outputs": [
    {
     "data": {
      "image/png": "[encoded data removed]",
      "text/plain": [
       "<Figure size 432x288 with 1 Axes>"
      ]
     },
     "metadata": {
      "needs_background": "light"
     },
     "output_type": "display_data"
    },
    {
     "data": {
      "image/png": "[encoded data removed]",
      "text/plain": [
       "<Figure size 432x288 with 1 Axes>"
      ]
     },
     "metadata": {
      "needs_background": "light"
     },
     "output_type": "display_data"
    },
    {
     "data": {
      "image/png": "[encoded data removed]",
      "text/plain": [
       "<Figure size 432x288 with 1 Axes>"
      ]
     },
     "metadata": {
      "needs_background": "light"
     },
     "output_type": "display_data"
    },
    {
     "data": {
      "image/png": "[encoded data removed]",
      "text/plain": [
       "<Figure size 432x288 with 1 Axes>"
      ]
     },
     "metadata": {
      "needs_background": "light"
     },
     "output_type": "display_data"
    },
    {
     "data": {
      "image/png": "[encoded data removed]",
      "text/plain": [
       "<Figure size 432x288 with 1 Axes>"
      ]
     },
     "metadata": {
      "needs_background": "light"
     },
     "output_type": "display_data"
    }
   ],
   "source": [
    "# plot to compare Jaccard similarity against number of cliques\n",
    "for key in jindices.keys():\n",
    "    plt.plot(list(jindices.get(key)))\n",
    "    plt.title(key + ' cliques')\n",
    "    plt.ylabel(\"Jaccard Index\")\n",
    "    plt.xlabel('Number of Nodes')\n",
    "    plt.show()"
   ]
  },
  {
   "cell_type": "code",
   "execution_count": 31,
   "metadata": {},
   "outputs": [
    {
     "data": {
      "image/png": "[encoded data removed]",
      "text/plain": [
       "<Figure size 432x288 with 1 Axes>"
      ]
     },
     "metadata": {
      "needs_background": "light"
     },
     "output_type": "display_data"
    }
   ],
   "source": [
    "# bar chart to compare average Jaccard similarity against number of cliques \n",
    "plt.bar(range(len(avgJI)), avgJI.values(), align='center')\n",
    "plt.xticks(range(len(avgJI)), list(avgJI.keys()))\n",
    "plt.ylabel('Average Jaccard Index')\n",
    "plt.xlabel('Number of cliques in graph')\n",
    "plt.show()"
   ]
  },
  {
   "cell_type": "code",
   "execution_count": 32,
   "metadata": {},
   "outputs": [
    {
     "data": {
      "text/html": [
       "<div>\n",
       "<style scoped>\n",
       "    .dataframe tbody tr th:only-of-type {\n",
       "        vertical-align: middle;\n",
       "    }\n",
       "\n",
       "    .dataframe tbody tr th {\n",
       "        vertical-align: top;\n",
       "    }\n",
       "\n",
       "    .dataframe thead th {\n",
       "        text-align: right;\n",
       "    }\n",
       "</style>\n",
       "<table border=\"1\" class=\"dataframe\">\n",
       "  <thead>\n",
       "    <tr style=\"text-align: right;\">\n",
       "      <th></th>\n",
       "      <th>10</th>\n",
       "      <th>30</th>\n",
       "      <th>50</th>\n",
       "      <th>80</th>\n",
       "      <th>100</th>\n",
       "    </tr>\n",
       "  </thead>\n",
       "  <tbody>\n",
       "    <tr>\n",
       "      <td>0</td>\n",
       "      <td>0.0</td>\n",
       "      <td>0.048603</td>\n",
       "      <td>0.247435</td>\n",
       "      <td>0.0</td>\n",
       "      <td>0.365786</td>\n",
       "    </tr>\n",
       "    <tr>\n",
       "      <td>1</td>\n",
       "      <td>0.0</td>\n",
       "      <td>0.048603</td>\n",
       "      <td>0.247435</td>\n",
       "      <td>0.0</td>\n",
       "      <td>0.365786</td>\n",
       "    </tr>\n",
       "    <tr>\n",
       "      <td>2</td>\n",
       "      <td>0.0</td>\n",
       "      <td>0.000000</td>\n",
       "      <td>0.476578</td>\n",
       "      <td>0.0</td>\n",
       "      <td>0.379627</td>\n",
       "    </tr>\n",
       "    <tr>\n",
       "      <td>3</td>\n",
       "      <td>0.0</td>\n",
       "      <td>0.000000</td>\n",
       "      <td>0.476578</td>\n",
       "      <td>0.0</td>\n",
       "      <td>0.379627</td>\n",
       "    </tr>\n",
       "    <tr>\n",
       "      <td>4</td>\n",
       "      <td>0.0</td>\n",
       "      <td>0.000000</td>\n",
       "      <td>0.461517</td>\n",
       "      <td>0.0</td>\n",
       "      <td>0.005718</td>\n",
       "    </tr>\n",
       "    <tr>\n",
       "      <td>...</td>\n",
       "      <td>...</td>\n",
       "      <td>...</td>\n",
       "      <td>...</td>\n",
       "      <td>...</td>\n",
       "      <td>...</td>\n",
       "    </tr>\n",
       "    <tr>\n",
       "      <td>26727</td>\n",
       "      <td>NaN</td>\n",
       "      <td>NaN</td>\n",
       "      <td>NaN</td>\n",
       "      <td>NaN</td>\n",
       "      <td>0.000000</td>\n",
       "    </tr>\n",
       "    <tr>\n",
       "      <td>26728</td>\n",
       "      <td>NaN</td>\n",
       "      <td>NaN</td>\n",
       "      <td>NaN</td>\n",
       "      <td>NaN</td>\n",
       "      <td>0.216869</td>\n",
       "    </tr>\n",
       "    <tr>\n",
       "      <td>26729</td>\n",
       "      <td>NaN</td>\n",
       "      <td>NaN</td>\n",
       "      <td>NaN</td>\n",
       "      <td>NaN</td>\n",
       "      <td>0.216869</td>\n",
       "    </tr>\n",
       "    <tr>\n",
       "      <td>26730</td>\n",
       "      <td>NaN</td>\n",
       "      <td>NaN</td>\n",
       "      <td>NaN</td>\n",
       "      <td>NaN</td>\n",
       "      <td>0.016284</td>\n",
       "    </tr>\n",
       "    <tr>\n",
       "      <td>26731</td>\n",
       "      <td>NaN</td>\n",
       "      <td>NaN</td>\n",
       "      <td>NaN</td>\n",
       "      <td>NaN</td>\n",
       "      <td>0.016284</td>\n",
       "    </tr>\n",
       "  </tbody>\n",
       "</table>\n",
       "<p>26732 rows × 5 columns</p>\n",
       "</div>"
      ],
      "text/plain": [
       "        10        30        50   80       100\n",
       "0      0.0  0.048603  0.247435  0.0  0.365786\n",
       "1      0.0  0.048603  0.247435  0.0  0.365786\n",
       "2      0.0  0.000000  0.476578  0.0  0.379627\n",
       "3      0.0  0.000000  0.476578  0.0  0.379627\n",
       "4      0.0  0.000000  0.461517  0.0  0.005718\n",
       "...    ...       ...       ...  ...       ...\n",
       "26727  NaN       NaN       NaN  NaN  0.000000\n",
       "26728  NaN       NaN       NaN  NaN  0.216869\n",
       "26729  NaN       NaN       NaN  NaN  0.216869\n",
       "26730  NaN       NaN       NaN  NaN  0.016284\n",
       "26731  NaN       NaN       NaN  NaN  0.016284\n",
       "\n",
       "[26732 rows x 5 columns]"
      ]
     },
     "execution_count": 32,
     "metadata": {},
     "output_type": "execute_result"
    }
   ],
   "source": [
    "jindices_df = pd.DataFrame({ key:pd.Series(value) for key, value in jindices.items() })\n",
    "jindices_df"
   ]
  },
  {
   "cell_type": "code",
   "execution_count": 37,
   "metadata": {},
   "outputs": [],
   "source": [
    "#graph Jaccard sim\n",
    "jindices_df.to_excel(r\"C:\\Users\\hanaa\\OneDrive\\jupyter excel files\\AMISTAD 2020\\cliqJIdata.xlsx\", index=True)"
   ]
  },
  {
   "cell_type": "code",
   "execution_count": null,
   "metadata": {},
   "outputs": [],
   "source": []
  }
 ],
 "metadata": {
  "kernelspec": {
   "display_name": "Python 3",
   "language": "python",
   "name": "python3"
  },
  "language_info": {
   "codemirror_mode": {
    "name": "ipython",
    "version": 3
   },
   "file_extension": ".py",
   "mimetype": "text/x-python",
   "name": "python",
   "nbconvert_exporter": "python",
   "pygments_lexer": "ipython3",
   "version": "3.7.4"
  }
 },
 "nbformat": 4,
 "nbformat_minor": 4
}
