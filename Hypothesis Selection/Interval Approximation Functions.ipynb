{
 "cells": [
  {
   "cell_type": "code",
   "execution_count": 18,
   "metadata": {},
   "outputs": [],
   "source": [
    "import sde\n",
    "import networkx as nx\n",
    "import random\n",
    "import portion\n",
    "import itertools as it"
   ]
  },
  {
   "cell_type": "markdown",
   "metadata": {},
   "source": [
    "# General"
   ]
  },
  {
   "cell_type": "code",
   "execution_count": 10,
   "metadata": {},
   "outputs": [],
   "source": [
    "def CPT(graph, values):\n",
    "    nodes = list(graph.nodes())\n",
    "    CPT = list(it.product(values, repeat=len(nodes)))\n",
    "    return CPT\n",
    "\n",
    "def possibleOutcomes(graph, values):\n",
    "    nodes = list(graph.nodes())\n",
    "    cpt = CPT(graph, values)\n",
    "    \n",
    "    list_outcomes = []\n",
    "    for i in CPT:\n",
    "        list_outcomes.append(dict(zip(nodes, i)))\n",
    "    return possibleOutcomes"
   ]
  },
  {
   "cell_type": "markdown",
   "metadata": {},
   "source": [
    "# Tessam"
   ]
  },
  {
   "cell_type": "code",
   "execution_count": 11,
   "metadata": {},
   "outputs": [],
   "source": [
    "#updated to program expansion when a hidden node is a vacuous messsage\n",
    "# Update2: returns a subgraph rather than list of nodes\n",
    "# Update3: if a hidden note is a root node, a random edge is directed from a random observed node to the hidden node\n",
    "def getSubset(dg, observed_node):\n",
    "    \"\"\"accepts a graph and node name, returns a subgraph of that node's neighbors and non-d-separated nodes\n",
    "        (includes the original node also)\"\"\"\n",
    "    #get all neighbors\n",
    "    children = list(dg.successors(observed_node))\n",
    "    parents = list(dg.predecessors(observed_node))\n",
    "    \n",
    "    #get all non-d-separated nodes\n",
    "    non_d_separated = []\n",
    "    for n in list(dg.nodes()):\n",
    "        n_children = list(dg.predecessors(n))\n",
    "        commonDescendants = list(set(children) & set(n_children))\n",
    "        if commonDescendants:\n",
    "            non_d_separated += commonDescendants\n",
    "            \n",
    "    node_subset = [observed_node] + children + parents + commonDescendants\n",
    "    \n",
    "    # check for vacuous nodes, add an edge/parent if exists\n",
    "    hidden_nodes = getHiddenNodes(dg)\n",
    "    subset_hidden_nodes = list(set(node_subset) & set(hidden_nodes))\n",
    "    for h in subset_hidden_nodes:\n",
    "        parents_shn = list(dg.predecessors(h))\n",
    "        if not parents_shn: \n",
    "            obsNodes = getObservedNodes(dg)\n",
    "            randParent = random.choice(obsNodes)\n",
    "            dg.add_edge(randParent, h, weight= random.uniform(0,1))\n",
    "            parents_shn = [randParent]\n",
    "        if not list(set(parents_shn) & set(node_subset)):\n",
    "            node_subset.append(parents_shn[0])\n",
    "            \n",
    "    subgraph = dg.subgraph(node_subset) #generate the subgraph\n",
    "    return subgraph"
   ]
  },
  {
   "cell_type": "code",
   "execution_count": 12,
   "metadata": {},
   "outputs": [],
   "source": [
    "#find all observed (weighted) nodes in a graph\n",
    "def getObservedNodes(dg):\n",
    "    \"\"\"accepts a graph, returns a list of the observed nodes in the graph\"\"\"\n",
    "    observed_nodes = []\n",
    "    dict_values = nx.get_node_attributes(dg, 'value')\n",
    "    \n",
    "    for v in dict_values:\n",
    "        if (dg.nodes[v]['value'] == True):\n",
    "            observed_nodes.append(v)\n",
    "            \n",
    "    return observed_nodes\n",
    "\n",
    "# find all unobserved nodes\n",
    "def getUnobservedNodes(dg):\n",
    "    \"\"\"accepts graph, returns list of False nodes\"\"\"\n",
    "    unobserved_nodes = []\n",
    "    dict_values = nx.get_node_attributes(dg, 'value')\n",
    "    \n",
    "    for v in dict_values:\n",
    "        if (dg.nodes[v]['value'] == False): # and (dg.nodes[v]['type'] == bool)\n",
    "            unobserved_nodes.append(v)"
   ]
  },
  {
   "cell_type": "markdown",
   "metadata": {},
   "source": [
    "Marginal probability interval"
   ]
  },
  {
   "cell_type": "code",
   "execution_count": 13,
   "metadata": {},
   "outputs": [],
   "source": [
    "# pick a node, calculate the min marg prob\n",
    "def margParents(dg, node):\n",
    "    parents = list(dg.predecessors(node))\n",
    "    \n",
    "    observed_nodes = getObservedNodes(subdg)\n",
    "    observed_evidence = list(set(parents) & set(observed_nodes))\n",
    "    \n",
    "    false_nodes = getUnobservedNodes(subdg)\n",
    "    false_evidence = list(set(parents) & set(false_nodes))\n",
    "    \n",
    "    #calculate prob of node given parents\n",
    "    if not parents:\n",
    "        margprob = 0\n",
    "    else:\n",
    "        cp = []\n",
    "        for p in parents:\n",
    "            weight = dg[p][node]['weight']\n",
    "            cp.append(weight)\n",
    "\n",
    "        margprob = numpy.prod(cp)\n",
    "    return margprob"
   ]
  },
  {
   "cell_type": "code",
   "execution_count": 14,
   "metadata": {},
   "outputs": [],
   "source": [
    "def minMargInterval(dg, values, node):\n",
    "    subdg = getSubset(dg, node)\n",
    "    worlds = possibleOutcomes(subdg, values)\n",
    "    \n",
    "    sub_nodes = list(subdg.nodes())\n",
    "    parents = list(subdg.predecessors(node))\n",
    "    ancestors = list(set(nx.ancestors(subdg, node)) - set(parents))\n",
    "    \n",
    "    margprobs = []\n",
    "    minMarg = []\n",
    "    for w in worlds:\n",
    "        \n",
    "        for node in sub_nodes:\n",
    "            node_value = w.get(node)\n",
    "            subdg.nodes[node]['value'] = node_value\n",
    "        \n",
    "        marg1 = margParents(subdg, node)\n",
    "        margprobs.append(marg1)\n",
    "\n",
    "        marg2 = [margParents(dg, p) for p in parents]\n",
    "        marg3 = [margParents(dg, a) for a in ancestors]\n",
    "        margprobs + marg2 + marg3\n",
    "        \n",
    "        node_marg = numpy.prod(margprobs)\n",
    "        minMarg.append(node_marg)\n",
    "        \n",
    "    #Lessam_min = sum(minMarg)\n",
    "    return numpy.sum(minMarg)\n",
    "            "
   ]
  },
  {
   "cell_type": "code",
   "execution_count": 15,
   "metadata": {},
   "outputs": [],
   "source": [
    "# pick a node, calculate the min marg prob\n",
    "def margChildren(dg, node):\n",
    "    children = list(dg.successors(node))\n",
    "    \n",
    "    #calculate prob of children given node\n",
    "    if not children:\n",
    "        margprob = 0\n",
    "    else:\n",
    "        cp = []\n",
    "        for c in children:\n",
    "            weight = dg[node][c]['weight']\n",
    "            cp.append(weight)\n",
    "\n",
    "        margprob = numpy.prod(cp)\n",
    "    return margprob"
   ]
  },
  {
   "cell_type": "code",
   "execution_count": 16,
   "metadata": {
    "scrolled": true
   },
   "outputs": [],
   "source": [
    "def maxMargInterval(dg, values, node):\n",
    "    subdg = getSubset(dg, node)\n",
    "    worlds = possibleOutcomes(subdg, values)\n",
    "    \n",
    "    sub_nodes = list(subdg.nodes())\n",
    "    children = list(subdg.predecessors(node))\n",
    "    descendants = list(set(nx.descendants(subdg, node)) - set(children))\n",
    "    \n",
    "    margprobs = []\n",
    "    maxMarg = []\n",
    "    for w in worlds:\n",
    "        for node in sub_nodes:\n",
    "            node_value = w.get(node)\n",
    "            subdg.nodes[node]['value'] = node_value\n",
    "            \n",
    "        marg1 = margChildren(subdg, node)\n",
    "        margprobs.append(marg1)\n",
    "\n",
    "        marg2 = [margChildren(dg, c) for c in children]\n",
    "        marg3 = [margChildren(dg, d) for d in descendants]\n",
    "        margprobs + marg2 + marg3\n",
    "        node_marg = numpy.prod(margprobs)\n",
    "        \n",
    "        maxMarg.append(node_marg)\n",
    "        \n",
    "    #Lessam_min = sum(minMarg)\n",
    "    return numpy.sum(maxMarg)\n",
    "            "
   ]
  },
  {
   "cell_type": "code",
   "execution_count": 17,
   "metadata": {},
   "outputs": [],
   "source": [
    "# returns the interval-valued marginal probability of a hidden node \n",
    "def LessamInterval(dg, values, node):\n",
    "    lower_bound = minMargInterval(dg, values, node)\n",
    "    upper_bound = maxMargInterval(dg, values, node)\n",
    "    marg_prob_interval = [lower_bound, upper_bound] #portion.closed(lower_bound, upper_bound)\n",
    "    return marg_prob_interval\n"
   ]
  }
 ],
 "metadata": {
  "kernelspec": {
   "display_name": "Python 3",
   "language": "python",
   "name": "python3"
  },
  "language_info": {
   "codemirror_mode": {
    "name": "ipython",
    "version": 3
   },
   "file_extension": ".py",
   "mimetype": "text/x-python",
   "name": "python",
   "nbconvert_exporter": "python",
   "pygments_lexer": "ipython3",
   "version": "3.7.4"
  }
 },
 "nbformat": 4,
 "nbformat_minor": 2
}
