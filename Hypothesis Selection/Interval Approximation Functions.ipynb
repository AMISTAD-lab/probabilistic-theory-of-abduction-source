{
 "cells": [
  {
   "cell_type": "code",
   "execution_count": 6,
   "metadata": {},
   "outputs": [],
   "source": [
    "import sde\n",
    "import networkx as nx\n",
    "import random\n",
    "import portion"
   ]
  },
  {
   "cell_type": "markdown",
   "metadata": {},
   "source": [
    "# Lessam"
   ]
  },
  {
   "cell_type": "code",
   "execution_count": 7,
   "metadata": {},
   "outputs": [],
   "source": [
    "# incomplete data - mix of observed and hidden nodes\n",
    "def addIncompleteNodes(gm, num_nodes):\n",
    "    node_list = []\n",
    "    observed_nodes = int(num_nodes/2)  # half of the total nodes are observed\n",
    "    hidden_nodes = num_nodes - observed_nodes # the remaining nodes are hidden\n",
    "    \n",
    "    for i in range(observed_nodes):\n",
    "        random_prob = random.random()\n",
    "        #nx.set_node_attributes(gm, random_prob, 'weight')\n",
    "        \n",
    "        gm.add_node(i, weight=random_prob)\n",
    "        \n",
    "    for i in range(hidden_nodes):\n",
    "        gm.add_node(i)\n",
    "\n",
    "    return gm"
   ]
  },
  {
   "cell_type": "code",
   "execution_count": 8,
   "metadata": {},
   "outputs": [],
   "source": [
    "def makeIncompleteDirectedGraph(num_nodes, num_edges):\n",
    "    dg = nx.DiGraph() # creates directed graph\n",
    "    dg = addIncompleteNodes(dg, num_nodes)\n",
    "    dg = addEdges(dg, num_nodes, num_edges)\n",
    "    return dg"
   ]
  },
  {
   "cell_type": "code",
   "execution_count": 9,
   "metadata": {},
   "outputs": [],
   "source": [
    "#updated to program expansion when a hidden node is a vacuous messsage\n",
    "# Update2: returns a subgraph rather than list of nodes\n",
    "# Update3: if a hidden note is a root node, a random edge is directed from a random observed node to the hidden node\n",
    "def getSubset(dg, observed_node):\n",
    "    \"\"\"accepts a graph and node name, returns a subgraph of that node's neighbors and non-d-separated nodes\n",
    "        (includes the original node also)\"\"\"\n",
    "    #get all neighbors\n",
    "    children = list(dg.successors(observed_node))\n",
    "    parents = list(dg.predecessors(observed_node))\n",
    "    \n",
    "    #get all non-d-separated nodes\n",
    "    non_d_separated = []\n",
    "    for n in list(dg.nodes()):\n",
    "        n_children = list(dg.predecessors(n))\n",
    "        commonDescendants = list(set(children) & set(n_children))\n",
    "        if commonDescendants:\n",
    "            non_d_separated += commonDescendants\n",
    "            \n",
    "    node_subset = [observed_node] + children + parents + commonDescendants\n",
    "    \n",
    "    # check for vacuous nodes, add an edge/parent if exists\n",
    "    hidden_nodes = getHiddenNodes(dg)\n",
    "    subset_hidden_nodes = list(set(node_subset) & set(hidden_nodes))\n",
    "    for h in subset_hidden_nodes:\n",
    "        parents_shn = list(dg.predecessors(h))\n",
    "        if not parents_shn: \n",
    "            obsNodes = getObservedNodes(dg)\n",
    "            randParent = random.choice(obsNodes)\n",
    "            dg.add_edge(randParent, h, weight= random.uniform(0,1))\n",
    "            parents_shn = [randParent]\n",
    "        if not list(set(parents_shn) & set(node_subset)):\n",
    "            node_subset.append(parents_shn[0])\n",
    "            \n",
    "    subgraph = dg.subgraph(node_subset) #generate the subgraph\n",
    "    return subgraph"
   ]
  },
  {
   "cell_type": "code",
   "execution_count": 10,
   "metadata": {},
   "outputs": [],
   "source": [
    "# find all hidden (i.e. unweighted) nodes\n",
    "def getHiddenNodes(dg):\n",
    "    \"\"\"accepts graph, returns list of nodes with no attached weight\"\"\"\n",
    "    hidden_nodes = []\n",
    "    dict_weights = nx.get_node_attributes(dg, 'weight')\n",
    "    obsNodes = list(dict_weights.keys())\n",
    "    \n",
    "    for n in list(dg.nodes()):\n",
    "        if (n not in obsNodes):\n",
    "            hidden_nodes.append(n)\n",
    "            \n",
    "    return hidden_nodes"
   ]
  },
  {
   "cell_type": "code",
   "execution_count": 11,
   "metadata": {},
   "outputs": [],
   "source": [
    "#find all observed (weighted) nodes in a graph\n",
    "def getObservedNodes(dg):\n",
    "    \"\"\"accepts a graph, returns a list of the observed/weighted nodes in the graph\"\"\"\n",
    "    weights_dict = nx.get_node_attributes(dg, 'weight')\n",
    "    observed_nodes = list(weights_dict.keys())\n",
    "    return observed_nodes"
   ]
  },
  {
   "cell_type": "markdown",
   "metadata": {},
   "source": [
    "Marginal probability interval"
   ]
  },
  {
   "cell_type": "code",
   "execution_count": 12,
   "metadata": {},
   "outputs": [],
   "source": [
    "# Updated to account for hidden nodes with no observed ancestors\n",
    "def minMargInterval(dg, subdg, hidden_node):\n",
    "    \"\"\"accepts a graph and specified unobserved node, returns the lower bound for that node's marginal likelihood interval\"\"\"\n",
    "    ancestors = list(dg.predecessors(hidden_node))\n",
    "    observed_nodes = getObservedNodes(subdg)\n",
    "    observed_ancestors = list(set(ancestors) & set(observed_nodes))\n",
    "    \n",
    "    if not observed_ancestors:\n",
    "        descendants = list(dg.successors(hidden_node))\n",
    "        if not list(set(descendants) & set(observed_nodes)):\n",
    "            minMarg = .5\n",
    "        else:\n",
    "            maxMarg = maxMargInterval(dg, subdg, hidden_node)\n",
    "            minMarg = 1-maxMarg\n",
    "    else:\n",
    "        ancList = []\n",
    "        cpList = []\n",
    "        for n in observed_ancestors:\n",
    "            n_weight_dict = nx.get_node_attributes(dg, 'weight')\n",
    "            n_weight = n_weight_dict.get(n)\n",
    "            ancList.append(n_weight)\n",
    "\n",
    "            e_weight_dict = nx.get_edge_attributes(dg, 'weight')\n",
    "            edge_weight = e_weight_dict.get((n, hidden_node))\n",
    "            cpList.append(edge_weight)\n",
    "\n",
    "            minMarg = numpy.prod(cpList)\n",
    "        return minMarg"
   ]
  },
  {
   "cell_type": "code",
   "execution_count": 13,
   "metadata": {
    "scrolled": true
   },
   "outputs": [
    {
     "data": {
      "text/plain": [
       "'Issue: maxMarg and minMarg sometimes return None bounds. This also disrupts LessamInterval.'"
      ]
     },
     "execution_count": 13,
     "metadata": {},
     "output_type": "execute_result"
    }
   ],
   "source": [
    "# Updated to account for hidden nodes with no observed descendaants \n",
    "def maxMargInterval(dg, subdg, hidden_node):\n",
    "    descendants = list(dg.successors(hidden_node))\n",
    "    observed_nodes = getObservedNodes(subdg)\n",
    "    observed_descendants = list(set(descendants) & set(observed_nodes))\n",
    "    \n",
    "    if not observed_descendants:\n",
    "        ancestors = list(dg.successors(hidden_node))\n",
    "        if not list(set(ancestors) & set(observed_nodes)):\n",
    "            maxMarg = .5\n",
    "        else:\n",
    "            minMarg = minMargInterval(dg, subdg, hidden_node)\n",
    "            maxMarg = 1-minMarg\n",
    "            \n",
    "    else:\n",
    "        descList = []\n",
    "        cpList = []\n",
    "        for n in observed_descendants:\n",
    "            n_weight_dict = nx.get_node_attributes(dg, 'weight')\n",
    "            n_weight = n_weight_dict.get(n)\n",
    "            descList.append(n_weight)\n",
    "\n",
    "            e_weight_dict = nx.get_edge_attributes(dg, 'weight')\n",
    "            edge_weight = e_weight_dict.get((hidden_node, n))\n",
    "            cpList.append(edge_weight)\n",
    "\n",
    "        maxMarg = numpy.prod(cpList)\n",
    "    return maxMarg\n",
    "\n",
    "\"\"\"Issue: maxMarg and minMarg sometimes return None bounds. This also disrupts LessamInterval.\"\"\""
   ]
  },
  {
   "cell_type": "code",
   "execution_count": 14,
   "metadata": {},
   "outputs": [],
   "source": [
    "# returns the interval-valued marginal probability of a hidden node \n",
    "def LessamInterval(dg, subdg, hidden_node):\n",
    "    lower_bound = minMargInterval(dg, subdg, hidden_node)\n",
    "    upper_bound = maxMargInterval(dg, subdg, hidden_node)\n",
    "    marg_prob_interval = portion.closed(lower_bound, upper_bound)\n",
    "    return marg_prob_interval\n",
    "\n"
   ]
  }
 ],
 "metadata": {
  "kernelspec": {
   "display_name": "Python 3",
   "language": "python",
   "name": "python3"
  },
  "language_info": {
   "codemirror_mode": {
    "name": "ipython",
    "version": 3
   },
   "file_extension": ".py",
   "mimetype": "text/x-python",
   "name": "python",
   "nbconvert_exporter": "python",
   "pygments_lexer": "ipython3",
   "version": "3.7.4"
  }
 },
 "nbformat": 4,
 "nbformat_minor": 2
}
