{
 "cells": [
  {
   "cell_type": "markdown",
   "metadata": {},
   "source": [
    "considers only direct parents and children, not ancestors or descendants"
   ]
  },
  {
   "cell_type": "code",
   "execution_count": 68,
   "metadata": {},
   "outputs": [],
   "source": [
    "from margprob import *\n",
    "from similarityfunctions import *\n",
    "import itertools as it\n",
    "import portion"
   ]
  },
  {
   "cell_type": "code",
   "execution_count": 69,
   "metadata": {},
   "outputs": [
    {
     "data": {
      "image/png": "[encoded data removed]",
      "text/plain": [
       "<Figure size 432x288 with 1 Axes>"
      ]
     },
     "metadata": {},
     "output_type": "display_data"
    }
   ],
   "source": [
    "dg = makeDirectedGraph(5, 12)\n",
    "nx.draw_networkx(dg)"
   ]
  },
  {
   "cell_type": "code",
   "execution_count": 70,
   "metadata": {},
   "outputs": [],
   "source": [
    "def CPT(graph, values):\n",
    "    nodes = list(graph.nodes())\n",
    "    CPT = list(it.product(values, repeat=len(nodes)))\n",
    "    return CPT\n",
    "\n",
    "def possible_outcomes(graph, values):\n",
    "    nodes = list(graph.nodes())\n",
    "    cpt = CPT(graph, values)\n",
    "    list_outcomes = []\n",
    "    for i in cpt:\n",
    "        list_outcomes.append(dict(zip(nodes, i)))\n",
    "    return list_outcomes"
   ]
  },
  {
   "cell_type": "code",
   "execution_count": 71,
   "metadata": {},
   "outputs": [],
   "source": [
    "def approx_node_weight(parent, child, conditional_prob):\n",
    "    '''Accepts a conditional probability value P(A|B), calculates possible probabilities of the adjacent node'''\n",
    "    #instantiate root nodes\n",
    "    if (dg.in_degree(parent) == 0): parent_prob = .9\n",
    "    else: parent_prob = random.uniform(0,1)\n",
    "    \n",
    "    #instantiate terminal nodes\n",
    "    if (dg.out_degree(child) == 0): child_prob = 1\n",
    "    else: child_prob = random.uniform(0,1)\n",
    "        \n",
    "    likelihood = (conditional_prob*child_prob)/parent_prob\n",
    "    known_conditional_prob = (parent_prob*likelihood)/child_prob\n",
    "    \n",
    "    if (known_conditional_prob != conditional_prob):\n",
    "        return approx_node_weight(parent, child, conditional_prob)\n",
    "    else: \n",
    "        dg.nodes[parent]['weight'] = parent_prob\n",
    "        dg.nodes[child]['weight'] = child_prob\n",
    "        return parent_prob, child_prob"
   ]
  },
  {
   "cell_type": "code",
   "execution_count": 72,
   "metadata": {},
   "outputs": [],
   "source": [
    "# assign intrinsic probability to root and terminal nodes\n",
    "def gen_node_weights(dg):\n",
    "    '''Accepts a conditional probability value P(A|B), returns P(B|A) and a pair of values for P(A) and P(B) that\n",
    "        would be consistent with the given conditional probability for each node in the graph'''\n",
    "    nodes = list(dg.nodes())\n",
    "    edges = list(dg.edges())\n",
    "    roots = [root for root in nodes if (dg.in_degree(root) == 0)]\n",
    "    terminal_nodes = [t for t in list(set(nodes) - set(roots)) if (dg.out_degree(t) == 0)] \n",
    "\n",
    "    unknown_nodes = list(set(roots) - set(terminal_nodes))\n",
    "    for node in nodes:\n",
    "        weight_approx = []\n",
    "        for edge in edges:\n",
    "            conditional_prob = dg[edge[0]][edge[1]]['weight']\n",
    "            node_prob = approx_node_weight(edge[0], edge[1], conditional_prob)\n",
    "            if (node == edge[0]): weight_approx.append(node_prob[0])\n",
    "            else: weight_approx.append(node_prob[1])\n",
    "        dg.nodes[node]['weight'] = mean(weight_approx)\n",
    "        \n",
    "    return dg.nodes()"
   ]
  },
  {
   "cell_type": "code",
   "execution_count": 73,
   "metadata": {},
   "outputs": [
    {
     "data": {
      "text/plain": [
       "NodeView((0, 1, 2, 3, 4))"
      ]
     },
     "execution_count": 73,
     "metadata": {},
     "output_type": "execute_result"
    }
   ],
   "source": [
    "gen_node_weights(dg)"
   ]
  },
  {
   "cell_type": "code",
   "execution_count": 74,
   "metadata": {},
   "outputs": [
    {
     "data": {
      "text/plain": [
       "{0: 0.9,\n",
       " 1: 1,\n",
       " 2: 0.519961026257371,\n",
       " 3: 0.04330112068718339,\n",
       " 4: 0.7680319585601072}"
      ]
     },
     "execution_count": 74,
     "metadata": {},
     "output_type": "execute_result"
    }
   ],
   "source": [
    "nx.get_node_attributes(dg, 'weight')"
   ]
  },
  {
   "cell_type": "code",
   "execution_count": 75,
   "metadata": {},
   "outputs": [],
   "source": [
    "# pick a node, calculate the marg prob\n",
    "def margProb(dg, outcome, node):\n",
    "    parents = list(dg.predecessors(node))\n",
    "    #assign value to each node\n",
    "    for n in list(dg.nodes()):\n",
    "        dg.nodes[n]['value'] = outcome.get(n)\n",
    "        if (dg.nodes[n]['value'] == False): dg.nodes[n]['weight'] = 1 - dg.nodes[n]['weight']\n",
    "\n",
    "    node_value = dg.nodes[n]['value']\n",
    "    node_prob = dg.nodes[n]['weight']\n",
    "\n",
    "    #calculate prob of node given parents\n",
    "    cp = []\n",
    "    if not parents:\n",
    "        margprob = node_prob\n",
    "    else:\n",
    "        for p in parents:\n",
    "            edge_weight = dg[p][node]['weight']\n",
    "            cp += [edge_weight]\n",
    "        cp.append(node_prob)\n",
    "        margprob = multiplyList(cp)\n",
    "    \n",
    "    return outcome, margprob\n",
    "    "
   ]
  },
  {
   "cell_type": "code",
   "execution_count": 91,
   "metadata": {},
   "outputs": [],
   "source": [
    "def rootMargProb(dg, outcome, root_node):\n",
    "    all_nodes = list(dg.nodes)\n",
    "    all_ancestors = [node for node in all_nodes if (node in list(nx.ancestors(dg, root_node)))]\n",
    "    \n",
    "    dg.nodes[root_node]['value'] = outcome.get(root_node)\n",
    "    if (dg.nodes[root_node]['value'] == False): dg.nodes[root_node]['weight'] = 1 - dg.nodes[root_node]['weight']\n",
    "    root_prob = dg.nodes[root_node]['weight']\n",
    "    \n",
    "    prob_list = [root_prob]\n",
    "    for a in all_ancestors:\n",
    "        # for root's direct children\n",
    "        if a in list(dg.successors(root_node)):\n",
    "            cpd.append(dg[root_node][a]['weight'])\n",
    "        else: \n",
    "            prob_list.append(margProb(dg, outcome, a))\n",
    "        \n",
    "    rootProb = multiplyList(prob_list)\n",
    "    return outcome, rootProb\n",
    "    "
   ]
  },
  {
   "cell_type": "code",
   "execution_count": 92,
   "metadata": {},
   "outputs": [],
   "source": [
    "# pick a node, calculate the marg prob\n",
    "def total_marginal_calculation(dg, node):\n",
    "    worlds = possible_outcomes(dg, [True, False])\n",
    "    marg_dist = []\n",
    "    \n",
    "    if node in [r for r in list(dg.nodes()) if (dg.in_degree(r) == 0) and dg.successors(r)]:\n",
    "        for w in worlds:\n",
    "            nodeMarg = rootMargProb(dg, w, node)\n",
    "            marg_dist.append(nodeMarg)\n",
    "        return marg_dist\n",
    "    else:\n",
    "        for w in worlds:\n",
    "            nodeMarg = margProb(dg, w, node)\n",
    "            marg_dist.append(nodeMarg)\n",
    "        return marg_dist"
   ]
  },
  {
   "cell_type": "markdown",
   "metadata": {},
   "source": [
    "# Test"
   ]
  },
  {
   "cell_type": "code",
   "execution_count": 93,
   "metadata": {},
   "outputs": [
    {
     "data": {
      "text/plain": [
       "[({0: True, 1: True, 2: True, 3: True, 4: True}, 0.3820162030261044),\n",
       " ({0: True, 1: True, 2: True, 3: True, 4: False}, 0.11538002999302889),\n",
       " ({0: True, 1: True, 2: True, 3: False, 4: True}, 0.11538002999302889),\n",
       " ({0: True, 1: True, 2: True, 3: False, 4: False}, 0.3820162030261044),\n",
       " ({0: True, 1: True, 2: False, 3: True, 4: True}, 0.3820162030261044),\n",
       " ({0: True, 1: True, 2: False, 3: True, 4: False}, 0.11538002999302889),\n",
       " ({0: True, 1: True, 2: False, 3: False, 4: True}, 0.11538002999302889),\n",
       " ({0: True, 1: True, 2: False, 3: False, 4: False}, 0.3820162030261044),\n",
       " ({0: True, 1: False, 2: True, 3: True, 4: True}, 0.3820162030261044),\n",
       " ({0: True, 1: False, 2: True, 3: True, 4: False}, 0.11538002999302889),\n",
       " ({0: True, 1: False, 2: True, 3: False, 4: True}, 0.11538002999302889),\n",
       " ({0: True, 1: False, 2: True, 3: False, 4: False}, 0.3820162030261044),\n",
       " ({0: True, 1: False, 2: False, 3: True, 4: True}, 0.3820162030261044),\n",
       " ({0: True, 1: False, 2: False, 3: True, 4: False}, 0.11538002999302889),\n",
       " ({0: True, 1: False, 2: False, 3: False, 4: True}, 0.11538002999302889),\n",
       " ({0: True, 1: False, 2: False, 3: False, 4: False}, 0.3820162030261044),\n",
       " ({0: False, 1: True, 2: True, 3: True, 4: True}, 0.3820162030261044),\n",
       " ({0: False, 1: True, 2: True, 3: True, 4: False}, 0.11538002999302889),\n",
       " ({0: False, 1: True, 2: True, 3: False, 4: True}, 0.11538002999302889),\n",
       " ({0: False, 1: True, 2: True, 3: False, 4: False}, 0.3820162030261044),\n",
       " ({0: False, 1: True, 2: False, 3: True, 4: True}, 0.3820162030261044),\n",
       " ({0: False, 1: True, 2: False, 3: True, 4: False}, 0.11538002999302889),\n",
       " ({0: False, 1: True, 2: False, 3: False, 4: True}, 0.11538002999302889),\n",
       " ({0: False, 1: True, 2: False, 3: False, 4: False}, 0.3820162030261044),\n",
       " ({0: False, 1: False, 2: True, 3: True, 4: True}, 0.3820162030261044),\n",
       " ({0: False, 1: False, 2: True, 3: True, 4: False}, 0.11538002999302889),\n",
       " ({0: False, 1: False, 2: True, 3: False, 4: True}, 0.11538002999302889),\n",
       " ({0: False, 1: False, 2: True, 3: False, 4: False}, 0.3820162030261044),\n",
       " ({0: False, 1: False, 2: False, 3: True, 4: True}, 0.3820162030261044),\n",
       " ({0: False, 1: False, 2: False, 3: True, 4: False}, 0.11538002999302889),\n",
       " ({0: False, 1: False, 2: False, 3: False, 4: True}, 0.11538002999302889),\n",
       " ({0: False, 1: False, 2: False, 3: False, 4: False}, 0.3820162030261044)]"
      ]
     },
     "execution_count": 93,
     "metadata": {},
     "output_type": "execute_result"
    }
   ],
   "source": [
    "total_marginal_calculation(dg, 3)"
   ]
  },
  {
   "cell_type": "code",
   "execution_count": 95,
   "metadata": {},
   "outputs": [
    {
     "name": "stdout",
     "output_type": "stream",
     "text": [
      "0\n",
      "[({0: True, 1: True, 2: True, 3: True, 4: True}, 0.9), ({0: True, 1: True, 2: True, 3: True, 4: False}, 0.9), ({0: True, 1: True, 2: True, 3: False, 4: True}, 0.9), ({0: True, 1: True, 2: True, 3: False, 4: False}, 0.9), ({0: True, 1: True, 2: False, 3: True, 4: True}, 0.9), ({0: True, 1: True, 2: False, 3: True, 4: False}, 0.9), ({0: True, 1: True, 2: False, 3: False, 4: True}, 0.9), ({0: True, 1: True, 2: False, 3: False, 4: False}, 0.9), ({0: True, 1: False, 2: True, 3: True, 4: True}, 0.9), ({0: True, 1: False, 2: True, 3: True, 4: False}, 0.9), ({0: True, 1: False, 2: True, 3: False, 4: True}, 0.9), ({0: True, 1: False, 2: True, 3: False, 4: False}, 0.9), ({0: True, 1: False, 2: False, 3: True, 4: True}, 0.9), ({0: True, 1: False, 2: False, 3: True, 4: False}, 0.9), ({0: True, 1: False, 2: False, 3: False, 4: True}, 0.9), ({0: True, 1: False, 2: False, 3: False, 4: False}, 0.9), ({0: False, 1: True, 2: True, 3: True, 4: True}, 0.09999999999999998), ({0: False, 1: True, 2: True, 3: True, 4: False}, 0.9), ({0: False, 1: True, 2: True, 3: False, 4: True}, 0.09999999999999998), ({0: False, 1: True, 2: True, 3: False, 4: False}, 0.9), ({0: False, 1: True, 2: False, 3: True, 4: True}, 0.09999999999999998), ({0: False, 1: True, 2: False, 3: True, 4: False}, 0.9), ({0: False, 1: True, 2: False, 3: False, 4: True}, 0.09999999999999998), ({0: False, 1: True, 2: False, 3: False, 4: False}, 0.9), ({0: False, 1: False, 2: True, 3: True, 4: True}, 0.09999999999999998), ({0: False, 1: False, 2: True, 3: True, 4: False}, 0.9), ({0: False, 1: False, 2: True, 3: False, 4: True}, 0.09999999999999998), ({0: False, 1: False, 2: True, 3: False, 4: False}, 0.9), ({0: False, 1: False, 2: False, 3: True, 4: True}, 0.09999999999999998), ({0: False, 1: False, 2: False, 3: True, 4: False}, 0.9), ({0: False, 1: False, 2: False, 3: False, 4: True}, 0.09999999999999998), ({0: False, 1: False, 2: False, 3: False, 4: False}, 0.9)]\n",
      "\n",
      "1\n",
      "[({0: True, 1: True, 2: True, 3: True, 4: True}, 0.5109133366775648), ({0: True, 1: True, 2: True, 3: True, 4: False}, 0.1543107220131909), ({0: True, 1: True, 2: True, 3: False, 4: True}, 0.1543107220131909), ({0: True, 1: True, 2: True, 3: False, 4: False}, 0.5109133366775648), ({0: True, 1: True, 2: False, 3: True, 4: True}, 0.5109133366775648), ({0: True, 1: True, 2: False, 3: True, 4: False}, 0.1543107220131909), ({0: True, 1: True, 2: False, 3: False, 4: True}, 0.1543107220131909), ({0: True, 1: True, 2: False, 3: False, 4: False}, 0.5109133366775648), ({0: True, 1: False, 2: True, 3: True, 4: True}, 0.5109133366775648), ({0: True, 1: False, 2: True, 3: True, 4: False}, 0.1543107220131909), ({0: True, 1: False, 2: True, 3: False, 4: True}, 0.1543107220131909), ({0: True, 1: False, 2: True, 3: False, 4: False}, 0.5109133366775648), ({0: True, 1: False, 2: False, 3: True, 4: True}, 0.5109133366775648), ({0: True, 1: False, 2: False, 3: True, 4: False}, 0.1543107220131909), ({0: True, 1: False, 2: False, 3: False, 4: True}, 0.1543107220131909), ({0: True, 1: False, 2: False, 3: False, 4: False}, 0.5109133366775648), ({0: False, 1: True, 2: True, 3: True, 4: True}, 0.5109133366775648), ({0: False, 1: True, 2: True, 3: True, 4: False}, 0.1543107220131909), ({0: False, 1: True, 2: True, 3: False, 4: True}, 0.1543107220131909), ({0: False, 1: True, 2: True, 3: False, 4: False}, 0.5109133366775648), ({0: False, 1: True, 2: False, 3: True, 4: True}, 0.5109133366775648), ({0: False, 1: True, 2: False, 3: True, 4: False}, 0.1543107220131909), ({0: False, 1: True, 2: False, 3: False, 4: True}, 0.1543107220131909), ({0: False, 1: True, 2: False, 3: False, 4: False}, 0.5109133366775648), ({0: False, 1: False, 2: True, 3: True, 4: True}, 0.5109133366775648), ({0: False, 1: False, 2: True, 3: True, 4: False}, 0.1543107220131909), ({0: False, 1: False, 2: True, 3: False, 4: True}, 0.1543107220131909), ({0: False, 1: False, 2: True, 3: False, 4: False}, 0.5109133366775648), ({0: False, 1: False, 2: False, 3: True, 4: True}, 0.5109133366775648), ({0: False, 1: False, 2: False, 3: True, 4: False}, 0.1543107220131909), ({0: False, 1: False, 2: False, 3: False, 4: True}, 0.1543107220131909), ({0: False, 1: False, 2: False, 3: False, 4: False}, 0.5109133366775648)]\n",
      "\n",
      "2\n",
      "[({0: True, 1: True, 2: True, 3: True, 4: True}, 0.17574179975091625), ({0: True, 1: True, 2: True, 3: True, 4: False}, 0.05307914681541399), ({0: True, 1: True, 2: True, 3: False, 4: True}, 0.05307914681541399), ({0: True, 1: True, 2: True, 3: False, 4: False}, 0.17574179975091625), ({0: True, 1: True, 2: False, 3: True, 4: True}, 0.17574179975091625), ({0: True, 1: True, 2: False, 3: True, 4: False}, 0.05307914681541399), ({0: True, 1: True, 2: False, 3: False, 4: True}, 0.05307914681541399), ({0: True, 1: True, 2: False, 3: False, 4: False}, 0.17574179975091625), ({0: True, 1: False, 2: True, 3: True, 4: True}, 0.17574179975091625), ({0: True, 1: False, 2: True, 3: True, 4: False}, 0.05307914681541399), ({0: True, 1: False, 2: True, 3: False, 4: True}, 0.05307914681541399), ({0: True, 1: False, 2: True, 3: False, 4: False}, 0.17574179975091625), ({0: True, 1: False, 2: False, 3: True, 4: True}, 0.17574179975091625), ({0: True, 1: False, 2: False, 3: True, 4: False}, 0.05307914681541399), ({0: True, 1: False, 2: False, 3: False, 4: True}, 0.05307914681541399), ({0: True, 1: False, 2: False, 3: False, 4: False}, 0.17574179975091625), ({0: False, 1: True, 2: True, 3: True, 4: True}, 0.17574179975091625), ({0: False, 1: True, 2: True, 3: True, 4: False}, 0.05307914681541399), ({0: False, 1: True, 2: True, 3: False, 4: True}, 0.05307914681541399), ({0: False, 1: True, 2: True, 3: False, 4: False}, 0.17574179975091625), ({0: False, 1: True, 2: False, 3: True, 4: True}, 0.17574179975091625), ({0: False, 1: True, 2: False, 3: True, 4: False}, 0.05307914681541399), ({0: False, 1: True, 2: False, 3: False, 4: True}, 0.05307914681541399), ({0: False, 1: True, 2: False, 3: False, 4: False}, 0.17574179975091625), ({0: False, 1: False, 2: True, 3: True, 4: True}, 0.17574179975091625), ({0: False, 1: False, 2: True, 3: True, 4: False}, 0.05307914681541399), ({0: False, 1: False, 2: True, 3: False, 4: True}, 0.05307914681541399), ({0: False, 1: False, 2: True, 3: False, 4: False}, 0.17574179975091625), ({0: False, 1: False, 2: False, 3: True, 4: True}, 0.17574179975091625), ({0: False, 1: False, 2: False, 3: True, 4: False}, 0.05307914681541399), ({0: False, 1: False, 2: False, 3: False, 4: True}, 0.05307914681541399), ({0: False, 1: False, 2: False, 3: False, 4: False}, 0.17574179975091625)]\n",
      "\n",
      "3\n",
      "[({0: True, 1: True, 2: True, 3: True, 4: True}, 0.3820162030261044), ({0: True, 1: True, 2: True, 3: True, 4: False}, 0.11538002999302889), ({0: True, 1: True, 2: True, 3: False, 4: True}, 0.11538002999302889), ({0: True, 1: True, 2: True, 3: False, 4: False}, 0.3820162030261044), ({0: True, 1: True, 2: False, 3: True, 4: True}, 0.3820162030261044), ({0: True, 1: True, 2: False, 3: True, 4: False}, 0.11538002999302889), ({0: True, 1: True, 2: False, 3: False, 4: True}, 0.11538002999302889), ({0: True, 1: True, 2: False, 3: False, 4: False}, 0.3820162030261044), ({0: True, 1: False, 2: True, 3: True, 4: True}, 0.3820162030261044), ({0: True, 1: False, 2: True, 3: True, 4: False}, 0.11538002999302889), ({0: True, 1: False, 2: True, 3: False, 4: True}, 0.11538002999302889), ({0: True, 1: False, 2: True, 3: False, 4: False}, 0.3820162030261044), ({0: True, 1: False, 2: False, 3: True, 4: True}, 0.3820162030261044), ({0: True, 1: False, 2: False, 3: True, 4: False}, 0.11538002999302889), ({0: True, 1: False, 2: False, 3: False, 4: True}, 0.11538002999302889), ({0: True, 1: False, 2: False, 3: False, 4: False}, 0.3820162030261044), ({0: False, 1: True, 2: True, 3: True, 4: True}, 0.3820162030261044), ({0: False, 1: True, 2: True, 3: True, 4: False}, 0.11538002999302889), ({0: False, 1: True, 2: True, 3: False, 4: True}, 0.11538002999302889), ({0: False, 1: True, 2: True, 3: False, 4: False}, 0.3820162030261044), ({0: False, 1: True, 2: False, 3: True, 4: True}, 0.3820162030261044), ({0: False, 1: True, 2: False, 3: True, 4: False}, 0.11538002999302889), ({0: False, 1: True, 2: False, 3: False, 4: True}, 0.11538002999302889), ({0: False, 1: True, 2: False, 3: False, 4: False}, 0.3820162030261044), ({0: False, 1: False, 2: True, 3: True, 4: True}, 0.3820162030261044), ({0: False, 1: False, 2: True, 3: True, 4: False}, 0.11538002999302889), ({0: False, 1: False, 2: True, 3: False, 4: True}, 0.11538002999302889), ({0: False, 1: False, 2: True, 3: False, 4: False}, 0.3820162030261044), ({0: False, 1: False, 2: False, 3: True, 4: True}, 0.3820162030261044), ({0: False, 1: False, 2: False, 3: True, 4: False}, 0.11538002999302889), ({0: False, 1: False, 2: False, 3: False, 4: True}, 0.11538002999302889), ({0: False, 1: False, 2: False, 3: False, 4: False}, 0.3820162030261044)]\n",
      "\n",
      "4\n",
      "[({0: True, 1: True, 2: True, 3: True, 4: True}, 0.09624697210534), ({0: True, 1: True, 2: True, 3: True, 4: False}, 0.02906939140351988), ({0: True, 1: True, 2: True, 3: False, 4: True}, 0.02906939140351988), ({0: True, 1: True, 2: True, 3: False, 4: False}, 0.09624697210534), ({0: True, 1: True, 2: False, 3: True, 4: True}, 0.09624697210534), ({0: True, 1: True, 2: False, 3: True, 4: False}, 0.02906939140351988), ({0: True, 1: True, 2: False, 3: False, 4: True}, 0.02906939140351988), ({0: True, 1: True, 2: False, 3: False, 4: False}, 0.09624697210534), ({0: True, 1: False, 2: True, 3: True, 4: True}, 0.09624697210534), ({0: True, 1: False, 2: True, 3: True, 4: False}, 0.02906939140351988), ({0: True, 1: False, 2: True, 3: False, 4: True}, 0.02906939140351988), ({0: True, 1: False, 2: True, 3: False, 4: False}, 0.09624697210534), ({0: True, 1: False, 2: False, 3: True, 4: True}, 0.09624697210534), ({0: True, 1: False, 2: False, 3: True, 4: False}, 0.02906939140351988), ({0: True, 1: False, 2: False, 3: False, 4: True}, 0.02906939140351988), ({0: True, 1: False, 2: False, 3: False, 4: False}, 0.09624697210534), ({0: False, 1: True, 2: True, 3: True, 4: True}, 0.09624697210534), ({0: False, 1: True, 2: True, 3: True, 4: False}, 0.02906939140351988), ({0: False, 1: True, 2: True, 3: False, 4: True}, 0.02906939140351988), ({0: False, 1: True, 2: True, 3: False, 4: False}, 0.09624697210534), ({0: False, 1: True, 2: False, 3: True, 4: True}, 0.09624697210534), ({0: False, 1: True, 2: False, 3: True, 4: False}, 0.02906939140351988), ({0: False, 1: True, 2: False, 3: False, 4: True}, 0.02906939140351988), ({0: False, 1: True, 2: False, 3: False, 4: False}, 0.09624697210534), ({0: False, 1: False, 2: True, 3: True, 4: True}, 0.09624697210534), ({0: False, 1: False, 2: True, 3: True, 4: False}, 0.02906939140351988), ({0: False, 1: False, 2: True, 3: False, 4: True}, 0.02906939140351988), ({0: False, 1: False, 2: True, 3: False, 4: False}, 0.09624697210534), ({0: False, 1: False, 2: False, 3: True, 4: True}, 0.09624697210534), ({0: False, 1: False, 2: False, 3: True, 4: False}, 0.02906939140351988), ({0: False, 1: False, 2: False, 3: False, 4: True}, 0.02906939140351988), ({0: False, 1: False, 2: False, 3: False, 4: False}, 0.09624697210534)]\n",
      "\n"
     ]
    }
   ],
   "source": [
    "for node in list(dg.nodes()):\n",
    "    print(node)\n",
    "    print(total_marginal_calculation(dg, node))\n",
    "    print()"
   ]
  },
  {
   "cell_type": "code",
   "execution_count": 96,
   "metadata": {},
   "outputs": [
    {
     "data": {
      "text/plain": [
       "{(0, 2): 0.22882094656633023,\n",
       " (2, 4): 0.12531636350885988,\n",
       " (3, 1): 0.6652240586907557,\n",
       " (4, 3): 0.49739623301913327}"
      ]
     },
     "execution_count": 96,
     "metadata": {},
     "output_type": "execute_result"
    }
   ],
   "source": [
    "nx.get_edge_attributes(dg, 'weight')"
   ]
  },
  {
   "cell_type": "code",
   "execution_count": 97,
   "metadata": {},
   "outputs": [
    {
     "data": {
      "text/plain": [
       "{0: 0.9,\n",
       " 1: 1,\n",
       " 2: 0.519961026257371,\n",
       " 3: 0.04330112068718339,\n",
       " 4: 0.7680319585601072}"
      ]
     },
     "execution_count": 97,
     "metadata": {},
     "output_type": "execute_result"
    }
   ],
   "source": [
    "nx.get_node_attributes(dg, 'weight')"
   ]
  },
  {
   "cell_type": "code",
   "execution_count": null,
   "metadata": {},
   "outputs": [],
   "source": []
  }
 ],
 "metadata": {
  "kernelspec": {
   "display_name": "Python 3",
   "language": "python",
   "name": "python3"
  },
  "language_info": {
   "codemirror_mode": {
    "name": "ipython",
    "version": 3
   },
   "file_extension": ".py",
   "mimetype": "text/x-python",
   "name": "python",
   "nbconvert_exporter": "python",
   "pygments_lexer": "ipython3",
   "version": "3.7.4"
  }
 },
 "nbformat": 4,
 "nbformat_minor": 2
}
