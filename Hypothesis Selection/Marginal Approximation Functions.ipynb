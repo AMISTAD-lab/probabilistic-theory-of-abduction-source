{
 "cells": [
  {
   "cell_type": "code",
   "execution_count": 19,
   "metadata": {},
   "outputs": [],
   "source": [
    "from margprob import *\n",
    "from similarityfunctions import *\n",
    "import itertools as it\n",
    "import portion"
   ]
  },
  {
   "cell_type": "markdown",
   "metadata": {},
   "source": [
    "# General"
   ]
  },
  {
   "cell_type": "code",
   "execution_count": 20,
   "metadata": {},
   "outputs": [],
   "source": [
    "def CPT(graph, values):\n",
    "    nodes = list(graph.nodes())\n",
    "    CPT = list(it.product(values, repeat=len(nodes)))\n",
    "    return CPT\n",
    "\n",
    "def possible_outcomes(graph, values):\n",
    "    nodes = list(graph.nodes())\n",
    "    cpt = CPT(graph, values)\n",
    "    list_outcomes = []\n",
    "    for i in cpt:\n",
    "        list_outcomes.append(dict(zip(nodes, i)))\n",
    "    return list_outcomes"
   ]
  },
  {
   "cell_type": "code",
   "execution_count": 21,
   "metadata": {},
   "outputs": [],
   "source": [
    "#find all observed (weighted) nodes in a graph\n",
    "def getObservedNodes(dg):\n",
    "    \"\"\"accepts a graph, returns a list of the observed nodes in the graph\"\"\"\n",
    "    observed_nodes = []\n",
    "    dict_values = nx.get_node_attributes(dg, 'value')\n",
    "    \n",
    "    for v in dict_values:\n",
    "        if (dg.nodes[v]['value'] == True):\n",
    "            observed_nodes.append(v)\n",
    "            \n",
    "    return observed_nodes\n",
    "\n",
    "# find all unobserved nodes\n",
    "def getUnobservedNodes(dg):\n",
    "    \"\"\"accepts graph, returns list of False nodes\"\"\"\n",
    "    unobserved_nodes = []\n",
    "    dict_values = nx.get_node_attributes(dg, 'value')\n",
    "    \n",
    "    for v in dict_values:\n",
    "        if (dg.nodes[v]['value'] == False): # and (dg.nodes[v]['type'] == bool)\n",
    "            unobserved_nodes.append(v)"
   ]
  },
  {
   "cell_type": "markdown",
   "metadata": {},
   "source": [
    "# Sum-Product Marginal Approximation"
   ]
  },
  {
   "cell_type": "code",
   "execution_count": 22,
   "metadata": {},
   "outputs": [],
   "source": [
    "def approx_node_weight(parent, child, conditional_prob):\n",
    "    '''Accepts a conditional probability value P(A|B), calculates possible probabilities of the adjacent node'''\n",
    "    #instantiate root nodes\n",
    "    if (dg.in_degree(parent) == 0): parent_prob = .9\n",
    "    else: parent_prob = random.uniform(0,1)\n",
    "    \n",
    "    #instantiate terminal nodes\n",
    "    if (dg.out_degree(child) == 0): child_prob = 1\n",
    "    else: child_prob = random.uniform(0,1)\n",
    "        \n",
    "    likelihood = (conditional_prob*child_prob)/parent_prob\n",
    "    known_conditional_prob = (parent_prob*likelihood)/child_prob\n",
    "    \n",
    "    if (known_conditional_prob != conditional_prob):\n",
    "        return approx_node_weight(parent, child, conditional_prob)\n",
    "    else: \n",
    "        dg.nodes[parent]['weight'] = parent_prob\n",
    "        dg.nodes[child]['weight'] = child_prob\n",
    "        return parent_prob, child_prob"
   ]
  },
  {
   "cell_type": "code",
   "execution_count": 23,
   "metadata": {},
   "outputs": [],
   "source": [
    "# assign intrinsic probability to root and terminal nodes\n",
    "def gen_node_weights(dg):\n",
    "    '''Accepts a conditional probability value P(A|B), returns P(B|A) and a pair of values for P(A) and P(B) that\n",
    "        would be consistent with the given conditional probability for each node in the graph'''\n",
    "    nodes = list(dg.nodes())\n",
    "    edges = list(dg.edges())\n",
    "    roots = [root for root in nodes if (dg.in_degree(root) == 0)]\n",
    "    terminal_nodes = [t for t in list(set(nodes) - set(roots)) if (dg.out_degree(t) == 0)] \n",
    "\n",
    "    unknown_nodes = list(set(roots) - set(terminal_nodes))\n",
    "    for node in nodes:\n",
    "        weight_approx = []\n",
    "        for edge in edges:\n",
    "            conditional_prob = dg[edge[0]][edge[1]]['weight']\n",
    "            node_prob = approx_node_weight(edge[0], edge[1], conditional_prob)\n",
    "            if (node == edge[0]): weight_approx.append(node_prob[0])\n",
    "            else: weight_approx.append(node_prob[1])\n",
    "        dg.nodes[node]['weight'] = mean(weight_approx)\n",
    "        \n",
    "    return dg.nodes()"
   ]
  },
  {
   "cell_type": "code",
   "execution_count": 24,
   "metadata": {},
   "outputs": [],
   "source": [
    "# pick a node, calculate the marg prob\n",
    "def margProb(dg, outcome, node):\n",
    "    parents = list(dg.predecessors(node))\n",
    "    #assign value to each node\n",
    "    for n in list(dg.nodes()):\n",
    "        dg.nodes[n]['value'] = outcome.get(n)\n",
    "        if (dg.nodes[n]['value'] == False): dg.nodes[n]['weight'] = 1 - dg.nodes[n]['weight']\n",
    "\n",
    "    node_value = dg.nodes[n]['value']\n",
    "    node_prob = dg.nodes[n]['weight']\n",
    "\n",
    "    #calculate prob of node given parents\n",
    "    cp = []\n",
    "    if not parents:\n",
    "        margprob = node_prob\n",
    "    else:\n",
    "        for p in parents:\n",
    "            edge_weight = dg[p][node]['weight']\n",
    "            cp += [edge_weight]\n",
    "        cp.append(node_prob)\n",
    "        margprob = multiplyList(cp)\n",
    "    \n",
    "    return outcome, margprob\n",
    "    "
   ]
  },
  {
   "cell_type": "code",
   "execution_count": null,
   "metadata": {},
   "outputs": [],
   "source": [
    "def rootMargProb(dg, outcome, root_node):\n",
    "    all_nodes = list(dg.nodes)\n",
    "    all_ancestors = [node for node in all_nodes if (node in list(nx.ancestors(dg, root_node)))]\n",
    "    \n",
    "    dg.nodes[root_node]['value'] = outcome.get(root_node)\n",
    "    if (dg.nodes[root_node]['value'] == False): dg.nodes[root_node]['weight'] = 1 - dg.nodes[root_node]['weight']\n",
    "    root_prob = dg.nodes[root_node]['weight']\n",
    "    \n",
    "    prob_list = [root_prob]\n",
    "    for a in all_ancestors:\n",
    "        # for root's direct children\n",
    "        if a in list(dg.successors(root_node)):\n",
    "            cpd.append(dg[root_node][a]['weight'])\n",
    "        else: \n",
    "            prob_list.append(margProb(dg, outcome, a))\n",
    "        \n",
    "    rootProb = multiplyList(prob_list)\n",
    "    return outcome, rootProb\n",
    "    "
   ]
  },
  {
   "cell_type": "code",
   "execution_count": 25,
   "metadata": {},
   "outputs": [],
   "source": [
    "# pick a node, calculate the marg prob\n",
    "def total_marginal_calculation(dg, node):\n",
    "    worlds = possible_outcomes(dg, [True, False])\n",
    "    marg_dist = []\n",
    "    \n",
    "    if node in [r for r in list(dg.nodes()) if (dg.in_degree(r) == 0) and dg.successors(r)]:\n",
    "        for w in worlds:\n",
    "            nodeMarg = rootMargProb(dg, w, node)\n",
    "            marg_dist.append(nodeMarg)\n",
    "        return marg_dist\n",
    "    else:\n",
    "        for w in worlds:\n",
    "            nodeMarg = margProb(dg, w, node)\n",
    "            marg_dist.append(nodeMarg)\n",
    "        return marg_dist"
   ]
  },
  {
   "cell_type": "markdown",
   "metadata": {},
   "source": [
    "# Tessam Interval-Valued Marginal Approximation"
   ]
  },
  {
   "cell_type": "code",
   "execution_count": 26,
   "metadata": {},
   "outputs": [],
   "source": [
    "def getSubset(dg, observed_node):\n",
    "    \"\"\"accepts a graph and node name, returns a subgraph of that node's neighbors and non-d-separated nodes\n",
    "        (includes the original node also)\"\"\"\n",
    "    #get all neighbors\n",
    "    children = list(dg.successors(observed_node))\n",
    "    parents = list(dg.predecessors(observed_node))\n",
    "    \n",
    "    #get all non-d-separated nodes\n",
    "    non_d_separated = []\n",
    "    for n in list(dg.nodes()):\n",
    "        n_children = list(dg.predecessors(n))\n",
    "        commonDescendants = list(set(children) & set(n_children))\n",
    "        if commonDescendants:\n",
    "            non_d_separated += commonDescendants\n",
    "            \n",
    "    node_subset = [observed_node] + children + parents + commonDescendants"
   ]
  },
  {
   "cell_type": "code",
   "execution_count": 27,
   "metadata": {},
   "outputs": [],
   "source": [
    "# pick a node, calculate the min marg prob\n",
    "def margParents(dg, node):\n",
    "    parents = list(dg.predecessors(node))\n",
    "    \n",
    "    observed_nodes = getObservedNodes(subdg)\n",
    "    observed_evidence = list(set(parents) & set(observed_nodes))\n",
    "    \n",
    "    false_nodes = getUnobservedNodes(subdg)\n",
    "    false_evidence = list(set(parents) & set(false_nodes))\n",
    "    \n",
    "    #calculate prob of node given parents\n",
    "    if not parents:\n",
    "        margprob = 0\n",
    "    else:\n",
    "        cp = []\n",
    "        for p in parents:\n",
    "            weight = dg[p][node]['weight']\n",
    "            cp.append(weight)\n",
    "\n",
    "        margprob = numpy.prod(cp)\n",
    "    return margprob"
   ]
  },
  {
   "cell_type": "code",
   "execution_count": 28,
   "metadata": {},
   "outputs": [],
   "source": [
    "def minMargInterval(dg, values, node):\n",
    "    subdg = getSubset(dg, node)\n",
    "    worlds = possible_outcomes(subdg, values)\n",
    "    \n",
    "    sub_nodes = list(subdg.nodes())\n",
    "    parents = list(subdg.predecessors(node))\n",
    "    ancestors = list(set(nx.ancestors(subdg, node)) - set(parents))\n",
    "    \n",
    "    margprobs = []\n",
    "    minMarg = []\n",
    "    for w in worlds:\n",
    "        \n",
    "        for node in sub_nodes:\n",
    "            node_value = w.get(node)\n",
    "            subdg.nodes[node]['value'] = node_value\n",
    "        \n",
    "        marg1 = margParents(subdg, node)\n",
    "        margprobs.append(marg1)\n",
    "\n",
    "        marg2 = [margParents(dg, p) for p in parents]\n",
    "        marg3 = [margParents(dg, a) for a in ancestors]\n",
    "        margprobs + marg2 + marg3\n",
    "        \n",
    "        node_marg = numpy.prod(margprobs)\n",
    "        minMarg.append(node_marg)\n",
    "        \n",
    "    #Lessam_min = sum(minMarg)\n",
    "    return numpy.sum(minMarg)\n",
    "            "
   ]
  },
  {
   "cell_type": "code",
   "execution_count": 29,
   "metadata": {},
   "outputs": [],
   "source": [
    "# pick a node, calculate the min marg prob\n",
    "def margChildren(dg, node):\n",
    "    children = list(dg.successors(node))\n",
    "    \n",
    "    #calculate prob of children given node\n",
    "    if not children:\n",
    "        margprob = 0\n",
    "    else:\n",
    "        cp = []\n",
    "        for c in children:\n",
    "            weight = dg[node][c]['weight']\n",
    "            cp.append(weight)\n",
    "\n",
    "        margprob = numpy.prod(cp)\n",
    "    return margprob"
   ]
  },
  {
   "cell_type": "code",
   "execution_count": 30,
   "metadata": {
    "scrolled": true
   },
   "outputs": [],
   "source": [
    "def maxMargInterval(dg, values, node):\n",
    "    subdg = getSubset(dg, node)\n",
    "    worlds = possible_outcomes(subdg, values)\n",
    "    \n",
    "    sub_nodes = list(subdg.nodes())\n",
    "    children = list(subdg.predecessors(node))\n",
    "    descendants = list(set(nx.descendants(subdg, node)) - set(children))\n",
    "    \n",
    "    margprobs = []\n",
    "    maxMarg = []\n",
    "    for w in worlds:\n",
    "        for node in sub_nodes:\n",
    "            node_value = w.get(node)\n",
    "            subdg.nodes[node]['value'] = node_value\n",
    "            \n",
    "        marg1 = margChildren(subdg, node)\n",
    "        margprobs.append(marg1)\n",
    "\n",
    "        marg2 = [margChildren(dg, c) for c in children]\n",
    "        marg3 = [margChildren(dg, d) for d in descendants]\n",
    "        margprobs + marg2 + marg3\n",
    "        node_marg = numpy.prod(margprobs)\n",
    "        \n",
    "        maxMarg.append(node_marg)\n",
    "        \n",
    "    #Lessam_min = sum(minMarg)\n",
    "    return numpy.sum(maxMarg)\n",
    "            "
   ]
  },
  {
   "cell_type": "code",
   "execution_count": 31,
   "metadata": {},
   "outputs": [],
   "source": [
    "# returns the interval-valued marginal probability of a hidden node \n",
    "def TessamInterval(dg, values, node):\n",
    "    lower_bound = minMargInterval(dg, values, node)\n",
    "    upper_bound = maxMargInterval(dg, values, node)\n",
    "    marg_prob_interval = [lower_bound, upper_bound] #portion.closed(lower_bound, upper_bound)\n",
    "    return marg_prob_interval\n"
   ]
  }
 ],
 "metadata": {
  "kernelspec": {
   "display_name": "Python 3",
   "language": "python",
   "name": "python3"
  },
  "language_info": {
   "codemirror_mode": {
    "name": "ipython",
    "version": 3
   },
   "file_extension": ".py",
   "mimetype": "text/x-python",
   "name": "python",
   "nbconvert_exporter": "python",
   "pygments_lexer": "ipython3",
   "version": "3.7.4"
  }
 },
 "nbformat": 4,
 "nbformat_minor": 2
}
