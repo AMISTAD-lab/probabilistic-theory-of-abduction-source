{
 "cells": [
  {
   "cell_type": "markdown",
   "metadata": {},
   "source": [
    "considers only direct parents and children, not ancestors or descendants"
   ]
  },
  {
   "cell_type": "code",
   "execution_count": 1,
   "metadata": {},
   "outputs": [],
   "source": [
    "from margprob import *\n",
    "import similarityfunctions\n",
    "import itertools as it"
   ]
  },
  {
   "cell_type": "code",
   "execution_count": 2,
   "metadata": {},
   "outputs": [
    {
     "data": {
      "image/png": "[encoded data removed]",
      "text/plain": [
       "<Figure size 432x288 with 1 Axes>"
      ]
     },
     "metadata": {},
     "output_type": "display_data"
    }
   ],
   "source": [
    "dg = makeDirectedGraph(10, 15)\n",
    "nx.draw_networkx(dg)"
   ]
  },
  {
   "cell_type": "code",
   "execution_count": 3,
   "metadata": {},
   "outputs": [
    {
     "data": {
      "image/png": "[encoded data removed]",
      "text/plain": [
       "<Figure size 432x288 with 1 Axes>"
      ]
     },
     "metadata": {},
     "output_type": "display_data"
    }
   ],
   "source": [
    "# create subgraph\n",
    "graph_nodes = list(dg.nodes())\n",
    "\n",
    "# for functionality, make graph for each node and iterate through using a for loop\n",
    "subdg = getSubset(dg, 9)\n",
    "nx.draw_networkx(subdg)"
   ]
  },
  {
   "cell_type": "code",
   "execution_count": 4,
   "metadata": {},
   "outputs": [],
   "source": [
    "def CPT(graph, values):\n",
    "    nodes = list(graph.nodes())\n",
    "    CPT = list(it.product(values, repeat=len(nodes)))\n",
    "    return CPT\n",
    "\n",
    "def possibleOutcomes(graph, values):\n",
    "    nodes = list(graph.nodes())\n",
    "    cpt = CPT(graph, values)\n",
    "    \n",
    "    list_outcomes = []\n",
    "    for i in cpt:\n",
    "        list_outcomes.append(dict(zip(nodes, i)))\n",
    "    return list_outcomes"
   ]
  },
  {
   "cell_type": "code",
   "execution_count": 5,
   "metadata": {},
   "outputs": [],
   "source": [
    "# pick a node, calculate the min marg prob\n",
    "def margParents(dg, node):\n",
    "    parents = list(dg.predecessors(node))\n",
    "    \n",
    "    observed_nodes = getObservedNodes(subdg)\n",
    "    observed_evidence = list(set(parents) & set(observed_nodes))\n",
    "    \n",
    "    false_nodes = getUnobservedNodes(subdg)\n",
    "    false_evidence = list(set(parents) & set(false_nodes))\n",
    "    \n",
    "    #calculate prob of node given parents\n",
    "    if not parents:\n",
    "        margprob = 0\n",
    "    else:\n",
    "        cp = []\n",
    "        for p in parents:\n",
    "            weight = dg[p][node]['weight']\n",
    "            cp.append(weight)\n",
    "\n",
    "        margprob = numpy.prod(cp)\n",
    "    return margprob"
   ]
  },
  {
   "cell_type": "code",
   "execution_count": 6,
   "metadata": {},
   "outputs": [
    {
     "name": "stdout",
     "output_type": "stream",
     "text": [
      "0\n"
     ]
    }
   ],
   "source": [
    "print(margParents(dg, 9))"
   ]
  },
  {
   "cell_type": "code",
   "execution_count": 7,
   "metadata": {},
   "outputs": [],
   "source": [
    "def minMargInterval(dg, values, node):\n",
    "    subdg = getSubset(dg, node)\n",
    "    worlds = possibleOutcomes(subdg, values)\n",
    "    \n",
    "    sub_nodes = list(subdg.nodes())\n",
    "    parents = list(subdg.predecessors(node))\n",
    "    \n",
    "    margprobs = []\n",
    "    minMarg = []\n",
    "    for w in worlds:\n",
    "        \n",
    "        for node in sub_nodes:\n",
    "            node_value = w.get(node)\n",
    "            subdg.nodes[node]['value'] = node_value\n",
    "        \n",
    "        marg1 = margParents(subdg, node)\n",
    "        margprobs.append(marg1)\n",
    "\n",
    "        marg2 = [margParents(dg, p) for p in parents]\n",
    "        margprobs + marg2\n",
    "        \n",
    "        node_marg = numpy.prod(margprobs)\n",
    "        minMarg.append(node_marg)\n",
    "        \n",
    "    #Lessam_min = sum(minMarg)\n",
    "    return numpy.sum(minMarg)\n",
    "            "
   ]
  },
  {
   "cell_type": "code",
   "execution_count": 8,
   "metadata": {},
   "outputs": [],
   "source": [
    "values = [True, False, 0]\n",
    "for node in list(dg.nodes()):\n",
    "    #print(minMargInterval(dg, values, node))\n",
    "    minMargInterval(dg, values, node)"
   ]
  },
  {
   "cell_type": "code",
   "execution_count": 9,
   "metadata": {},
   "outputs": [],
   "source": [
    "# pick a node, calculate the min marg prob\n",
    "def margChildren(dg, node):\n",
    "    children = list(dg.successors(node))\n",
    "    \n",
    "    #calculate prob of children given node\n",
    "    if not children:\n",
    "        margprob = 0\n",
    "    else:\n",
    "        cp = []\n",
    "        for c in children:\n",
    "            weight = dg[node][c]['weight']\n",
    "            cp.append(weight)\n",
    "\n",
    "        margprob = numpy.prod(cp)\n",
    "    return margprob"
   ]
  },
  {
   "cell_type": "code",
   "execution_count": 14,
   "metadata": {},
   "outputs": [],
   "source": [
    "def maxMargInterval(dg, values, node):\n",
    "    subdg = getSubset(dg, node)\n",
    "    worlds = possibleOutcomes(subdg, values)\n",
    "    \n",
    "    sub_nodes = list(subdg.nodes())\n",
    "    children = list(subdg.successors(node))\n",
    "    \n",
    "    margprobs = []\n",
    "    maxMarg = []\n",
    "    for w in worlds:\n",
    "        for node in sub_nodes:\n",
    "            node_value = w.get(node)\n",
    "            subdg.nodes[node]['value'] = node_value\n",
    "            \n",
    "        marg1 = margChildren(subdg, node)\n",
    "        margprobs.append(marg1)\n",
    "\n",
    "        marg2 = [margChildren(dg, c) for c in children]\n",
    "        margprobs + marg2\n",
    "        node_marg = numpy.prod(margprobs)\n",
    "        \n",
    "        maxMarg.append(node_marg)\n",
    "        \n",
    "    #Lessam_min = sum(minMarg)\n",
    "    return numpy.sum(maxMarg)\n",
    "            "
   ]
  },
  {
   "cell_type": "code",
   "execution_count": 15,
   "metadata": {},
   "outputs": [
    {
     "name": "stdout",
     "output_type": "stream",
     "text": [
      "0.37879819000124976\n",
      "0\n",
      "0.3902924118839608\n",
      "3.7121517286480907\n",
      "0.2726728650509884\n",
      "7.305871029799055\n",
      "7.305871029799055\n",
      "0\n",
      "2.6130118734301258\n",
      "0\n"
     ]
    }
   ],
   "source": [
    "for node in list(dg.nodes()):\n",
    "    print(maxMargInterval(dg, values, node))"
   ]
  },
  {
   "cell_type": "code",
   "execution_count": 12,
   "metadata": {},
   "outputs": [],
   "source": [
    "# returns the interval-valued marginal probability of a hidden node \n",
    "def LessamInterval(dg, values, node):\n",
    "    lower_bound = minMargInterval(dg, values, node)\n",
    "    upper_bound = maxMargInterval(dg, values, node)\n",
    "    marg_prob_interval = [lower_bound, upper_bound] #portion.closed(lower_bound, upper_bound)\n",
    "    return marg_prob_interval\n"
   ]
  },
  {
   "cell_type": "code",
   "execution_count": 13,
   "metadata": {},
   "outputs": [
    {
     "name": "stdout",
     "output_type": "stream",
     "text": [
      "[0, 0.37879819000124976]\n",
      "[2.6130118734405534, 0]\n",
      "[0, 0.3902924118839608]\n",
      "[0, 3.7121517286480907]\n",
      "[0, 0.2726728650509884]\n",
      "[0, 7.305871029799055]\n",
      "[0.3679825876401237, 7.305871029799055]\n",
      "[4.410608067402687, 0]\n",
      "[0, 2.6130118734301258]\n",
      "[0.3787981900012495, 0]\n"
     ]
    }
   ],
   "source": [
    "for n in list(dg.nodes()):\n",
    "    print(LessamInterval(dg, values, n))"
   ]
  },
  {
   "cell_type": "code",
   "execution_count": null,
   "metadata": {},
   "outputs": [],
   "source": []
  },
  {
   "cell_type": "code",
   "execution_count": null,
   "metadata": {},
   "outputs": [],
   "source": []
  }
 ],
 "metadata": {
  "kernelspec": {
   "display_name": "Python 3",
   "language": "python",
   "name": "python3"
  },
  "language_info": {
   "codemirror_mode": {
    "name": "ipython",
    "version": 3
   },
   "file_extension": ".py",
   "mimetype": "text/x-python",
   "name": "python",
   "nbconvert_exporter": "python",
   "pygments_lexer": "ipython3",
   "version": "3.7.4"
  }
 },
 "nbformat": 4,
 "nbformat_minor": 2
}
