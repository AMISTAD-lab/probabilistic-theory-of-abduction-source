{
 "cells": [
  {
   "cell_type": "code",
   "execution_count": 1,
   "metadata": {},
   "outputs": [],
   "source": [
    "from sde import * "
   ]
  },
  {
   "cell_type": "code",
   "execution_count": 2,
   "metadata": {},
   "outputs": [
    {
     "name": "stdout",
     "output_type": "stream",
     "text": [
      "{(0, 13): 0.8829580962848513, (0, 14): 0.9402968709107219, (1, 10): 0.6986893248424983, (3, 14): 0.1866367997668935, (4, 8): 0.8745562226431874, (4, 7): 0.15909394893187723, (5, 0): 0.42970910476614854, (5, 4): 0.05511597573435101, (6, 10): 0.9442054051425264, (6, 1): 0.0367573031961248, (6, 8): 0.1449462184726208, (7, 11): 0.0020601784267172407, (7, 13): 0.7474837240700668, (7, 10): 0.5148040135359576, (8, 7): 0.5528970643754609, (8, 10): 0.3835009630521343, (8, 13): 0.45532941039054353, (10, 0): 0.8719958441702031, (10, 12): 0.10309893688836469, (11, 9): 0.9639568482845216, (12, 1): 0.5004893291721312, (12, 14): 0.7527962033752468, (13, 2): 0.4133682783923035, (14, 2): 0.0527242035812745, (14, 12): 0.14554100304327366}\n"
     ]
    },
    {
     "data": {
      "image/png": "[encoded data removed]",
      "text/plain": [
       "<Figure size 432x288 with 1 Axes>"
      ]
     },
     "metadata": {},
     "output_type": "display_data"
    }
   ],
   "source": [
    "DG = makeDirectedGraph(15,27)\n",
    "\n",
    "print(nx.get_edge_attributes(DG, 'weight'))\n",
    "nx.draw_networkx(DG)"
   ]
  },
  {
   "cell_type": "code",
   "execution_count": 3,
   "metadata": {},
   "outputs": [
    {
     "name": "stdout",
     "output_type": "stream",
     "text": [
      "{10: 0.42857142857142855, 7: 0.3571428571428571, 8: 0.3571428571428571, 14: 0.3571428571428571, 0: 0.2857142857142857, 12: 0.2857142857142857, 13: 0.2857142857142857, 1: 0.21428571428571427, 4: 0.21428571428571427, 6: 0.21428571428571427, 2: 0.14285714285714285, 5: 0.14285714285714285, 11: 0.14285714285714285, 3: 0.07142857142857142, 9: 0.07142857142857142}\n"
     ]
    }
   ],
   "source": [
    "import operator\n",
    "\n",
    "unsort_centDict = nx.degree_centrality(DG)    #get centrality values for each node in the graph \n",
    "centDict = dict(sorted(unsort_centDict.items(), key=operator.itemgetter(1),reverse=True))\n",
    "print(centDict)"
   ]
  },
  {
   "cell_type": "code",
   "execution_count": 4,
   "metadata": {},
   "outputs": [
    {
     "data": {
      "text/plain": [
       "[10, 7, 8, 14]"
      ]
     },
     "execution_count": 4,
     "metadata": {},
     "output_type": "execute_result"
    }
   ],
   "source": [
    "def getHighestCentralityNodes(dg):\n",
    "    nx.degree_centrality(dg)   #returns dict with items {node:centrality}\n",
    "    highest_cent_nodes = []   #initiate list for highest centrality nodes\n",
    "    centMax = max(centDict.values())    #find highest centrality in the graph\n",
    "\n",
    "    highest_cent_nodes = [key_node for key_node in centDict if (centDict.get(key_node) == centMax)]  #list of nodes with highest key node value\n",
    "    \n",
    "    #if there is a singular highest centrality node, then add the second highest node(s) to the list\n",
    "    while (len(highest_cent_nodes) < 2): \n",
    "        centDict2 = {key:val for key, val in centDict.items() if val != centMax}\n",
    "        centMax2 = max(centDict2.values())\n",
    "        secHighestNodes = [key_node for key_node in centDict2 if (centDict2.get(key_node) == centMax2)]\n",
    "        highest_cent_nodes += secHighestNodes\n",
    "        \n",
    "    return highest_cent_nodes\n",
    "\n",
    "getHighestCentralityNodes(DG)"
   ]
  },
  {
   "cell_type": "code",
   "execution_count": 5,
   "metadata": {},
   "outputs": [
    {
     "name": "stdout",
     "output_type": "stream",
     "text": [
      "[(10, 7), (10, 8), (10, 14), (7, 8), (7, 14), (8, 14)]\n"
     ]
    }
   ],
   "source": [
    "import itertools\n",
    "\n",
    "# split list of highest cent nodes into all possible subsets size 2\n",
    "HCNchoose2 = list(itertools.combinations(getHighestCentralityNodes(DG), 2))\n",
    "print(HCNchoose2)"
   ]
  },
  {
   "cell_type": "markdown",
   "metadata": {},
   "source": [
    "# Similiarity method: Jaccard Index"
   ]
  },
  {
   "cell_type": "code",
   "execution_count": 7,
   "metadata": {},
   "outputs": [
    {
     "ename": "NameError",
     "evalue": "name 'calculate_jaccard_similarity' is not defined",
     "output_type": "error",
     "traceback": [
      "\u001b[1;31m---------------------------------------------------------------------------\u001b[0m",
      "\u001b[1;31mNameError\u001b[0m                                 Traceback (most recent call last)",
      "\u001b[1;32m<ipython-input-7-6e6ba1b2749b>\u001b[0m in \u001b[0;36m<module>\u001b[1;34m\u001b[0m\n\u001b[0;32m      3\u001b[0m     \u001b[0ma\u001b[0m \u001b[1;33m=\u001b[0m \u001b[0mpair\u001b[0m\u001b[1;33m[\u001b[0m\u001b[1;36m0\u001b[0m\u001b[1;33m]\u001b[0m\u001b[1;33m\u001b[0m\u001b[1;33m\u001b[0m\u001b[0m\n\u001b[0;32m      4\u001b[0m     \u001b[0mb\u001b[0m \u001b[1;33m=\u001b[0m \u001b[0mpair\u001b[0m\u001b[1;33m[\u001b[0m\u001b[1;36m1\u001b[0m\u001b[1;33m]\u001b[0m\u001b[1;33m\u001b[0m\u001b[1;33m\u001b[0m\u001b[0m\n\u001b[1;32m----> 5\u001b[1;33m     \u001b[0mJindex\u001b[0m \u001b[1;33m=\u001b[0m \u001b[0mcalculate_jaccard_similarity\u001b[0m\u001b[1;33m(\u001b[0m\u001b[0mDG\u001b[0m\u001b[1;33m,\u001b[0m \u001b[0ma\u001b[0m\u001b[1;33m,\u001b[0m \u001b[0mb\u001b[0m\u001b[1;33m)\u001b[0m\u001b[1;33m\u001b[0m\u001b[1;33m\u001b[0m\u001b[0m\n\u001b[0m\u001b[0;32m      6\u001b[0m     \u001b[0mprint\u001b[0m\u001b[1;33m(\u001b[0m\u001b[0mpair\u001b[0m\u001b[1;33m,\u001b[0m \u001b[0mJindex\u001b[0m\u001b[1;33m)\u001b[0m\u001b[1;33m\u001b[0m\u001b[1;33m\u001b[0m\u001b[0m\n",
      "\u001b[1;31mNameError\u001b[0m: name 'calculate_jaccard_similarity' is not defined"
     ]
    }
   ],
   "source": [
    "#calculate Jaccard Index for each pair of highest centrality nodes\n",
    "for pair in HCNchoose2:\n",
    "    a = pair[0]\n",
    "    b = pair[1]\n",
    "    Jindex = calculate_jaccard_similarity(DG, a, b)\n",
    "    print(pair, Jindex)"
   ]
  },
  {
   "cell_type": "markdown",
   "metadata": {},
   "source": [
    "# Similarity method: Edit-distance"
   ]
  },
  {
   "cell_type": "markdown",
   "metadata": {},
   "source": [
    "Edit-distance similarity implementation based only on a node's children."
   ]
  },
  {
   "cell_type": "code",
   "execution_count": null,
   "metadata": {},
   "outputs": [],
   "source": [
    "for pair in HCNchoose2:\n",
    "    print(pair, get_immediate_similarity(DG, pair[0], pair[1]))\n",
    "    print(find_most_immediate_similar(DG, pair[0]), ',', find_most_immediate_similar(DG, pair[1]))\n",
    "    print()"
   ]
  },
  {
   "cell_type": "code",
   "execution_count": null,
   "metadata": {},
   "outputs": [],
   "source": [
    "print(nx.descendants(DG, 1))"
   ]
  },
  {
   "cell_type": "markdown",
   "metadata": {},
   "source": [
    "Edit-distance similarity implementation based only on a node's descendants."
   ]
  },
  {
   "cell_type": "code",
   "execution_count": null,
   "metadata": {},
   "outputs": [],
   "source": [
    "for pair in HCNchoose2:\n",
    "    pair_it = []\n",
    "    for id in range(len(pair)): \n",
    "        pair_it.append(pair[id])\n",
    "    print(pair, get_full_similarity(DG, pair_it[0], pair_it[1]))\n",
    "    print(find_most_similar(DG, pair_it[0]), ',', find_most_similar(DG, pair_it[1]))\n",
    "    print()"
   ]
  },
  {
   "cell_type": "markdown",
   "metadata": {},
   "source": [
    "# Similarity method: Edit-distance (Networkx)"
   ]
  },
  {
   "cell_type": "code",
   "execution_count": null,
   "metadata": {},
   "outputs": [],
   "source": [
    "print(centralNodes)"
   ]
  },
  {
   "cell_type": "code",
   "execution_count": null,
   "metadata": {},
   "outputs": [],
   "source": [
    "def get_childgraph(graph, source_node):\n",
    "    source_node_childgraph = nx.DiGraph()\n",
    "    source_node_childgraph.add_node(source_node)\n",
    "    source_node_childgraph = find_node_children_subgraph(graph, source_node, source_node_childgraph)\n",
    "    nx.draw_networkx(source_node_childgraph)"
   ]
  },
  {
   "cell_type": "code",
   "execution_count": null,
   "metadata": {},
   "outputs": [],
   "source": [
    "cngraph1 = get_childgraph(DG, 'sidewalk wet')\n",
    "cngraph1"
   ]
  },
  {
   "cell_type": "markdown",
   "metadata": {},
   "source": [
    "# Similarity method: Simrank (Networkx)"
   ]
  },
  {
   "cell_type": "code",
   "execution_count": null,
   "metadata": {},
   "outputs": [],
   "source": [
    "for pair in HCNchoose2: \n",
    "    simrank = nx.algorithms.similarity.simrank_similarity(DG, source=pair[0], target=pair[1])\n",
    "    print(pair,  simrank)"
   ]
  },
  {
   "cell_type": "code",
   "execution_count": null,
   "metadata": {},
   "outputs": [],
   "source": []
  }
 ],
 "metadata": {
  "kernelspec": {
   "display_name": "Python 3",
   "language": "python",
   "name": "python3"
  },
  "language_info": {
   "codemirror_mode": {
    "name": "ipython",
    "version": 3
   },
   "file_extension": ".py",
   "mimetype": "text/x-python",
   "name": "python",
   "nbconvert_exporter": "python",
   "pygments_lexer": "ipython3",
   "version": "3.7.4"
  }
 },
 "nbformat": 4,
 "nbformat_minor": 2
}
